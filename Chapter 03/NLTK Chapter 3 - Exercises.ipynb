{
 "cells": [
  {
   "cell_type": "markdown",
   "metadata": {},
   "source": [
    "# NLTK Chapter 3\n",
    "\n",
    "## Processing Raw Text\n",
    "\n",
    "*The html version of this chapter in the NLTK book is available [here](https://www.nltk.org/book/ch03.html#exercises \"Ch03 Exercises\").*\n",
    "\n",
    "### 8   Exercises\n",
    "\n",
    "###### 1. \n",
    "\n",
    "☼ Define a string `s = 'colorless'`. Write a Python statement that changes this to \"colourless\" using only the slice and concatenation operations."
   ]
  },
  {
   "cell_type": "code",
   "execution_count": 4,
   "metadata": {},
   "outputs": [
    {
     "data": {
      "text/plain": [
       "'colourless'"
      ]
     },
     "execution_count": 4,
     "metadata": {},
     "output_type": "execute_result"
    }
   ],
   "source": [
    "s = 'colorless'\n",
    "s = s[:4] + 'u' + s[4:]\n",
    "s"
   ]
  },
  {
   "cell_type": "markdown",
   "metadata": {},
   "source": [
    "##### 2.\n",
    "\n",
    "☼ We can use the slice notation to remove morphological endings on words. For example, `'dogs'[:-1]` removes the last character of `dogs`, leaving `dog`. Use slice notation to remove the affixes from these words (we've inserted a hyphen to indicate the affix boundary, but omit this from your strings): `dish-es`, `run-ning`, `nation-ality`, `un-do`, `pre-heat`."
   ]
  },
  {
   "cell_type": "code",
   "execution_count": 15,
   "metadata": {},
   "outputs": [
    {
     "name": "stdout",
     "output_type": "stream",
     "text": [
      "['dish', 'run', 'nation', 'un', 'pre']\n"
     ]
    }
   ],
   "source": [
    "affixed = [('dishes', 2), \n",
    "           ('running', 4),\n",
    "           ('nationality', 5),\n",
    "           ('undo', 2),\n",
    "           ('preheat', 4)]\n",
    "\n",
    "print([s[:-a] for s, a in affixed])"
   ]
  },
  {
   "cell_type": "markdown",
   "metadata": {},
   "source": [
    "##### 3.\n",
    "\n",
    "☼ We saw how we can generate an `IndexError` by indexing beyond the end of a string. Is it possible to construct an index that goes too far to the left, before the start of the string?\n",
    "\n",
    "*Yes.  I'm not going to run the code in my notebook, because then the cells below this one wouldn't run.*\n",
    "\n",
    "```\n",
    ">>>trial = \"trial\"\n",
    ">>>for i in range(1, len(trial) + 2):\n",
    ">>>    print(trial[-i])\n",
    "    \n",
    "l\n",
    "a\n",
    "i\n",
    "r\n",
    "t\n",
    "---------------------------------------------------------------------------\n",
    "IndexError                                Traceback (most recent call last)\n",
    "<ipython-input-21-98077138b076> in <module>\n",
    "      1 trial = \"trial\"\n",
    "      2 for i in range(1, len(trial) + 2):\n",
    "----> 3     print(trial[-i])\n",
    "\n",
    "IndexError: string index out of range\n",
    "```"
   ]
  },
  {
   "cell_type": "markdown",
   "metadata": {},
   "source": [
    "##### 4. \n",
    "\n",
    "☼ We can specify a \"step\" size for the slice. The following returns every second character within the slice: `monty[6:11:2]`. It also works in the reverse direction: `monty[10:5:-2]` Try these for yourself, then experiment with different step values."
   ]
  },
  {
   "cell_type": "code",
   "execution_count": 22,
   "metadata": {},
   "outputs": [
    {
     "data": {
      "text/plain": [
       "'Tittitie tírýhkeee řltl řstittitie tírýhsřc.'"
      ]
     },
     "execution_count": 22,
     "metadata": {},
     "output_type": "execute_result"
    }
   ],
   "source": [
    "# A Czech tongue twister:\n",
    "tt = \"Třistatřiatřicet stříbrných křepelek přeletělo přes třistatřiatřicet stříbrných střech.\"\n",
    "\n",
    "# Every other letter\n",
    "tt[::2]"
   ]
  },
  {
   "cell_type": "code",
   "execution_count": 23,
   "metadata": {},
   "outputs": [
    {
     "data": {
      "text/plain": [
       "'.cřshýrít eitittitsř ltlř eeekhýrít eitittiT'"
      ]
     },
     "execution_count": 23,
     "metadata": {},
     "output_type": "execute_result"
    }
   ],
   "source": [
    "# Every other letter from the end\n",
    "tt[::-2]"
   ]
  },
  {
   "cell_type": "code",
   "execution_count": 24,
   "metadata": {},
   "outputs": [
    {
     "data": {
      "text/plain": [
       "'Tstaittbý el etoř iaiřesínhtc'"
      ]
     },
     "execution_count": 24,
     "metadata": {},
     "output_type": "execute_result"
    }
   ],
   "source": [
    "# Every third letter\n",
    "tt[::3]"
   ]
  },
  {
   "cell_type": "markdown",
   "metadata": {},
   "source": [
    "*You get the point...*\n",
    "\n",
    "##### 5. \n",
    "\n",
    "☼ What happens if you ask the interpreter to evaluate `monty[::-1]`? Explain why this is a reasonable result.\n",
    "\n",
    "*It prints the word backwards.  It's simply printing from the end by steps of -1:*"
   ]
  },
  {
   "cell_type": "code",
   "execution_count": 26,
   "metadata": {},
   "outputs": [
    {
     "data": {
      "text/plain": [
       "'murder'"
      ]
     },
     "execution_count": 26,
     "metadata": {},
     "output_type": "execute_result"
    }
   ],
   "source": [
    "\"redrum\"[::-1]"
   ]
  },
  {
   "cell_type": "markdown",
   "metadata": {},
   "source": [
    "##### 6.\n",
    "\n",
    "☼ Describe the class of strings matched by the following regular expressions.\n",
    "\n",
    "a. `[a-zA-Z]+`\n",
    "\n",
    "b. `[A-Z][a-z]*`\n",
    "\n",
    "c. `p[aeiou]{,2}t`\n",
    "\n",
    "d. `\\d+(\\.\\d+)?`\n",
    "\n",
    "e. `([^aeiou][aeiou][^aeiou])*`\n",
    "\n",
    "f. `\\w+|[^\\w\\s]+`\n",
    "\n",
    "Test your answers using `nltk.re_show()`.\n",
    "\n",
    "*__a.__ `[a-zA-Z]+` will match anything alphabetical:*"
   ]
  },
  {
   "cell_type": "code",
   "execution_count": 3,
   "metadata": {},
   "outputs": [
    {
     "name": "stdout",
     "output_type": "stream",
     "text": [
      "{cAMELCASE} 6186258313 {hybr}1{d}\n"
     ]
    }
   ],
   "source": [
    "import nltk, re\n",
    "\n",
    "nltk.re_show(r'[a-zA-Z]+', \"cAMELCASE 6186258313 hybr1d\")"
   ]
  },
  {
   "cell_type": "markdown",
   "metadata": {},
   "source": [
    "<i>__b.__ `[A-Z][a-z]*` will match words beginning with uppercase letters, or any uppercase letters in other positions:</i>"
   ]
  },
  {
   "cell_type": "code",
   "execution_count": 42,
   "metadata": {},
   "outputs": [
    {
     "name": "stdout",
     "output_type": "stream",
     "text": [
      "{I} think words beginning with {Uppercase} {Letters} will be matched, or any uppercase letters found in o{T}{H}{E}{R} positions.\n"
     ]
    }
   ],
   "source": [
    "test = 'I think words beginning with Uppercase Letters will be matched, ' \\\n",
    "       'or any uppercase letters found in oTHER positions.'\n",
    "\n",
    "nltk.re_show(r'[A-Z][a-z]*', test)"
   ]
  },
  {
   "cell_type": "markdown",
   "metadata": {},
   "source": [
    "*__c.__ `p[aeiou]{,2}t` will match all words with __p__, up to two vowels, and a letter __t__.  This is a lot of words: In the wordlist we've been using in this chapter, this RegExp will return nearly 7,000 words, since any word with __pt__ will be a match.*"
   ]
  },
  {
   "cell_type": "code",
   "execution_count": 141,
   "metadata": {},
   "outputs": [
    {
     "data": {
      "text/plain": [
       "6978"
      ]
     },
     "execution_count": 141,
     "metadata": {},
     "output_type": "execute_result"
    }
   ],
   "source": [
    "wordlist = [w.lower() for w in nltk.corpus.words.words('en')]\n",
    "len([w for w in wordlist if re.search(r'p[aeiou]{,2}t', w)])"
   ]
  },
  {
   "cell_type": "code",
   "execution_count": 52,
   "metadata": {},
   "outputs": [
    {
     "name": "stdout",
     "output_type": "stream",
     "text": [
      "['abaptiston', 'abepithymia', 'ableptical', 'ableptically', 'abrupt', 'abruptedly', 'abruption', 'abruptly', 'abruptness', 'absorpt', 'absorptance', 'absorptiometer', 'absorptiometric', 'absorption', 'absorptive', 'absorptively', 'absorptiveness', 'absorptivity', 'absumption', 'acalypterae']\n"
     ]
    }
   ],
   "source": [
    "print([w for w in wordlist if re.search(r'p[aeiou]{,2}t', w)][:20])"
   ]
  },
  {
   "cell_type": "markdown",
   "metadata": {},
   "source": [
    "*If we add the `^` and <code>\\$</code> operators, we'll instead end up with all 3-letter words beginning and ending with __p__ and __t__ with one vowel in the middle, or all 4-letter words beginning and ending with __p__ and __t__ with two vowels in the middle:*"
   ]
  },
  {
   "cell_type": "code",
   "execution_count": 49,
   "metadata": {},
   "outputs": [
    {
     "name": "stdout",
     "output_type": "stream",
     "text": [
      "['pat', 'pat', 'paut', 'peat', 'pet', 'piet', 'piet', 'pit', 'poet', 'poot', 'pot', 'pout', 'put']\n"
     ]
    }
   ],
   "source": [
    "print([w for w in wordlist if re.search(r'^p[aeiou]{,2}t$', w)])"
   ]
  },
  {
   "cell_type": "markdown",
   "metadata": {},
   "source": [
    "*__d.__ `\\d+(\\.\\d+)?` will match any numbers and decimal points, no matter how many numbers are to the left/right of the decimal.  It will not match dashes, dollar signs, or any other symbol associated with number.*"
   ]
  },
  {
   "cell_type": "code",
   "execution_count": 62,
   "metadata": {},
   "outputs": [
    {
     "name": "stdout",
     "output_type": "stream",
     "text": [
      "{1234}\n",
      "{12.34}\n",
      "example {123.4} in a string\n",
      "{1}-{234}\n",
      "{12},{4}\n",
      "${12.34}\n"
     ]
    }
   ],
   "source": [
    "test = ['1234', '12.34', 'example 123.4 in a string', '1-234', '12,4', '$12.34']\n",
    "for t in test:\n",
    "    nltk.re_show(r'\\d+(\\.\\d+)?', t) "
   ]
  },
  {
   "cell_type": "markdown",
   "metadata": {},
   "source": [
    "*If we use two decimals, the second is ignored:*"
   ]
  },
  {
   "cell_type": "code",
   "execution_count": 67,
   "metadata": {},
   "outputs": [
    {
     "name": "stdout",
     "output_type": "stream",
     "text": [
      "{1.23}.{4}\n"
     ]
    }
   ],
   "source": [
    "nltk.re_show(r'\\d+(\\.\\d+)?', '1.23.4')"
   ]
  },
  {
   "cell_type": "markdown",
   "metadata": {},
   "source": [
    "*We can alter that by changing the `?` to a `+`:*"
   ]
  },
  {
   "cell_type": "code",
   "execution_count": 68,
   "metadata": {},
   "outputs": [
    {
     "name": "stdout",
     "output_type": "stream",
     "text": [
      "{1.23.4}\n"
     ]
    }
   ],
   "source": [
    "nltk.re_show(r'\\d+(\\.\\d+)+', '1.23.4')"
   ]
  },
  {
   "cell_type": "markdown",
   "metadata": {},
   "source": [
    "<i>__e.__ `([^aeiou][aeiou][^aeiou])*` will match any non-vowel\\vowel\\non-vowel combination, no matter how many times it's repeated.  White spaces are considered non-vowels, so a string such as `to ` would match.  `nltk.re_show()` behaves quite strangely with this RegExp - a string like `\"baab\"` would return `{}b{}a{}a{}b{}`.  However, I have evaluated this RegExp with online evaluators (such as [this one](https://regexr.com/ \"regexr.com\"), and there the responsive is as expected:</i>"
   ]
  },
  {
   "cell_type": "code",
   "execution_count": 5,
   "metadata": {},
   "outputs": [
    {
     "name": "stdout",
     "output_type": "stream",
     "text": [
      "{babbabbabbab}{}a{pap}{}a{}\n"
     ]
    }
   ],
   "source": [
    "string = \"babbabbab\" \\\n",
    "         \"babapapa\"\n",
    "nltk.re_show(r'([^aeiou][aeiou][^aeiou])*', string)"
   ]
  },
  {
   "cell_type": "code",
   "execution_count": 6,
   "metadata": {},
   "outputs": [
    {
     "name": "stdout",
     "output_type": "stream",
     "text": [
      "{}b{}a{}a{}b{}\n"
     ]
    }
   ],
   "source": [
    "string = \"baab\"\n",
    "nltk.re_show(r'([^aeiou][aeiou][^aeiou])*', string)"
   ]
  },
  {
   "cell_type": "markdown",
   "metadata": {},
   "source": [
    "*__f.__ `\\w+|[^\\w\\s]+` will match either any alphanumeric string of any length, or a string of any length that does not contain alphanumeric characters or whitespace - i.e., all punctuation and any other non-whitespace/non-alphanumeric characters:*"
   ]
  },
  {
   "cell_type": "code",
   "execution_count": 7,
   "metadata": {},
   "outputs": [
    {
     "name": "stdout",
     "output_type": "stream",
     "text": [
      "{This} {RegExp} {needs} {a} {fairly} {long} {string} {to} {show} {what} {it} {can} {%#$^%&*} {do}{.}\n"
     ]
    }
   ],
   "source": [
    "string = \"This RegExp needs a fairly long string to show what it can %#$^%&* do.\"\n",
    "nltk.re_show(r'\\w+|[^\\w\\s]+', string)"
   ]
  },
  {
   "cell_type": "markdown",
   "metadata": {},
   "source": [
    "##### 7.\n",
    "\n",
    "*☼ Write regular expressions to match the following classes of strings:*\n",
    "\n",
    " + *__a.__ A single determiner (assume that __a__, __an__, and __the__ are the only determiners).*\n",
    " + <i>__b.__ An arithmetic expression using integers, addition, and multiplication, such as `2*3+8`.</i>\n",
    " \n",
    "*__a.__*"
   ]
  },
  {
   "cell_type": "code",
   "execution_count": 21,
   "metadata": {},
   "outputs": [
    {
     "name": "stdout",
     "output_type": "stream",
     "text": [
      "I think {a} relevant string like {the} one here is {an} example of what we need.\n"
     ]
    }
   ],
   "source": [
    "string = \"I think a relevant string like the one here is an example of what we need.\"\n",
    "nltk.re_show(r'\\b[Aa]n?\\b|\\b[Tt]he\\b', string)"
   ]
  },
  {
   "cell_type": "markdown",
   "metadata": {},
   "source": [
    "*__b.__*"
   ]
  },
  {
   "cell_type": "code",
   "execution_count": 25,
   "metadata": {},
   "outputs": [
    {
     "name": "stdout",
     "output_type": "stream",
     "text": [
      "{2 * 3 + 8}\n"
     ]
    }
   ],
   "source": [
    "string = \"2 * 3 + 8\"\n",
    "nltk.re_show(r'(\\d|[+*= ])+', string)"
   ]
  },
  {
   "cell_type": "code",
   "execution_count": 26,
   "metadata": {},
   "outputs": [
    {
     "name": "stdout",
     "output_type": "stream",
     "text": [
      "{11 + 4 * 2}\n"
     ]
    }
   ],
   "source": [
    "string = \"11 + 4 * 2\"\n",
    "nltk.re_show(r'(\\d|[+*= ])+', string)"
   ]
  },
  {
   "cell_type": "markdown",
   "metadata": {},
   "source": [
    "##### 8.\n",
    "\n",
    "\n",
    "☼ Write a utility function that takes a URL as its argument, and returns the contents of the URL, with all HTML markup removed. Use `from urllib import request`  and then `request.urlopen('http://nltk.org/').read().decode('utf8')` to access the contents of the URL.\n",
    "\n",
    "*This chapter of the NLTK book dealt with removing HTML tags, but didn't really touch on removing the style & scripts tags that are present in most pages today. [This Stack Overflow discussion](https://stackoverflow.com/questions/30565404/remove-all-style-scripts-and-html-tags-from-an-html-page#answers \"Removing Style, Scripts, and HTML tags\") has a good discussion on how to use BeautifulSoup to do that, specifically with the `extract` and `stripped_strings` methods.  The code below borrows heavily from [this answer in the above Stack Overflow discussion](https://stackoverflow.com/a/30565597 \"Removing Style, Scripts, and HTML tags - answer\"):*"
   ]
  },
  {
   "cell_type": "code",
   "execution_count": 2,
   "metadata": {},
   "outputs": [],
   "source": [
    "from urllib import request\n",
    "from bs4 import BeautifulSoup\n",
    "from unicodedata import normalize\n",
    "\n",
    "def return_URL_contents(url):\n",
    "    html = request.urlopen(url).read().decode('utf8')\n",
    "    raw = BeautifulSoup(html, 'html.parser')\n",
    "    for r in raw(['script', 'style']):\n",
    "        r.extract() # remove tags\n",
    "    \n",
    "    text = ' '.join(raw.stripped_strings) # retrieve tag content\n",
    "    \n",
    "    return normalize('NFKD', text) # normalize escape sequences\n",
    "\n",
    "\n"
   ]
  },
  {
   "cell_type": "code",
   "execution_count": 101,
   "metadata": {},
   "outputs": [
    {
     "data": {
      "text/plain": [
       "'What Virtual Reality Can Teach a Driverless Car - The New York Times Sections SEARCH Skip to content Skip to site index Business Log In Log In Today’s Paper Business | What Virtual Reality Can Teach a Driverless Car Subscribe Log In Advertisement Supported by What Virtual Reality Can Teach a Driverless Car By Cade Metz Oct. 29, 2017 SAN FRANCISCO — As the computers that operate driverless cars digest the rules of the road, some engineers think it might be nice if they can learn from mistakes made in virtual reality rather than on real streets. Companies like Toyota, Uber and Waymo have discussed at length how they are testing autonomous vehicles on the streets of Mountain View, Calif., Phoenix and other cities. What is not as well known is that they are also testing vehicles inside computer simulations of these same cities. Virtual cars, equipped with the same software as the real thing, spend thousands of hours driving their digital worlds. Think of it as a way of identifying flaws in the way the cars operate without endangering real people. If a car makes a mistake on a simulated drive, engineers can tweak its software accordingly, laying down new rules of behavior. On Monday, Waymo, the autonomous car company that spun out of Google, is expected to show off its simulator tests when it takes a group of reporters to its secretive testing center in California’s Central Valley. Researchers are also developing methods that would allow cars to actually learn new behavior from these simulations, gathering skills more quickly than human engineers could ever lay them down with explicit software code. “Simulation is a tremendous thing,” said Gill Pratt, chief executive of the Toyota Research Institute, one of the artificial intelligence labs exploring this kind of virtual training for autonomous vehicles and other robotics. Image In virtual reality simulations, driverless cars operated by Waymo can practice driving the same intersection, in the same driving conditions, tho'"
      ]
     },
     "execution_count": 101,
     "metadata": {},
     "output_type": "execute_result"
    }
   ],
   "source": [
    "url = \"https://www.nytimes.com/2017/10/29/business/virtual-reality-driverless-cars.html?module=inline\"\n",
    "\n",
    "return_URL_contents(url)[:2000]"
   ]
  },
  {
   "cell_type": "code",
   "execution_count": 102,
   "metadata": {},
   "outputs": [
    {
     "data": {
      "text/plain": [
       "'Guido van Rossum - Wikipedia Guido van Rossum From Wikipedia, the free encyclopedia Jump to navigation Jump to search Dutch programmer and creator of Python In this Dutch name , the family name is van Rossum , not Rossum . Guido van Rossum Guido van Rossum at the Dropbox headquarters in 2014 Born ( 1956-01-31 ) 31 January 1956 (age 63) [1] Haarlem , Netherlands [2] [3] Residence Belmont, California , U.S. Nationality Dutch Alma mater University of Amsterdam Occupation Computer programmer, author Employer Dropbox [4] Known for Creating the Python programming language Spouse(s) Kim Knapp ( m. 2000) Children 1 [5] Awards Award for the Advancement of Free Software (2001) Website gvanrossum .github .io Guido van Rossum ( Dutch: [ˈɣido vɑn ˈrɔsʏm, -səm] ; born 31 January 1956) is a Dutch programmer best known as the author of the Python programming language , for which he was the \" Benevolent dictator for life \" (BDFL) until he stepped down from the position in July 2018. [6] [7] He is currently a member of the Python Steering Council. [8] Contents 1 Life and education 2 Work 2.1 Python 2.2 Computer Programming for Everybody 2.3 Mondrian 2.4 Dropbox 3 Awards 4 References 5 External links Life and education [ edit ] Van Rossum was born and raised in the Netherlands , where he received a master\\'s degree in mathematics and computer science from the University of Amsterdam in 1982. He has a brother, Just van Rossum, who is a type designer and programmer who designed the typeface used in the \"Python Powered\" logo. [ citation needed ] Guido lives in Belmont , California, with his wife, Kim Knapp, [9] and their son. [10] [11] [12] According to his home page and Dutch naming conventions , the \" van \" in his name is capitalized when he is referred to by surname alone, but not when using his first and last name together. [13] Work [ edit ] While working at the Centrum Wiskunde & Informatica (CWI), Van Rossum wrote and contributed a glob() routine to BSD Unix in 1986 [14] [15] and h'"
      ]
     },
     "execution_count": 102,
     "metadata": {},
     "output_type": "execute_result"
    }
   ],
   "source": [
    "url = \"https://en.wikipedia.org/wiki/Guido_van_Rossum\"\n",
    "\n",
    "return_URL_contents(url)[:2000]"
   ]
  },
  {
   "cell_type": "markdown",
   "metadata": {},
   "source": [
    "##### 9. \n",
    "\n",
    "☼ Save some text into a file `corpus.txt`. Define a function `load(f)` that reads from the file named in its sole argument, and returns a string containing the text of the file.\n",
    "\n",
    " + a. Use `nltk.regexp_tokenize()` to create a tokenizer that tokenizes the various kinds of punctuation in this text. Use one multi-line regular expression, with inline comments, using the verbose flag `(?x)`.\n",
    " \n",
    " + b. Use `nltk.regexp_tokenize()` to create a tokenizer that tokenizes the following kinds of expression: monetary amounts; dates; names of people and organizations."
   ]
  },
  {
   "cell_type": "code",
   "execution_count": 109,
   "metadata": {},
   "outputs": [],
   "source": [
    "import os\n",
    "\n",
    "path = \"C:\\\\Users\\\\mjcor\\\\Desktop\\\\ProgrammingStuff\\\\nltk\\\\chapter03\"\n",
    "\n",
    "os.chdir(path)"
   ]
  },
  {
   "cell_type": "code",
   "execution_count": 173,
   "metadata": {},
   "outputs": [],
   "source": [
    "url = 'https://www.nytimes.com/2017/10/22/technology/artificial-intelligence-experts-salaries.html?action=click&module=RelatedCoverage&pgtype=Article&region=Footer'\n",
    "\n",
    "text = return_URL_contents(url)\n",
    "\n",
    "with open('corpus.txt', 'w', encoding = \"utf-8\") as f:\n",
    "    f.write(text)\n"
   ]
  },
  {
   "cell_type": "code",
   "execution_count": 176,
   "metadata": {},
   "outputs": [],
   "source": [
    "def load(f):\n",
    "    text = open(f, encoding = \"utf-8\")\n",
    "    raw = text.read()\n",
    "    \n",
    "    return raw"
   ]
  },
  {
   "cell_type": "code",
   "execution_count": 177,
   "metadata": {},
   "outputs": [],
   "source": [
    "nyt = load('corpus.txt')"
   ]
  },
  {
   "cell_type": "markdown",
   "metadata": {},
   "source": [
    "*__a.__*"
   ]
  },
  {
   "cell_type": "code",
   "execution_count": 178,
   "metadata": {},
   "outputs": [
    {
     "name": "stdout",
     "output_type": "stream",
     "text": [
      "['.', '.', '.', '.', '.', '.', ',', '.', '.', ',', ':', '.', '.', '.', ',', '.', ',', '.', '.', '.', ',', '.', '.', ',', ',', ',', ',', '.', '.', '.', '.', '.', ',', '.', '.', '.', '.', ',', ',', ',', ',', '.', ',', ',', '.', ',', '.', '.', '.', '.', ',', ',', '.', '.', '.', '.', '.', '.', ',', '.', ',', ',', '.', '.', '.', '.', ',', ',', ',', ',', '.', ',', ',', ',', ',', '.', '.', '.', '.', ',', ',', ',', '.', ',', ',', '.', ',', '.', ',', ',', ',', '.', '.', '.', ',', ',', '.', ',', '.', ',', ',', '.', ',', '.', ',', ',', ',', '.', '.', '.', ',', '.', ',', '.', '.', '.', '.', ',', '.', '.', '.', ',', '.', ',', ',', '.', '.', '(', ',', ',', ')', '.', ',', '.', ',', ',', '.', '.', ',', '.', '.', '.', ',', '.', '.', '.', ',', ',', '.', ',', '.', '.', ',', '.', ',', '.', '.', ',', '.', ',', ',', ',', ',', '.', '.', '.', ',', ',', '.', '.', ',', '.', ',', '.', ',', '.', '.', ',', ',', '.', '.', ',', '.', '.', '.', ',', ',', ':', '.', '.', '.', '.', '.', '.', '.', '.', \"'\", \"'\", ':', \"'\", ':', '.', '.', '.', '.', '.', \"'\", \"'\", ':', \"'\", ':', '.', '.', '.']\n"
     ]
    }
   ],
   "source": [
    "pattern = r'''(?x)\n",
    "    [][.,;\"'?!():_-`] # finds punctuation\n",
    "'''\n",
    "\n",
    "print(nltk.regexp_tokenize(nyt, pattern))"
   ]
  },
  {
   "cell_type": "markdown",
   "metadata": {},
   "source": [
    "*__b.__ Using regular expressions to extract information such as proper names - which can take numerous forms - is wrought with problems, and the regular expressions below are far from perfect.  It could very well be that the point of this exercise was to demonstrate just how difficult this approach is.*\n",
    "\n",
    "*Proper names are almost always capitalized; but so are many other words, and this approach alone is practically guaranteed to generate false positives/negatives.  I tried to limit the number of false positives by only examining sequences of two or more strings that began with uppercase letters; but that would eliminate any companies with a one-word name, as well as any references to a person using only his/her first/last name.  Another issue is that this returns strings where multiple words are in uppercase, such as titles.*\n",
    "\n",
    "*Monetary values are more straightforward, but I noticed that large amounts are often written out, so I created a special use case for this.  I didn't bother with all the different currency symbols for commonly-used currencies and instead made do with using the dollar sign.*\n",
    "\n",
    "*Finally, dates have a variety of formats around the world, but for the purpose of this exercise I only focussed on those formats in common use in the U.S., i.e. numerical dates (__10/16/19__ or __10/16/2019__) or literal dates (__Oct. 16, 2019__ or __October 16, 2019__.)*\n",
    "\n",
    "*While researching this question, I came across several methods that looked interesting, but which I did not pursue because of time limitations.  One was finding first names in a text by using the `names` corpus in NLTK.  It's easy to see how this would work; but I didn't explore this, because it seems the focus of this unit is regular expressions.  An additional issue would be the lack of corpora for last and company names.  Another method that looked interesting was using Python's `datetime` module to deal with dates.  But, as was the case above, time limitations prevented me from trying this.*\n",
    "\n"
   ]
  },
  {
   "cell_type": "code",
   "execution_count": 280,
   "metadata": {},
   "outputs": [
    {
     "name": "stdout",
     "output_type": "stream",
     "text": [
      "['Tech Giants Are Paying Huge Salaries', 'Scarce A.', 'I. Talent', 'The New York Times Technology', 'Tech Giants Are Paying Huge Salaries', 'Scarce A.', 'I. Talent Subscribe Log In Image Credit Credit Christina Chung Sections Skip', 'Tech Giants Are Paying Huge Salaries', 'Scarce A.', 'I. Talent Nearly', 'Credit Credit Christina Chung Supported', 'By Cade Metz Oct', '22', '2017', 'Silicon Valley', 'I. Tech', 'Typical A.', '$300,000', '$500,000', 'Anthony Levandowski', '2007', '$120 million', 'Image Luke Zettlemoyer', 'Allen Institute', 'Artificial Intelligence', 'Credit Kyle Johnson', 'The New York Times Salaries', 'National Football League', 'Christopher Fernandez', 'Silicon Valley', '10,000', 'Andrew Moore', 'Carnegie Mellon University', '$650 million', '2014', '50', '400', '$138 million', '$345,000', 'Jessica Cataneo', '1950', '2013', 'Amazon Echo', '40', 'Carnegie Mellon', '2015', 'Stanford University', '20', 'Oren Etzioni', 'Allen Institute', 'Artificial Intelligence', 'Luke Zettlemoyer', '$180,000', 'Allen Institute', 'Google Brain', 'United States', 'Eastern Europe', 'Chris Nicholson', 'San Francisco', 'United States', 'Yoshua Bengio', 'Follow Cade Metz', '1', 'New York', 'L. Salaries', 'I. Talent', 'Order Reprints', 'Subscribe Advertisement Site Index Go', 'Home Page', '2020', 'New York', 'Pop Culture', 'Reader Center Wirecutter Live Events The Learning Network', '2020', 'New York', 'Pop Culture', 'Reader Center Wirecutter Live Events The Learning Network', 'Crossword Cooking', 'Site Information Navigation', '2019', 'The New York Times Company Contact Us Work', 'Brand Studio Your Ad Choices Privacy Terms', 'Service Terms', 'Sale Site Map Help Subscriptions']\n"
     ]
    }
   ],
   "source": [
    "pattern = r'''(?x)\n",
    "          \n",
    "          (?:[A-Z])(?:[a-z]+|\\.)(?:\\s+[A-Z](?:[a-z]+|\\.))*(?:\\s+[A-Z])(?:[a-z]+|\\.)\n",
    "                                         # proper names\n",
    "          | \\$\\d+\\s\\b[tr|b|m]illion\\b    # literal monetary amounts\n",
    "          | \\$?\\d+(?:[,\\.]\\d+)?          # numerical monetary amounts\n",
    "          | \\d{2}\\[\\\\]\\d{2}\\-\\\\]\\d{4}    # numerical dates (U.S. format)\n",
    "          | [A-Z][a-z.]*\\s\\d{2}\\,\\s\\d{2, 4} # literal dates (U.S. format)\n",
    "\n",
    "          \n",
    "        '''\n",
    "\n",
    "print(nltk.regexp_tokenize(nyt, pattern))"
   ]
  },
  {
   "cell_type": "markdown",
   "metadata": {},
   "source": [
    "#####  10.\n",
    "\n",
    "☼ Rewrite the following loop as a list comprehension:"
   ]
  },
  {
   "cell_type": "code",
   "execution_count": 282,
   "metadata": {},
   "outputs": [
    {
     "name": "stdout",
     "output_type": "stream",
     "text": [
      "[('The', 3), ('dog', 3), ('gave', 4), ('John', 4), ('the', 3), ('newspaper', 9)]\n"
     ]
    }
   ],
   "source": [
    "sent = ['The', 'dog', 'gave', 'John', 'the', 'newspaper']\n",
    "result = []\n",
    "for word in sent:\n",
    "    word_len = (word, len(word))\n",
    "    result.append(word_len)\n",
    "print(result)"
   ]
  },
  {
   "cell_type": "code",
   "execution_count": 285,
   "metadata": {},
   "outputs": [
    {
     "name": "stdout",
     "output_type": "stream",
     "text": [
      "[('The', 3), ('dog', 3), ('gave', 4), ('John', 4), ('the', 3), ('newspaper', 9)]\n"
     ]
    }
   ],
   "source": [
    "sent = ['The', 'dog', 'gave', 'John', 'the', 'newspaper']\n",
    "result = [(word, len(word)) for word in sent]\n",
    "print(result)"
   ]
  },
  {
   "cell_type": "markdown",
   "metadata": {},
   "source": [
    "##### 11.\n",
    "\n",
    "☼ Define a string `raw` containing a sentence of your own choosing. Now, split `raw` on some character other than space, such as '`s`'."
   ]
  },
  {
   "cell_type": "code",
   "execution_count": 287,
   "metadata": {},
   "outputs": [
    {
     "data": {
      "text/plain": [
       "['How much ', ' would a ', 'chuck chuck if a ', 'chuck could chuck ', '?']"
      ]
     },
     "execution_count": 287,
     "metadata": {},
     "output_type": "execute_result"
    }
   ],
   "source": [
    "raw = \"How much wood would a woodchuck chuck if a woodchuck could chuck wood?\"\n",
    "raw.split('wood')"
   ]
  },
  {
   "cell_type": "markdown",
   "metadata": {},
   "source": [
    "##### 12.\n",
    "\n",
    "☼ Write a `for` loop to print out the characters of a string, one per line."
   ]
  },
  {
   "cell_type": "code",
   "execution_count": 121,
   "metadata": {},
   "outputs": [
    {
     "name": "stdout",
     "output_type": "stream",
     "text": [
      "C\n",
      "o\n",
      "m\n",
      "p\n",
      "a\n",
      "r\n",
      "e\n",
      "d\n",
      " \n",
      "t\n",
      "o\n",
      " \n",
      "s\n",
      "o\n",
      "m\n",
      "e\n",
      " \n",
      "o\n",
      "f\n",
      " \n"
     ]
    }
   ],
   "source": [
    "string = \"Compared to some of the previous exercises, this seems comically easy.\"\n",
    "\n",
    "for s in string[:20]:\n",
    "    print(s)"
   ]
  },
  {
   "cell_type": "markdown",
   "metadata": {},
   "source": [
    "##### 13.\n",
    "\n",
    "☼ What is the difference between calling `split` on a string with no argument or with `' '` as the argument, e.g. `sent.split()` versus `sent.split(' ')`? What happens when the string being split contains tab characters, consecutive space characters, or a sequence of tabs and spaces? \n",
    "\n",
    "*`sent.split()` splits all whitespace identically.*\n",
    "\n",
    "*`sent.split(' ')` splits all whitespace literally.  I.e., tabs will be represented as `\\t`, and each individaul whitespace will be spilt into its own string.*"
   ]
  },
  {
   "cell_type": "code",
   "execution_count": 294,
   "metadata": {},
   "outputs": [
    {
     "name": "stdout",
     "output_type": "stream",
     "text": [
      "\n",
      "With `sent.split()`:\n",
      "['This', 'string', 'is', 'a', 'pretty', 'simple', 'string.']\n",
      "\n",
      "With `sent.split(' ')`:\n",
      "['This', 'string', 'is', 'a', 'pretty', 'simple', 'string.']\n",
      "\n",
      "With `sent.split()`:\n",
      "['This', 'strings', 'has', 'tabs.']\n",
      "\n",
      "With `sent.split(' ')`:\n",
      "['This\\tstrings\\thas\\ttabs.']\n",
      "\n",
      "With `sent.split()`:\n",
      "['This', 'string', 'has', 'lots', 'of', 'space.']\n",
      "\n",
      "With `sent.split(' ')`:\n",
      "['This', '', '', '', '', '', '', '', 'string', '', '', '', '', '', '', '', '', '', 'has', '', '', '', '', '', 'lots', '', '', '', 'of', '', '', '', '', 'space.']\n",
      "\n",
      "With `sent.split()`:\n",
      "['This', 'string', 'has', 'tabs', 'and', 'spaces.']\n",
      "\n",
      "With `sent.split(' ')`:\n",
      "['This\\tstring', '', '', '', '', '', '', '', '', 'has\\ttabs', '', '', '', '', '', '', 'and\\tspaces.']\n"
     ]
    }
   ],
   "source": [
    "s1 = \"This string is a pretty simple string.\"\n",
    "s2 = \"This\\tstrings\\thas\\ttabs.\"\n",
    "s3 = \"This        string          has      lots    of     space.\"\n",
    "s4 = \"This\\tstring         has\\ttabs       and\\tspaces.\"\n",
    "\n",
    "Ss = [s1, s2, s3, s4]\n",
    "\n",
    "for s in Ss:\n",
    "    print(\"\\nWith `sent.split()`:\")\n",
    "    print(s.split())\n",
    "    print(\"\\nWith `sent.split(' ')`:\")\n",
    "    print(s.split(' '))"
   ]
  },
  {
   "cell_type": "markdown",
   "metadata": {},
   "source": [
    "##### 14. \n",
    "\n",
    "☼ Create a variable `words` containing a list of words. Experiment with `words.sort()` and `sorted(words)`. What is the difference?\n",
    "\n",
    "*`words.sort()` doesn't return a value, but it alters the ordering of the list, so that whenever I call the list again, the returned list will be the ordered one, and not the one I originally stored.*"
   ]
  },
  {
   "cell_type": "code",
   "execution_count": 298,
   "metadata": {},
   "outputs": [
    {
     "name": "stdout",
     "output_type": "stream",
     "text": [
      "['Wörter', 'focail', 'mots', 'ord', 'ord', 'palabras', 'palavras', 'parole', 'sanat', 'slova', 'szavak', 'słowa', 'từ ngữ', 'woorden', 'words', 'words', 'λόγια', 'ווערטער']\n"
     ]
    }
   ],
   "source": [
    "words = [\"slova\", \"ord\", \"Wörter\", \"λόγια\", \"words\", \"palabras\", \"sanat\", \n",
    "         \"mots\", \"focail\", \"szavak\", \"parole\", \"words\", \"woorden\", \"ord\", \n",
    "         \"słowa\", \"palavras\", \"từ ngữ\", \"ווערטער\"]\n",
    "\n",
    "words.sort()\n",
    "print(words)"
   ]
  },
  {
   "cell_type": "code",
   "execution_count": 299,
   "metadata": {},
   "outputs": [
    {
     "name": "stdout",
     "output_type": "stream",
     "text": [
      "['Wörter', 'focail', 'mots', 'ord', 'ord', 'palabras', 'palavras', 'parole', 'sanat', 'slova', 'szavak', 'słowa', 'từ ngữ', 'woorden', 'words', 'words', 'λόγια', 'ווערטער']\n"
     ]
    }
   ],
   "source": [
    "print(words)"
   ]
  },
  {
   "cell_type": "markdown",
   "metadata": {},
   "source": [
    "*`sorted(words)` will return a result, but the ordering of the original list will not be changed:*"
   ]
  },
  {
   "cell_type": "code",
   "execution_count": 301,
   "metadata": {},
   "outputs": [
    {
     "name": "stdout",
     "output_type": "stream",
     "text": [
      "['Wörter', 'focail', 'mots', 'ord', 'ord', 'palabras', 'palavras', 'parole', 'sanat', 'slova', 'szavak', 'słowa', 'từ ngữ', 'woorden', 'words', 'words', 'λόγια', 'ווערטער']\n"
     ]
    }
   ],
   "source": [
    "words = [\"slova\", \"ord\", \"Wörter\", \"λόγια\", \"words\", \"palabras\", \"sanat\", \n",
    "         \"mots\", \"focail\", \"szavak\", \"parole\", \"words\", \"woorden\", \"ord\", \n",
    "         \"słowa\", \"palavras\", \"từ ngữ\", \"ווערטער\"]\n",
    "\n",
    "print(sorted(words))"
   ]
  },
  {
   "cell_type": "code",
   "execution_count": 303,
   "metadata": {},
   "outputs": [
    {
     "name": "stdout",
     "output_type": "stream",
     "text": [
      "['slova', 'ord', 'Wörter', 'λόγια', 'words', 'palabras', 'sanat', 'mots', 'focail', 'szavak', 'parole', 'words', 'woorden', 'ord', 'słowa', 'palavras', 'từ ngữ', 'ווערטער']\n"
     ]
    }
   ],
   "source": [
    "print(words)"
   ]
  },
  {
   "cell_type": "markdown",
   "metadata": {},
   "source": [
    "##### 15. \n",
    "\n",
    "☼ Explore the difference between strings and integers by typing the following at a Python prompt: `\"3\" * 7` and `3 * 7`. Try converting between strings and integers using `int(\"3\")` and `str(3)`.\n",
    "\n",
    "*Multiplying a string $x$ by an integer $y$ will just cause $x$ to be printed to the console $y$ times:*"
   ]
  },
  {
   "cell_type": "code",
   "execution_count": 304,
   "metadata": {},
   "outputs": [
    {
     "data": {
      "text/plain": [
       "'3333333'"
      ]
     },
     "execution_count": 304,
     "metadata": {},
     "output_type": "execute_result"
    }
   ],
   "source": [
    "\"3\" * 7"
   ]
  },
  {
   "cell_type": "markdown",
   "metadata": {},
   "source": [
    "<i>`3 * 7` will just give us the product:</i>"
   ]
  },
  {
   "cell_type": "code",
   "execution_count": 305,
   "metadata": {},
   "outputs": [
    {
     "data": {
      "text/plain": [
       "21"
      ]
     },
     "execution_count": 305,
     "metadata": {},
     "output_type": "execute_result"
    }
   ],
   "source": [
    "3 * 7"
   ]
  },
  {
   "cell_type": "markdown",
   "metadata": {},
   "source": [
    "*We can convert strings to integers with `int()` and vice-versa with `str()`:*"
   ]
  },
  {
   "cell_type": "code",
   "execution_count": 306,
   "metadata": {},
   "outputs": [
    {
     "data": {
      "text/plain": [
       "21"
      ]
     },
     "execution_count": 306,
     "metadata": {},
     "output_type": "execute_result"
    }
   ],
   "source": [
    "int(\"3\") * 7"
   ]
  },
  {
   "cell_type": "code",
   "execution_count": 307,
   "metadata": {},
   "outputs": [
    {
     "data": {
      "text/plain": [
       "'3333333'"
      ]
     },
     "execution_count": 307,
     "metadata": {},
     "output_type": "execute_result"
    }
   ],
   "source": [
    "str(3) * 7"
   ]
  },
  {
   "cell_type": "markdown",
   "metadata": {},
   "source": [
    "##### 16. \n",
    "\n",
    "☼ Use a text editor to create a file called `prog.py` containing the single line `monty = 'Monty Python'`. Next, start up a new session with the Python interpreter, and enter the expression `monty` at the prompt. You will get an error from the interpreter. Now, try the following (note that you have to leave off the `.py` part of the filename):"
   ]
  },
  {
   "cell_type": "markdown",
   "metadata": {},
   "source": [
    "*Errors in my notebook prevent the remaining cells from running, so this is being saved as markdown:*\n",
    "\n",
    "```\n",
    "monty\n",
    "\n",
    "---------------------------------------------------------------------------\n",
    "NameError                                 Traceback (most recent call last)\n",
    "<ipython-input-308-d4cc90107335> in <module>\n",
    "----> 1 monty\n",
    "\n",
    "NameError: name 'monty' is not defined\n",
    "```"
   ]
  },
  {
   "cell_type": "code",
   "execution_count": 310,
   "metadata": {},
   "outputs": [
    {
     "data": {
      "text/plain": [
       "'Monty Python'"
      ]
     },
     "execution_count": 310,
     "metadata": {},
     "output_type": "execute_result"
    }
   ],
   "source": [
    "from prog import monty\n",
    "monty"
   ]
  },
  {
   "cell_type": "markdown",
   "metadata": {},
   "source": [
    "*This time, Python should return with a value. You can also try `import prog`, in which case Python should be able to evaluate the expression `prog.monty` at the prompt.*"
   ]
  },
  {
   "cell_type": "code",
   "execution_count": 311,
   "metadata": {},
   "outputs": [
    {
     "data": {
      "text/plain": [
       "'Monty Python'"
      ]
     },
     "execution_count": 311,
     "metadata": {},
     "output_type": "execute_result"
    }
   ],
   "source": [
    "import prog\n",
    "\n",
    "prog.monty"
   ]
  },
  {
   "cell_type": "markdown",
   "metadata": {},
   "source": [
    "##### 17. \n",
    "\n",
    "☼ What happens when the formatting strings `%6s` and `%-6s` are used to display strings that are longer than six characters?\n",
    "\n",
    "*This looks to be a legacy question from an older version of the book, since this is the older method of formatting in Python.  As the question is written, `%6s` won't do anything to a longer string:*"
   ]
  },
  {
   "cell_type": "code",
   "execution_count": 323,
   "metadata": {},
   "outputs": [
    {
     "data": {
      "text/plain": [
       "'another test'"
      ]
     },
     "execution_count": 323,
     "metadata": {},
     "output_type": "execute_result"
    }
   ],
   "source": [
    "test = \"another test\"\n",
    "\n",
    "\"%6s\" % (test)"
   ]
  },
  {
   "cell_type": "markdown",
   "metadata": {},
   "source": [
    "*`%-6s` will add padding to a string shorter than six characters:*"
   ]
  },
  {
   "cell_type": "code",
   "execution_count": 327,
   "metadata": {},
   "outputs": [
    {
     "data": {
      "text/plain": [
       "'hey   '"
      ]
     },
     "execution_count": 327,
     "metadata": {},
     "output_type": "execute_result"
    }
   ],
   "source": [
    "\"%-6s\" % (\"hey\")"
   ]
  },
  {
   "cell_type": "markdown",
   "metadata": {},
   "source": [
    "*I suspect the authors may have left out a decimal.  `%.6s` has a quite different effect:*"
   ]
  },
  {
   "cell_type": "code",
   "execution_count": 328,
   "metadata": {},
   "outputs": [
    {
     "data": {
      "text/plain": [
       "'anothe'"
      ]
     },
     "execution_count": 328,
     "metadata": {},
     "output_type": "execute_result"
    }
   ],
   "source": [
    "\"%.6s\" % (test)"
   ]
  },
  {
   "cell_type": "markdown",
   "metadata": {},
   "source": [
    "##### 18. \n",
    "\n",
    "◑ Read in some text from a corpus, tokenize it, and print the list of all *wh*-word types that occur. (*wh*-words in English are used in questions, relative clauses and exclamations: *who*, *which*, *what*, and so on.) Print them in order. Are any words duplicated in this list, because of the presence of case distinctions or punctuation?\n",
    "\n",
    "*This question is a little difficult to follow.  Most of the corpora we're using have texts that have already been tokenized, so the first part of this question seems a bit redundant.  However, just to play along,  I'll use the raw text version of one of the Project Gutenberg texts.*"
   ]
  },
  {
   "cell_type": "code",
   "execution_count": 81,
   "metadata": {},
   "outputs": [],
   "source": [
    "from nltk import word_tokenize\n",
    "from nltk.corpus import gutenberg\n",
    "\n",
    "raw = gutenberg.raw('bryant-stories.txt')\n",
    "\n",
    "tokens = word_tokenize(raw)\n",
    "\n",
    "tokens = sorted(set(tokens))"
   ]
  },
  {
   "cell_type": "markdown",
   "metadata": {},
   "source": [
    "*The next part of the question also seems a little hard to follow: The __wh-__words are a closed set (__what__, __when__, __where__, __which__, __who__, __whose__, and __why__), and if I explicitly define them, I won't find any exceptions.  The only possible way around this is to search for all words that begin with __wh__.  But if I do so, most of the hits will be false positives, because most words that start with __wh-__ are outside of this set.*"
   ]
  },
  {
   "cell_type": "code",
   "execution_count": 356,
   "metadata": {},
   "outputs": [
    {
     "name": "stdout",
     "output_type": "stream",
     "text": [
      "['Whale', 'What', 'When', 'Whenever', 'Where', 'Whether', 'Whiff', 'While', 'Whirling', 'White', 'Who', 'Whose', 'Why', 'what', 'whatever', 'wheat', 'wheelbarrow', 'wheeled', 'when', 'whence', 'whenever', 'where', 'wherein', 'wherever', 'whether', 'which', 'while', 'whimpering', 'whin', 'whinny', 'whipped', 'whirlpool', 'whiruled', 'whisk', 'whisked', 'whisper', 'whisper_', 'whispered', 'whispering', 'whispers', 'whistle', 'whistled', 'white', 'white-haired', 'white-robed', 'whither', 'who', 'whole', 'wholly', 'whom', 'whose', 'why']\n"
     ]
    }
   ],
   "source": [
    "print([w for w in tokens if re.search('^[Ww]h', w)])"
   ]
  },
  {
   "cell_type": "markdown",
   "metadata": {},
   "source": [
    "*As expected, most of the results are false positives.  There are also  versions of the __wh-__ words starting with both upper- and lowercase letters; as well as 'whom', the accusative form of 'who'.  But there are also a number of words that could be considered __wh-__ words that I wouldn't have thought of searching for, such as words ending with '-ever' (e.g., 'whatever', 'whenever', etc...); variant forms of 'where' (i.e., 'whence' and 'whither'), as well as 'whether' and 'wherein'.*"
   ]
  },
  {
   "cell_type": "markdown",
   "metadata": {},
   "source": [
    "##### 19. \n",
    "\n",
    "◑ Create a file consisting of words and (made up) frequencies, where each line consists of a word, the space character, and a positive integer, e.g. `fuzzy 53`. Read the file into a Python list using `open(filename).readlines()`. Next, break each line into its two fields using `split()`, and convert the number into an integer using `int()`. The result should be a list of the form: `[['fuzzy', 53], ...]`."
   ]
  },
  {
   "cell_type": "code",
   "execution_count": 358,
   "metadata": {},
   "outputs": [],
   "source": [
    "fuzzy = open('fuzzy.txt', encoding = \"utf-8\").readlines()"
   ]
  },
  {
   "cell_type": "code",
   "execution_count": 386,
   "metadata": {},
   "outputs": [
    {
     "data": {
      "text/plain": [
       "[['fuzzy', 53],\n",
       " ['wuzzy', 92],\n",
       " ['was', 128],\n",
       " ['a', 4897],\n",
       " ['bear', 23],\n",
       " ['had', 47],\n",
       " ['no', 93],\n",
       " ['hair', 23],\n",
       " [\"wasn't\", 78],\n",
       " ['he', 77]]"
      ]
     },
     "execution_count": 386,
     "metadata": {},
     "output_type": "execute_result"
    }
   ],
   "source": [
    "[[word, int(value)] for word, value in (f.split() for f in fuzzy)]"
   ]
  },
  {
   "cell_type": "markdown",
   "metadata": {},
   "source": [
    "##### 20. \n",
    "\n",
    "◑ Write code to access a favorite webpage and extract some text from it. For example, access a weather site and extract the forecast top temperature for your town or city today.\n",
    "\n",
    "*This is not so straightforward.  Most websites today do not have a static link to weather values, and it's almost certainly easier to use an API.  [OpenWeather](https://openweathermap.org/api \"OpenWeather\") offers such an API, though it requires registration, which takes a few hours to process.  The results will be in JSON, which needs to be parsed, and the temperature will be in Kelvin, which will need to be converted:*\n"
   ]
  },
  {
   "cell_type": "code",
   "execution_count": 117,
   "metadata": {},
   "outputs": [],
   "source": [
    "import requests\n",
    "import json\n",
    "\n",
    "# needs to be deleted before posting to GH\n",
    "key = '10f1049e5862ee388ad748981accb4c1'\n",
    "\n",
    "def k_to_c(temp):\n",
    "    \"\"\"Converts Kelvin to Celsius.\"\"\"\n",
    "    return temp - 273.15\n",
    "\n",
    "def k_to_f(temp):\n",
    "    \"\"\"Converts Kelvin to Fahrenheit.\"\"\"\n",
    "    return (temp - 273.15) * 1.8 + 32\n",
    "\n",
    "def get_temp(city):\n",
    "    \"\"\"\n",
    "    Gets current, high, and low temperatures for a given city.\n",
    "    \"\"\"\n",
    "    r = requests.get('http://api.openweathermap.org/data/2.5/weather?q=' + city + '&APPID=' + key)\n",
    "    \n",
    "    if r.json()['cod'] == '404':\n",
    "        print(\"Sorry, we don't know where that city is.\")\n",
    "    else:\n",
    "        current_k = r.json()['main']['temp']\n",
    "        min_k = r.json()['main']['temp_min']\n",
    "        max_k = r.json()['main']['temp_max']\n",
    "        print(\"The current temperature is {:.1f} C°/{:.1f} F°.\".format(k_to_c(current_k), k_to_f(current_k)))\n",
    "        print(\"Today's high temperature is {:.1f} C°/{:.1f} F°.\".format(k_to_c(max_k), k_to_f(max_k)))\n",
    "        print(\"Today's low temperature is {:.1f} C°/{:.1f} F°.\".format(k_to_c(min_k), k_to_f(min_k)))"
   ]
  },
  {
   "cell_type": "code",
   "execution_count": 111,
   "metadata": {},
   "outputs": [
    {
     "name": "stdout",
     "output_type": "stream",
     "text": [
      "The current temperature is 17.8 C°/64.0 F°.\n",
      "Today's high temperature is 20.6 C°/69.0 F°.\n",
      "Today's low temperature is 14.0 C°/57.2 F°.\n"
     ]
    }
   ],
   "source": [
    "get_temp('Hiroshima')"
   ]
  },
  {
   "cell_type": "code",
   "execution_count": 118,
   "metadata": {},
   "outputs": [
    {
     "name": "stdout",
     "output_type": "stream",
     "text": [
      "The current temperature is 18.7 C°/65.6 F°.\n",
      "Today's high temperature is 20.6 C°/69.0 F°.\n",
      "Today's low temperature is 16.0 C°/60.8 F°.\n"
     ]
    }
   ],
   "source": [
    "get_temp('Kure')"
   ]
  },
  {
   "cell_type": "code",
   "execution_count": 115,
   "metadata": {},
   "outputs": [
    {
     "name": "stdout",
     "output_type": "stream",
     "text": [
      "Sorry, we don't know where that city is.\n"
     ]
    }
   ],
   "source": [
    "get_temp('aaaa')"
   ]
  },
  {
   "cell_type": "markdown",
   "metadata": {},
   "source": [
    "##### 21.\n",
    "\n",
    "◑ Write a function `unknown()` that takes a URL as its argument, and returns a list of unknown words that occur on that webpage. In order to do this, extract all substrings consisting of lowercase letters (using `re.findall()`) and remove any items from this set that occur in the Words Corpus (`nltk.corpus.words`). Try to categorize these words manually and discuss your findings.\n",
    "\n",
    "*If we literally do what the instructions tell us, we'll get quite a large list, as inflected word forms (-ing, -ed, -s, etc...) are mostly absent from the Words Corpus.  So I've added parameters to `unknown` that will let us exclude these common words.  This may lead to a small number of false negatives; but I feel this is an acceptable cost, given the very high number of false positives.  It might be advisable to run the function twice, once without the endings excluded and once with, so that the user can inspect for him-/herself which words are being excluded.*\n",
    "\n",
    "*Additionally, irregular verbs are absent in the wordlist, so I added these manually.*\n",
    "\n",
    "*After adjusting which words are excluded, we'll see that most of the words are fairly new words ('podcast', 'app', ...) which haven't had a chance to be added to the corpus.  We also see compound words ('counterproductive', 'rollout', ...) whose constituent parts are part of the corpus.  We will also see the occasional lower-case last name: it's common for authors to post their Twitter handles next to their byline, and these handles are usually lowercase.  Upper-case names were pruned in the function.*\n",
    "\n"
   ]
  },
  {
   "cell_type": "code",
   "execution_count": 65,
   "metadata": {},
   "outputs": [],
   "source": [
    "wordlist = [w.lower() for w in nltk.corpus.words.words('en')]\n",
    "\n",
    "# irregular verbs\n",
    "verbs = ['ate', 'beat', 'beaten', 'became', 'become', 'began', 'begun', 'bent', \n",
    "         'bet', 'bid', 'bit', 'bitten', 'blew', 'blown', 'bought', 'broke', 'broken', \n",
    "         'brought', 'built', 'burnt', 'came', 'caught', 'chose', 'chosen', 'come', \n",
    "         'cost', 'cut', 'did', 'dived', 'done', 'dove', 'drank', 'drawn', 'dreamt', \n",
    "         'drew', 'driven', 'drove', 'drunk', 'dug', 'eaten', 'fallen', 'fell', 'felt', \n",
    "         'flew', 'flown', 'forgave', 'forgiven', 'forgot', 'forgotten', 'fought', 'found', \n",
    "         'froze', 'frozen', 'gave', 'given', 'gone', 'got', 'gotten', 'grew', 'grown', \n",
    "         'had', 'heard', 'held', 'hid', 'hidden', 'hit', 'hung', 'hurt', 'kept', 'knew', \n",
    "         'known', 'laid', 'lain', 'lay', 'led', 'left', 'lent', 'let', 'lost', 'made', \n",
    "         'meant', 'met', 'paid', 'put', 'ran', 'rang', 'read', 'ridden', 'risen', 'rode', \n",
    "         'rose', 'run', 'rung', 'said', 'sang', 'sat', 'saw', 'seen', 'sent', 'showed', \n",
    "         'shown', 'shut', 'slept', 'sold', 'spent', 'spoke', 'spoken', 'stood', 'sung', \n",
    "         'swam', 'swum', 'taken', 'taught', 'thought', 'threw', 'thrown', 'told', 'took', \n",
    "         'tore', 'torn', 'understood', 'went', 'woke', 'woken', 'won', 'wore', 'worn', \n",
    "         'written', 'wrote']\n",
    "\n",
    "wordlist += verbs\n",
    "\n",
    "\n",
    "\n",
    "def unknown(url, es = False, s = False, ed = False, ing = False, n = False, er = False):\n",
    "    \n",
    "    # get text\n",
    "    raw = return_URL_contents(url)\n",
    "    \n",
    "    # get lower-case words\n",
    "    raw_lower = re.findall(r'\\b[a-z]+\\b', raw)\n",
    "    \n",
    "    # find unknown words and eliminate duplicates\n",
    "    unknown = sorted(set([w for w in raw_lower if w not in wordlist]))\n",
    "    \n",
    "    # find common words that are not in wordlist because of \n",
    "    # morphological changes\n",
    "    exclude = []\n",
    "    \n",
    "    # words with -es plurals\n",
    "    if es:\n",
    "        es = [i for i in unknown if i[-2:] == 'es' and i[:-2] in wordlist] \n",
    "        exclude += es\n",
    "        # -y becomes -ies\n",
    "        ies = [i for i in unknown if i[-3:] == 'ies' and i[:-3] + 'y' in wordlist]\n",
    "        exclude += ies\n",
    "        \n",
    "    # regular plurals\n",
    "    if s:\n",
    "        s = [i for i in unknown if i[-1] == 's' and i[:-1] in wordlist]\n",
    "        exclude += s\n",
    "        \n",
    "    # regular past tense forms\n",
    "    if ed:\n",
    "        # verbs with final -e\n",
    "        d = [i for i in unknown if i[-1:] == 'd' and i[:-1] in wordlist]\n",
    "        exclude += d\n",
    "        # regular verbs\n",
    "        ed = [i for i in unknown if i[-2:] == 'ed' and i[:-2] in wordlist]\n",
    "        exclude += ed\n",
    "        # verbs that double final consonant\n",
    "        dd = [i for i in unknown if i[-2:] == 'ed' and i[:-3] in wordlist]\n",
    "        exclude += dd\n",
    "        \n",
    "    # regular gerunds\n",
    "    if ing:\n",
    "        # verbs with final -e\n",
    "        ng = [i for i in unknown if i[-3:] == 'ing' and i[:-3] + 'e' in wordlist]\n",
    "        exclude += ng\n",
    "        # regular verbs\n",
    "        ing = [i for i in unknown if i[-3:] == 'ing' and i[:-3] in wordlist]\n",
    "        exclude += ing\n",
    "        # verbs that double final consonat\n",
    "        nng = [i for i in unknown if i[-3:] == 'ing' and i[:-4] in wordlist]\n",
    "        exclude += nng\n",
    "        \n",
    "    if n:\n",
    "        # negative contractions without final -'t\n",
    "        n = [i for i in unknown if i[-1:] == 'n' and i[:-1] in wordlist]\n",
    "        exclude += n\n",
    "        \n",
    "    if er:\n",
    "        # comparative forms\n",
    "        er = [i for i in unknown if i[-2:] == 'er' and i[:-2] in wordlist]\n",
    "        exclude += er\n",
    "        # comparative forms with final -y\n",
    "        ier = [i for i in unknown if i[-3:] == 'ier' and i[:-3] + 'y' in wordlist]\n",
    "        exclude += ier\n",
    "        # comparative forms with final -e\n",
    "        r = [i for i in unknown if i[-2:] == 'er' and i[:-1] in wordlist]\n",
    "        exclude += r\n",
    "        # superlative forms\n",
    "        est = [i for i in unknown if i[-3:] == 'est' and i[:-3] in wordlist]\n",
    "        exclude += est\n",
    "        # superlative forms with final -y\n",
    "        st = [i for i in unknown if i[-3:] == 'est' and i[:-2] in wordlist]\n",
    "        exclude += st\n",
    "        # superlative forms with final -e\n",
    "        iest = [i for i in unknown if i[-4:] == 'iest' and i[:-4] + 'y' in wordlist]\n",
    "        exclude += iest\n",
    "        \n",
    "    # return only those unknown words that have not been excluded\n",
    "    # by the above list comprehensions\n",
    "    return [i for i in unknown if i not in exclude]\n"
   ]
  },
  {
   "cell_type": "code",
   "execution_count": 25,
   "metadata": {},
   "outputs": [
    {
     "name": "stdout",
     "output_type": "stream",
     "text": [
      "['actions', 'agencies', 'answers', 'app', 'attacking', 'attempts', 'banned', 'biohacker', 'breaks', 'bringing', 'businesses', 'called', 'candidates', 'changing', 'companies', 'compares', 'comparing', 'competitors', 'couldn', 'criticized', 'debated', 'details', 'diagnosing', 'didn', 'discussed', 'doesn', 'doors', 'employees', 'enemies', 'enjoyed', 'executives', 'explained', 'explodes', 'explores', 'frontrunner', 'fundraising', 'giants', 'harshest', 'has', 'helped', 'hosted', 'ignoring', 'including', 'indicated', 'infused', 'joined', 'laws', 'lists', 'lives', 'mailing', 'mainstream', 'members', 'millennials', 'minutes', 'missed', 'monopolies', 'numbers', 'offered', 'okay', 'options', 'playing', 'podcast', 'politicians', 'practices', 'pressed', 'proposals', 'pushed', 'represents', 'required', 'rights', 'rules', 'sectors', 'sees', 'sharing', 'shifted', 'showcased', 'signing', 'simmering', 'specifics', 'stories', 'streamers', 'techlash', 'teddyschleifer', 'themes', 'things', 'topics', 'tougher', 'users', 'using', 'wants', 'wasn', 'whacks', 'years']\n"
     ]
    }
   ],
   "source": [
    "url = 'https://www.vox.com/recode/2019/10/16/20916712/cnn-democratic-presidential-debate-big-tech-silicon-valley-warren-harris'\n",
    "\n",
    "print(unknown(url))"
   ]
  },
  {
   "cell_type": "code",
   "execution_count": 50,
   "metadata": {},
   "outputs": [
    {
     "name": "stdout",
     "output_type": "stream",
     "text": [
      "['app', 'biohacker', 'frontrunner', 'fundraising', 'mainstream', 'okay', 'podcast', 'techlash', 'teddyschleifer']\n"
     ]
    }
   ],
   "source": [
    "url = 'https://www.vox.com/recode/2019/10/16/20916712/cnn-democratic-presidential-debate-big-tech-silicon-valley-warren-harris'\n",
    "\n",
    "print(unknown(url, es = True, s = True, ed = True, ing = True, n = True, er = True))"
   ]
  },
  {
   "cell_type": "code",
   "execution_count": 66,
   "metadata": {},
   "outputs": [
    {
     "name": "stdout",
     "output_type": "stream",
     "text": [
      "['abandoning', 'acquiescing', 'adding', 'advocates', 'aligned', 'angels', 'announced', 'appearances', 'applications', 'areas', 'arts', 'asserted', 'attacking', 'attempted', 'automobiles', 'berated', 'books', 'briefed', 'captured', 'citing', 'closest', 'closing', 'columnists', 'comments', 'communists', 'compared', 'complaining', 'concerns', 'condemns', 'continues', 'contributed', 'controlled', 'corrections', 'counterproductive', 'countries', 'created', 'criticized', 'dated', 'decades', 'defended', 'defends', 'denied', 'denounced', 'deployed', 'described', 'detained', 'deterring', 'dismissed', 'dismissing', 'earlier', 'edited', 'editorials', 'elected', 'email', 'emerged', 'emphasized', 'events', 'expressing', 'fears', 'feels', 'fighters', 'focusing', 'followed', 'forces', 'friends', 'gained', 'hands', 'has', 'having', 'heated', 'horses', 'hours', 'implying', 'including', 'insisted', 'interests', 'interjected', 'interpreted', 'invading', 'isn', 'issues', 'jeopardizing', 'jobs', 'journeys', 'launched', 'leaders', 'lebanon', 'letters', 'listings', 'looks', 'managing', 'matters', 'meltdown', 'mercenaries', 'minimized', 'mishandled', 'misquoted', 'movies', 'multimedia', 'near', 'newsletters', 'obituaries', 'obtained', 'officials', 'ol', 'op', 'opened', 'operations', 'opponents', 'others', 'outposts', 'overrated', 'parenting', 'parties', 'penalties', 'permitting', 'peterbakernyt', 'points', 'policies', 'positions', 'preparing', 'presidents', 'prisoners', 'promoting', 'proposed', 'pulled', 'pulling', 'pushed', 'rebuked', 'rebutted', 'reemerge', 'referring', 'relayed', 'remarks', 'reported', 'reporters', 'reporting', 'reports', 'rollout', 'scratched', 'seemed', 'served', 'services', 'sharpest', 'shouldn', 'soldiers', 'statements', 'states', 'stronger', 'subscriptions', 'suggested', 'talks', 'things', 'ties', 'tools', 'trips', 'troops', 'visited', 'walked', 'wants', 'wars', 'wasn', 'years']\n"
     ]
    }
   ],
   "source": [
    "url = \"https://www.nytimes.com/2019/10/16/world/middleeast/trump-erdogan-turkey-syria-kurds.html?action=click&module=Top%20Stories&pgtype=Homepage\"\n",
    "\n",
    "print(unknown(url))"
   ]
  },
  {
   "cell_type": "code",
   "execution_count": 67,
   "metadata": {},
   "outputs": [
    {
     "name": "stdout",
     "output_type": "stream",
     "text": [
      "['counterproductive', 'email', 'lebanon', 'meltdown', 'multimedia', 'near', 'ol', 'op', 'peterbakernyt', 'reemerge', 'rollout']\n"
     ]
    }
   ],
   "source": [
    "print(unknown(url, es = True, s = True, ed = True, ing = True, n = True, er = True))"
   ]
  },
  {
   "cell_type": "code",
   "execution_count": 68,
   "metadata": {},
   "outputs": [
    {
     "name": "stdout",
     "output_type": "stream",
     "text": [
      "['allenskratch', 'cyclo', 'll', 'longtime', 'maglia', 'plc', 'taylorphinney', 'triallist', 'unsubscribe', 'vibe']\n"
     ]
    }
   ],
   "source": [
    "url = \"https://www.cyclingnews.com/news/taylor-phinney-set-to-retire/\"\n",
    "print(unknown(url, es = True, s = True, ed = True, ing = True, n = True, er = True))"
   ]
  },
  {
   "cell_type": "markdown",
   "metadata": {},
   "source": [
    "##### 22. \n",
    "\n",
    "◑ Examine the results of processing the URL `http://news.bbc.co.uk/` using the regular expressions suggested above. You will see that there is still a fair amount of non-textual data there, particularly Javascript commands. You may also find that sentence breaks have not been properly preserved. Define further regular expressions that improve the extraction of text from this web page.\n",
    "\n",
    "*I find this question really poorly written.  We're supposed to use the 'regular expressions suggested above', but which ones?  The chapter is full of them!*\n",
    "\n",
    "*I've already made several functions that do fairly good jobs of extracting text and removing Javascript commands.  I don't really feel like breaking one of these functions just for the sake of practice...*"
   ]
  },
  {
   "cell_type": "code",
   "execution_count": 124,
   "metadata": {},
   "outputs": [
    {
     "data": {
      "text/plain": [
       "\"Home - BBC News Homepage Accessibility links Skip to content Accessibility Help BBC Account Notifications Home News Sport Weather iPlayer Sounds CBBC CBeebies Food Bitesize Arts Taster Local TV Radio Three Menu Search Search the BBC Search the BBC BBC News News Navigation Sections Home Home selected Video World Asia UK Business Tech Science Stories Entertainment & Arts Health World News TV In Pictures Reality Check Newsbeat Special Reports Explainers Long Reads Have Your Say More More sections Home Home selected Video World World Home Africa Australia Europe Latin America Middle East US & Canada Asia Asia Home China India UK UK Home England N. Ireland Scotland Wales Politics Local News Business Business Home Market Data Global Trade Companies Entrepreneurship Technology of Business Business of Sport Global Education Economy Global Car Industry Tech Science Stories Entertainment & Arts Health World News TV In Pictures Reality Check Newsbeat Special Reports Explainers Long Reads Have Your Say BBC News Home Breaking Breaking news Close breaking news Latest Stories Most Read Skip to most read Latest Stories Most Read Top Stories Turkey-Syria 'not our border', says Trump His remarks come as the US comes under fire at home and abroad for withdrawing its troops from Syria. 3h 3 hours ago Middle East Turkey-Syria 'not our border', says Trump His remarks come as the US comes under fire at home and abroad for withdrawing its troops from Syria. 3h 3 hours ago Middle East Related content Video Trump exchange with reporter over troop withdrawal Viewpoint: Syria could cost Trump re-election Video Turkey presses on with Syria military offensive 'No Brexit deal tonight', UK source says UK and EU officials are continuing technical talks ahead of Thursday's crunch EU council meeting. 2h 2 hours ago UK Politics Hong Kong protest leader violently attacked Photographs show Jimmy Sham of the Civil Human Rights Front lying in the street, covered in blood. 8h 8 hours ago China Hundreds arr\""
      ]
     },
     "execution_count": 124,
     "metadata": {},
     "output_type": "execute_result"
    }
   ],
   "source": [
    "url = \"https://www.bbc.com/news\"\n",
    "return_URL_contents(url)[:2000]"
   ]
  },
  {
   "cell_type": "markdown",
   "metadata": {},
   "source": [
    "##### 23. \n",
    "◑ Are you able to write a regular expression to tokenize text in such a way that the word *don't* is tokenized into *do* and *n't*? Explain why this regular expression won't work: `«n't|\\w+»`.\n",
    "\n",
    "*The short answer is that I'm not really sure.  I understand that this book is (was) designed so that it could be used in the classroom, and therefore the answers were not included; but I believe a large percentage - perhaps even the majority - of users are students engaging in self-study, and for these people (myself included), explanations would be greatly appreciated.*\n",
    "\n",
    "<i>My guess is that matches are greedy, and the regular expression evaluator will try to return the largest match that it can.  To turn this off, we need to add <code>(.*?)</code>.  Also, we need to add parentheses around `n't` to specify it as a capturing group.</i>"
   ]
  },
  {
   "cell_type": "code",
   "execution_count": 161,
   "metadata": {},
   "outputs": [
    {
     "data": {
      "text/plain": [
       "[('do', \"n't\")]"
      ]
     },
     "execution_count": 161,
     "metadata": {},
     "output_type": "execute_result"
    }
   ],
   "source": [
    "re.findall(r\"(.*?)(n't)|\\w+\", \"don't\")"
   ]
  },
  {
   "cell_type": "markdown",
   "metadata": {},
   "source": [
    "##### 24. \n",
    "\n",
    "◑ Try to write code to convert text into *hAck3r*, using regular expressions and substitution, where `e` → `3`, `i` → `1`, `o` → `0`, `l` → `|`, `s` → `5`, `.` → `5w33t!`, `ate` → `8`. Normalize the text to lowercase before converting it. Add more substitutions of your own. Now try to map `s` to two different values: `$` for word-initial `s`, and `5` for word-internal `s`.\n",
    "\n",
    "*This seems like a perfect place to `re.sub()`, which, typically, is not introduced until later in the exercise set...*"
   ]
  },
  {
   "cell_type": "code",
   "execution_count": 171,
   "metadata": {},
   "outputs": [
    {
     "data": {
      "text/plain": [
       "'H3||0 5uck3r55w33t!  I 8 y0ur |unch5w33t!  It wa5 d3|15h5w33t!'"
      ]
     },
     "execution_count": 171,
     "metadata": {},
     "output_type": "execute_result"
    }
   ],
   "source": [
    "test = \"Hello suckers.  I ate your lunch.  It was delish.\"\n",
    "\n",
    "test = test.lower()\n",
    "\n",
    "org = ['ate', 'e', 'i', 'o', 'l', 's', '\\.']\n",
    "sub = ['8', '3', '1', '0', '|', '5', '5w33t!']\n",
    "\n",
    "for i in range(len(org)):\n",
    "    test = re.sub(org[i], sub[i], test)\n",
    "\n",
    "test"
   ]
  },
  {
   "cell_type": "markdown",
   "metadata": {},
   "source": [
    "*Adding my own substitutions:*"
   ]
  },
  {
   "cell_type": "code",
   "execution_count": 187,
   "metadata": {},
   "outputs": [
    {
     "data": {
      "text/plain": [
       "'%3+3r %1%3r %1ck3d a %3ck 0f %1ck|3d %3%%3r55w33t!'"
      ]
     },
     "execution_count": 187,
     "metadata": {},
     "output_type": "execute_result"
    }
   ],
   "source": [
    "test = \"Peter Piper picked a peck of pickled peppers.\"\n",
    "\n",
    "test = test.lower()\n",
    "\n",
    "org = ['e', 'i', 'o', 'l', 's', 't', 'p', '\\.']\n",
    "sub = ['3', '1', '0', '|', '5', '+', '%', '5w33t!']\n",
    "\n",
    "for i in range(len(org)):\n",
    "    test = re.sub(org[i], sub[i], test)\n",
    "\n",
    "test"
   ]
  },
  {
   "cell_type": "markdown",
   "metadata": {},
   "source": [
    "*Differentiating between initial $s$ and medial $s$:*"
   ]
  },
  {
   "cell_type": "code",
   "execution_count": 185,
   "metadata": {},
   "outputs": [
    {
     "data": {
      "text/plain": [
       "'$u513 |1v35 1n m1551551pp15w33t!'"
      ]
     },
     "execution_count": 185,
     "metadata": {},
     "output_type": "execute_result"
    }
   ],
   "source": [
    "test = \"Susie lives in Mississippi.\"\n",
    "\n",
    "test = test.lower()\n",
    "\n",
    "org = ['ate', 'e', 'i', 'o', 'l', 't', r'\\bs', 's', '\\.']\n",
    "sub = ['8', '3', '1', '0', '|', '+', '$', '5', '5w33t!']\n",
    "\n",
    "for i in range(len(org)):\n",
    "    test = re.sub(org[i], sub[i], test)\n",
    "\n",
    "test"
   ]
  },
  {
   "cell_type": "markdown",
   "metadata": {},
   "source": [
    "##### 25. \n",
    "\n",
    "◑ Pig Latin is a simple transformation of English text. Each word of the text is converted as follows: move any consonant (or consonant cluster) that appears at the start of the word to the end, then append *ay*, e.g. *string* → *ingstray*, *idle* → *idleay*. http://en.wikipedia.org/wiki/Pig_Latin\n",
    "\n",
    " * a. Write a function to convert a word to Pig Latin.\n",
    " * b. Write code that converts text, instead of individual words.\n",
    " * c. Extend it further to preserve capitalization, to keep qu together (i.e. so that `quiet` becomes `ietquay`), and to detect when `y` is used as a consonant (e.g. `yellow`) vs a vowel (e.g. `style`).\n",
    " \n",
    "*Instead of going through the instructions in order, I think it might be easier to handle all of the exceptions from the beginning.  I'm also not going to include all the intermediate code, so what follows is my final answer to all parts of this question:*"
   ]
  },
  {
   "cell_type": "code",
   "execution_count": 301,
   "metadata": {},
   "outputs": [],
   "source": [
    "def pig_latin(word):\n",
    "    \"\"\"\n",
    "    Returns pig latin version of word.\n",
    "    \"\"\"\n",
    "    \n",
    "    # replace 'dumb' quotes\n",
    "    word = re.sub(\"’\", \"'\", word)\n",
    "        \n",
    "    # won't work on non-alphabetic strings\n",
    "    if not word.isalpha():\n",
    "        if \"'\" not in word:\n",
    "            return word\n",
    "    \n",
    "    # Return uppercase word if original is in uppercase\n",
    "    caps = False\n",
    "    if word[0].isupper():\n",
    "        caps = True\n",
    "    word = word.lower()\n",
    "    \n",
    "    # word starts with vowel\n",
    "    if word[0] in 'AEIOUaeiou':\n",
    "        pl = word + 'ay'\n",
    "        \n",
    "    # some tokenizers will produce non-words    \n",
    "    elif len(word) == 1:\n",
    "        return word\n",
    "    \n",
    "    # word begins with 'y' - treated as a consonant\n",
    "    # otherwise 'y' is a vowel, or first vowel is not 'y'\n",
    "    elif word[0] == 'y':\n",
    "        pl = word[1:] + 'yay'\n",
    "    \n",
    "    # word begins with 'qu'\n",
    "    elif word[:2] == \"qu\":\n",
    "        pl = word[2:] + \"quay\"\n",
    "    \n",
    "    # all other cases\n",
    "    else:\n",
    "        start, end = re.findall(r'\\b^[^aeiouy]*|[aeiouy]{1}\\S*', word)\n",
    "        pl = end + start + 'ay'\n",
    "    \n",
    "    # restore word to uppercase if necessary\n",
    "    if caps == True:\n",
    "        pl = pl[0].upper() + pl[1:]\n",
    "    return pl"
   ]
  },
  {
   "cell_type": "markdown",
   "metadata": {},
   "source": [
    "*From Chapter 2, exercise 3.  It will make the final output look nicer by joining punctuation to the preceding string.*"
   ]
  },
  {
   "cell_type": "code",
   "execution_count": null,
   "metadata": {},
   "outputs": [],
   "source": [
    "def join_punctuation(text, characters = [\"'\", '’', ')', ',', '.', ':', ';', '?', '!', ']', \"''\"]): \n",
    "    \"\"\"\n",
    "    Takes a list of strings and attaches punctuation to\n",
    "    the preceding string in the list.\n",
    "    \"\"\"\n",
    "    \n",
    "    text = iter(text)\n",
    "    current = next(text)\n",
    "\n",
    "    for nxt in text:\n",
    "        if nxt in characters:\n",
    "            current += nxt\n",
    "        else:\n",
    "            yield current\n",
    "            current = nxt\n",
    "            \n",
    "\n",
    "    yield current"
   ]
  },
  {
   "cell_type": "code",
   "execution_count": 299,
   "metadata": {},
   "outputs": [],
   "source": [
    "# from https://funnystories.tumblr.com/post/140309670613/funny-story\n",
    "\n",
    "# For the sake of convenience, I've removed some punctuation.\n",
    "\n",
    "\n",
    "story = \"\"\"One time in sixth grade we were at recess and while I was running to \n",
    "my friends, I just so happened to kick a HUGE rock and without thinking I \n",
    "shouted at the top of my lungs MOTHERFUCKER And with my god-awful luck, my math\n",
    "teacher was sitting at the bench right BESIDE ME. He then took me inside to \n",
    "what I thought was yell at me but he just couldn’t stop laughing and sent \n",
    "me back outside with a literal candy bar. He is still my favorite teacher \n",
    "I've ever had.\"\"\"\n",
    "\n"
   ]
  },
  {
   "cell_type": "code",
   "execution_count": 304,
   "metadata": {},
   "outputs": [],
   "source": [
    "def pig_latin_text(text):\n",
    "    \"\"\"\n",
    "    Translates text into pig latin.\n",
    "    \"\"\"\n",
    "    pl = []\n",
    "    for t in re.findall(r'\\b[\\S]+\\b|[.,!?]', text):\n",
    "        pl.append(pig_latin(t))\n",
    "        \n",
    "    return \" \".join(join_punctuation(pl))"
   ]
  },
  {
   "cell_type": "code",
   "execution_count": 303,
   "metadata": {},
   "outputs": [
    {
     "data": {
      "text/plain": [
       "\"Oneay imetay inay ixthsay adegray eway ereway atay ecessray anday ilewhay Iay asway unningray otay ymay iendsfray, Iay ustjay osay appenedhay otay ickkay aay Ugehay ockray anday ithoutway inkingthay Iay outedshay atay ethay optay ofay ymay ungslay Otherfuckermay Anday ithway ymay god-awful ucklay, ymay athmay eachertay asway ittingsay atay ethay enchbay ightray Esidebay Emay. Ehay enthay ooktay emay insideay otay atwhay Iay oughtthay asway ellyay atay emay utbay ehay ustjay ouldn'tcay opstay aughinglay anday entsay emay ackbay outsideay ithway aay iterallay andycay arbay. Ehay isay illstay ymay avoritefay eachertay I'veay everay adhay.\""
      ]
     },
     "execution_count": 303,
     "metadata": {},
     "output_type": "execute_result"
    }
   ],
   "source": [
    "pig_latin_text(story)"
   ]
  },
  {
   "cell_type": "markdown",
   "metadata": {},
   "source": [
    "#####  26.\n",
    "\n",
    "◑ Download some text from a language that has vowel harmony (e.g. Hungarian), extract the vowel sequences of words, and create a vowel bigram table."
   ]
  },
  {
   "cell_type": "code",
   "execution_count": 31,
   "metadata": {},
   "outputs": [],
   "source": [
    "import os \n",
    "\n",
    "path = \"C:\\\\Users\\\\mjcor\\\\Desktop\\\\ProgrammingStuff\\\\nltk\\\\chapter03\"\n",
    "os.chdir(path)"
   ]
  },
  {
   "cell_type": "markdown",
   "metadata": {},
   "source": [
    "*I had considerable difficulties with this exercise.  I orignally tried to use a Hungarian Wikipedia page, but encountered trouble trying to extract the vowels from this page: No matter which regular expression I used, the vowels returned were always unaccented.  I spent quite a bit of time experimenting with different regular expressions until I discovered that diacritics are encoded separately from the vowels on Wikipedia.*\n",
    "\n",
    "*In the meanwhile, I just decided to use a Hungarian text from Project Gutenberg.  I don't know anything about Hungarian literature, but I had a text copy of \"Az arany ember (2. rész)\" by Mór Jókai on my hard drive from another project I had done, so I decided to use this text.  It worked fine for my purposes.*\n",
    "\n",
    "*Instead of using the method outlined in the book for importing Project Gutenberg texts, I have a function that I wrote while I was going through chapter 13 of \"Think Python\" (add link).  I'll use a simplified version of that here:*"
   ]
  },
  {
   "cell_type": "code",
   "execution_count": 85,
   "metadata": {},
   "outputs": [],
   "source": [
    "def clean_pg_text(text, encode = \"utf8\"):\n",
    "    \"\"\"\n",
    "    Returns a list of words from a Project Gutenberg text.  \n",
    "    Headers and footers are removed from texts. \n",
    "    \n",
    "    Arguments:\n",
    "    \n",
    "    text: name of file\n",
    "    encode: text encoding used in file. Default is UTF-8\n",
    "\n",
    "    \"\"\"\n",
    "    \n",
    "    opened_text = open(text, 'r', encoding = encode)\n",
    "    cleaned_text = []\n",
    "    flag = False\n",
    "    start = \"*** START OF\"\n",
    "    end = \"*** END OF\"\n",
    "\n",
    "    # some PG texts don't use spaces to designate start/end of text\n",
    "    alt_start = \"***START OF\"\n",
    "    alt_end = \"***END OF\"\n",
    "    \n",
    "    for line in opened_text:\n",
    "        \n",
    "        # start reading in lines after boilerplate\n",
    "        if ((start in line) or (alt_start in line)) and flag == False:\n",
    "            flag = True\n",
    "        \n",
    "        # return word list once boilerplate has been reached\n",
    "        elif ((end in line) or (alt_end in line)) and flag == True:\n",
    "            return cleaned_text\n",
    "        elif flag == True:\n",
    "                \n",
    "                for word in line.split():\n",
    "                    word = word.strip().lower()\n",
    "                    cleaned_text.append(word)\n",
    "                \n",
    "        else:\n",
    "            pass\n",
    "    \n",
    "    return cleaned_text"
   ]
  },
  {
   "cell_type": "code",
   "execution_count": 234,
   "metadata": {},
   "outputs": [],
   "source": [
    "raw = clean_pg_text('hungarian.txt')"
   ]
  },
  {
   "cell_type": "markdown",
   "metadata": {},
   "source": [
    "*When we visually inspect the beginning of the text, we can see that the first line is in English.  Let's remove that so it doesn't interfere with our analysis:*"
   ]
  },
  {
   "cell_type": "code",
   "execution_count": 235,
   "metadata": {},
   "outputs": [
    {
     "name": "stdout",
     "output_type": "stream",
     "text": [
      "['produced', 'by', 'albert', 'lászló', 'from', 'page', 'images', 'generously', 'made', 'available', 'by', 'the', 'google', 'books', 'library', 'project', 'jókai', 'mór', 'összes', 'művei', 'nemzeti', 'kiadás', 'xlvi.', 'kötet', 'az', 'arany', 'ember.', 'ii.', 'budapest', 'révai', 'testvérek', 'kiadása', '1896', 'az', 'arany', 'ember', 'regény', 'irta', 'jókai', 'mór', 'ii.', 'rész', 'pfeifer', 'ferdinánd', 'tulajdona', 'budapest', 'révai', 'testvérek', 'kiadása', '1896', 'a', 'világon', 'kivül.', 'a', 'leány', 'még', 'azután', 'is', 'ott', 'maradt', 'a', 'férfi', 'kebléhez', 'tapadva,', 'mikor', 'már', 'az', 'eltávozott,', 'a', 'kitől', 'őt', 'öntestével', 'védnie', 'kellett.', 'miért', 'tette', 'azt,', 'hogy', 'keblére', 'vesse', 'magát?', 'hogy', 'azt', 'mondja:', '«én', 'szeretem', 'őt?»', 'el', 'akarta', 'ezzel', 'űzni', 'végképen', 'azt', 'az', 'embert,', 'kinek', 'jelenlététől', 'iszonyodott?', 'lehetetlenné', 'akarta']\n"
     ]
    }
   ],
   "source": [
    "print(raw[:100])"
   ]
  },
  {
   "cell_type": "markdown",
   "metadata": {},
   "source": [
    "*I checked the end as well, and it appears there's some sort of index there.  That will also interfere with our analysis, so let's eliminate that as well:*"
   ]
  },
  {
   "cell_type": "code",
   "execution_count": 236,
   "metadata": {},
   "outputs": [
    {
     "name": "stdout",
     "output_type": "stream",
     "text": [
      "['létezéséről', 'pedig', 'frivaldszky', 'imre', 'nagynevű', 'természettudósunk', 'által', 'értesültem', 's', 'az', 'a', 'hatvanas', 'években', 'még', 'a', 'maga', 'kivételes', 'állapotában', 'megvolt,', 'mint', 'egy', 'se', 'magyar-,', 'se', 'törökországhoz', 'nem', 'tartozó', 'új', 'alkotású', 'terület.', 'ennyit', 'jónak', 'láttam', 'elmondani.', '_dr.', 'jókai', 'mór._', 'tartalom.', 'második', 'kötet.', 'a', 'világon', 'kivül', '1', 'tropicus', 'capricorni', '8', 'az', 'édes', 'otthon', '30', 'a', 'családi', 'ékszer', '35', 'egy', 'uj', 'vendég', '50', 'a', 'faragó', 'ember', '72', 'noémi', '79', 'melancholia', '97', 'teréza', '120', 'a', 'kettétört', 'kard', '134', 'az', 'első', 'veszteség', '157', 'a', 'jég', '167', 'a', 'rém', '183', 'mit', 'beszél', 'a', 'hold?', '–', 'mit', 'beszél', 'a', 'jég?', '211', 'ki', 'jön?', '217', 'a', 'hulla', '221', 'zófi', 'asszony', '224', 'dódi', 'levele', '230', 'te', 'ügyetlen!', '235', 'athalia', '216', 'az', 'utolsó', 'tőrdöfés', '264', 'a', 'mária-nostrai', 'nő', '270', 'a', '«senki»', '271', 'utóhangok', '279', 'franklin-társulat', 'nyomdája.', \"[transcriber's\", 'note:', 'javítások.', 'az', 'eredeti', 'szöveg', 'helyesírásán', 'nem', 'változtattunk.', 'a', 'nyomdai', 'hibákat', 'javítottuk.', 'ezek', 'listája:', '47', '|fog', 'mindent,', '|fog', 'mindent.', '122', '|közül', 'kimelkedő', '|közül', 'kiemelkedő', '126', '|ez', 'ídő', 'óta', '|ez', 'idő', 'óta', '182', '|sőt', 'itt', 'ott-', '|sőt', 'itt-ott', '189', '|magyarországba.', '|magyarországba.»', '189', '|basát?', 'mordult', '|basát?»', 'mordult', '192', '|keretezve…', '|keretezve…»', '193', '|numerusa', 'sincs.', '|numerusa', 'sincs.»', '224', '|susánna…', '|susánna…»', '256', '|mákhéjakból.', '|mákhéjakból.»]', 'end', 'of', 'the', 'project', 'gutenberg', 'ebook', 'of', 'az', 'arany', 'ember', '(2.', 'rész),', 'by', 'mór', 'jókai']\n"
     ]
    }
   ],
   "source": [
    "print(raw[-200:])"
   ]
  },
  {
   "cell_type": "code",
   "execution_count": 237,
   "metadata": {},
   "outputs": [
    {
     "data": {
      "text/plain": [
       "73955"
      ]
     },
     "execution_count": 237,
     "metadata": {},
     "output_type": "execute_result"
    }
   ],
   "source": [
    "raw = raw[16:-158]\n",
    "len(raw)"
   ]
  },
  {
   "cell_type": "markdown",
   "metadata": {},
   "source": [
    "*Extracting all the vowels from the words in the text:*"
   ]
  },
  {
   "cell_type": "code",
   "execution_count": 238,
   "metadata": {},
   "outputs": [],
   "source": [
    "hv = []\n",
    "for hw in raw:\n",
    "    hv.append(re.findall(r'([aeiouáéíóöúüőű])', hw))"
   ]
  },
  {
   "cell_type": "markdown",
   "metadata": {},
   "source": [
    "*I know practically nothing about Hungarian, let alone vowel harmony.  However, from the scant research I've done (mostly [this website](http://www.hungarianreference.com/Vowel-Harmony.aspx \"vowel harmony in Hungarian\")), I believe that this phenomenon only affects the final vowels.  So for our analysis, we'll only be looking at the final two vowels.  Therefore, we'll eliminate any word with only one vowel; and we'll eliminate the beginning vowels from words with three or more:*"
   ]
  },
  {
   "cell_type": "code",
   "execution_count": 240,
   "metadata": {},
   "outputs": [],
   "source": [
    "hv_pairs = []\n",
    "\n",
    "for h in hv:\n",
    "    if len(h) == 2:\n",
    "        hv_pairs.append(h[0] + h[1])\n",
    "    elif len(h) > 2:\n",
    "        hv_pairs.append(h[-2] + h[-1])"
   ]
  },
  {
   "cell_type": "code",
   "execution_count": 241,
   "metadata": {},
   "outputs": [
    {
     "data": {
      "text/plain": [
       "43759"
      ]
     },
     "execution_count": 241,
     "metadata": {},
     "output_type": "execute_result"
    }
   ],
   "source": [
    "len(hv_pairs)"
   ]
  },
  {
   "cell_type": "code",
   "execution_count": 242,
   "metadata": {},
   "outputs": [
    {
     "name": "stdout",
     "output_type": "stream",
     "text": [
      "     a    e    i    o    u    á    é    í    ó    ö    ú    ü    ő    ű \n",
      "a 2896  209 1133 1718  181 1215  126   10  424   17   34   10    5    0 \n",
      "e   76 5739 1909   97   23  224 1581   12    9   66    8  438  737   67 \n",
      "i  709 1745  154  548   46  884  234    3   90   13    8   14  167   13 \n",
      "o 2597   39  312  792  126  769   38    9  240    2   89    0    2    3 \n",
      "u  700   23  146  257   15  381    8    4   95    1    0    0    2    0 \n",
      "á 2388   23  441  853  115  392   57    9  360    4   14    5    7    1 \n",
      "é  406 2432  637   28    4   82  293    5    7    8    0  101  244   14 \n",
      "í  108   88   20   75    1   73   25    0   29    0    0   18   19    5 \n",
      "ó  350    7  161   98   17   82   15    1   30    0    0    0    1    1 \n",
      "ö    0  583  174    1    0    5  279    3    0  373    0  100   76   26 \n",
      "ú   94   12   26   27    0   18    0    0   13    2    2    0    5    0 \n",
      "ü    1  244   81    3    0    1   68    0    0  116    0    7   34    4 \n",
      "ő   66  536   78    2    0    4   40    0    0   81    0   34   20    3 \n",
      "ű    2   50    9    0    0    1   19    0    1   23    1    2    1   12 \n"
     ]
    }
   ],
   "source": [
    "cfd = nltk.ConditionalFreqDist(hv_pairs)\n",
    "cfd.tabulate()"
   ]
  },
  {
   "cell_type": "markdown",
   "metadata": {},
   "source": [
    "*Unfortunately, there aren't so many patterns to be seen in this table.  It looks like there's a concentration in the upper-left corner, but that could just be because unaccented vowels are more common.  From what I can tell from the [web page cited earlier](http://www.hungarianreference.com/Vowel-Harmony.aspx \"Vowel Harmony\"), there are two types of vowels in Hungarian: Back vowels (__a__, __á__, __(i)__, __(í)__, __o__, __ó__, __u__, __ú__), and front vowels (__e__, __é__, __(i)__, __(í)__, __ö__, __ő__, __ü__, __ű__).  The vowels __i__ and __í__ are considered intermediate vowels, and don't contribute to vowel harmony.*\n",
    "\n",
    "*What I did next was use the `itertools` package to create a power set of all possible combinations of back vowels.  The combinations are saved as tuples, so I used a list comprehension to convert these to strings.  I removed all the combinations with only i or í, and finally I used `.count()` to look at how many instances of each combination could be found in the original pairs.  I repeated these steps for the front vowels:*"
   ]
  },
  {
   "cell_type": "code",
   "execution_count": 17,
   "metadata": {},
   "outputs": [
    {
     "name": "stdout",
     "output_type": "stream",
     "text": [
      "['oa', 'aa', 'oo', 'iá', 'áu', 'óá', 'uí', 'ái', 'uu', 'áá', 'úá', 'úa', 'oí', 'ai', 'aó', 'aá', 'úo', 'iú', 'óú', 'ía', 'ío', 'uú', 'oú', 'áú', 'ui', 'aú', 'uó', 'íó', 'ói', 'ou', 'íu', 'óí', 'uá', 'úí', 'úu', 'áí', 'íá', 'ia', 'óa', 'oá', 'au', 'aí', 'ua', 'áa', 'uo', 'úú', 'áo', 'ao', 'úi', 'úó', 'io', 'ió', 'oi', 'oó', 'óo', 'íú', 'iu', 'áó', 'óu', 'óó']\n"
     ]
    }
   ],
   "source": [
    "import itertools\n",
    "\n",
    "# back vowels\n",
    "bv = ['a', 'á', 'i', 'í', 'o', 'ó', 'u', 'ú']\n",
    "\n",
    "# create power set\n",
    "bvps = set(list(itertools.product(bv, bv)))\n",
    "\n",
    "# convert items in power set to strings\n",
    "bvpj = [b[0] + b[1] for b in bvps]\n",
    "\n",
    "# Remove combinations with only i or í\n",
    "tbd = ['ií', 'íi', 'ii', 'íí']\n",
    "for i in tbd:\n",
    "    bvpj.remove(i)\n",
    "    \n",
    "print(bvpj)"
   ]
  },
  {
   "cell_type": "code",
   "execution_count": 244,
   "metadata": {},
   "outputs": [
    {
     "data": {
      "text/plain": [
       "22205"
      ]
     },
     "execution_count": 244,
     "metadata": {},
     "output_type": "execute_result"
    }
   ],
   "source": [
    "# sum all possible combinations\n",
    "back_vowels = 0\n",
    "for i in bvpj:\n",
    "    back_vowels += hv_pairs.count(i)\n",
    "    \n",
    "back_vowels"
   ]
  },
  {
   "cell_type": "code",
   "execution_count": 18,
   "metadata": {},
   "outputs": [
    {
     "name": "stdout",
     "output_type": "stream",
     "text": [
      "['éű', 'üű', 'őő', 'őö', 'űű', 'öe', 'íe', 'éi', 'iü', 'íé', 'űi', 'iű', 'íö', 'eü', 'üi', 'űü', 'őí', 'ei', 'üü', 'éü', 'íő', 'öő', 'öű', 'üé', 'őe', 'űé', 'éé', 'őű', 'ée', 'űö', 'éő', 'eö', 'íü', 'üe', 'eé', 'öí', 'üö', 'ié', 'ee', 'űő', 'eí', 'éö', 'ie', 'üí', 'ői', 'éí', 'öé', 'iő', 'öi', 'öö', 'iö', 'íű', 'űí', 'eő', 'űe', 'eű', 'őé', 'őü', 'üő', 'öü']\n"
     ]
    }
   ],
   "source": [
    "# same procedure with front vowels\n",
    "fv = ['e', 'é', 'i', 'í', 'ö', 'ő', 'ü', 'ű']\n",
    "fvps = set(list(itertools.product(fv, fv)))\n",
    "fvpj = [f[0] + f[1] for f in fvps]\n",
    "\n",
    "tbd = ['ií', 'íi', 'ii', 'íí']\n",
    "\n",
    "for i in tbd:\n",
    "    fvpj.remove(i)\n",
    "    \n",
    "print(fvpj)"
   ]
  },
  {
   "cell_type": "code",
   "execution_count": 246,
   "metadata": {},
   "outputs": [
    {
     "data": {
      "text/plain": [
       "19700"
      ]
     },
     "execution_count": 246,
     "metadata": {},
     "output_type": "execute_result"
    }
   ],
   "source": [
    "front_vowels = 0\n",
    "for i in fvpj:\n",
    "    front_vowels += hv_pairs.count(i)\n",
    "    \n",
    "front_vowels"
   ]
  },
  {
   "cell_type": "markdown",
   "metadata": {},
   "source": [
    "*Again, my knowledge of Hungarian is practically non-existent; but my analysis shows that less than 5% of the words in this novel failed to show vowel harmony.*"
   ]
  },
  {
   "cell_type": "code",
   "execution_count": 247,
   "metadata": {},
   "outputs": [
    {
     "data": {
      "text/plain": [
       "4.236842706643205"
      ]
     },
     "execution_count": 247,
     "metadata": {},
     "output_type": "execute_result"
    }
   ],
   "source": [
    "(len(hv_pairs) - front_vowels - back_vowels)/len(hv_pairs) * 100"
   ]
  },
  {
   "cell_type": "markdown",
   "metadata": {},
   "source": [
    "*I later came back to my original issue and tried to read in the text from a Wikipedia page.  I reluctant to use an entry on a non-Hungarian topic, since the number of non-Hungarian words in the article might affect the analysis.  So I decided to use the entry on Franz Liszt, as he was from Hungary.*"
   ]
  },
  {
   "cell_type": "code",
   "execution_count": 3,
   "metadata": {},
   "outputs": [],
   "source": [
    "url = 'https://hu.wikipedia.org/wiki/Liszt_Ferenc'\n",
    "test = return_URL_contents(url)\n"
   ]
  },
  {
   "cell_type": "code",
   "execution_count": 4,
   "metadata": {},
   "outputs": [
    {
     "data": {
      "text/plain": [
       "'Liszt Ferenc – Wikipédia Liszt Ferenc A Wikipédiából, a szabad enciklopédiából Ez a közzétett változat , ellenőrizve : 2019. október 3. Ugrás a navigációhoz Ugrás a kereséshez Ez a sz'"
      ]
     },
     "execution_count": 4,
     "metadata": {},
     "output_type": "execute_result"
    }
   ],
   "source": [
    "test[:200]"
   ]
  },
  {
   "cell_type": "code",
   "execution_count": 5,
   "metadata": {},
   "outputs": [
    {
     "name": "stdout",
     "output_type": "stream",
     "text": [
      "['Liszt', 'Ferenc', 'Wikipédia', 'Liszt', 'Ferenc', 'A', 'Wikipédiából', 'a', 'szabad', 'enciklopédiából']\n"
     ]
    }
   ],
   "source": [
    "test_words = re.findall(r'\\b[\\S]+\\b', test)\n",
    "print(test_words[:10])\n"
   ]
  },
  {
   "cell_type": "markdown",
   "metadata": {},
   "source": [
    "*The diacritics in the words of articles on Wikipedia are formed by the use of combining characters.  There are only three combining characters we need to deal with for our analysis of Hungarian vowels: the acute accent (`´` - U+0301); the diaresis (`¨` - U+0308); and the double accute accent - or \"Hungarumlaut\" - (`˝` - U+030b).  We're going to use regular expressions to see for only these three combining characters.  While it is of course possible to create regular expressions to find any and all combining characters, these aren't necessary for our analysis, and will actually interfere with it.*\n",
    "\n",
    "*Wikipedia has very useful articles on [combining characters](https://en.wikipedia.org/wiki/Combining_character 'Combining Characters') and [diacritics](https://en.wikipedia.org/wiki/Diacritic 'Diacritics').*\n",
    "\n",
    "*To find these combining characters, we can't use any of the methods shown in the book. Encoding strings with `encode('unicode_escape')` will return a bytes-like object, which can't be parsed by regular expressions:*"
   ]
  },
  {
   "cell_type": "code",
   "execution_count": 6,
   "metadata": {},
   "outputs": [
    {
     "data": {
      "text/plain": [
       "b'Wikipe\\\\u0301dia\\\\u0301bo\\\\u0301l'"
      ]
     },
     "execution_count": 6,
     "metadata": {},
     "output_type": "execute_result"
    }
   ],
   "source": [
    "ue = 'Wikipédiából'.encode('unicode_escape')\n",
    "ue"
   ]
  },
  {
   "cell_type": "markdown",
   "metadata": {},
   "source": [
    "```\n",
    "re.findall(r'([aeiou])(\\\\u0301|\\\\u0308|\\\\u030b)*', ue)\n",
    "\n",
    "---------------------------------------------------------------------------\n",
    "TypeError                                 Traceback (most recent call last)\n",
    "<ipython-input-35-035e1743cc34> in <module>\n",
    "----> 1 re.findall(r'([aeiou])(\\\\u0301|\\\\u0308|\\\\u030b)*', ue)\n",
    "\n",
    "~\\AppData\\Local\\Continuum\\anaconda3\\lib\\re.py in findall(pattern, string, flags)\n",
    "    221 \n",
    "    222     Empty matches are included in the result.\"\"\"\n",
    "--> 223     return _compile(pattern, flags).findall(string)\n",
    "    224 \n",
    "    225 def finditer(pattern, string, flags=0):\n",
    "\n",
    "TypeError: cannot use a string pattern on a bytes-like object\n",
    "```"
   ]
  },
  {
   "cell_type": "markdown",
   "metadata": {},
   "source": [
    "*The best workaround that I found was to use `ascii` to get the code point integer for non-ascii characters returned as a string:*"
   ]
  },
  {
   "cell_type": "code",
   "execution_count": 7,
   "metadata": {},
   "outputs": [],
   "source": [
    "test_hv = []\n",
    "for hw in test_words:\n",
    "    test_hv.append(re.findall(r'([aeiou])(\\\\u0301|\\\\u0308|\\\\u030b)*', ascii(hw)))\n",
    "    "
   ]
  },
  {
   "cell_type": "code",
   "execution_count": 8,
   "metadata": {},
   "outputs": [
    {
     "name": "stdout",
     "output_type": "stream",
     "text": [
      "[[('i', '')], [('e', ''), ('e', '')], [('i', ''), ('i', ''), ('e', '\\\\u0301'), ('i', ''), ('a', '')], [('i', '')], [('e', ''), ('e', '')], [], [('i', ''), ('i', ''), ('e', '\\\\u0301'), ('i', ''), ('a', '\\\\u0301'), ('o', '\\\\u0301')], [('a', '')], [('a', ''), ('a', '')], [('e', ''), ('i', ''), ('o', ''), ('e', '\\\\u0301'), ('i', ''), ('a', '\\\\u0301'), ('o', '\\\\u0301')]]\n"
     ]
    }
   ],
   "source": [
    "print(test_hv[:10])"
   ]
  },
  {
   "cell_type": "markdown",
   "metadata": {},
   "source": [
    "*The regular expression above returns a list for each word with a tuple for each vowel.  If the vowel is unaccented, the second string is an empty string.  The following loop ignores words with only one vowel; concatenates the vowels in words with two vowels; and concatenates the last two vowels from words with more than two vowels:*"
   ]
  },
  {
   "cell_type": "code",
   "execution_count": 9,
   "metadata": {},
   "outputs": [],
   "source": [
    "test_hvc = []\n",
    "for l in test_hv:\n",
    "    if len(l) == 2:\n",
    "        test_hvc.append(l[0][0] + l[0][1] + l[1][0] + l[1][1])\n",
    "    elif len(l) > 2:\n",
    "        test_hvc.append(l[-2][0] + l[-2][1] + l[-1][0] + l[-1][1])\n",
    "        "
   ]
  },
  {
   "cell_type": "markdown",
   "metadata": {},
   "source": [
    "*Currently, accented vowels still have their Unicode escape strings attached to them:*"
   ]
  },
  {
   "cell_type": "code",
   "execution_count": 10,
   "metadata": {},
   "outputs": [
    {
     "name": "stdout",
     "output_type": "stream",
     "text": [
      "['ee', 'ia', 'ee', 'a\\\\u0301o\\\\u0301', 'aa', 'a\\\\u0301o\\\\u0301', 'e\\\\u0301e', 'oa', 'ie', 'o\\\\u0301e']\n"
     ]
    }
   ],
   "source": [
    "print(test_hvc[:10])"
   ]
  },
  {
   "cell_type": "markdown",
   "metadata": {},
   "source": [
    "*While it's possible to use `re.sub` to substitute escape strings on individual strings, this doesn't work on strings inside lists:*"
   ]
  },
  {
   "cell_type": "code",
   "execution_count": 11,
   "metadata": {},
   "outputs": [
    {
     "data": {
      "text/plain": [
       "'áo'"
      ]
     },
     "execution_count": 11,
     "metadata": {},
     "output_type": "execute_result"
    }
   ],
   "source": [
    "re.sub(r'a\\\\u0301', 'á', 'a\\\\u0301o')"
   ]
  },
  {
   "cell_type": "code",
   "execution_count": 12,
   "metadata": {},
   "outputs": [
    {
     "name": "stdout",
     "output_type": "stream",
     "text": [
      "['ee', 'ia', 'ee', 'a\\\\u0301o\\\\u0301', 'aa', 'a\\\\u0301o\\\\u0301', 'e\\\\u0301e', 'oa', 'ie', 'o\\\\u0301e']\n"
     ]
    }
   ],
   "source": [
    "for th in test_hvc[:10]:\n",
    "    re.sub(r'a\\\\u0301', 'á', th)\n",
    "    \n",
    "print(test_hvc[:10])"
   ]
  },
  {
   "cell_type": "markdown",
   "metadata": {},
   "source": [
    "*The only way to deal with this is to make a new list with the substituted values.  In our case, we'll have to make nine substitutions, so that would mean nine new lists.  Instead of having nine near-identical lists floating about, I decided to just use the name of the old list, and re-assigned the new list to it.*\n",
    "\n",
    "*To avoid repeating this step nine times, I created a simple function that will simply use a given `re.sub()` command to generate an updated list.*"
   ]
  },
  {
   "cell_type": "code",
   "execution_count": 13,
   "metadata": {},
   "outputs": [],
   "source": [
    "def generate_new_list(l, org, sub):\n",
    "    \"\"\"\n",
    "    Uses re.sub to generate a new list.\n",
    "    \n",
    "    Arguments:\n",
    "    l:   list with strings to be replaced\n",
    "    org: regular expression to be replaced  \n",
    "    sub: replacement regular expression\n",
    "    \"\"\"\n",
    "    new_list = []\n",
    "    \n",
    "    for i in l:\n",
    "        new_list.append(re.sub(org, sub, i))\n",
    "        \n",
    "    return new_list"
   ]
  },
  {
   "cell_type": "markdown",
   "metadata": {},
   "source": [
    "*To avoid writing out all of the regular expressions to be matched, I tried to automate the process as much as possible by using a pair of `for`-loops.  The loops make one pass for each vowel and diacritic combination - i.e., 15 passes.  However, there are only nine vowels with diacritics in Hungarian.  To keep the loops aligned, I added empty spaces to the strings `diaresis` and `double_acute`:*"
   ]
  },
  {
   "cell_type": "code",
   "execution_count": 14,
   "metadata": {},
   "outputs": [],
   "source": [
    "vowels = 'aeiou'\n",
    "uc = ['\\\\u0301', '\\\\u0308', '\\\\u030b']\n",
    "acute = 'áéíóú'\n",
    "\n",
    "# empty spaces are there for alignment\n",
    "diaresis = '   öü'\n",
    "double_acute = '   őű'\n",
    "diacritics = [acute, diaresis, double_acute]\n",
    "\n",
    "for i in range(len(vowels)):\n",
    "    for j in range(len(uc)):\n",
    "        test_hvc = generate_new_list(test_hvc, r'' + re.escape(vowels[i] + uc[j]) + '', diacritics[j][i])   "
   ]
  },
  {
   "cell_type": "code",
   "execution_count": 15,
   "metadata": {},
   "outputs": [
    {
     "name": "stdout",
     "output_type": "stream",
     "text": [
      "          a    e    i    o    u    á    é    í    ó    ö    ú    ü    ő    ű \n",
      "     0    0   26    1    0    0    0    0    0    0    0    0    0    0    0 \n",
      "a    3  488  163  324  510   83  163   22    4   17    2    2    0    1    0 \n",
      "e    0   75 1186  366  179   49   25  213    2    0   10    1   46   65    9 \n",
      "i    0  291  370   94   90  155   85   31    0   19    0    0    1   18    0 \n",
      "o    0  413  115  123  147   38  125    7    0   14    1    1    0    1    0 \n",
      "u    0  133  188   37   43   60  147    5    0   18    1    0    0    0    0 \n",
      "á    0  593    5  117  237   57   97    7    4   50    1    0    0    0    0 \n",
      "é    0   21  588   62   21   10   15   88    0    1    0    0   28   48    0 \n",
      "í    0   24   35    5   21   25   24    9    0    2    0    0    7    1    1 \n",
      "ó    0   85   35    8   31    1   17    1    0    0    0    0    0    0    0 \n",
      "ö    0    4   72   18    7    0    5   20    0    0   70    3   14    0    0 \n",
      "ú    0   32    0    1    5    0    6    1    0    0    0    0    0    0    0 \n",
      "ü    0    0   14   15   17    1    1    4    0    0    5    1    3    4    0 \n",
      "ő    0    2   73   16    4    0    0   19    0    0   19    0    1    5    0 \n",
      "ű    0    1   27    1    0    0    0   27    0    0    3    0    0    0    0 \n"
     ]
    }
   ],
   "source": [
    "cfd = nltk.ConditionalFreqDist(test_hvc)\n",
    "cfd.tabulate()"
   ]
  },
  {
   "cell_type": "markdown",
   "metadata": {},
   "source": [
    "*As I did with \"Az arany ember (2. rész)\" above, I'll calculate of the number of front-/back-vowel pairs versus all vowel pairs:*"
   ]
  },
  {
   "cell_type": "code",
   "execution_count": 19,
   "metadata": {},
   "outputs": [
    {
     "data": {
      "text/plain": [
       "4967"
      ]
     },
     "execution_count": 19,
     "metadata": {},
     "output_type": "execute_result"
    }
   ],
   "source": [
    "# sum all possible combinations\n",
    "back_vowels = 0\n",
    "for i in bvpj:\n",
    "    back_vowels += test_hvc.count(i)\n",
    "    \n",
    "back_vowels"
   ]
  },
  {
   "cell_type": "code",
   "execution_count": 20,
   "metadata": {},
   "outputs": [
    {
     "data": {
      "text/plain": [
       "3614"
      ]
     },
     "execution_count": 20,
     "metadata": {},
     "output_type": "execute_result"
    }
   ],
   "source": [
    "front_vowels = 0\n",
    "for i in fvpj:\n",
    "    front_vowels += test_hvc.count(i)\n",
    "    \n",
    "front_vowels"
   ]
  },
  {
   "cell_type": "markdown",
   "metadata": {},
   "source": [
    "*Here, the percentage of vowel pairs that failed to show vowel harmony is higher than in the first experiment, but still quite low overall.*"
   ]
  },
  {
   "cell_type": "code",
   "execution_count": 22,
   "metadata": {},
   "outputs": [
    {
     "data": {
      "text/plain": [
       "11.618086311669584"
      ]
     },
     "execution_count": 22,
     "metadata": {},
     "output_type": "execute_result"
    }
   ],
   "source": [
    "(len(test_hvc) - front_vowels - back_vowels)/len(test_hvc) * 100"
   ]
  },
  {
   "cell_type": "markdown",
   "metadata": {},
   "source": [
    "*Since Wikipedia articles might not be entirely representative of a Hungarian text, I repeated the experiment with an article from a Hungarian news site:*"
   ]
  },
  {
   "cell_type": "code",
   "execution_count": 46,
   "metadata": {},
   "outputs": [],
   "source": [
    "url = 'https://index.hu/belfold/2019/10/18/orban_viktor_bolcsek_tanacsa_neppart_masodik_talalkozas/'\n",
    "testH = return_URL_contents(url)\n"
   ]
  },
  {
   "cell_type": "code",
   "execution_count": 47,
   "metadata": {},
   "outputs": [
    {
     "data": {
      "text/plain": [
       "'Index - Belföld - Orbán Viktor újra találkozott a Néppárt bölcseivel Keresés Blog.hu Fórum Indafotó Indavideó Indamail Blog.hu Címlap Totalcar JóAutók Dívány Femina Inda Otthontérkép'"
      ]
     },
     "execution_count": 47,
     "metadata": {},
     "output_type": "execute_result"
    }
   ],
   "source": [
    "testH[:200]"
   ]
  },
  {
   "cell_type": "code",
   "execution_count": 61,
   "metadata": {},
   "outputs": [
    {
     "name": "stdout",
     "output_type": "stream",
     "text": [
      "['Index', 'Belföld', 'Orbán', 'Viktor', 'újra', 'találkozott', 'a', 'Néppárt', 'bölcseivel', 'Keresés']\n"
     ]
    }
   ],
   "source": [
    "testH_words = re.findall(r'\\b[\\S]+\\b', testH)\n",
    "print(testH_words[:10])\n"
   ]
  },
  {
   "cell_type": "code",
   "execution_count": 62,
   "metadata": {},
   "outputs": [],
   "source": [
    "testH_hv = []\n",
    "for hw in testH_words:\n",
    "    testH_hv.append(re.findall(r'([aeiou])(\\\\u0301|\\\\u0308|\\\\u030b)*', ascii(hw)))\n",
    "    "
   ]
  },
  {
   "cell_type": "code",
   "execution_count": 63,
   "metadata": {},
   "outputs": [
    {
     "name": "stdout",
     "output_type": "stream",
     "text": [
      "[[('e', '')], [('e', ''), ('o', '\\\\u0308')], [('a', '\\\\u0301')], [('i', ''), ('o', '')], [('u', '\\\\u0301'), ('a', '')], [('a', ''), ('a', '\\\\u0301'), ('o', ''), ('o', '')], [('a', '')], [('e', '\\\\u0301'), ('a', '\\\\u0301')], [('o', '\\\\u0308'), ('e', ''), ('i', ''), ('e', '')], [('e', ''), ('e', ''), ('e', '\\\\u0301')]]\n"
     ]
    }
   ],
   "source": [
    "print(testH_hv[:10])"
   ]
  },
  {
   "cell_type": "code",
   "execution_count": 64,
   "metadata": {},
   "outputs": [],
   "source": [
    "testH_hvc = []\n",
    "for l in testH_hv:\n",
    "    if len(l) == 2:\n",
    "        testH_hvc.append(l[0][0] + l[0][1] + l[1][0] + l[1][1])\n",
    "    elif len(l) > 2:\n",
    "        testH_hvc.append(l[-2][0] + l[-2][1] + l[-1][0] + l[-1][1])\n",
    "        "
   ]
  },
  {
   "cell_type": "code",
   "execution_count": 65,
   "metadata": {},
   "outputs": [
    {
     "name": "stdout",
     "output_type": "stream",
     "text": [
      "['eo\\\\u0308', 'io', 'u\\\\u0301a', 'oo', 'e\\\\u0301a\\\\u0301', 'ie', 'ee\\\\u0301', 'ou', 'o\\\\u0301u', 'oo']\n"
     ]
    }
   ],
   "source": [
    "print(testH_hvc[:10])"
   ]
  },
  {
   "cell_type": "code",
   "execution_count": 66,
   "metadata": {},
   "outputs": [],
   "source": [
    "vowels = 'aeiou'\n",
    "uc = ['\\\\u0301', '\\\\u0308', '\\\\u030b']\n",
    "acute = 'áéíóú'\n",
    "\n",
    "# empty spaces are there for alignment\n",
    "diaresis = '   öü'\n",
    "double_acute = '   őű'\n",
    "diacritics = [acute, diaresis, double_acute]\n",
    "\n",
    "for i in range(len(vowels)):\n",
    "    for j in range(len(uc)):\n",
    "        testH_hvc = generate_new_list(testH_hvc, r'' + re.escape(vowels[i] + uc[j]) + '', diacritics[j][i])   "
   ]
  },
  {
   "cell_type": "code",
   "execution_count": 67,
   "metadata": {},
   "outputs": [
    {
     "name": "stdout",
     "output_type": "stream",
     "text": [
      "   a  e  i  o  u  á  é  í  ó  ö  ü  ő \n",
      "a 14  4 13  7  1  8  1  0  0  0  0  0 \n",
      "e  3 34 17  7  4  2  5  0  0  7  0  2 \n",
      "i 12 34  1 12  2  4  0  0  3  0  1  0 \n",
      "o 13  3  1 16  3 19  0  0  1  0  0  0 \n",
      "u  8  1  1  1  0  3  0  1  2  0  0  0 \n",
      "á 21  3  7  8  1  5  0  0  2  0  0  0 \n",
      "é  2 10  2  0  0 10  4  0  1  0  1  0 \n",
      "í  6  0  2  1  0  3  1  0  0  0  0  0 \n",
      "ó  2  2  1  1  2  2  1  0  0  0  0  0 \n",
      "ö  0  8  1  0  0  0  3  0  0  1  0  1 \n",
      "ú  2  1  0  1  0  0  0  0  0  0  0  0 \n",
      "ü  0  5  2  0  0  0  1  0  0  1  0  0 \n",
      "ő  0  5  2  1  0  0  1  0  0  1  0  0 \n"
     ]
    }
   ],
   "source": [
    "cfd = nltk.ConditionalFreqDist(testH_hvc)\n",
    "cfd.tabulate()"
   ]
  },
  {
   "cell_type": "code",
   "execution_count": 72,
   "metadata": {},
   "outputs": [
    {
     "data": {
      "text/plain": [
       "210"
      ]
     },
     "execution_count": 72,
     "metadata": {},
     "output_type": "execute_result"
    }
   ],
   "source": [
    "# sum all possible combinations\n",
    "back_vowels = 0\n",
    "for i in bvpj:\n",
    "    back_vowels += testH_hvc.count(i)\n",
    "    \n",
    "back_vowels"
   ]
  },
  {
   "cell_type": "code",
   "execution_count": 73,
   "metadata": {},
   "outputs": [
    {
     "data": {
      "text/plain": [
       "150"
      ]
     },
     "execution_count": 73,
     "metadata": {},
     "output_type": "execute_result"
    }
   ],
   "source": [
    "front_vowels = 0\n",
    "for i in fvpj:\n",
    "    front_vowels += testH_hvc.count(i)\n",
    "    \n",
    "front_vowels"
   ]
  },
  {
   "cell_type": "markdown",
   "metadata": {},
   "source": [
    "*The percentage of vowel pairs here is closer to that of the Wikipedia page.  Perhaps it's the novel that's the outlier?*"
   ]
  },
  {
   "cell_type": "code",
   "execution_count": 74,
   "metadata": {},
   "outputs": [
    {
     "data": {
      "text/plain": [
       "11.98044009779951"
      ]
     },
     "execution_count": 74,
     "metadata": {},
     "output_type": "execute_result"
    }
   ],
   "source": [
    "(len(testH_hvc) - front_vowels - back_vowels)/len(testH_hvc) * 100"
   ]
  },
  {
   "cell_type": "markdown",
   "metadata": {},
   "source": [
    "##### 27. \n",
    "\n",
    "◑ Python's `random` module includes a function `choice()` which randomly chooses an item from a sequence, e.g. `choice(\"aehh \")` will produce one of four possible characters, with the letter `h` being twice as frequent as the others. Write a generator expression that produces a sequence of 500 randomly chosen letters drawn from the string `\"aehh \"`, and put this expression inside a call to the `''.join()` function, to concatenate them into one long string. You should get a result that looks like uncontrolled sneezing or maniacal laughter: `he  haha ee  heheeh eha`. Use `split()` and `join()` again to normalize the whitespace in this string."
   ]
  },
  {
   "cell_type": "code",
   "execution_count": 35,
   "metadata": {},
   "outputs": [
    {
     "data": {
      "text/plain": [
       "'hehhhh aheeh aehhh ehaehhea ae  hhah ae aahhe a ahahaheahhaa  hheh e hhe h  ha  h hhh hehh h ae heaha hheahh  ahaha a e eaehehha e   heaeh   ahh  hhe hhh eee a eh hhh h eh hea ehhaahhaahhh hhahaahahhhhhaa e h  hehae  eeehahhhheeehaheheha a a  hahaahaaehahhhaeahe eaheh aheeehhe eah hhhhhe  hh aaea hhhheaahehhh ahe eaeeheaaaeahhhe ah h hhhe  heaeahh a h haheahhhaeeaaa h hhhaa heh ehhhhheehahaee eha h hehhh ahhhahahehahhh  a  haehh ahhhha hahehh ea h   hh hhhheehhh aaeahheehhhahehehahh eheaahheaehe'"
      ]
     },
     "execution_count": 35,
     "metadata": {},
     "output_type": "execute_result"
    }
   ],
   "source": [
    "import random\n",
    "\n",
    "new_list = []\n",
    "\n",
    "for i in range(500):\n",
    "    new_list.append(random.choice(\"aehh \"))\n",
    "    \n",
    "string = ''.join(new_list)\n",
    "string"
   ]
  },
  {
   "cell_type": "code",
   "execution_count": 41,
   "metadata": {},
   "outputs": [
    {
     "name": "stdout",
     "output_type": "stream",
     "text": [
      "hehhhh aheeh aehhh ehaehhea ae hhah ae aahhe a ahahaheahhaa hheh e hhe h ha h hhh hehh h ae heaha hheahh ahaha a e eaehehha e heaeh ahh hhe hhh eee a eh hhh h eh hea ehhaahhaahhh hhahaahahhhhhaa e h hehae eeehahhhheeehaheheha a a hahaahaaehahhhaeahe eaheh aheeehhe eah hhhhhe hh aaea hhhheaahehhh ahe eaeeheaaaeahhhe ah h hhhe heaeahh a h haheahhhaeeaaa h hhhaa heh ehhhhheehahaee eha h hehhh ahhhahahehahhh a haehh ahhhha hahehh ea h hh hhhheehhh aaeahheehhhahehehahh eheaahheaehe\n"
     ]
    }
   ],
   "source": [
    "print(' '.join(string.split()))"
   ]
  },
  {
   "cell_type": "markdown",
   "metadata": {},
   "source": [
    "##### 28. \n",
    "\n",
    "◑ Consider the numeric expressions in the following sentence from the MedLine Corpus: *The corresponding free cortisol fractions in these sera were 4.53 +/- 0.15% and 8.16 +/- 0.23%, respectively*. Should we say that the numeric expression *4.53 +/- 0.15%* is three words? Or should we say that it's a single compound word? Or should we say that it is actually *nine* words, since it's read \"four point five three, plus or minus zero point fifteen percent\"? Or should we say that it's not a \"real\" word at all, since it wouldn't appear in any dictionary? Discuss these different possibilities. Can you think of application domains that motivate at least two of these answers?\n",
    "\n",
    "*__If we were doing lexical analysis (e.g., word frequency), I would say the expression should count as zero words: the number of occurences of a numerical expression such as 4.53 would most likely be irrelevant, since, unlike words, these numerical expressions are not selected by the author. Numerical expressions can also become quite long, which would skew measures such as average word length, etc...  But this would present an inconsistency: why should written numbers (e.g., 'four') be counted as words if the numerical forms (i.e., '4') are not?  As a compromise, I would suggest tallying each numerical expression as one word.__*\n",
    "\n",
    "*__However, if we were dealing with something like a text-to-speech system, then I would say that each digit counts as a single word, since synthesizing a digit involves the same procedure as synthesizing a word.__*"
   ]
  },
  {
   "cell_type": "markdown",
   "metadata": {},
   "source": [
    "##### 29.\n",
    "\n",
    "◑ Readability measures are used to score the reading difficulty of a text, for the purposes of selecting texts of appropriate difficulty for language learners. Let us define $μ_w$ to be the average number of letters per word, and $μ_s$ to be the average number of words per sentence, in a given text. The Automated Readability Index (ARI) of the text is defined to be: $4.71 μ_w + 0.5 μ_s - 21.43$. Compute the ARI score for various sections of the Brown Corpus, including section `f` (lore) and `j` (learned). Make use of the fact that `nltk.corpus.brown.words()` produces a sequence of words, while `nltk.corpus.brown.sents()` produces a sequence of sentences."
   ]
  },
  {
   "cell_type": "code",
   "execution_count": 57,
   "metadata": {},
   "outputs": [],
   "source": [
    "from nltk.corpus import brown\n",
    "\n",
    "def get_brown_ari(cat):\n",
    "    \"\"\"\n",
    "    Returns the Automated Readability Index (ARI) of a given\n",
    "    category of the Brown Corpus.\n",
    "    \"\"\"\n",
    "    \n",
    "    # calculate total letters in the category\n",
    "    total_letters = 0\n",
    "    for w in brown.words(categories = cat):\n",
    "        total_letters += len(w)\n",
    "    \n",
    "    # calculate average number of letters per word\n",
    "    mu_w = total_letters/len(brown.words(categories = cat))\n",
    "    \n",
    "    # calculate average number of words per sentence\n",
    "    mu_s = len(brown.words(categories = cat)) / len(brown.sents(categories = cat))\n",
    "    \n",
    "    return (4.71 * mu_w) + (0.5 * mu_s) - 21.43"
   ]
  },
  {
   "cell_type": "markdown",
   "metadata": {},
   "source": [
    "*To make the category names look neater when I'm printing them, I used `re.sub()` to get rid of the underscore in 'belle_lettres', and `.title()` to print all the words in the titles in uppercase.*"
   ]
  },
  {
   "cell_type": "code",
   "execution_count": 75,
   "metadata": {},
   "outputs": [
    {
     "name": "stdout",
     "output_type": "stream",
     "text": [
      "In the Brown Corpus, the Automated Readability Index (ARI) for the category:\n",
      "\n",
      "                                             ...\"Adventure\" is 4.0842.\n",
      "                                             ...\"Belles Lettres\" is 10.9877.\n",
      "                                             ...\"Editorial\" is 9.4710.\n",
      "                                             ...\"Fiction\" is 4.9105.\n",
      "                                             ...\"Government\" is 12.0843.\n",
      "                                             ...\"Hobbies\" is 8.9224.\n",
      "                                             ...\"Humor\" is 7.8878.\n",
      "                                             ...\"Learned\" is 11.9260.\n",
      "                                             ...\"Lore\" is 10.2548.\n",
      "                                             ...\"Mystery\" is 3.8336.\n",
      "                                             ...\"News\" is 10.1767.\n",
      "                                             ...\"Religion\" is 10.2031.\n",
      "                                             ...\"Reviews\" is 10.7697.\n",
      "                                             ...\"Romance\" is 4.3492.\n",
      "                                             ...\"Science Fiction\" is 4.9781.\n"
     ]
    }
   ],
   "source": [
    "print(\"In the Brown Corpus, the Automated Readability Index (ARI) for the category:\\n\")\n",
    "\n",
    "for c in brown.categories():\n",
    "    ari = get_brown_ari(c)\n",
    "    c = re.sub('_', ' ', c)\n",
    "    print(\"{:45}...\\\"{}\\\" is {:.4f}.\".format(\"\",c.title(), ari) )"
   ]
  },
  {
   "cell_type": "markdown",
   "metadata": {},
   "source": [
    "##### 30. \n",
    "\n",
    "◑ Use the Porter Stemmer to normalize some tokenized text, calling the stemmer on each word. Do the same thing with the Lancaster Stemmer and see if you observe any differences.\n",
    "\n",
    "*For a text I'm going to use the Wikipedia entry on Martin Porter, the creator of the Porter Stemmer:*"
   ]
  },
  {
   "cell_type": "code",
   "execution_count": 84,
   "metadata": {},
   "outputs": [
    {
     "name": "stdout",
     "output_type": "stream",
     "text": [
      "Martin Porter - Wikipedia Martin Porter From Wikipedia, the free encyclopedia Jump to navigation Jump to search For the musician, see Martin Porter (musician) . Martin F. Porter is the inventor of the Porter Stemmer , [1] one of the most common algor\n"
     ]
    }
   ],
   "source": [
    "url = 'https://en.wikipedia.org/wiki/Martin_Porter'\n",
    "\n",
    "to_be_stemmed = return_URL_contents(url)\n",
    "print(to_be_stemmed[:250])"
   ]
  },
  {
   "cell_type": "code",
   "execution_count": 92,
   "metadata": {},
   "outputs": [
    {
     "name": "stdout",
     "output_type": "stream",
     "text": [
      "['Martin', 'Porter', '-', 'Wikipedia', 'Martin', 'Porter', 'From', 'Wikipedia', ',', 'the', 'free', 'encyclopedia', 'Jump', 'to', 'navigation', 'Jump', 'to', 'search', 'For', 'the', 'musician', ',', 'see', 'Martin', 'Porter', '(', 'musician', ')', '.', 'Martin', 'F.', 'Porter', 'is', 'the', 'inventor', 'of', 'the', 'Porter', 'Stemmer', ',', '[', '1', ']', 'one', 'of', 'the', 'most', 'common', 'algorithms', 'for', 'stemming', 'English', ',', '[', '2', ']', '[', '3', ']', 'and', 'the', 'Snowball', 'programming', 'framework', '.', 'His', '1980', 'paper', '``', 'An', 'algorithm', 'for', 'suffix', 'stripping', \"''\", ',', 'proposing', 'the', 'stemming', 'algorithm', ',', 'has', 'been', 'cited', 'over', '8000', 'times', '(', 'Google', 'Scholar', ')', '.', '[', '4', ']', 'The', 'Muscat', 'search', 'engine', 'comes']\n"
     ]
    }
   ],
   "source": [
    "tokens = word_tokenize(to_be_stemmed)\n",
    "print(tokens[:100])"
   ]
  },
  {
   "cell_type": "code",
   "execution_count": 91,
   "metadata": {},
   "outputs": [
    {
     "name": "stdout",
     "output_type": "stream",
     "text": [
      "['martin', 'porter', '-', 'wikipedia', 'martin', 'porter', 'from', 'wikipedia', ',', 'the', 'free', 'encyclopedia', 'jump', 'to', 'navig', 'jump', 'to', 'search', 'for', 'the', 'musician', ',', 'see', 'martin', 'porter', '(', 'musician', ')', '.', 'martin', 'F.', 'porter', 'is', 'the', 'inventor', 'of', 'the', 'porter', 'stemmer', ',', '[', '1', ']', 'one', 'of', 'the', 'most', 'common', 'algorithm', 'for', 'stem', 'english', ',', '[', '2', ']', '[', '3', ']', 'and', 'the', 'snowbal', 'program', 'framework', '.', 'hi', '1980', 'paper', '``', 'An', 'algorithm', 'for', 'suffix', 'strip', \"''\", ',', 'propos', 'the', 'stem', 'algorithm', ',', 'ha', 'been', 'cite', 'over', '8000', 'time', '(', 'googl', 'scholar', ')', '.', '[', '4', ']', 'the', 'muscat', 'search', 'engin', 'come']\n"
     ]
    }
   ],
   "source": [
    "porter = nltk.PorterStemmer()\n",
    "lancaster = nltk.LancasterStemmer()\n",
    "print([porter.stem(t) for t in tokens[:100]])"
   ]
  },
  {
   "cell_type": "code",
   "execution_count": 93,
   "metadata": {},
   "outputs": [
    {
     "name": "stdout",
     "output_type": "stream",
     "text": [
      "['martin', 'port', '-', 'wikiped', 'martin', 'port', 'from', 'wikiped', ',', 'the', 'fre', 'encycloped', 'jump', 'to', 'navig', 'jump', 'to', 'search', 'for', 'the', 'mus', ',', 'see', 'martin', 'port', '(', 'mus', ')', '.', 'martin', 'f.', 'port', 'is', 'the', 'inv', 'of', 'the', 'port', 'stem', ',', '[', '1', ']', 'on', 'of', 'the', 'most', 'common', 'algorithm', 'for', 'stem', 'engl', ',', '[', '2', ']', '[', '3', ']', 'and', 'the', 'snowbal', 'program', 'framework', '.', 'his', '1980', 'pap', '``', 'an', 'algorithm', 'for', 'suffix', 'stripping', \"''\", ',', 'propos', 'the', 'stem', 'algorithm', ',', 'has', 'been', 'cit', 'ov', '8000', 'tim', '(', 'googl', 'scholar', ')', '.', '[', '4', ']', 'the', 'musc', 'search', 'engin', 'com']\n"
     ]
    }
   ],
   "source": [
    "print([lancaster.stem(t) for t in tokens[:100]])"
   ]
  },
  {
   "cell_type": "markdown",
   "metadata": {},
   "source": [
    "*Of the two stemmers, the Lancaster Stemmer is __much__ greedier - it strips practically all endings.  I was keeping a running total of all the endings that it stripped, but gave up in the middle, figuring it might have been easier to just make a list of the endings that weren't stripped.*\n",
    "\n",
    "*In the brief samples above, I noticed that both stemmers removed the following endings: '-s'; '-es'; '-ing' (and double consonants); '-d' from '-ed' (Porter removes just '-d', while Lancaster removes the entire '-ed'); '-ation'; and '-l' from '-ll.*\n",
    "\n",
    "*In at least the sample above, I couldn't find any examples of endings that were stripped by the Porter Stemmer but not by the Lancaster Stemmer. The converse was a much different situation: The Lancaster Stemmer removed '-er', including the ending of Porter's name; '-ia', including 'Wikipedia'; 'e' from '-ee'; '-ician'; '-entor'; '-ish'; and even '-at'.  In my opinion, the Lancaster Stemmer ended up stripping too much of the word, to the point where stems would occasionally become completely unintelligible.*\n",
    "\n",
    "\n",
    "\n"
   ]
  },
  {
   "cell_type": "markdown",
   "metadata": {},
   "source": [
    "##### 31.\n",
    "\n",
    "◑ Define the variable saying to contain the list `['After', 'all', 'is', 'said', 'and', 'done', ',', 'more',\n",
    "'is', 'said', 'than', 'done', '.']`. Process this list using a `for` loop, and store the length of each word in a new list lengths. Hint: begin by assigning the empty list to `lengths`, using `lengths = []`. Then each time through the loop, use `append()` to add another length value to the list. Now do the same thing using a list comprehension.\n",
    "\n",
    "*Seriously? Aren't these problems supposed to get progressively more difficult?  This problem is a cakewalk compared to some of the problems that came before it.*"
   ]
  },
  {
   "cell_type": "code",
   "execution_count": 95,
   "metadata": {},
   "outputs": [
    {
     "data": {
      "text/plain": [
       "[5, 3, 2, 4, 3, 4, 1, 4, 2, 4, 4, 4, 1]"
      ]
     },
     "execution_count": 95,
     "metadata": {},
     "output_type": "execute_result"
    }
   ],
   "source": [
    "saying = ['After', 'all', 'is', 'said', 'and', 'done', ',', 'more',\n",
    "'is', 'said', 'than', 'done', '.']\n",
    "lengths = []\n",
    "\n",
    "for s in saying:\n",
    "    lengths.append(len(s))\n",
    "    \n",
    "lengths"
   ]
  },
  {
   "cell_type": "code",
   "execution_count": 96,
   "metadata": {},
   "outputs": [
    {
     "data": {
      "text/plain": [
       "[5, 3, 2, 4, 3, 4, 1, 4, 2, 4, 4, 4, 1]"
      ]
     },
     "execution_count": 96,
     "metadata": {},
     "output_type": "execute_result"
    }
   ],
   "source": [
    "lengths = [len(s) for s in saying] \n",
    "lengths"
   ]
  },
  {
   "cell_type": "markdown",
   "metadata": {},
   "source": [
    "##### 32.\n",
    "\n",
    "◑ Define a variable silly to contain the string: `'newly formed bland ideas are inexpressible in an infuriating\n",
    "way'`. (This happens to be the legitimate interpretation that bilingual English-Spanish speakers can assign to Chomsky's famous nonsense phrase, *colorless green ideas sleep furiously* according to Wikipedia). Now write code to perform the following tasks:\n",
    "\n",
    " * a. Split `silly` into a list of strings, one per word, using Python's `split()` operation, and save this to a variable called `bland`.\n",
    " \n",
    " * b. Extract the second letter of each word in `silly` and join them into a string, to get `'eoldrnnnna'`.\n",
    " \n",
    " * c. Combine the words in `bland` back into a single string, using `join()`. Make sure the words in the resulting string are separated with whitespace.\n",
    " \n",
    " * d. Print the words of `silly` in alphabetical order, one per line."
   ]
  },
  {
   "cell_type": "code",
   "execution_count": 98,
   "metadata": {},
   "outputs": [
    {
     "name": "stdout",
     "output_type": "stream",
     "text": [
      "['newly', 'formed', 'bland', 'ideas', 'are', 'inexpressible', 'in', 'an', 'infuriating', 'way']\n"
     ]
    }
   ],
   "source": [
    "# a\n",
    "\n",
    "silly = 'newly formed bland ideas are inexpressible in an infuriating way'\n",
    "\n",
    "bland = silly.split()\n",
    "print(bland)"
   ]
  },
  {
   "cell_type": "code",
   "execution_count": 106,
   "metadata": {},
   "outputs": [
    {
     "data": {
      "text/plain": [
       "'eoldrnnnna'"
      ]
     },
     "execution_count": 106,
     "metadata": {},
     "output_type": "execute_result"
    }
   ],
   "source": [
    "# b \n",
    "\n",
    "''.join([b[1] for b in bland])"
   ]
  },
  {
   "cell_type": "code",
   "execution_count": 107,
   "metadata": {},
   "outputs": [
    {
     "data": {
      "text/plain": [
       "'newly formed bland ideas are inexpressible in an infuriating way'"
      ]
     },
     "execution_count": 107,
     "metadata": {},
     "output_type": "execute_result"
    }
   ],
   "source": [
    "# c\n",
    "\n",
    "' '.join(bland)"
   ]
  },
  {
   "cell_type": "code",
   "execution_count": 123,
   "metadata": {},
   "outputs": [
    {
     "name": "stdout",
     "output_type": "stream",
     "text": [
      "an\n",
      "are\n",
      "bland\n",
      "formed\n",
      "ideas\n",
      "in\n",
      "inexpressible\n",
      "infuriating\n",
      "newly\n",
      "way\n"
     ]
    }
   ],
   "source": [
    "# d\n",
    "\n",
    "for s in sorted(bland):\n",
    "    print(s)"
   ]
  },
  {
   "cell_type": "markdown",
   "metadata": {},
   "source": [
    "##### 33.\n",
    "\n",
    "◑ The `index()` function can be used to look up items in sequences. For example, `'inexpressible'.index('e')` tells us the index of the first position of the letter `e`.\n",
    "\n",
    " * a. What happens when you look up a substring, e.g. `'inexpressible'.index('re')`?\n",
    " \n",
    " * b. Define a variable `words` containing a list of words. Now use `words.index()` to look up the position of an individual word.\n",
    " \n",
    " * c. Define a variable `silly` as in the exercise above. Use the `index()` function in combination with list slicing to build a list `phrase` consisting of all the words up to (but not including) `in` in `silly`."
   ]
  },
  {
   "cell_type": "markdown",
   "metadata": {},
   "source": [
    "*__a.__*\n",
    "\n",
    "*`.index()` returns the position of the beginning of the string:*\n"
   ]
  },
  {
   "cell_type": "code",
   "execution_count": 124,
   "metadata": {},
   "outputs": [
    {
     "data": {
      "text/plain": [
       "5"
      ]
     },
     "execution_count": 124,
     "metadata": {},
     "output_type": "execute_result"
    }
   ],
   "source": [
    "'inexpressible'.index('re')"
   ]
  },
  {
   "cell_type": "markdown",
   "metadata": {},
   "source": [
    "*__b.__*"
   ]
  },
  {
   "cell_type": "code",
   "execution_count": 125,
   "metadata": {},
   "outputs": [
    {
     "data": {
      "text/plain": [
       "2"
      ]
     },
     "execution_count": 125,
     "metadata": {},
     "output_type": "execute_result"
    }
   ],
   "source": [
    "words = [\"I'm\", 'too', 'tired', 'think', 'of', 'a', 'more', \n",
    "         'original', 'list']\n",
    "\n",
    "words.index('tired')"
   ]
  },
  {
   "cell_type": "markdown",
   "metadata": {},
   "source": [
    "*__c.__*\n",
    "\n",
    "*Feels a bit naff to do things this way, but oh well... Here's a way to do it in one line of code:*"
   ]
  },
  {
   "cell_type": "code",
   "execution_count": 129,
   "metadata": {},
   "outputs": [
    {
     "data": {
      "text/plain": [
       "['newly', 'formed', 'bland', 'ideas', 'are', 'inexpressible']"
      ]
     },
     "execution_count": 129,
     "metadata": {},
     "output_type": "execute_result"
    }
   ],
   "source": [
    "silly = 'newly formed bland ideas are inexpressible in an infuriating way'\n",
    "\n",
    "phrase = [i for i in silly.split()[:silly.split().index('in')]]\n",
    "\n",
    "phrase"
   ]
  },
  {
   "cell_type": "markdown",
   "metadata": {},
   "source": [
    "##### 34.\n",
    "\n",
    "◑ Write code to convert nationality adjectives like *Canadian* and *Australian* to their corresponding nouns *Canada* and *Australia*.\n",
    "\n",
    "*__N.B.:__ The relevant Wikipedia page is now [here](https://en.wikipedia.org/wiki/List_of_adjectival_and_demonymic_forms_for_countries_and_nations \"Countries and Nations\").*"
   ]
  },
  {
   "cell_type": "markdown",
   "metadata": {},
   "source": [
    "*There are rough rules for converting a country's name into its corresponding adjective (and vice versa), but there are many exceptions to this rule (e.g., 'Canada' -> 'Canadian' but 'China' -> 'Chinese; 'Germany' -> 'German' but 'Italy' -> 'Italian'; 'Ecuador' -> 'Ecuadorian' but 'El Salvador' -> 'Salvadoran; etc...).  There are many articles online about this topic, and one from Language Log is available [here](https://languagelog.ldc.upenn.edu/nll/?p=2591 \"Adjectives from country names.\"). I feel it would be a fool's errand to try to hard-code all of these into a function.*\n",
    "\n",
    "*Therefore, I decided to import the list from the Wikipedia page linked above.  I pasted the list into an Excel workbook, did some light editing (e.g., eliminated footnotes and deleted one of the matches for 'Congolese', since one nationality adjective can't have too matches in my function), and saved it as a CSV file, as this will be easier to import into Python. For convenience's sake, I'll upload a copy of this CSV file to my GitHub repo.*"
   ]
  },
  {
   "cell_type": "code",
   "execution_count": 130,
   "metadata": {},
   "outputs": [],
   "source": [
    "import os\n",
    "path = 'C:\\\\Users\\\\matth\\\\Desktop\\\\NLTK'\n",
    "os.chdir(path)"
   ]
  },
  {
   "cell_type": "code",
   "execution_count": 182,
   "metadata": {},
   "outputs": [],
   "source": [
    "import csv\n",
    "\n",
    "with open('Nationalities.csv', 'r') as f:\n",
    "    reader = csv.reader(f)\n",
    "    nats = list(reader)"
   ]
  },
  {
   "cell_type": "code",
   "execution_count": 163,
   "metadata": {},
   "outputs": [
    {
     "data": {
      "text/plain": [
       "[['Abkhazia', 'Abkhaz,\\xa0Abkhazian'],\n",
       " ['Afghanistan', 'Afghan'],\n",
       " ['Åland Islands', 'Åland Island'],\n",
       " ['Albania', 'Albanian'],\n",
       " ['Algeria', 'Algerian']]"
      ]
     },
     "execution_count": 163,
     "metadata": {},
     "output_type": "execute_result"
    }
   ],
   "source": [
    "nats[:5]"
   ]
  },
  {
   "cell_type": "markdown",
   "metadata": {},
   "source": [
    "*We need to get rid of `\\xa0` (non-breaking space in Latin1) in the listings.  There are a number of ways we could fix this (including `re.sub` and `string.replace()`), but perhaps the most robust method would be to use `normalize` from the `unicodedata` library.  Strings are immutable, so we'll need to create a new list to do this.*"
   ]
  },
  {
   "cell_type": "code",
   "execution_count": 183,
   "metadata": {},
   "outputs": [],
   "source": [
    "import unicodedata\n",
    "\n",
    "nats_edited = [[unicodedata.normalize(\"NFKD\", item) for item in pair] for pair in nats]"
   ]
  },
  {
   "cell_type": "code",
   "execution_count": 184,
   "metadata": {},
   "outputs": [
    {
     "data": {
      "text/plain": [
       "[['Abkhazia', 'Abkhaz, Abkhazian'],\n",
       " ['Afghanistan', 'Afghan'],\n",
       " ['Åland Islands', 'Åland Island'],\n",
       " ['Albania', 'Albanian'],\n",
       " ['Algeria', 'Algerian']]"
      ]
     },
     "execution_count": 184,
     "metadata": {},
     "output_type": "execute_result"
    }
   ],
   "source": [
    "nats_edited[:5]"
   ]
  },
  {
   "cell_type": "markdown",
   "metadata": {},
   "source": [
    "*I created a function that will return the name of a country from that country's nationality adjective.  I didn't want to hard code the name of my list into the function, so I had to require it as an argument.  Any suitable list will be a list of sublists, where the first item in the sublist is the country's name, and the second that country's nationality adjective:*"
   ]
  },
  {
   "cell_type": "code",
   "execution_count": 176,
   "metadata": {},
   "outputs": [],
   "source": [
    "def return_country_name(nationality, l):\n",
    "    \"\"\"\n",
    "    Returns the country name for a given nationality adjective.\n",
    "    \n",
    "    Arguments:\n",
    "    \n",
    "    nationality: string with nationality adjective\n",
    "    l:           list of sublists. Country name is the first item in the\n",
    "                 sublist, nationality adjective the second.  Original list\n",
    "                 was modified from the one available at \n",
    "                 https://en.wikipedia.org/wiki/List_of_adjectival_and_demonymic_forms_for_countries_and_nations\n",
    "    \"\"\"\n",
    "    for item in l:\n",
    "        if nationality in item[1]:\n",
    "            return item[0]"
   ]
  },
  {
   "cell_type": "code",
   "execution_count": 177,
   "metadata": {},
   "outputs": [
    {
     "data": {
      "text/plain": [
       "'Sweden'"
      ]
     },
     "execution_count": 177,
     "metadata": {},
     "output_type": "execute_result"
    }
   ],
   "source": [
    "return_country_name(\"Swedish\", nats_edited)"
   ]
  },
  {
   "cell_type": "code",
   "execution_count": 179,
   "metadata": {},
   "outputs": [
    {
     "data": {
      "text/plain": [
       "'Mauritius'"
      ]
     },
     "execution_count": 179,
     "metadata": {},
     "output_type": "execute_result"
    }
   ],
   "source": [
    "return_country_name(\"Mauritian\", nats_edited)"
   ]
  },
  {
   "cell_type": "code",
   "execution_count": 180,
   "metadata": {},
   "outputs": [
    {
     "data": {
      "text/plain": [
       "'Gabon'"
      ]
     },
     "execution_count": 180,
     "metadata": {},
     "output_type": "execute_result"
    }
   ],
   "source": [
    "return_country_name(\"Gabonese\", nats_edited)"
   ]
  },
  {
   "cell_type": "code",
   "execution_count": 181,
   "metadata": {},
   "outputs": [
    {
     "data": {
      "text/plain": [
       "'Canada'"
      ]
     },
     "execution_count": 181,
     "metadata": {},
     "output_type": "execute_result"
    }
   ],
   "source": [
    "return_country_name(\"Canadian\", nats_edited)"
   ]
  },
  {
   "cell_type": "code",
   "execution_count": 185,
   "metadata": {},
   "outputs": [
    {
     "data": {
      "text/plain": [
       "'Congo, Democratic Republic of the'"
      ]
     },
     "execution_count": 185,
     "metadata": {},
     "output_type": "execute_result"
    }
   ],
   "source": [
    "return_country_name(\"Congolese\", nats_edited)"
   ]
  },
  {
   "cell_type": "markdown",
   "metadata": {},
   "source": [
    "##### 35. \n",
    "\n",
    "◑ Read the [LanguageLog post](http://itre.cis.upenn.edu/~myl/languagelog/archives/002733.html \"LanguageLog post\") on phrases of the form *as best as p can* and *as best p can*, where *p* is a pronoun. Investigate this phenomenon with the help of a corpus and the `findall()` method for searching tokenized text described in [3.5](https://www.nltk.org/book/ch03.html#sec-useful-applications-of-regular-expressions \"3.5\"). \n",
    "\n",
    "*I'd like to carry out this analysis with texts provided with NLTK.  However, it turns out none of these phrases is particularly common in these texts.*"
   ]
  },
  {
   "cell_type": "code",
   "execution_count": 10,
   "metadata": {},
   "outputs": [],
   "source": [
    "from nltk.corpus import brown"
   ]
  },
  {
   "cell_type": "markdown",
   "metadata": {},
   "source": [
    "*Nothing in the Brown Corpus for either __as best as p can__ or __as best p can__.*"
   ]
  },
  {
   "cell_type": "code",
   "execution_count": 24,
   "metadata": {},
   "outputs": [
    {
     "name": "stdout",
     "output_type": "stream",
     "text": [
      "\n"
     ]
    }
   ],
   "source": [
    "bw = nltk.Text(brown.words())\n",
    "\n",
    "\n",
    "bw.findall(r\"<as> <best> <as> <.*> <can>\")"
   ]
  },
  {
   "cell_type": "code",
   "execution_count": 25,
   "metadata": {},
   "outputs": [
    {
     "name": "stdout",
     "output_type": "stream",
     "text": [
      "\n"
     ]
    }
   ],
   "source": [
    "bw.findall(r\"<as> <best> <.*> <can>\")"
   ]
  },
  {
   "cell_type": "markdown",
   "metadata": {},
   "source": [
    "*As a sanity check to make sure `.findall()` was working, I tried a simpler phrase to see if that would generate any hits.  I tried __best p can__, and it generated a single hit.  This means that `.findall()` is indeed working, and the phrases in question are not in the Brown Corpus.*"
   ]
  },
  {
   "cell_type": "code",
   "execution_count": 23,
   "metadata": {},
   "outputs": [
    {
     "name": "stdout",
     "output_type": "stream",
     "text": [
      "best they can\n"
     ]
    }
   ],
   "source": [
    "bw.findall(r\"<best> <.*> <can>\")"
   ]
  },
  {
   "cell_type": "markdown",
   "metadata": {},
   "source": [
    "*I tried the experiment again with the texts from Project Gutenberg available in the NLTK, and the phrases again were almost nowhere to be found:*"
   ]
  },
  {
   "cell_type": "code",
   "execution_count": 22,
   "metadata": {},
   "outputs": [
    {
     "name": "stdout",
     "output_type": "stream",
     "text": [
      "austen-emma.txt:\n",
      "\t\n",
      "austen-persuasion.txt:\n",
      "\t\n",
      "austen-sense.txt:\n",
      "\t\n",
      "bible-kjv.txt:\n",
      "\t\n",
      "blake-poems.txt:\n",
      "\t\n",
      "bryant-stories.txt:\n",
      "\t\n",
      "burgess-busterbrown.txt:\n",
      "\t\n",
      "carroll-alice.txt:\n",
      "\t\n",
      "chesterton-ball.txt:\n",
      "\t\n",
      "chesterton-brown.txt:\n",
      "\t\n",
      "chesterton-thursday.txt:\n",
      "\t\n",
      "edgeworth-parents.txt:\n",
      "\t\n",
      "melville-moby_dick.txt:\n",
      "\tbest we can\n",
      "milton-paradise.txt:\n",
      "\t\n",
      "shakespeare-caesar.txt:\n",
      "\t\n",
      "shakespeare-hamlet.txt:\n",
      "\t\n",
      "shakespeare-macbeth.txt:\n",
      "\t\n",
      "whitman-leaves.txt:\n",
      "\tbest I can\n"
     ]
    }
   ],
   "source": [
    "for text in nltk.corpus.gutenberg.fileids():\n",
    "    print(text + \":\")\n",
    "    print(\"\\t\", end = '')\n",
    "    nltk.Text(nltk.corpus.gutenberg.words(text)).findall(r\"<best> <.*> <can>\")"
   ]
  },
  {
   "cell_type": "markdown",
   "metadata": {},
   "source": [
    "*The LanguageLog article cited above tried to investigate the frequency of the two sets of phrases by searching various web engines, so it only seems logical that we'd try to replicate this.  However, treating the web as a corpus is fraught with problems. For one thing, it's well established that search results are far from consistent.  Google's exact method for finding matches is proprietary, so we can never expect to know how precisely matches are formed.  But it is well known that identical searches made from different locations or even with different browsers will return different results.  A further problem is that it's not possible to use regular expressions in Google queries.  While we can use double quotes to search for exact strings, the sheer number of results that are often returned seems to indicate that results that only partially match the string in question are also being returned. Another issue is that the existence of a given phrase online is no guarantee of its correctness.  We could imagine an EFL discussion board where a grammatically-incorrect phrase is repeated again and again, thus driving the number of hits for this phrase.*\n",
    "\n",
    "*Despite these limitations, comparing the number of results for two phrases can still give us a rough idea of which phrase is more common.*\n",
    "\n",
    "*Naturally, going online and manually checking each phrase (and variation thereof) would be a trivial - albeit tedious - task.  As we are studying programming, it only seems naturally that we should seek out a way to automate this and do this programmatically.  Unfortunately, this isn't quite as simple as it might appear to be.  While there are a number of tutorials online for this very task - many of which that use modules that have been outlined in this chapter (e.g., `BeautifulSoup`, `requests`, etc...); unfortunately these processes no longer seem to work. I'm not quite sure why, but if Google has changed the way they present results, that would break most of the methods that have worked up until now.*\n",
    "\n",
    "*Fortunately, I did find one module that does work for my purposes: `googlesearch`, whose documentation is [here](https://python-googlesearch.readthedocs.io/en/latest/ \"googlesearch documentation\"), and whose GitHub repo is [here](https://github.com/MarioVilas/googlesearch \"googlesearch GitHub repo\").  They even have a ready-made function that returns the number of hits for a query.*\n"
   ]
  },
  {
   "cell_type": "code",
   "execution_count": 2,
   "metadata": {},
   "outputs": [],
   "source": [
    "ps = [\"I\", \"you\", \"he\", \"she\", \"it\", \"we\", \"they\"]\n",
    "\n",
    "phrases = [\"as best as X can\", \"as best X can\"]"
   ]
  },
  {
   "cell_type": "code",
   "execution_count": 3,
   "metadata": {},
   "outputs": [
    {
     "name": "stdout",
     "output_type": "stream",
     "text": [
      "Number of hits for \"as best as I can\":     14,210,000,000\n",
      "Number of hits for \"as best I can\":        16,070,000,000\n",
      "Number of hits for \"as best as you can\":   23,250,000,000\n",
      "Number of hits for \"as best you can\":      23,000,000,000\n",
      "Number of hits for \"as best as he can\":    8,660,000,000\n",
      "Number of hits for \"as best he can\":       7,700,000,000\n",
      "Number of hits for \"as best as she can\":   4,840,000,000\n",
      "Number of hits for \"as best she can\":      5,070,000,000\n",
      "Number of hits for \"as best as it can\":    22,130,000,000\n",
      "Number of hits for \"as best it can\":       25,270,000,000\n",
      "Number of hits for \"as best as we can\":    19,420,000,000\n",
      "Number of hits for \"as best we can\":       17,860,000,000\n",
      "Number of hits for \"as best as they can\":  11,950,000,000\n",
      "Number of hits for \"as best they can\":     17,180,000,000\n"
     ]
    }
   ],
   "source": [
    "from googlesearch import hits\n",
    "\n",
    "for p in ps:\n",
    "    for ph in phrases:\n",
    "    \n",
    "        check = re.sub('X', p, ph)\n",
    "        no_results = hits(check)\n",
    "        \n",
    "        print(\"Number of hits for \\\"{}\\\": {} {:,}\".format(check, \" \" * (19 - len(check)), no_results))"
   ]
  },
  {
   "cell_type": "markdown",
   "metadata": {},
   "source": [
    "*There's no clear pattern to the results.  Sometimes \"as best as p can\" return more results, sometimes \"as best p can\" does.  A graph would be easier to interpret than a table, so let's make lists of the values so that we can compose graphs:*"
   ]
  },
  {
   "cell_type": "code",
   "execution_count": 4,
   "metadata": {},
   "outputs": [],
   "source": [
    "totals = [[], []]\n",
    "\n",
    "for ph in range(len(phrases)):\n",
    "    for p in ps:\n",
    "    \n",
    "    \n",
    "        check = re.sub('X', p, phrases[ph])\n",
    "        no_results = hits(check)\n",
    "        \n",
    "        totals[ph].append(no_results)"
   ]
  },
  {
   "cell_type": "code",
   "execution_count": 5,
   "metadata": {},
   "outputs": [],
   "source": [
    "%matplotlib inline"
   ]
  },
  {
   "cell_type": "code",
   "execution_count": 9,
   "metadata": {},
   "outputs": [
    {
     "data": {
      "image/png": "[encoded data removed]",
      "text/plain": [
       "<Figure size 1080x720 with 1 Axes>"
      ]
     },
     "metadata": {
      "needs_background": "light"
     },
     "output_type": "display_data"
    }
   ],
   "source": [
    "import matplotlib.pyplot as plt\n",
    "\n",
    "\n",
    "plt.figure(figsize=(15,10))\n",
    "\n",
    "ph1 = plt.plot(totals[0])\n",
    "ph2 = plt.plot(totals[1])\n",
    "\n",
    "plt.xticks(range(len(ps)), labels = ps)\n",
    "plt.legend((ph1[0], ph2[0]), phrases)\n",
    "\n",
    "plt.show()"
   ]
  },
  {
   "cell_type": "markdown",
   "metadata": {},
   "source": [
    "*These results look much different from the ones in the LanguageLog post.  Here, the results look like they are nearly neck and neck. Also observe that the majority of the hits are in the billions.*\n"
   ]
  },
  {
   "cell_type": "markdown",
   "metadata": {},
   "source": [
    "*There is one more online corpus that could be useful for our purposes: Google Books.  Google Books has a Ngram Viewer that allows us to graphically compare the relative frequencies of a number of phrases.  This corpus is not without its problems (a good blog on this can be found [here](http://stanford.edu/~risi/tutorials/absolute_ngram_counts.html \"Google Ngrams Critique\")), but it offers us a quick and easy way to compare frequencies in a huge corpus.*\n",
    "\n",
    "*The blog linked in the previous paragrah also showed a method for replicating the results of web query in a jupyter notebook with `IFrame`.  One drawback of this is that it's only possible to replicate one query per notebook cell, which means it's not possible to iterate through all the queries.  However, to simplify things somewhat, I did create a function that would require us to specify nothing but the pronoun in the two phrases we wanted to compare.*"
   ]
  },
  {
   "cell_type": "code",
   "execution_count": 41,
   "metadata": {},
   "outputs": [],
   "source": [
    "from IPython.display import IFrame\n",
    "\n",
    "def compare_best_as(pronoun):\n",
    "    \n",
    "    return IFrame(\"https://books.google.com/ngrams/graph?content=as+best+as+\" + pronoun + \"+can%2C+as+best+\" + pronoun +  \"+can&year_start=1800&year_end=2000&corpus=15&smoothing=3\",\n",
    "       width=1100, height=700 )"
   ]
  },
  {
   "cell_type": "code",
   "execution_count": 42,
   "metadata": {},
   "outputs": [
    {
     "data": {
      "text/html": [
       "\n",
       "        <iframe\n",
       "            width=\"1100\"\n",
       "            height=\"700\"\n",
       "            src=\"https://books.google.com/ngrams/graph?content=as+best+as+I+can%2C+as+best+I+can&year_start=1800&year_end=2000&corpus=15&smoothing=3\"\n",
       "            frameborder=\"0\"\n",
       "            allowfullscreen\n",
       "        ></iframe>\n",
       "        "
      ],
      "text/plain": [
       "<IPython.lib.display.IFrame at 0x278823c1eb8>"
      ]
     },
     "execution_count": 42,
     "metadata": {},
     "output_type": "execute_result"
    }
   ],
   "source": [
    "compare_best_as(\"I\")"
   ]
  },
  {
   "cell_type": "code",
   "execution_count": 43,
   "metadata": {},
   "outputs": [
    {
     "data": {
      "text/html": [
       "\n",
       "        <iframe\n",
       "            width=\"1100\"\n",
       "            height=\"700\"\n",
       "            src=\"https://books.google.com/ngrams/graph?content=as+best+as+you+can%2C+as+best+you+can&year_start=1800&year_end=2000&corpus=15&smoothing=3\"\n",
       "            frameborder=\"0\"\n",
       "            allowfullscreen\n",
       "        ></iframe>\n",
       "        "
      ],
      "text/plain": [
       "<IPython.lib.display.IFrame at 0x278823e2a58>"
      ]
     },
     "execution_count": 43,
     "metadata": {},
     "output_type": "execute_result"
    }
   ],
   "source": [
    "compare_best_as(\"you\")"
   ]
  },
  {
   "cell_type": "code",
   "execution_count": 44,
   "metadata": {},
   "outputs": [
    {
     "data": {
      "text/html": [
       "\n",
       "        <iframe\n",
       "            width=\"1100\"\n",
       "            height=\"700\"\n",
       "            src=\"https://books.google.com/ngrams/graph?content=as+best+as+he+can%2C+as+best+he+can&year_start=1800&year_end=2000&corpus=15&smoothing=3\"\n",
       "            frameborder=\"0\"\n",
       "            allowfullscreen\n",
       "        ></iframe>\n",
       "        "
      ],
      "text/plain": [
       "<IPython.lib.display.IFrame at 0x278823e8ef0>"
      ]
     },
     "execution_count": 44,
     "metadata": {},
     "output_type": "execute_result"
    }
   ],
   "source": [
    "compare_best_as(\"he\")"
   ]
  },
  {
   "cell_type": "code",
   "execution_count": 45,
   "metadata": {},
   "outputs": [
    {
     "data": {
      "text/html": [
       "\n",
       "        <iframe\n",
       "            width=\"1100\"\n",
       "            height=\"700\"\n",
       "            src=\"https://books.google.com/ngrams/graph?content=as+best+as+she+can%2C+as+best+she+can&year_start=1800&year_end=2000&corpus=15&smoothing=3\"\n",
       "            frameborder=\"0\"\n",
       "            allowfullscreen\n",
       "        ></iframe>\n",
       "        "
      ],
      "text/plain": [
       "<IPython.lib.display.IFrame at 0x278823dc7f0>"
      ]
     },
     "execution_count": 45,
     "metadata": {},
     "output_type": "execute_result"
    }
   ],
   "source": [
    "compare_best_as(\"she\")"
   ]
  },
  {
   "cell_type": "code",
   "execution_count": 46,
   "metadata": {},
   "outputs": [
    {
     "data": {
      "text/html": [
       "\n",
       "        <iframe\n",
       "            width=\"1100\"\n",
       "            height=\"700\"\n",
       "            src=\"https://books.google.com/ngrams/graph?content=as+best+as+it+can%2C+as+best+it+can&year_start=1800&year_end=2000&corpus=15&smoothing=3\"\n",
       "            frameborder=\"0\"\n",
       "            allowfullscreen\n",
       "        ></iframe>\n",
       "        "
      ],
      "text/plain": [
       "<IPython.lib.display.IFrame at 0x278823f6d30>"
      ]
     },
     "execution_count": 46,
     "metadata": {},
     "output_type": "execute_result"
    }
   ],
   "source": [
    "compare_best_as(\"it\")"
   ]
  },
  {
   "cell_type": "code",
   "execution_count": 47,
   "metadata": {},
   "outputs": [
    {
     "data": {
      "text/html": [
       "\n",
       "        <iframe\n",
       "            width=\"1100\"\n",
       "            height=\"700\"\n",
       "            src=\"https://books.google.com/ngrams/graph?content=as+best+as+we+can%2C+as+best+we+can&year_start=1800&year_end=2000&corpus=15&smoothing=3\"\n",
       "            frameborder=\"0\"\n",
       "            allowfullscreen\n",
       "        ></iframe>\n",
       "        "
      ],
      "text/plain": [
       "<IPython.lib.display.IFrame at 0x27882411668>"
      ]
     },
     "execution_count": 47,
     "metadata": {},
     "output_type": "execute_result"
    }
   ],
   "source": [
    "compare_best_as(\"we\")"
   ]
  },
  {
   "cell_type": "code",
   "execution_count": 48,
   "metadata": {},
   "outputs": [
    {
     "data": {
      "text/html": [
       "\n",
       "        <iframe\n",
       "            width=\"1100\"\n",
       "            height=\"700\"\n",
       "            src=\"https://books.google.com/ngrams/graph?content=as+best+as+they+can%2C+as+best+they+can&year_start=1800&year_end=2000&corpus=15&smoothing=3\"\n",
       "            frameborder=\"0\"\n",
       "            allowfullscreen\n",
       "        ></iframe>\n",
       "        "
      ],
      "text/plain": [
       "<IPython.lib.display.IFrame at 0x2788243ef98>"
      ]
     },
     "execution_count": 48,
     "metadata": {},
     "output_type": "execute_result"
    }
   ],
   "source": [
    "compare_best_as(\"they\")"
   ]
  },
  {
   "cell_type": "markdown",
   "metadata": {},
   "source": [
    "*When we examine the graphs, we see that the phrase \"as best p can\" is much more common than \"as best as p can\".  While Google Books is not a perfect corpus, I feel it's fair to assume that an occurence of a phrase in a written work is more likely to be grammatically correct than one found online, so we should treat the Google Books results as more reliable than the basic Google query.  Furthermore, the fact that the two sets of results are so different should cause us to cast doubt on the idea of using basic Google queries for linguistic analysis.*"
   ]
  },
  {
   "cell_type": "markdown",
   "metadata": {},
   "source": [
    "##### 36. \n",
    "\n",
    "◑ Study the *lolcat* version of the book of Genesis, accessible as `nltk.corpus.genesis.words('lolcat.txt')`, and the rules for converting text into *lolspeak*. Define regular expressions to convert English words into corresponding lolspeak words.\n"
   ]
  },
  {
   "cell_type": "code",
   "execution_count": 3,
   "metadata": {},
   "outputs": [
    {
     "name": "stdout",
     "output_type": "stream",
     "text": [
      "['Oh', 'hai', '.', 'In', 'teh', 'beginnin', 'Ceiling', 'Cat', 'maded', 'teh', 'skiez', 'An', 'da', 'Urfs', ',', 'but', 'he', 'did', 'not', 'eated']\n"
     ]
    }
   ],
   "source": [
    "lolcat_gen = nltk.corpus.genesis.words('lolcat.txt')\n",
    "print(lolcat_gen[:20])"
   ]
  },
  {
   "cell_type": "markdown",
   "metadata": {},
   "source": [
    "*Unfortunately, the link for lolcat rules given in the NLTK book (http://www.lolcatbible.com/index.php?title=How_to_speak_lolcat) is offline and appears to no longer be online.  Currently, it does not appear that Wikipedia has a page with the rules of lolspeak.  I was able to find an academic paper that discussed the lolcat phenomenon [here](https://www.academia.edu/25368696/A_comparative_analysis_of_LOLspeak_and_dogespeak \"LOLspeak paper\") (registration required).  The paper did give numerous examples of LOLspeak, but unfortunately there was not an exhaustive grammar.*\n",
    "\n",
    "*Without going into too much detail, let me just state that I think it's extremely difficult to create software that is able to programmatically translate normal English into lolspeak.  As far as I can tell, the vast majority of lolspeak online has been produced by humans who apply the 'rules' of lolspeak 'grammar' arbitrarily. While it is possible to do a lot with regular expressions, we would still need to know the parts of speech of many of the words in the phrase in question in order to 'accurately' translate it into lolspeak.  While this may be technically feasible, it would still represent more work than I'm willing to put in at the moment.*\n",
    "\n",
    "*Although I wasn't able to find a lolspeak 'grammar', I found a lolcat translator [here](https://speaklolcat.com/ \"lolcat translator\"), and from this I was able to reverse engineer a large amount of lolspeak.  To do this, I found a list of the 1,000 most common words in English and a list of common irregular verbs in English.  I put these words in the translator, 100 words at a time (anything more would crash the system), and saved the results in an Excel spreadsheet.  From there I used an Excel function to figure out which words are different in normal English and lolspeak.  I was also able to divine a basic set of rules (e.g., '-er' becomes '-r', 'ss' becomes '-s', etc...).  I then deleted from the spreadsheet those lolspeak words that followed these rules of transformation, so that the only words left were those words whose translations could not be predicted by the lolspeak 'grammar' (e.g., 'that' -> 'DAT', 'was' -> 'WUZ', 'for' -> '4', etc...).*\n",
    "\n",
    "*From there I saved the spreadsheet to a CSV file, which I imported into Python and saved as a `dict`.  In my function `convert_to_lolspeak`, one of the first steps is to replace all of these words which can be found in this dictionary.  From there, I went through a series of `re.sub()` commands to make the transformations commonly seen in lolspeak.  I tried to use a `for` loop to iterate through all the possible transformations (as I did above for exercise 24), but for whatever reason this wouldn't work here.*\n",
    "\n",
    "*This is a very simplified model and is not able to capture all of the nuance of lolspeak.  But the point of this exercise is just practice with regular expressions, and to that end I'm satisfied with the result.*\n",
    "\n",
    "\n",
    "*__N.B.:__ There's a more complete dictionary here - https://github.com/ddribin/lolspeak.*"
   ]
  },
  {
   "cell_type": "code",
   "execution_count": 106,
   "metadata": {},
   "outputs": [],
   "source": [
    "import os, csv\n",
    "\n",
    "path = \"C:\\\\Users\\\\mjcor\\\\Desktop\\\\ProgrammingStuff\\\\nltk\"\n",
    "os.chdir(path)\n",
    "\n",
    "d = {}\n",
    "for row in csv.reader(open('lolspeak.csv', 'r')):\n",
    "    key, value = row\n",
    "    d[key] = value\n",
    "\n",
    "\n",
    "def convert_to_lolspeak(text):\n",
    "    \"\"\"\n",
    "    Converts a text to lolspeak.\n",
    "    \"\"\"\n",
    "    \n",
    "    text_list = text.split()\n",
    "\n",
    "    # convert everything to lowercase so we can search for terms \n",
    "    # in the dictionary\n",
    "    text_list = [t.lower() for t in text_list]\n",
    "\n",
    "    # replace those terms that can be found in the lolspeak dictionary\n",
    "    for i in range(len(text_list)):\n",
    "        if text_list[i] in d:\n",
    "            text_list[i] = d[text_list[i]]\n",
    "\n",
    "    new_list = []\n",
    "\n",
    "    # use regular expressions for the rest\n",
    "    for t in text_list:\n",
    "        # the values in the lolspeak dictionary are all uppercase words,\n",
    "        # so the next conditional will run only on words that haven't\n",
    "        # been modified\n",
    "        if t.islower():\n",
    "            if len(t) > 3 and t[-1] != 'd':\n",
    "                t = re.sub('ed', 'd', t)\n",
    "            t = re.sub('ear', 'er', t)\n",
    "            t = re.sub(r'ight', 'ite', t)\n",
    "            t = re.sub(r'[^s]s\\b', 'z', t)\n",
    "            t = re.sub(r'ss', 's', t)\n",
    "            t = re.sub(r'tion|sion', 'shun', t)\n",
    "            t = re.sub(r'ing', 'in', t)\n",
    "            t = re.sub(r'ture', 'chur', t)\n",
    "            t = re.sub(r'ove', 'oov', t)\n",
    "            t = re.sub(r'er', 'r', t)\n",
    "            \n",
    "            t = re.sub(r'ee', 'e', t)\n",
    "\n",
    "        # for stylistic reasons, everything will be returned in uppercase\n",
    "        new_list.append(t.upper())\n",
    "\n",
    "    # there's just one grammatical exception I'm going to deal with \n",
    "    # in this function: converting \"can I\" to \"I CAN\"\n",
    "    for i in range(len(new_list) - 1):\n",
    "        if new_list[i] == \"CAN\" and new_list[i + 1] == \"I\":\n",
    "            new_list[i], new_list[i + 1] = new_list[i + 1], new_list[i]\n",
    "\n",
    "    return(' '.join(new_list))"
   ]
  },
  {
   "cell_type": "code",
   "execution_count": 109,
   "metadata": {},
   "outputs": [
    {
     "name": "stdout",
     "output_type": "stream",
     "text": [
      "I CAN TEH CHEZBURGR ?\n"
     ]
    }
   ],
   "source": [
    "test = \"can i the cheeseburger ?\"\n",
    "\n",
    "print(convert_to_lolspeak(test))"
   ]
  },
  {
   "cell_type": "code",
   "execution_count": 110,
   "metadata": {},
   "outputs": [
    {
     "name": "stdout",
     "output_type": "stream",
     "text": [
      "DIS IZ JUS ANOTHR TEST 2 C HOW LOLSPEAK RESPONZ IN DIS SITUASHUN\n"
     ]
    }
   ],
   "source": [
    "test = 'this is just another test to see how lolspeak responds in this situation'\n",
    "\n",
    "print(convert_to_lolspeak(test))"
   ]
  },
  {
   "cell_type": "code",
   "execution_count": 111,
   "metadata": {},
   "outputs": [
    {
     "name": "stdout",
     "output_type": "stream",
     "text": [
      "DOZ AN PEEPS SEM A BIT STRANGE IN LOLSPEAK\n"
     ]
    }
   ],
   "source": [
    "test = 'dogs and people seem a bit strange in lolspeak'\n",
    "\n",
    "print(convert_to_lolspeak(test))"
   ]
  },
  {
   "cell_type": "markdown",
   "metadata": {},
   "source": [
    "##### 37.\n",
    "\n",
    "◑ Read about the `re.sub()` function for string substitution using regular expressions, using `help(re.sub)` and by consulting the further readings for this chapter. Use `re.sub` in writing code to remove HTML tags from an HTML file, and to normalize whitespace.\n",
    "\n",
    "*Below is the first result I got when I googled 'simple HTML example'.  The site was at [this address](http://help.websiteos.com/websiteos/example_of_a_simple_html_page.htm \"simple html example\").*"
   ]
  },
  {
   "cell_type": "code",
   "execution_count": 127,
   "metadata": {},
   "outputs": [],
   "source": [
    "example = \"\"\"\n",
    "<HTML>\n",
    "\n",
    "<HEAD>\n",
    "\n",
    "<TITLE>Your Title Here</TITLE>\n",
    "\n",
    "</HEAD>\n",
    "\n",
    "<BODY BGCOLOR=\"FFFFFF\">\n",
    "\n",
    "<CENTER><IMG SRC=\"clouds.jpg\" ALIGN=\"BOTTOM\"> </CENTER>\n",
    "\n",
    "<HR>\n",
    "\n",
    "<a href=\"http://somegreatsite.com\">Link Name</a>\n",
    "\n",
    "is a link to another nifty site\n",
    "\n",
    "<H1>This is a Header</H1>\n",
    "\n",
    "<H2>This is a Medium Header</H2>\n",
    "\n",
    "Send me mail at <a href=\"mailto:support@yourcompany.com\">\n",
    "\n",
    "support@yourcompany.com</a>.\n",
    "\n",
    "<P> This is a new paragraph!\n",
    "\n",
    "<P> <B>This is a new paragraph!</B>\n",
    "\n",
    "<BR> <B><I>This is a new sentence without a paragraph break, in bold italics.</I></B>\n",
    "\n",
    "<HR>\n",
    "\n",
    "</BODY>\n",
    "\n",
    "</HTML>\n",
    "\"\"\""
   ]
  },
  {
   "cell_type": "code",
   "execution_count": 128,
   "metadata": {},
   "outputs": [
    {
     "data": {
      "text/plain": [
       "' Your Title Here Link Name is a link to another nifty site This is a Header This is a Medium Header Send me mail at support@yourcompany.com. This is a new paragraph! This is a new paragraph! This is a new sentence without a paragraph break, in bold italics. '"
      ]
     },
     "execution_count": 128,
     "metadata": {},
     "output_type": "execute_result"
    }
   ],
   "source": [
    "# getting rid of tages\n",
    "example = re.sub(r'<.*?>', '', example)\n",
    "\n",
    "# normalizing whitespace\n",
    "example = re.sub(r'\\s+', ' ', example)\n",
    "example"
   ]
  },
  {
   "cell_type": "markdown",
   "metadata": {},
   "source": [
    "##### 38. \n",
    "\n",
    "★ An interesting challenge for tokenization is words that have been split across a line-break. E.g. if *long-term* is split, then we have the string `long-\\nterm`.\n",
    "\n",
    " * a. Write a regular expression that identifies words that are hyphenated at a line-break. The expression will need to include the `\\n` character.\n",
    " \n",
    " * b. Use `re.sub()` to remove the `\\n` character from these words.\n",
    " \n",
    " * c. How might you identify words that should not remain hyphenated once the newline is removed, e.g. `'encyclo-\\npedia'`?"
   ]
  },
  {
   "cell_type": "code",
   "execution_count": 173,
   "metadata": {},
   "outputs": [
    {
     "data": {
      "text/plain": [
       "['long-\\nterm', 'encyclo-\\npedia']"
      ]
     },
     "execution_count": 173,
     "metadata": {},
     "output_type": "execute_result"
    }
   ],
   "source": [
    "#a\n",
    "\n",
    "test = \"I'm trying to find the long-\\nterm solution in this encyclo-\\npedia.\"\n",
    "re.findall(r'\\b\\w*-\\n\\w*\\b', test)"
   ]
  },
  {
   "cell_type": "code",
   "execution_count": 140,
   "metadata": {},
   "outputs": [
    {
     "data": {
      "text/plain": [
       "\"I'm trying to find the long-term solution.\""
      ]
     },
     "execution_count": 140,
     "metadata": {},
     "output_type": "execute_result"
    }
   ],
   "source": [
    "#b \n",
    "\n",
    "re.sub(r'-\\n', '-', test)"
   ]
  },
  {
   "cell_type": "markdown",
   "metadata": {},
   "source": [
    "*The easiest to accomplish part __c.__ is to try to perform some sort of look up of the hyphenated word.  If the hyphenated word is in the word list, the hyphen stays in; otherwise it's removed.*\n",
    "\n",
    "*Unfortunately, the English wordlist provided doesn't have many hyphenated words:*"
   ]
  },
  {
   "cell_type": "code",
   "execution_count": 142,
   "metadata": {},
   "outputs": [
    {
     "name": "stdout",
     "output_type": "stream",
     "text": [
      "jean-christophe\n",
      "jean-pierre\n"
     ]
    }
   ],
   "source": [
    "for w in wordlist:\n",
    "    if '-' in w:\n",
    "        print(w)"
   ]
  },
  {
   "cell_type": "markdown",
   "metadata": {},
   "source": [
    "*So we'll have to create one using one of the corpora.  I'm sure the Brown Corpus has hyphenated words, so let's use that:*"
   ]
  },
  {
   "cell_type": "code",
   "execution_count": 154,
   "metadata": {},
   "outputs": [],
   "source": [
    "brown_words = sorted(set([w.lower() for w in nltk.corpus.brown.words()]))"
   ]
  },
  {
   "cell_type": "markdown",
   "metadata": {},
   "source": [
    "*The function below uses regular expressions to find all the hyphenated words with line breaks in a text.  It iterates through all the hits, checking them against a master word list.  If the hyphenated form is in the word list, the hyphen stays in; otherwise it is removed.*  \n"
   ]
  },
  {
   "cell_type": "code",
   "execution_count": 179,
   "metadata": {},
   "outputs": [],
   "source": [
    "def check_line_break(text, wordlist):\n",
    "    \"\"\"\n",
    "    Finds hyphenated words with line breaks in a text and \n",
    "    removes hyphens if they are the results of a split on \n",
    "    a line break.\n",
    "    \n",
    "    Arguments:\n",
    "    \n",
    "    text:     String which may have hyphens.\n",
    "    wordlist: List of accepted word forms.\n",
    "    \"\"\"\n",
    "    \n",
    "    # the function will only run if there's a hyphen in the string.\n",
    "    if '-' in text:\n",
    "        \n",
    "        # find all the hyphenated words\n",
    "        hyphen = re.findall(r'\\b\\w*-\\n\\w*\\b', text)\n",
    "        \n",
    "        # perform lookup for each hyphenated word\n",
    "        for h in hyphen:\n",
    "            # remove the newspace to get the hyphenated form\n",
    "            check = re.sub(r'-\\n', '-', h)\n",
    "            \n",
    "            # keep the hyphen if the hyphenated form is in the wordlist\n",
    "            if check in wordlist:\n",
    "                text =  re.sub(h, check, text)\n",
    "            # otherwise remove it\n",
    "            else:\n",
    "                text = re.sub(h, re.sub(r'-\\n', '', h), text)\n",
    "    \n",
    "    return text"
   ]
  },
  {
   "cell_type": "code",
   "execution_count": 180,
   "metadata": {},
   "outputs": [
    {
     "data": {
      "text/plain": [
       "\"I'm trying to find the long-term solution.\""
      ]
     },
     "execution_count": 180,
     "metadata": {},
     "output_type": "execute_result"
    }
   ],
   "source": [
    "test = \"I'm trying to find the long-\\nterm solution.\"\n",
    "\n",
    "check_line_break(test, brown_words)"
   ]
  },
  {
   "cell_type": "code",
   "execution_count": 181,
   "metadata": {},
   "outputs": [
    {
     "data": {
      "text/plain": [
       "\"The word encyclopedia shouldn't have a hyphen.\""
      ]
     },
     "execution_count": 181,
     "metadata": {},
     "output_type": "execute_result"
    }
   ],
   "source": [
    "test = \"The word encyclo-\\npedia shouldn't have a hyphen.\"\n",
    "\n",
    "check_line_break(test, brown_words)"
   ]
  },
  {
   "cell_type": "markdown",
   "metadata": {},
   "source": [
    "*The function won't break if there aren't any hyphens.*"
   ]
  },
  {
   "cell_type": "code",
   "execution_count": 182,
   "metadata": {},
   "outputs": [
    {
     "data": {
      "text/plain": [
       "'This is a test.'"
      ]
     },
     "execution_count": 182,
     "metadata": {},
     "output_type": "execute_result"
    }
   ],
   "source": [
    "test = \"This is a test.\"\n",
    "check_line_break(test, brown_words)"
   ]
  },
  {
   "cell_type": "markdown",
   "metadata": {},
   "source": [
    "*And it should find all the hyphenated words with line breaks inside of them:*"
   ]
  },
  {
   "cell_type": "code",
   "execution_count": 183,
   "metadata": {},
   "outputs": [
    {
     "data": {
      "text/plain": [
       "\"I'm trying to find the long-term solution in this encyclopedia.\""
      ]
     },
     "execution_count": 183,
     "metadata": {},
     "output_type": "execute_result"
    }
   ],
   "source": [
    "test = \"I'm trying to find the long-\\nterm solution in this encyclo-\\npedia.\"\n",
    "\n",
    "check_line_break(test, brown_words)"
   ]
  },
  {
   "cell_type": "markdown",
   "metadata": {},
   "source": [
    "##### 39. \n",
    "\n",
    "★ Read the Wikipedia entry on *Soundex*. Implement this algorithm in Python."
   ]
  },
  {
   "cell_type": "markdown",
   "metadata": {},
   "source": [
    "*I've basically recreated the algorithm as outlined in the Wikipedia entry.  There's one place in the Wikipedia entry where the explanation is a little confusing (if not downright inaccurate): In the first step, we want to drop only the non-initial occurrences of \"h\" and \"w\".  We want to replace vowels with zeros in case they come between two instances of consonants with identical values.  In a later stage, consecutive duplicate consonant values will be merged into one, unless they occur on either side of a vowel.  Therefore, we want to retain the zeros until the previous step is finished.*"
   ]
  },
  {
   "cell_type": "code",
   "execution_count": 27,
   "metadata": {},
   "outputs": [],
   "source": [
    "def get_soundex_digit(chr):\n",
    "    \"\"\"\n",
    "    Returns a numerical digit based on a consonant's value\n",
    "    in the Soundex algorithm.\n",
    "    \"\"\"\n",
    "        \n",
    "    cs = ['bfpv', 'cgjkqsxz', 'dt', 'l', 'mn', 'r']\n",
    "    for i in range(len(cs)):\n",
    "        if chr.lower() in cs[i]:\n",
    "            return str(i + 1)\n",
    "        \n",
    "    return \"0\"\n",
    "\n",
    "def remove_consecutive_duplicates(text):\n",
    "    \"\"\"\n",
    "    Returns a string with consecutive duplicates removed.\n",
    "    \"\"\"\n",
    "    \n",
    "    new_text = text[0]\n",
    "    \n",
    "    for i in text[1:]:\n",
    "        if i != new_text[-1]:\n",
    "            new_text += i\n",
    "            \n",
    "    return new_text\n",
    "\n",
    "def create_soundex(name):\n",
    "    \"\"\"\n",
    "    Uses the Soundex algorithm to create an index for a name.\n",
    "    \"\"\"\n",
    "    \n",
    "    # Start with the first letter.  Capitalize this letter\n",
    "    # if it's not already capitalized.\n",
    "    soundex = name[0].upper()\n",
    "    \n",
    "    # Remove all occurrences of h and w\n",
    "    name = re.sub(r'[hw]', '', name[1:])\n",
    "    \n",
    "    # Replace vowels with zeros. After we assign values to consonants,\n",
    "    # consecutive identical values will be removed, except in \n",
    "    # the case that they are on either side of a vowel. So the zeros will\n",
    "    # be retained until this point.  After this they will be deleted.\n",
    "    name = re.sub(r'[aeiouy]', '0', name)\n",
    "    \n",
    "    # Replace all consonants with digits using get_soundex_digit\n",
    "    new_name = ''\n",
    "    for n in name:\n",
    "        new_name += (re.sub(r'[^0]', get_soundex_digit(n), n))\n",
    "\n",
    "    name = new_name\n",
    "    \n",
    "    # Replace all adjacent identical digits with one digit\n",
    "    name = remove_consecutive_duplicates(name)\n",
    "\n",
    "    # First digit can't be of the same group as the beginning character\n",
    "    if get_soundex_digit(soundex) == name[0]:\n",
    "        name = name[1:]\n",
    "    \n",
    "    # Remove zeros\n",
    "    name = re.sub(r'0', '', name)\n",
    "    \n",
    "    # In case everything after the first letter is a vowel\n",
    "    if len(name) == 0:\n",
    "        return soundex + ('000')\n",
    "        \n",
    "    soundex += name\n",
    "    \n",
    "    # Index can only be four characters long\n",
    "    if len(soundex) == 4:\n",
    "        return soundex\n",
    "    elif len(soundex) > 4:\n",
    "        return soundex[:4]\n",
    "    else:\n",
    "        # Add zeros if the index is shorter than 4\n",
    "        while len(soundex) < 4:\n",
    "            soundex += \"0\"\n",
    "\n",
    "        return soundex\n",
    "        \n",
    "    \n",
    "        "
   ]
  },
  {
   "cell_type": "markdown",
   "metadata": {},
   "source": [
    "*These were the examples given on the Wikipedia entry for Soundex.  My code returned the same results as the Wikipedia entry.*"
   ]
  },
  {
   "cell_type": "code",
   "execution_count": 28,
   "metadata": {},
   "outputs": [
    {
     "name": "stdout",
     "output_type": "stream",
     "text": [
      "['R163', 'R163', 'R150', 'A261', 'A261', 'T522', 'P236', 'H555']\n"
     ]
    }
   ],
   "source": [
    "names = [\"Robert\", \"robert\", \"Rubin\", \"Ashcraft\", \"Ashcroft\", \"Tymczak\", \n",
    "         \"Pfister\", \"Honeyman\"]\n",
    "\n",
    "print([create_soundex(n) for n in names])"
   ]
  },
  {
   "cell_type": "markdown",
   "metadata": {},
   "source": [
    "*Found a bunch of examples of Soundex indexing [at this blog here](https://sistemanalize.wordpress.com/2017/12/21/big-data-phonetic-similarity-soundex/ \"Soundex examples\").  My code returned the same values as those on the blog.*"
   ]
  },
  {
   "cell_type": "code",
   "execution_count": 30,
   "metadata": {},
   "outputs": [
    {
     "name": "stdout",
     "output_type": "stream",
     "text": [
      "['F634', 'J525', 'J523', 'S530', 'M235', 'M600', 'A356', 'S560', 'A560', 'M200']\n"
     ]
    }
   ],
   "source": [
    "names = [\"Fairdale\", \"Jonson\", \"Jonston\", \"Smith\", \"MacDonald\", \"Mayer\",\n",
    "         \"Admire\", \"Smire\", \"Amire\", \"Mayes\"]\n",
    "\n",
    "print([create_soundex(n) for n in names])"
   ]
  },
  {
   "cell_type": "code",
   "execution_count": 29,
   "metadata": {},
   "outputs": [
    {
     "name": "stdout",
     "output_type": "stream",
     "text": [
      "['M000', 'M620', 'M652', 'M620', 'M560', 'M653', 'M610', 'M625']\n"
     ]
    }
   ],
   "source": [
    "names = [\"Mayo\", \"Meiers\", \"Mierins\", \"Miers\", \"Mimre\", \"Miranda\", \n",
    "         \"Mirfe\", \"Mirissimo\"]\n",
    "\n",
    "print([create_soundex(n) for n in names])"
   ]
  },
  {
   "cell_type": "markdown",
   "metadata": {},
   "source": [
    "##### 40. \n",
    "\n",
    "★ Obtain raw texts from two or more genres and compute their respective reading difficulty scores as in the earlier exercise on reading difficulty. E.g. compare ABC Rural News and ABC Science News (`nltk.corpus.abc`). Use Punkt to perform sentence segmentation."
   ]
  },
  {
   "cell_type": "code",
   "execution_count": 35,
   "metadata": {},
   "outputs": [],
   "source": [
    "abc = nltk.corpus.abc"
   ]
  },
  {
   "cell_type": "markdown",
   "metadata": {},
   "source": [
    "*Instead of reinventing the wheel, I'm just going to redo the function `get_brown_ari` that I wrote above for question 29.  The only difference worth mentioning is that we have to add the name of the corpus as one of the arguments.*"
   ]
  },
  {
   "cell_type": "code",
   "execution_count": 42,
   "metadata": {},
   "outputs": [],
   "source": [
    "\n",
    "def get_ari(corpus, cat):\n",
    "    \"\"\"\n",
    "    Returns the Automated Readability Index (ARI) of a given\n",
    "    category of a NLTK corpus.\n",
    "    \"\"\"\n",
    "    \n",
    "    # calculate total letters in the category\n",
    "    total_letters = 0\n",
    "    for w in corpus.words(fileids = cat):\n",
    "        total_letters += len(w)\n",
    "    \n",
    "    # calculate average number of letters per word\n",
    "    mu_w = total_letters/len(corpus.words(fileids = cat))\n",
    "    \n",
    "    # calculate average number of words per sentence\n",
    "    mu_s = len(corpus.words(fileids = cat)) / len(corpus.sents(fileids = cat))\n",
    "    \n",
    "    return (4.71 * mu_w) + (0.5 * mu_s) - 21.43"
   ]
  },
  {
   "cell_type": "code",
   "execution_count": 50,
   "metadata": {},
   "outputs": [
    {
     "name": "stdout",
     "output_type": "stream",
     "text": [
      "In the ABC Corpus, the Automated Readability Index (ARI) for the category:\n",
      "\n",
      "                                             ...\"Rural\" is 12.3487.\n",
      "                                             ...\"Science\" is 12.5276.\n"
     ]
    }
   ],
   "source": [
    "print(\"In the ABC Corpus, the Automated Readability Index (ARI) for the category:\\n\")\n",
    "\n",
    "for f in abc.fileids():\n",
    "    ari = get_ari(abc, f)\n",
    "    f = re.sub('.txt', '', f)\n",
    "    print(\"{:45}...\\\"{}\\\" is {:.4f}.\".format(\"\",f.title(), ari) )"
   ]
  },
  {
   "cell_type": "markdown",
   "metadata": {},
   "source": [
    "##### 41.\n",
    "\n",
    "★ Rewrite the following nested loop as a nested list comprehension:\n",
    "\n",
    "```\t\n",
    ">>> words = ['attribution', 'confabulation', 'elocution',\n",
    "...          'sequoia', 'tenacious', 'unidirectional']\n",
    ">>> vsequences = set()\n",
    ">>> for word in words:\n",
    "...     vowels = []\n",
    "...     for char in word:\n",
    "...         if char in 'aeiou':\n",
    "...             vowels.append(char)\n",
    "...     vsequences.add(''.join(vowels))\n",
    ">>> sorted(vsequences)\n",
    "['aiuio', 'eaiou', 'eouio', 'euoia', 'oauaio', 'uiieioa']\n",
    "```"
   ]
  },
  {
   "cell_type": "code",
   "execution_count": 60,
   "metadata": {},
   "outputs": [
    {
     "data": {
      "text/plain": [
       "['aiuio', 'eaiou', 'eouio', 'euoia', 'oauaio', 'uiieioa']"
      ]
     },
     "execution_count": 60,
     "metadata": {},
     "output_type": "execute_result"
    }
   ],
   "source": [
    "words = ['attribution', 'confabulation', 'elocution',\n",
    "         'sequoia', 'tenacious', 'unidirectional']\n",
    "\n",
    "sorted(set([''.join([char for char in word if char in 'aeiou']) for word in words]))\n"
   ]
  },
  {
   "cell_type": "markdown",
   "metadata": {},
   "source": [
    "##### 42. \n",
    "\n",
    "★ Use WordNet to create a semantic index for a text collection. Extend the concordance search program in 3.6, indexing each word using the offset of its first synset, e.g. `wn.synsets('dog')[0].offset` (and optionally the offset of some of its ancestors in the hypernym hierarchy).\n",
    "\n",
    "*This looks to be very difficult...*"
   ]
  },
  {
   "cell_type": "code",
   "execution_count": null,
   "metadata": {},
   "outputs": [],
   "source": []
  },
  {
   "cell_type": "code",
   "execution_count": null,
   "metadata": {},
   "outputs": [],
   "source": []
  },
  {
   "cell_type": "code",
   "execution_count": null,
   "metadata": {},
   "outputs": [],
   "source": []
  },
  {
   "cell_type": "code",
   "execution_count": 67,
   "metadata": {},
   "outputs": [],
   "source": [
    "from nltk.corpus import wordnet as wn"
   ]
  },
  {
   "cell_type": "code",
   "execution_count": 69,
   "metadata": {},
   "outputs": [
    {
     "data": {
      "text/plain": [
       "2084071"
      ]
     },
     "execution_count": 69,
     "metadata": {},
     "output_type": "execute_result"
    }
   ],
   "source": [
    "wn.synsets('dog')[0].offset()"
   ]
  },
  {
   "cell_type": "code",
   "execution_count": null,
   "metadata": {},
   "outputs": [],
   "source": []
  },
  {
   "cell_type": "code",
   "execution_count": null,
   "metadata": {},
   "outputs": [],
   "source": []
  },
  {
   "cell_type": "code",
   "execution_count": null,
   "metadata": {},
   "outputs": [],
   "source": []
  },
  {
   "cell_type": "code",
   "execution_count": null,
   "metadata": {},
   "outputs": [],
   "source": []
  },
  {
   "cell_type": "code",
   "execution_count": null,
   "metadata": {},
   "outputs": [],
   "source": []
  }
 ],
 "metadata": {
  "kernelspec": {
   "display_name": "Python 3",
   "language": "python",
   "name": "python3"
  },
  "language_info": {
   "codemirror_mode": {
    "name": "ipython",
    "version": 3
   },
   "file_extension": ".py",
   "mimetype": "text/x-python",
   "name": "python",
   "nbconvert_exporter": "python",
   "pygments_lexer": "ipython3",
   "version": "3.7.3"
  }
 },
 "nbformat": 4,
 "nbformat_minor": 2
}
