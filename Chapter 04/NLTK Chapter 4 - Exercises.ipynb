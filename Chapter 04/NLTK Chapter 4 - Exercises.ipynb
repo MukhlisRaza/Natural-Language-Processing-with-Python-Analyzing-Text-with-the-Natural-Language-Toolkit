{
 "cells": [
  {
   "cell_type": "markdown",
   "metadata": {},
   "source": [
    "# NLTK Chapter 4\n",
    "\n",
    "## Writing Structured Programs\n",
    "\n",
    "*The html version of this chapter in the NLTK book is available [here](https://www.nltk.org/book/ch04.html#exercises \"Ch04 Exercises\").*\n",
    "\n",
    "### 4.11   Exercises"
   ]
  },
  {
   "cell_type": "code",
   "execution_count": 1,
   "metadata": {},
   "outputs": [],
   "source": [
    "import nltk, re, pprint"
   ]
  },
  {
   "cell_type": "markdown",
   "metadata": {},
   "source": [
    "\n",
    "\n",
    "###### 1. \n",
    "\n",
    "☼ Find out more about sequence objects using Python's help facility. In the interpreter, type `help(str)`, `help(list)`, and `help(tuple)`. This will give you a full list of the functions supported by each type. Some functions have special names flanked with underscore; as the help documentation shows, each such function corresponds to something more familiar. For example `x.__getitem__(y)` is just a long-winded way of saying `x[y]`."
   ]
  },
  {
   "cell_type": "code",
   "execution_count": 1,
   "metadata": {},
   "outputs": [
    {
     "name": "stdout",
     "output_type": "stream",
     "text": [
      "Help on class str in module builtins:\n",
      "\n",
      "class str(object)\n",
      " |  str(object='') -> str\n",
      " |  str(bytes_or_buffer[, encoding[, errors]]) -> str\n",
      " |  \n",
      " |  Create a new string object from the given object. If encoding or\n",
      " |  errors is specified, then the object must expose a data buffer\n",
      " |  that will be decoded using the given encoding and error handler.\n",
      " |  Otherwise, returns the result of object.__str__() (if defined)\n",
      " |  or repr(object).\n",
      " |  encoding defaults to sys.getdefaultencoding().\n",
      " |  errors defaults to 'strict'.\n",
      " |  \n",
      " |  Methods defined here:\n",
      " |  \n",
      " |  __add__(self, value, /)\n",
      " |      Return self+value.\n",
      " |  \n",
      " |  __contains__(self, key, /)\n",
      " |      Return key in self.\n",
      " |  \n",
      " |  __eq__(self, value, /)\n",
      " |      Return self==value.\n",
      " |  \n",
      " |  __format__(self, format_spec, /)\n",
      " |      Return a formatted version of the string as described by format_spec.\n",
      " |  \n",
      " |  __ge__(self, value, /)\n",
      " |      Return self>=value.\n",
      " |  \n",
      " |  __getattribute__(self, name, /)\n",
      " |      Return getattr(self, name).\n",
      " |  \n",
      " |  __getitem__(self, key, /)\n",
      " |      Return self[key].\n",
      " |  \n",
      " |  __getnewargs__(...)\n",
      " |  \n",
      " |  __gt__(self, value, /)\n",
      " |      Return self>value.\n",
      " |  \n",
      " |  __hash__(self, /)\n",
      " |      Return hash(self).\n",
      " |  \n",
      " |  __iter__(self, /)\n",
      " |      Implement iter(self).\n",
      " |  \n",
      " |  __le__(self, value, /)\n",
      " |      Return self<=value.\n",
      " |  \n",
      " |  __len__(self, /)\n",
      " |      Return len(self).\n",
      " |  \n",
      " |  __lt__(self, value, /)\n",
      " |      Return self<value.\n",
      " |  \n",
      " |  __mod__(self, value, /)\n",
      " |      Return self%value.\n",
      " |  \n",
      " |  __mul__(self, value, /)\n",
      " |      Return self*value.\n",
      " |  \n",
      " |  __ne__(self, value, /)\n",
      " |      Return self!=value.\n",
      " |  \n",
      " |  __repr__(self, /)\n",
      " |      Return repr(self).\n",
      " |  \n",
      " |  __rmod__(self, value, /)\n",
      " |      Return value%self.\n",
      " |  \n",
      " |  __rmul__(self, value, /)\n",
      " |      Return value*self.\n",
      " |  \n",
      " |  __sizeof__(self, /)\n",
      " |      Return the size of the string in memory, in bytes.\n",
      " |  \n",
      " |  __str__(self, /)\n",
      " |      Return str(self).\n",
      " |  \n",
      " |  capitalize(self, /)\n",
      " |      Return a capitalized version of the string.\n",
      " |      \n",
      " |      More specifically, make the first character have upper case and the rest lower\n",
      " |      case.\n",
      " |  \n",
      " |  casefold(self, /)\n",
      " |      Return a version of the string suitable for caseless comparisons.\n",
      " |  \n",
      " |  center(self, width, fillchar=' ', /)\n",
      " |      Return a centered string of length width.\n",
      " |      \n",
      " |      Padding is done using the specified fill character (default is a space).\n",
      " |  \n",
      " |  count(...)\n",
      " |      S.count(sub[, start[, end]]) -> int\n",
      " |      \n",
      " |      Return the number of non-overlapping occurrences of substring sub in\n",
      " |      string S[start:end].  Optional arguments start and end are\n",
      " |      interpreted as in slice notation.\n",
      " |  \n",
      " |  encode(self, /, encoding='utf-8', errors='strict')\n",
      " |      Encode the string using the codec registered for encoding.\n",
      " |      \n",
      " |      encoding\n",
      " |        The encoding in which to encode the string.\n",
      " |      errors\n",
      " |        The error handling scheme to use for encoding errors.\n",
      " |        The default is 'strict' meaning that encoding errors raise a\n",
      " |        UnicodeEncodeError.  Other possible values are 'ignore', 'replace' and\n",
      " |        'xmlcharrefreplace' as well as any other name registered with\n",
      " |        codecs.register_error that can handle UnicodeEncodeErrors.\n",
      " |  \n",
      " |  endswith(...)\n",
      " |      S.endswith(suffix[, start[, end]]) -> bool\n",
      " |      \n",
      " |      Return True if S ends with the specified suffix, False otherwise.\n",
      " |      With optional start, test S beginning at that position.\n",
      " |      With optional end, stop comparing S at that position.\n",
      " |      suffix can also be a tuple of strings to try.\n",
      " |  \n",
      " |  expandtabs(self, /, tabsize=8)\n",
      " |      Return a copy where all tab characters are expanded using spaces.\n",
      " |      \n",
      " |      If tabsize is not given, a tab size of 8 characters is assumed.\n",
      " |  \n",
      " |  find(...)\n",
      " |      S.find(sub[, start[, end]]) -> int\n",
      " |      \n",
      " |      Return the lowest index in S where substring sub is found,\n",
      " |      such that sub is contained within S[start:end].  Optional\n",
      " |      arguments start and end are interpreted as in slice notation.\n",
      " |      \n",
      " |      Return -1 on failure.\n",
      " |  \n",
      " |  format(...)\n",
      " |      S.format(*args, **kwargs) -> str\n",
      " |      \n",
      " |      Return a formatted version of S, using substitutions from args and kwargs.\n",
      " |      The substitutions are identified by braces ('{' and '}').\n",
      " |  \n",
      " |  format_map(...)\n",
      " |      S.format_map(mapping) -> str\n",
      " |      \n",
      " |      Return a formatted version of S, using substitutions from mapping.\n",
      " |      The substitutions are identified by braces ('{' and '}').\n",
      " |  \n",
      " |  index(...)\n",
      " |      S.index(sub[, start[, end]]) -> int\n",
      " |      \n",
      " |      Return the lowest index in S where substring sub is found, \n",
      " |      such that sub is contained within S[start:end].  Optional\n",
      " |      arguments start and end are interpreted as in slice notation.\n",
      " |      \n",
      " |      Raises ValueError when the substring is not found.\n",
      " |  \n",
      " |  isalnum(self, /)\n",
      " |      Return True if the string is an alpha-numeric string, False otherwise.\n",
      " |      \n",
      " |      A string is alpha-numeric if all characters in the string are alpha-numeric and\n",
      " |      there is at least one character in the string.\n",
      " |  \n",
      " |  isalpha(self, /)\n",
      " |      Return True if the string is an alphabetic string, False otherwise.\n",
      " |      \n",
      " |      A string is alphabetic if all characters in the string are alphabetic and there\n",
      " |      is at least one character in the string.\n",
      " |  \n",
      " |  isascii(self, /)\n",
      " |      Return True if all characters in the string are ASCII, False otherwise.\n",
      " |      \n",
      " |      ASCII characters have code points in the range U+0000-U+007F.\n",
      " |      Empty string is ASCII too.\n",
      " |  \n",
      " |  isdecimal(self, /)\n",
      " |      Return True if the string is a decimal string, False otherwise.\n",
      " |      \n",
      " |      A string is a decimal string if all characters in the string are decimal and\n",
      " |      there is at least one character in the string.\n",
      " |  \n",
      " |  isdigit(self, /)\n",
      " |      Return True if the string is a digit string, False otherwise.\n",
      " |      \n",
      " |      A string is a digit string if all characters in the string are digits and there\n",
      " |      is at least one character in the string.\n",
      " |  \n",
      " |  isidentifier(self, /)\n",
      " |      Return True if the string is a valid Python identifier, False otherwise.\n",
      " |      \n",
      " |      Use keyword.iskeyword() to test for reserved identifiers such as \"def\" and\n",
      " |      \"class\".\n",
      " |  \n",
      " |  islower(self, /)\n",
      " |      Return True if the string is a lowercase string, False otherwise.\n",
      " |      \n",
      " |      A string is lowercase if all cased characters in the string are lowercase and\n",
      " |      there is at least one cased character in the string.\n",
      " |  \n",
      " |  isnumeric(self, /)\n",
      " |      Return True if the string is a numeric string, False otherwise.\n",
      " |      \n",
      " |      A string is numeric if all characters in the string are numeric and there is at\n",
      " |      least one character in the string.\n",
      " |  \n",
      " |  isprintable(self, /)\n",
      " |      Return True if the string is printable, False otherwise.\n",
      " |      \n",
      " |      A string is printable if all of its characters are considered printable in\n",
      " |      repr() or if it is empty.\n",
      " |  \n",
      " |  isspace(self, /)\n",
      " |      Return True if the string is a whitespace string, False otherwise.\n",
      " |      \n",
      " |      A string is whitespace if all characters in the string are whitespace and there\n",
      " |      is at least one character in the string.\n",
      " |  \n",
      " |  istitle(self, /)\n",
      " |      Return True if the string is a title-cased string, False otherwise.\n",
      " |      \n",
      " |      In a title-cased string, upper- and title-case characters may only\n",
      " |      follow uncased characters and lowercase characters only cased ones.\n",
      " |  \n",
      " |  isupper(self, /)\n",
      " |      Return True if the string is an uppercase string, False otherwise.\n",
      " |      \n",
      " |      A string is uppercase if all cased characters in the string are uppercase and\n",
      " |      there is at least one cased character in the string.\n",
      " |  \n",
      " |  join(self, iterable, /)\n",
      " |      Concatenate any number of strings.\n",
      " |      \n",
      " |      The string whose method is called is inserted in between each given string.\n",
      " |      The result is returned as a new string.\n",
      " |      \n",
      " |      Example: '.'.join(['ab', 'pq', 'rs']) -> 'ab.pq.rs'\n",
      " |  \n",
      " |  ljust(self, width, fillchar=' ', /)\n",
      " |      Return a left-justified string of length width.\n",
      " |      \n",
      " |      Padding is done using the specified fill character (default is a space).\n",
      " |  \n",
      " |  lower(self, /)\n",
      " |      Return a copy of the string converted to lowercase.\n",
      " |  \n",
      " |  lstrip(self, chars=None, /)\n",
      " |      Return a copy of the string with leading whitespace removed.\n",
      " |      \n",
      " |      If chars is given and not None, remove characters in chars instead.\n",
      " |  \n",
      " |  partition(self, sep, /)\n",
      " |      Partition the string into three parts using the given separator.\n",
      " |      \n",
      " |      This will search for the separator in the string.  If the separator is found,\n",
      " |      returns a 3-tuple containing the part before the separator, the separator\n",
      " |      itself, and the part after it.\n",
      " |      \n",
      " |      If the separator is not found, returns a 3-tuple containing the original string\n",
      " |      and two empty strings.\n",
      " |  \n",
      " |  replace(self, old, new, count=-1, /)\n",
      " |      Return a copy with all occurrences of substring old replaced by new.\n",
      " |      \n",
      " |        count\n",
      " |          Maximum number of occurrences to replace.\n",
      " |          -1 (the default value) means replace all occurrences.\n",
      " |      \n",
      " |      If the optional argument count is given, only the first count occurrences are\n",
      " |      replaced.\n",
      " |  \n",
      " |  rfind(...)\n",
      " |      S.rfind(sub[, start[, end]]) -> int\n",
      " |      \n",
      " |      Return the highest index in S where substring sub is found,\n",
      " |      such that sub is contained within S[start:end].  Optional\n",
      " |      arguments start and end are interpreted as in slice notation.\n",
      " |      \n",
      " |      Return -1 on failure.\n",
      " |  \n",
      " |  rindex(...)\n",
      " |      S.rindex(sub[, start[, end]]) -> int\n",
      " |      \n",
      " |      Return the highest index in S where substring sub is found,\n",
      " |      such that sub is contained within S[start:end].  Optional\n",
      " |      arguments start and end are interpreted as in slice notation.\n",
      " |      \n",
      " |      Raises ValueError when the substring is not found.\n",
      " |  \n",
      " |  rjust(self, width, fillchar=' ', /)\n",
      " |      Return a right-justified string of length width.\n",
      " |      \n",
      " |      Padding is done using the specified fill character (default is a space).\n",
      " |  \n",
      " |  rpartition(self, sep, /)\n",
      " |      Partition the string into three parts using the given separator.\n",
      " |      \n",
      " |      This will search for the separator in the string, starting at the end. If\n",
      " |      the separator is found, returns a 3-tuple containing the part before the\n",
      " |      separator, the separator itself, and the part after it.\n",
      " |      \n",
      " |      If the separator is not found, returns a 3-tuple containing two empty strings\n",
      " |      and the original string.\n",
      " |  \n",
      " |  rsplit(self, /, sep=None, maxsplit=-1)\n",
      " |      Return a list of the words in the string, using sep as the delimiter string.\n",
      " |      \n",
      " |        sep\n",
      " |          The delimiter according which to split the string.\n",
      " |          None (the default value) means split according to any whitespace,\n",
      " |          and discard empty strings from the result.\n",
      " |        maxsplit\n",
      " |          Maximum number of splits to do.\n",
      " |          -1 (the default value) means no limit.\n",
      " |      \n",
      " |      Splits are done starting at the end of the string and working to the front.\n",
      " |  \n",
      " |  rstrip(self, chars=None, /)\n",
      " |      Return a copy of the string with trailing whitespace removed.\n",
      " |      \n",
      " |      If chars is given and not None, remove characters in chars instead.\n",
      " |  \n",
      " |  split(self, /, sep=None, maxsplit=-1)\n",
      " |      Return a list of the words in the string, using sep as the delimiter string.\n",
      " |      \n",
      " |      sep\n",
      " |        The delimiter according which to split the string.\n",
      " |        None (the default value) means split according to any whitespace,\n",
      " |        and discard empty strings from the result.\n",
      " |      maxsplit\n",
      " |        Maximum number of splits to do.\n",
      " |        -1 (the default value) means no limit.\n",
      " |  \n",
      " |  splitlines(self, /, keepends=False)\n",
      " |      Return a list of the lines in the string, breaking at line boundaries.\n",
      " |      \n",
      " |      Line breaks are not included in the resulting list unless keepends is given and\n",
      " |      true.\n",
      " |  \n",
      " |  startswith(...)\n",
      " |      S.startswith(prefix[, start[, end]]) -> bool\n",
      " |      \n",
      " |      Return True if S starts with the specified prefix, False otherwise.\n",
      " |      With optional start, test S beginning at that position.\n",
      " |      With optional end, stop comparing S at that position.\n",
      " |      prefix can also be a tuple of strings to try.\n",
      " |  \n",
      " |  strip(self, chars=None, /)\n",
      " |      Return a copy of the string with leading and trailing whitespace remove.\n",
      " |      \n",
      " |      If chars is given and not None, remove characters in chars instead.\n",
      " |  \n",
      " |  swapcase(self, /)\n",
      " |      Convert uppercase characters to lowercase and lowercase characters to uppercase.\n",
      " |  \n",
      " |  title(self, /)\n",
      " |      Return a version of the string where each word is titlecased.\n",
      " |      \n",
      " |      More specifically, words start with uppercased characters and all remaining\n",
      " |      cased characters have lower case.\n",
      " |  \n",
      " |  translate(self, table, /)\n",
      " |      Replace each character in the string using the given translation table.\n",
      " |      \n",
      " |        table\n",
      " |          Translation table, which must be a mapping of Unicode ordinals to\n",
      " |          Unicode ordinals, strings, or None.\n",
      " |      \n",
      " |      The table must implement lookup/indexing via __getitem__, for instance a\n",
      " |      dictionary or list.  If this operation raises LookupError, the character is\n",
      " |      left untouched.  Characters mapped to None are deleted.\n",
      " |  \n",
      " |  upper(self, /)\n",
      " |      Return a copy of the string converted to uppercase.\n",
      " |  \n",
      " |  zfill(self, width, /)\n",
      " |      Pad a numeric string with zeros on the left, to fill a field of the given width.\n",
      " |      \n",
      " |      The string is never truncated.\n",
      " |  \n",
      " |  ----------------------------------------------------------------------\n",
      " |  Static methods defined here:\n",
      " |  \n",
      " |  __new__(*args, **kwargs) from builtins.type\n",
      " |      Create and return a new object.  See help(type) for accurate signature.\n",
      " |  \n",
      " |  maketrans(x, y=None, z=None, /)\n",
      " |      Return a translation table usable for str.translate().\n",
      " |      \n",
      " |      If there is only one argument, it must be a dictionary mapping Unicode\n",
      " |      ordinals (integers) or characters to Unicode ordinals, strings or None.\n",
      " |      Character keys will be then converted to ordinals.\n",
      " |      If there are two arguments, they must be strings of equal length, and\n",
      " |      in the resulting dictionary, each character in x will be mapped to the\n",
      " |      character at the same position in y. If there is a third argument, it\n",
      " |      must be a string, whose characters will be mapped to None in the result.\n",
      "\n"
     ]
    }
   ],
   "source": [
    "help(str)"
   ]
  },
  {
   "cell_type": "code",
   "execution_count": 2,
   "metadata": {},
   "outputs": [
    {
     "name": "stdout",
     "output_type": "stream",
     "text": [
      "Help on class list in module builtins:\n",
      "\n",
      "class list(object)\n",
      " |  list(iterable=(), /)\n",
      " |  \n",
      " |  Built-in mutable sequence.\n",
      " |  \n",
      " |  If no argument is given, the constructor creates a new empty list.\n",
      " |  The argument must be an iterable if specified.\n",
      " |  \n",
      " |  Methods defined here:\n",
      " |  \n",
      " |  __add__(self, value, /)\n",
      " |      Return self+value.\n",
      " |  \n",
      " |  __contains__(self, key, /)\n",
      " |      Return key in self.\n",
      " |  \n",
      " |  __delitem__(self, key, /)\n",
      " |      Delete self[key].\n",
      " |  \n",
      " |  __eq__(self, value, /)\n",
      " |      Return self==value.\n",
      " |  \n",
      " |  __ge__(self, value, /)\n",
      " |      Return self>=value.\n",
      " |  \n",
      " |  __getattribute__(self, name, /)\n",
      " |      Return getattr(self, name).\n",
      " |  \n",
      " |  __getitem__(...)\n",
      " |      x.__getitem__(y) <==> x[y]\n",
      " |  \n",
      " |  __gt__(self, value, /)\n",
      " |      Return self>value.\n",
      " |  \n",
      " |  __iadd__(self, value, /)\n",
      " |      Implement self+=value.\n",
      " |  \n",
      " |  __imul__(self, value, /)\n",
      " |      Implement self*=value.\n",
      " |  \n",
      " |  __init__(self, /, *args, **kwargs)\n",
      " |      Initialize self.  See help(type(self)) for accurate signature.\n",
      " |  \n",
      " |  __iter__(self, /)\n",
      " |      Implement iter(self).\n",
      " |  \n",
      " |  __le__(self, value, /)\n",
      " |      Return self<=value.\n",
      " |  \n",
      " |  __len__(self, /)\n",
      " |      Return len(self).\n",
      " |  \n",
      " |  __lt__(self, value, /)\n",
      " |      Return self<value.\n",
      " |  \n",
      " |  __mul__(self, value, /)\n",
      " |      Return self*value.\n",
      " |  \n",
      " |  __ne__(self, value, /)\n",
      " |      Return self!=value.\n",
      " |  \n",
      " |  __repr__(self, /)\n",
      " |      Return repr(self).\n",
      " |  \n",
      " |  __reversed__(self, /)\n",
      " |      Return a reverse iterator over the list.\n",
      " |  \n",
      " |  __rmul__(self, value, /)\n",
      " |      Return value*self.\n",
      " |  \n",
      " |  __setitem__(self, key, value, /)\n",
      " |      Set self[key] to value.\n",
      " |  \n",
      " |  __sizeof__(self, /)\n",
      " |      Return the size of the list in memory, in bytes.\n",
      " |  \n",
      " |  append(self, object, /)\n",
      " |      Append object to the end of the list.\n",
      " |  \n",
      " |  clear(self, /)\n",
      " |      Remove all items from list.\n",
      " |  \n",
      " |  copy(self, /)\n",
      " |      Return a shallow copy of the list.\n",
      " |  \n",
      " |  count(self, value, /)\n",
      " |      Return number of occurrences of value.\n",
      " |  \n",
      " |  extend(self, iterable, /)\n",
      " |      Extend list by appending elements from the iterable.\n",
      " |  \n",
      " |  index(self, value, start=0, stop=9223372036854775807, /)\n",
      " |      Return first index of value.\n",
      " |      \n",
      " |      Raises ValueError if the value is not present.\n",
      " |  \n",
      " |  insert(self, index, object, /)\n",
      " |      Insert object before index.\n",
      " |  \n",
      " |  pop(self, index=-1, /)\n",
      " |      Remove and return item at index (default last).\n",
      " |      \n",
      " |      Raises IndexError if list is empty or index is out of range.\n",
      " |  \n",
      " |  remove(self, value, /)\n",
      " |      Remove first occurrence of value.\n",
      " |      \n",
      " |      Raises ValueError if the value is not present.\n",
      " |  \n",
      " |  reverse(self, /)\n",
      " |      Reverse *IN PLACE*.\n",
      " |  \n",
      " |  sort(self, /, *, key=None, reverse=False)\n",
      " |      Stable sort *IN PLACE*.\n",
      " |  \n",
      " |  ----------------------------------------------------------------------\n",
      " |  Static methods defined here:\n",
      " |  \n",
      " |  __new__(*args, **kwargs) from builtins.type\n",
      " |      Create and return a new object.  See help(type) for accurate signature.\n",
      " |  \n",
      " |  ----------------------------------------------------------------------\n",
      " |  Data and other attributes defined here:\n",
      " |  \n",
      " |  __hash__ = None\n",
      "\n"
     ]
    }
   ],
   "source": [
    "help(list)"
   ]
  },
  {
   "cell_type": "code",
   "execution_count": 3,
   "metadata": {},
   "outputs": [
    {
     "name": "stdout",
     "output_type": "stream",
     "text": [
      "Help on class tuple in module builtins:\n",
      "\n",
      "class tuple(object)\n",
      " |  tuple(iterable=(), /)\n",
      " |  \n",
      " |  Built-in immutable sequence.\n",
      " |  \n",
      " |  If no argument is given, the constructor returns an empty tuple.\n",
      " |  If iterable is specified the tuple is initialized from iterable's items.\n",
      " |  \n",
      " |  If the argument is a tuple, the return value is the same object.\n",
      " |  \n",
      " |  Methods defined here:\n",
      " |  \n",
      " |  __add__(self, value, /)\n",
      " |      Return self+value.\n",
      " |  \n",
      " |  __contains__(self, key, /)\n",
      " |      Return key in self.\n",
      " |  \n",
      " |  __eq__(self, value, /)\n",
      " |      Return self==value.\n",
      " |  \n",
      " |  __ge__(self, value, /)\n",
      " |      Return self>=value.\n",
      " |  \n",
      " |  __getattribute__(self, name, /)\n",
      " |      Return getattr(self, name).\n",
      " |  \n",
      " |  __getitem__(self, key, /)\n",
      " |      Return self[key].\n",
      " |  \n",
      " |  __getnewargs__(self, /)\n",
      " |  \n",
      " |  __gt__(self, value, /)\n",
      " |      Return self>value.\n",
      " |  \n",
      " |  __hash__(self, /)\n",
      " |      Return hash(self).\n",
      " |  \n",
      " |  __iter__(self, /)\n",
      " |      Implement iter(self).\n",
      " |  \n",
      " |  __le__(self, value, /)\n",
      " |      Return self<=value.\n",
      " |  \n",
      " |  __len__(self, /)\n",
      " |      Return len(self).\n",
      " |  \n",
      " |  __lt__(self, value, /)\n",
      " |      Return self<value.\n",
      " |  \n",
      " |  __mul__(self, value, /)\n",
      " |      Return self*value.\n",
      " |  \n",
      " |  __ne__(self, value, /)\n",
      " |      Return self!=value.\n",
      " |  \n",
      " |  __repr__(self, /)\n",
      " |      Return repr(self).\n",
      " |  \n",
      " |  __rmul__(self, value, /)\n",
      " |      Return value*self.\n",
      " |  \n",
      " |  count(self, value, /)\n",
      " |      Return number of occurrences of value.\n",
      " |  \n",
      " |  index(self, value, start=0, stop=9223372036854775807, /)\n",
      " |      Return first index of value.\n",
      " |      \n",
      " |      Raises ValueError if the value is not present.\n",
      " |  \n",
      " |  ----------------------------------------------------------------------\n",
      " |  Static methods defined here:\n",
      " |  \n",
      " |  __new__(*args, **kwargs) from builtins.type\n",
      " |      Create and return a new object.  See help(type) for accurate signature.\n",
      "\n"
     ]
    }
   ],
   "source": [
    "help(tuple)"
   ]
  },
  {
   "cell_type": "markdown",
   "metadata": {},
   "source": [
    "##### 2. \n",
    "\n",
    "☼ Identify three operations that can be performed on both tuples and lists. Identify three list operations that cannot be performed on tuples. Name a context where using a list instead of a tuple generates a Python error.\n",
    "\n",
    "*Operations that can be performed on both tuples and lists:*"
   ]
  },
  {
   "cell_type": "code",
   "execution_count": 7,
   "metadata": {},
   "outputs": [
    {
     "name": "stdout",
     "output_type": "stream",
     "text": [
      "['__add__', '__class__', '__contains__', '__delattr__', '__dir__', '__doc__', '__eq__', '__format__', '__ge__', '__getattribute__', '__getitem__', '__gt__', '__hash__', '__init__', '__init_subclass__', '__iter__', '__le__', '__len__', '__lt__', '__mul__', '__ne__', '__new__', '__reduce__', '__reduce_ex__', '__repr__', '__rmul__', '__setattr__', '__sizeof__', '__str__', '__subclasshook__', 'count', 'index']"
     ]
    }
   ],
   "source": [
    "print([x for x in dir(list) if x in dir(tuple)], end = '')"
   ]
  },
  {
   "cell_type": "markdown",
   "metadata": {},
   "source": [
    "*Operations that can be performed on lists, but not tuples:*"
   ]
  },
  {
   "cell_type": "code",
   "execution_count": 13,
   "metadata": {},
   "outputs": [
    {
     "name": "stdout",
     "output_type": "stream",
     "text": [
      "['__delitem__', '__iadd__', '__imul__', '__reversed__', '__setitem__', 'append', 'clear', 'copy', 'extend', 'insert', 'pop', 'remove', 'reverse', 'sort']"
     ]
    }
   ],
   "source": [
    "print([x for x in dir(list) if x not in dir(tuple)], end = '')"
   ]
  },
  {
   "cell_type": "markdown",
   "metadata": {},
   "source": [
    "*Trying to use a list as a key in a dictionary will not work, but it's possible with a tuple:*"
   ]
  },
  {
   "cell_type": "code",
   "execution_count": 16,
   "metadata": {},
   "outputs": [],
   "source": [
    "a = (\"Snugglebunnies\")\n",
    "b = [\"Basselopes\"]\n",
    "\n",
    "c = {a: \"N\"}"
   ]
  },
  {
   "cell_type": "markdown",
   "metadata": {},
   "source": [
    "*Saved as markdown because having a cell that throws an error will cause my notebook to go higgledy piddledy:*\n",
    "\n",
    "```\n",
    "c = {b: \"N\"}\n",
    "\n",
    "---------------------------------------------------------------------------\n",
    "TypeError                                 Traceback (most recent call last)\n",
    "<ipython-input-17-ee5632d64820> in <module>\n",
    "----> 1 c = {b: \"N\"}\n",
    "\n",
    "TypeError: unhashable type: 'list'\n",
    "```"
   ]
  },
  {
   "cell_type": "markdown",
   "metadata": {},
   "source": [
    "*This is because tuples are hashable, but lists are not:*"
   ]
  },
  {
   "cell_type": "code",
   "execution_count": 18,
   "metadata": {},
   "outputs": [
    {
     "data": {
      "text/plain": [
       "6857707573350195552"
      ]
     },
     "execution_count": 18,
     "metadata": {},
     "output_type": "execute_result"
    }
   ],
   "source": [
    "hash(a)"
   ]
  },
  {
   "cell_type": "markdown",
   "metadata": {},
   "source": [
    "\n",
    "```\n",
    "hash(b)\n",
    "\n",
    "---------------------------------------------------------------------------\n",
    "TypeError                                 Traceback (most recent call last)\n",
    "<ipython-input-19-ad85d8b55702> in <module>\n",
    "----> 1 hash(b)\n",
    "\n",
    "TypeError: unhashable type: 'list'\n",
    "        \n",
    "```"
   ]
  },
  {
   "cell_type": "markdown",
   "metadata": {},
   "source": [
    "##### 3. \n",
    "\n",
    "☼ Find out how to create a tuple consisting of a single item. There are at least two ways to do this.\n",
    "\n",
    "*Add a common after a single value, or create a list with a single value, and use `tuple` to convert this.*"
   ]
  },
  {
   "cell_type": "code",
   "execution_count": 20,
   "metadata": {},
   "outputs": [
    {
     "data": {
      "text/plain": [
       "tuple"
      ]
     },
     "execution_count": 20,
     "metadata": {},
     "output_type": "execute_result"
    }
   ],
   "source": [
    "x = 1, \n",
    "\n",
    "type(x)"
   ]
  },
  {
   "cell_type": "code",
   "execution_count": 26,
   "metadata": {},
   "outputs": [
    {
     "data": {
      "text/plain": [
       "tuple"
      ]
     },
     "execution_count": 26,
     "metadata": {},
     "output_type": "execute_result"
    }
   ],
   "source": [
    "x = tuple([1])\n",
    "type(x)"
   ]
  },
  {
   "cell_type": "markdown",
   "metadata": {},
   "source": [
    "##### 4. \n",
    "\n",
    "☼ Create a list `words = ['is', 'NLP', 'fun', '?']`. Use a series of assignment statements (e.g. `words[1] = words[2]`) and a temporary variable `tmp` to transform this list into the list `['NLP', 'is', 'fun', '!']`. Now do the same transformation using tuple assignment."
   ]
  },
  {
   "cell_type": "code",
   "execution_count": 27,
   "metadata": {},
   "outputs": [
    {
     "data": {
      "text/plain": [
       "['NLP', 'is', 'fun', '!']"
      ]
     },
     "execution_count": 27,
     "metadata": {},
     "output_type": "execute_result"
    }
   ],
   "source": [
    "words = ['is', 'NLP', 'fun', '?']\n",
    "tmp = words[0]\n",
    "words[0] = words[1]\n",
    "words[1] = tmp\n",
    "words[3] = '!'\n",
    "words"
   ]
  },
  {
   "cell_type": "code",
   "execution_count": 28,
   "metadata": {},
   "outputs": [
    {
     "data": {
      "text/plain": [
       "['NLP', 'is', 'fun', '!']"
      ]
     },
     "execution_count": 28,
     "metadata": {},
     "output_type": "execute_result"
    }
   ],
   "source": [
    "words = ['is', 'NLP', 'fun', '?']\n",
    "words[1], words[0], words[3] = words[0], words[1], \"!\"\n",
    "words"
   ]
  },
  {
   "cell_type": "markdown",
   "metadata": {},
   "source": [
    "##### 5.\n",
    "\n",
    "☼ Read about the built-in comparison function `cmp`, by typing `help(cmp)`. How does it differ in behavior from the comparison operators?\n",
    "\n",
    "*`cmp` has been deprecated.  Get with the times, authors!*\n",
    "\n",
    "```\n",
    "help(cmp)\n",
    "\n",
    "---------------------------------------------------------------------------\n",
    "NameError                                 Traceback (most recent call last)\n",
    "<ipython-input-29-6cc5f65683db> in <module>\n",
    "----> 1 help(cmp)\n",
    "\n",
    "NameError: name 'cmp' is not defined\n",
    "```"
   ]
  },
  {
   "cell_type": "markdown",
   "metadata": {},
   "source": [
    "##### 6. \n",
    "\n",
    "☼ Does the method for creating a sliding window of n-grams behave correctly for the two limiting cases: $n$ = 1, and $n$ = `len(sent)`?\n",
    "\n",
    "*No.  $n$ = 1 will just return __unigrams__, i.e., the individual words which comprised the sentence.  $n$ = `len(sent)` will just return the entire list:*"
   ]
  },
  {
   "cell_type": "code",
   "execution_count": 30,
   "metadata": {},
   "outputs": [
    {
     "data": {
      "text/plain": [
       "[['The'], ['dog'], ['gave'], ['John'], ['the'], ['newspaper']]"
      ]
     },
     "execution_count": 30,
     "metadata": {},
     "output_type": "execute_result"
    }
   ],
   "source": [
    "sent = ['The', 'dog', 'gave', 'John', 'the', 'newspaper']\n",
    "n = 1\n",
    "[sent[i:i+n] for i in range(len(sent)-n+1)]"
   ]
  },
  {
   "cell_type": "code",
   "execution_count": 31,
   "metadata": {},
   "outputs": [
    {
     "data": {
      "text/plain": [
       "[['The', 'dog', 'gave', 'John', 'the', 'newspaper']]"
      ]
     },
     "execution_count": 31,
     "metadata": {},
     "output_type": "execute_result"
    }
   ],
   "source": [
    "sent = ['The', 'dog', 'gave', 'John', 'the', 'newspaper']\n",
    ">>> n = len(sent)\n",
    ">>> [sent[i:i+n] for i in range(len(sent)-n+1)]"
   ]
  },
  {
   "cell_type": "markdown",
   "metadata": {},
   "source": [
    "##### 7.\n",
    "\n",
    "☼ We pointed out that when empty strings and empty lists occur in the condition part of an `if` clause, they evaluate to `False`. In this case, they are said to be occurring in a Boolean context. Experiment with different kind of non-Boolean expressions in Boolean contexts, and see whether they evaluate as `True` or `False`.\n",
    "\n",
    "*With the exception of 0, all numbers evaluate as True.  Even `float('Inf')`, `-float('Inf')`, and `float('NaN')`. All strings evaluate as True, except for the empty string. Empty lists and tuples will evaluate as False.  `None` evaluates as false, but `None` in a list or a tuple evaluates as True.*"
   ]
  },
  {
   "cell_type": "code",
   "execution_count": 44,
   "metadata": {},
   "outputs": [
    {
     "name": "stdout",
     "output_type": "stream",
     "text": [
      "0 evaluates as False\n",
      "1 evaluates as True\n",
      "-1 evaluates as True\n",
      "inf evaluates as True\n",
      "-inf evaluates as True\n",
      "nan evaluates as True\n",
      "0 evaluates as True\n",
      "1 evaluates as True\n",
      " evaluates as False\n",
      "[] evaluates as False\n",
      "Fahrvergnügen evaluates as True\n",
      "3.1415 evaluates as True\n",
      "None evaluates as False\n",
      "[None] evaluates as True\n",
      "() evaluates as False\n",
      "(None,) evaluates as True\n"
     ]
    }
   ],
   "source": [
    "cands = [0, 1, -1, float('Inf'), -float('Inf'), float('NaN'), \"0\", \"1\", \"\", [], \n",
    "         \"Fahrvergnügen\", 3.1415, None, [None], tuple([]), tuple([None])]\n",
    "\n",
    "for c in cands:\n",
    "    if c:\n",
    "        print(\"{} evaluates as True\".format(c))\n",
    "    else:\n",
    "        print(\"{} evaluates as False\".format(c))"
   ]
  },
  {
   "cell_type": "markdown",
   "metadata": {},
   "source": [
    "##### 8. \n",
    "\n",
    "☼ Use the inequality operators to compare strings, e.g. `'Monty' < 'Python'`. What happens when you do `'Z' < 'a'`? Try pairs of strings which have a common prefix, e.g. `'Monty' < 'Montague'`. Read up on \"lexicographical sort\" in order to understand what is going on here. Try comparing structured objects, e.g. `('Monty', 1) < ('Monty', 2)`. Does this behave as expected?\n",
    "\n",
    "*In lexicographical sort, only the first index in both items is compared.  Since 'M' comes before 'P', the rest of the string is ignored.*"
   ]
  },
  {
   "cell_type": "code",
   "execution_count": 45,
   "metadata": {},
   "outputs": [
    {
     "data": {
      "text/plain": [
       "True"
      ]
     },
     "execution_count": 45,
     "metadata": {},
     "output_type": "execute_result"
    }
   ],
   "source": [
    "'Monty' < 'Python'"
   ]
  },
  {
   "cell_type": "code",
   "execution_count": 53,
   "metadata": {},
   "outputs": [
    {
     "data": {
      "text/plain": [
       "True"
      ]
     },
     "execution_count": 53,
     "metadata": {},
     "output_type": "execute_result"
    }
   ],
   "source": [
    "'M' < 'Python'"
   ]
  },
  {
   "cell_type": "code",
   "execution_count": 54,
   "metadata": {},
   "outputs": [
    {
     "data": {
      "text/plain": [
       "True"
      ]
     },
     "execution_count": 54,
     "metadata": {},
     "output_type": "execute_result"
    }
   ],
   "source": [
    "'Monty' < 'P'"
   ]
  },
  {
   "cell_type": "markdown",
   "metadata": {},
   "source": [
    "*Uppercase letters are considered as coming 'before' lowercase ones.*"
   ]
  },
  {
   "cell_type": "code",
   "execution_count": 46,
   "metadata": {},
   "outputs": [
    {
     "data": {
      "text/plain": [
       "True"
      ]
     },
     "execution_count": 46,
     "metadata": {},
     "output_type": "execute_result"
    }
   ],
   "source": [
    "'Z' < 'a'"
   ]
  },
  {
   "cell_type": "markdown",
   "metadata": {},
   "source": [
    "*'Monty' and 'Montague' have the same first four elements.  Since 'y' comes after 'a', the comparison evaluates as `False`.*"
   ]
  },
  {
   "cell_type": "code",
   "execution_count": 47,
   "metadata": {},
   "outputs": [
    {
     "data": {
      "text/plain": [
       "False"
      ]
     },
     "execution_count": 47,
     "metadata": {},
     "output_type": "execute_result"
    }
   ],
   "source": [
    "'Monty' < 'Montague'"
   ]
  },
  {
   "cell_type": "markdown",
   "metadata": {},
   "source": [
    "*As the first elements in both tuples are identical, the second element is compared, and one is indeed less than 2.*"
   ]
  },
  {
   "cell_type": "code",
   "execution_count": 51,
   "metadata": {},
   "outputs": [
    {
     "data": {
      "text/plain": [
       "True"
      ]
     },
     "execution_count": 51,
     "metadata": {},
     "output_type": "execute_result"
    }
   ],
   "source": [
    "('Monty', 1) < ('Monty', 2)"
   ]
  },
  {
   "cell_type": "markdown",
   "metadata": {},
   "source": [
    "*Carrying on that logic a bit further:*"
   ]
  },
  {
   "cell_type": "code",
   "execution_count": 52,
   "metadata": {},
   "outputs": [
    {
     "data": {
      "text/plain": [
       "False"
      ]
     },
     "execution_count": 52,
     "metadata": {},
     "output_type": "execute_result"
    }
   ],
   "source": [
    "('Monty', 1, 1, 1, 5) < ('Monty', 1, 1, 1, 4)"
   ]
  },
  {
   "cell_type": "markdown",
   "metadata": {},
   "source": [
    "##### 9.\n",
    "\n",
    "☼ Write code that removes whitespace at the beginning and end of a string, and normalizes whitespace between words to be a single space character.\n",
    "\n",
    "* 1. do this task using `split()` and `join()`\n",
    "* 2. do this task using regular expression substitutions"
   ]
  },
  {
   "cell_type": "code",
   "execution_count": 58,
   "metadata": {},
   "outputs": [
    {
     "data": {
      "text/plain": [
       "'this is a really inconsistent use of whitespace.'"
      ]
     },
     "execution_count": 58,
     "metadata": {},
     "output_type": "execute_result"
    }
   ],
   "source": [
    "sent = \"    this    is   a really inconsistent          use  of     whitespace.      \"\n",
    "sent = sent.split()\n",
    "' '.join(sent)"
   ]
  },
  {
   "cell_type": "code",
   "execution_count": 68,
   "metadata": {},
   "outputs": [
    {
     "data": {
      "text/plain": [
       "'this is a really inconsistent use of whitespace.'"
      ]
     },
     "execution_count": 68,
     "metadata": {},
     "output_type": "execute_result"
    }
   ],
   "source": [
    "sent = \"    this    is   a really inconsistent          use  of     whitespace.      \"\n",
    "sent = re.sub(r'^\\s*|\\s*$', '', sent)\n",
    "sent = re.sub(r'\\s+', ' ', sent)\n",
    "sent"
   ]
  },
  {
   "cell_type": "markdown",
   "metadata": {},
   "source": [
    "##### 10.\n",
    "\n",
    "☼ Write a program to sort words by length. Define a helper function `cmp_len` which uses the `cmp` comparison function on word lengths.\n",
    "\n",
    "*`cmp` is still deprecated, so I'll only do the first part of this exercise.*"
   ]
  },
  {
   "cell_type": "code",
   "execution_count": 77,
   "metadata": {},
   "outputs": [],
   "source": [
    "def sort_words_by_length(text):\n",
    "    \"\"\"\n",
    "    Returns a list, sorted from shortest to longest,\n",
    "    of words in text.\n",
    "    \"\"\"\n",
    "    \n",
    "    return [w for _, w in sorted([(len(w), w) for w in text.split()])]"
   ]
  },
  {
   "cell_type": "code",
   "execution_count": 79,
   "metadata": {},
   "outputs": [
    {
     "name": "stdout",
     "output_type": "stream",
     "text": [
      "['in', 'of', 'are', 'the', 'this', 'words', 'mostly', 'unique', 'lengths', 'sentence', 'character']"
     ]
    }
   ],
   "source": [
    "sent = 'the words in this sentence are mostly of unique character lengths'\n",
    "\n",
    "print(sort_words_by_length(sent), end = '')"
   ]
  },
  {
   "cell_type": "markdown",
   "metadata": {},
   "source": [
    "##### 11.\n",
    "\n",
    "◑ Create a list of words and store it in a variable `sent1`. Now assign `sent2 = sent1`. Modify one of the items in `sent1` and verify that `sent2` has changed.\n",
    "\n",
    "* a. Now try the same exercise but instead assign `sent2 = sent1[:]`. Modify sent1 again and see what happens to `sent2`. Explain.\n",
    "* b. Now define `text1` to be a list of lists of strings (e.g. to represent a text consisting of multiple sentences. Now assign `text2 = text1[:]`, assign a new value to one of the words, e.g. `text1[1][1] = 'Monty'`. Check what this did to `text2`. Explain.\n",
    "* c. Load Python's `deepcopy()` function (i.e. `from copy import deepcopy`), consult its documentation, and test that it makes a fresh copy of any object."
   ]
  },
  {
   "cell_type": "code",
   "execution_count": 94,
   "metadata": {},
   "outputs": [
    {
     "name": "stdout",
     "output_type": "stream",
     "text": [
      "['Mares', 'doats', 'and', 'dozy', 'doats', 'and', 'liddle', 'lamzy', 'divey', 'A', 'kiddley', 'divey', 'too,', \"wouldn't\", 'you?']"
     ]
    }
   ],
   "source": [
    "sent = \"Mairzy doats and dozy doats and liddle lamzy divey \" \\\n",
    "        \"A kiddley divey too, wouldn't you?\"\n",
    "sent1 = sent.split()\n",
    "sent2 = sent1\n",
    "sent1[0] = \"Mares\"\n",
    "print(sent2, end = '')"
   ]
  },
  {
   "cell_type": "markdown",
   "metadata": {},
   "source": [
    "*__a.__ Using `[:]` causes `sent1` to be shallow copied, so changes aren't replicated in `sent2`.  I.e., it's a reference to a copy of the list, and not the original list.*"
   ]
  },
  {
   "cell_type": "code",
   "execution_count": 95,
   "metadata": {},
   "outputs": [
    {
     "name": "stdout",
     "output_type": "stream",
     "text": [
      "['Mairzy', 'doats', 'and', 'dozy', 'doats', 'and', 'liddle', 'lamzy', 'divey', 'A', 'kiddley', 'divey', 'too,', \"wouldn't\", 'you?']"
     ]
    }
   ],
   "source": [
    "sent = \"Mairzy doats and dozy doats and liddle lamzy divey \" \\\n",
    "        \"A kiddley divey too, wouldn't you?\"\n",
    "sent1 = sent.split()\n",
    "sent2 = sent1[:]\n",
    "sent1[0] = \"Mares\"\n",
    "print(sent2, end = '')"
   ]
  },
  {
   "cell_type": "markdown",
   "metadata": {},
   "source": [
    "*__b.__ Now the change is permeated.  It appears a shallow copy of a list of lists is just a copy of the references of the lists.  I.e., if one of the original lists is changed, the changed is reflected.*"
   ]
  },
  {
   "cell_type": "code",
   "execution_count": 88,
   "metadata": {},
   "outputs": [
    {
     "name": "stdout",
     "output_type": "stream",
     "text": [
      "[['Mairzy', 'doats', 'and', 'dozy', 'doats', 'and', 'liddle', 'lamzy', 'divey'], ['A', 'Monty', 'divey', 'too,', \"wouldn't\", 'you?']]"
     ]
    }
   ],
   "source": [
    "sentA = \"Mairzy doats and dozy doats and liddle lamzy divey\"\n",
    "sentB = \"A kiddley divey too, wouldn't you?\"\n",
    "\n",
    "text1 = [sentA.split(), sentB.split()]\n",
    "text2 = text1[:]\n",
    "\n",
    "text1[1][1] = 'Monty'\n",
    "\n",
    "print(text2, end = '')"
   ]
  },
  {
   "cell_type": "markdown",
   "metadata": {},
   "source": [
    "*If we explicitly make shallow copies of the lists in the list of lists, then the changes won't be replicated:*"
   ]
  },
  {
   "cell_type": "code",
   "execution_count": 91,
   "metadata": {},
   "outputs": [
    {
     "name": "stdout",
     "output_type": "stream",
     "text": [
      "[['Mairzy', 'doats', 'and', 'dozy', 'doats', 'and', 'liddle', 'lamzy', 'divey'], ['A', 'kiddley', 'divey', 'too,', \"wouldn't\", 'you?']]"
     ]
    }
   ],
   "source": [
    "sentA = \"Mairzy doats and dozy doats and liddle lamzy divey\"\n",
    "sentB = \"A kiddley divey too, wouldn't you?\"\n",
    "\n",
    "text1 = [sentA.split(), sentB.split()]\n",
    "text2 = [text1[0][:], text1[1][:]]\n",
    "\n",
    "text1[1][1] = 'Monty'\n",
    "\n",
    "print(text2, end = '')"
   ]
  },
  {
   "cell_type": "markdown",
   "metadata": {},
   "source": [
    "*__c.__*"
   ]
  },
  {
   "cell_type": "code",
   "execution_count": 96,
   "metadata": {},
   "outputs": [
    {
     "name": "stdout",
     "output_type": "stream",
     "text": [
      "['Mairzy', 'doats', 'and', 'dozy', 'doats', 'and', 'liddle', 'lamzy', 'divey', 'A', 'kiddley', 'divey', 'too,', \"wouldn't\", 'you?']"
     ]
    }
   ],
   "source": [
    "from copy import deepcopy\n",
    "\n",
    "sent = \"Mairzy doats and dozy doats and liddle lamzy divey \" \\\n",
    "        \"A kiddley divey too, wouldn't you?\"\n",
    "sent1 = sent.split()\n",
    "sent2 = deepcopy(sent1)\n",
    "sent1[0] = \"Mares\"\n",
    "print(sent2, end = '')"
   ]
  },
  {
   "cell_type": "markdown",
   "metadata": {},
   "source": [
    "##### 12. \n",
    "\n",
    "◑ Initialize an $n$-by-$m$ list of lists of empty strings using list multiplication, e.g. `word_table = [[''] * n] * m`. What happens when you set one of its values, e.g. `word_table[1][2] = \"hello\"`? Explain why this happens. Now write an expression using `range()` to construct a list of lists, and show that it does not have this problem."
   ]
  },
  {
   "cell_type": "code",
   "execution_count": 99,
   "metadata": {},
   "outputs": [
    {
     "name": "stdout",
     "output_type": "stream",
     "text": [
      "[['', '', '', '', '', '', ''],\n",
      " ['', '', '', '', '', '', ''],\n",
      " ['', '', '', '', '', '', ''],\n",
      " ['', '', '', '', '', '', ''],\n",
      " ['', '', '', '', '', '', ''],\n",
      " ['', '', '', '', '', '', '']]\n"
     ]
    }
   ],
   "source": [
    "m, n = 6, 7\n",
    "\n",
    "word_table = [[''] * n] * m\n",
    "pprint.pprint(word_table)"
   ]
  },
  {
   "cell_type": "code",
   "execution_count": 106,
   "metadata": {},
   "outputs": [
    {
     "name": "stdout",
     "output_type": "stream",
     "text": [
      "[['', '', 'hello', '', '', '', ''],\n",
      " ['', '', 'hello', '', '', '', ''],\n",
      " ['', '', 'hello', '', '', '', ''],\n",
      " ['', '', 'hello', '', '', '', ''],\n",
      " ['', '', 'hello', '', '', '', ''],\n",
      " ['', '', 'hello', '', '', '', '']]\n"
     ]
    }
   ],
   "source": [
    "word_table[1][2] = (\"hello\")\n",
    "pprint.pprint(word_table)"
   ]
  },
  {
   "cell_type": "markdown",
   "metadata": {},
   "source": [
    "*Above we have a copy of a list containing sublists. When we make a change to one of the sublists, the copy is replicated in all of the lists which have been created by copying it.*"
   ]
  },
  {
   "cell_type": "code",
   "execution_count": 109,
   "metadata": {},
   "outputs": [
    {
     "name": "stdout",
     "output_type": "stream",
     "text": [
      "[['', '', '', '', '', '', ''],\n",
      " ['', '', '', '', '', '', ''],\n",
      " ['', '', '', '', '', '', ''],\n",
      " ['', '', '', '', '', '', ''],\n",
      " ['', '', '', '', '', '', ''],\n",
      " ['', '', '', '', '', '', '']]\n"
     ]
    }
   ],
   "source": [
    "word_table = [['' for i in range(n)] for j in range(m)]\n",
    "pprint.pprint(word_table)"
   ]
  },
  {
   "cell_type": "code",
   "execution_count": 110,
   "metadata": {},
   "outputs": [
    {
     "name": "stdout",
     "output_type": "stream",
     "text": [
      "[['', '', '', '', '', '', ''],\n",
      " ['', '', 'hello', '', '', '', ''],\n",
      " ['', '', '', '', '', '', ''],\n",
      " ['', '', '', '', '', '', ''],\n",
      " ['', '', '', '', '', '', ''],\n",
      " ['', '', '', '', '', '', '']]\n"
     ]
    }
   ],
   "source": [
    "word_table[1][2] = (\"hello\")\n",
    "pprint.pprint(word_table)"
   ]
  },
  {
   "cell_type": "markdown",
   "metadata": {},
   "source": [
    "*In this case, we're creating a brand new empty string for each of the iterations through $n$, and likewise through $m$.  As the strings are not copies of each other, changes in one are not reflected in the others.*"
   ]
  },
  {
   "cell_type": "markdown",
   "metadata": {},
   "source": [
    "##### 13. \n",
    "\n",
    "◑ Write code to initialize a two-dimensional array of sets called `word_vowels` and process a list of words, adding each word to `word_vowels[l][v]` where `l` is the length of the word and `v` is the number of vowels it contains.\n",
    "\n",
    "*If we follow the instructions literally and create an array of sets, both sets will come back sorted, and it is very likely that the $n$th item in the first set will not be the same as the $n$th item in the second.  I.e., a long word without many vowels would be represented towards the end of the first set, but towards the beginning of the second (and vice versa):*"
   ]
  },
  {
   "cell_type": "code",
   "execution_count": 126,
   "metadata": {},
   "outputs": [],
   "source": [
    "def find_length_word_number_vowels(text):\n",
    "    \"\"\"\n",
    "    Returns an array of two sets.  The first set comprises\n",
    "    the lengths of the words.  The second the number of vowels.\n",
    "    For the sake of simplicity, 'y' is not counted as a vowel.\n",
    "    Results are ordered from smallest to greatest.\n",
    "    \"\"\"\n",
    "    \n",
    "    word_vowels = [set(), set()]\n",
    "\n",
    "    for t in text:\n",
    "        word_vowels[0].add(len(t))\n",
    "        word_vowels[1].add(sum([1 for i in t if i.lower() in 'aeiou']))\n",
    "\n",
    "    return word_vowels"
   ]
  },
  {
   "cell_type": "code",
   "execution_count": 136,
   "metadata": {},
   "outputs": [
    {
     "data": {
      "text/plain": [
       "[{3, 5, 7, 34}, {1, 2, 4, 16}]"
      ]
     },
     "execution_count": 136,
     "metadata": {},
     "output_type": "execute_result"
    }
   ],
   "source": [
    "test = [\"supercalifragilisticexpialidocious\", \"eye\", \"Hawai'i\", \"draft\"]\n",
    "find_length_word_number_vowels(test)"
   ]
  },
  {
   "cell_type": "markdown",
   "metadata": {},
   "source": [
    "*Using lists instead of sets will obviate this problem:*"
   ]
  },
  {
   "cell_type": "code",
   "execution_count": 331,
   "metadata": {},
   "outputs": [],
   "source": [
    "def find_length_word_number_vowels_by_order_of_appearance(text):\n",
    "    \"\"\"\n",
    "    Returns an array of two lists.  The first set comprises\n",
    "    the lengths of the words.  The second the number of vowels.\n",
    "    For the sake of simplicity, 'y' is not counted as a vowel.\n",
    "    Results are ordered by order of appearance of the original\n",
    "    word.\n",
    "    \"\"\"\n",
    "    \n",
    "    word_vowels = [[], []]\n",
    "\n",
    "    for t in text:\n",
    "        word_vowels[0].append(len(t))\n",
    "        \n",
    "        # taking advantage of the fact that `True` evaluates to 1\n",
    "        word_vowels[1].append(sum([1 for i in t if i.lower() in 'aeiou']))\n",
    "\n",
    "    return word_vowels"
   ]
  },
  {
   "cell_type": "code",
   "execution_count": 137,
   "metadata": {},
   "outputs": [
    {
     "data": {
      "text/plain": [
       "[[34, 3, 7, 5], [16, 2, 4, 1]]"
      ]
     },
     "execution_count": 137,
     "metadata": {},
     "output_type": "execute_result"
    }
   ],
   "source": [
    "find_length_word_number_vowels_by_order_of_appearance(test)"
   ]
  },
  {
   "cell_type": "markdown",
   "metadata": {},
   "source": [
    "##### 14. \n",
    "\n",
    "◑ Write a function `novel10(text)` that prints any word that appeared in the last 10% of a text that had not been encountered earlier."
   ]
  },
  {
   "cell_type": "code",
   "execution_count": 216,
   "metadata": {},
   "outputs": [],
   "source": [
    "def novel10(text):\n",
    "    \"\"\"\n",
    "    Returns a set of words that appear for the first time\n",
    "    in the last 10% of a text.\n",
    "    \"\"\"\n",
    "\n",
    "    split = int(len(text) * .9)\n",
    "    first90, last10 = text[:split], text[split:]\n",
    "    novel90 = set(first90)\n",
    "\n",
    "    return set([i for i in last10 if i not in novel90])"
   ]
  },
  {
   "cell_type": "code",
   "execution_count": 212,
   "metadata": {},
   "outputs": [],
   "source": [
    "from urllib import request\n",
    "from nltk import word_tokenize\n",
    "\n",
    "# Mary Shelley's Frankenstein\n",
    "url = 'http://www.gutenberg.org/cache/epub/42324/pg42324.txt'\n",
    "\n",
    "frank = request.urlopen(url).read().decode('utf8')\n"
   ]
  },
  {
   "cell_type": "code",
   "execution_count": 213,
   "metadata": {},
   "outputs": [],
   "source": [
    "frank = word_tokenize(frank)\n",
    "\n",
    "# used trial and error (and `index`) to find and remove\n",
    "# header and footer\n",
    "frank = frank[115:90732]"
   ]
  },
  {
   "cell_type": "markdown",
   "metadata": {},
   "source": [
    "*Converted results to a list so that I could use slicing to get the first 20 items:*"
   ]
  },
  {
   "cell_type": "code",
   "execution_count": 217,
   "metadata": {},
   "outputs": [
    {
     "name": "stdout",
     "output_type": "stream",
     "text": [
      "['torch', 'later', 'wasting', '6375', 'lessening', 'Black', '2d', 'piercing', 'renounce', 'mole-hills', 'indecision', 'Cold', 'asseverations', 'irremediable', 'mutilated', 'repast', 'abortion', 'unquenched', 'rustling', 'boils']"
     ]
    }
   ],
   "source": [
    "print(list(novel10(frank))[:20], end = '')"
   ]
  },
  {
   "cell_type": "markdown",
   "metadata": {},
   "source": [
    "##### 15.\n",
    "\n",
    "◑ Write a program that takes a sentence expressed as a single string, splits it and counts up the words. Get it to print out each word and the word's frequency, one per line, in alphabetical order.\n",
    "\n",
    "*Although it's not best practice stylistically, the instructions say to print everything, so I'm going to do that instead of returning a value:*"
   ]
  },
  {
   "cell_type": "code",
   "execution_count": 275,
   "metadata": {},
   "outputs": [],
   "source": [
    "import nltk\n",
    "from nltk import word_tokenize\n",
    "\n",
    "def print_words_and_frequency(text):\n",
    "    \"\"\"\n",
    "    Counts the words in a text and prints out the\n",
    "    resulting table in alphabetical order.\n",
    "    \"\"\"\n",
    "\n",
    "    # tokenizer separates words from punctuation\n",
    "    tokens = word_tokenize(text)\n",
    "    \n",
    "    # remove punctuation\n",
    "    words = [t.lower() for t in tokens if t.isalpha()]\n",
    "    \n",
    "    # get word counts from FreqDist\n",
    "    ordered = sorted(set([(w, v) for w, v in nltk.FreqDist(words).items()]))\n",
    "    \n",
    "    # get widths for pretty printing\n",
    "    # width of longest word\n",
    "    width = max([len(w) for w, _ in ordered]) + 2\n",
    "    # width of longest number\n",
    "    width_counts = max([len(str(v)) for _, v in ordered])\n",
    "    \n",
    "    # print everything\n",
    "    for w, v in ordered:\n",
    "        print(\"{}:{}{:>{}}\".format(w, ' ' * (width - len(w)), \n",
    "                                     v, width_counts))"
   ]
  },
  {
   "cell_type": "code",
   "execution_count": 272,
   "metadata": {},
   "outputs": [
    {
     "name": "stdout",
     "output_type": "stream",
     "text": [
      "if:        1\n",
      "police:   12\n",
      "polices:   1\n",
      "the:       1\n",
      "who:       1\n"
     ]
    }
   ],
   "source": [
    "test = \"If police police police police, who polices the police police? \" \\\n",
    "       \"Police police police police police police.\"\n",
    "\n",
    "print_words_and_frequency(test)"
   ]
  },
  {
   "cell_type": "code",
   "execution_count": 273,
   "metadata": {},
   "outputs": [
    {
     "name": "stdout",
     "output_type": "stream",
     "text": [
      "a:          2\n",
      "chuck:      2\n",
      "could:      1\n",
      "how:        1\n",
      "if:         1\n",
      "much:       1\n",
      "wood:       2\n",
      "woodchuck:  2\n",
      "would:      1\n"
     ]
    }
   ],
   "source": [
    "test = \"How much wood would a woodchuck chuck if a woodchuck could chuck wood?\"\n",
    "print_words_and_frequency(test)"
   ]
  },
  {
   "cell_type": "markdown",
   "metadata": {},
   "source": [
    "##### 16.\n",
    "\n",
    "◑ Read up on Gematria, a method for assigning numbers to words, and for mapping between words having the same number to discover the hidden meaning of texts (cf. [here](http://en.wikipedia.org/wiki/Gematria \"Wikipedia entry\"), or [here](http://essenes.net/gemcal.htm \"Gematria\")).\n",
    "\n",
    "* a. Write a function `gematria()` that sums the numerical values of the letters of a word, according to the letter values in `letter_vals`:\n",
    "\n",
    "``` \t\n",
    ">>> letter_vals = {'a':1, 'b':2, 'c':3, 'd':4, 'e':5, 'f':80, 'g':3, 'h':8,\n",
    "... 'i':10, 'j':10, 'k':20, 'l':30, 'm':40, 'n':50, 'o':70, 'p':80, 'q':100,\n",
    "... 'r':200, 's':300, 't':400, 'u':6, 'v':6, 'w':800, 'x':60, 'y':10, 'z':7}\n",
    "```\n",
    "\n",
    "* b. Process a corpus (e.g. `nltk.corpus.state_union`) and for each document, count how many of its words have the number 666.\n",
    "\n",
    "* c. Write a function `decode()` to process a text, randomly replacing words with their Gematria equivalents, in order to discover the \"hidden meaning\" of the text."
   ]
  },
  {
   "cell_type": "code",
   "execution_count": 305,
   "metadata": {},
   "outputs": [],
   "source": [
    "letter_vals = {'a':1, 'b':2, 'c':3, 'd':4, 'e':5, 'f':80, 'g':3, 'h':8,\n",
    "       'i':10, 'j':10, 'k':20, 'l':30, 'm':40, 'n':50, 'o':70, 'p':80, 'q':100,\n",
    "       'r':200, 's':300, 't':400, 'u':6, 'v':6, 'w':800, 'x':60, 'y':10, 'z':7}\n",
    "\n",
    "def gematria(word, vals = letter_vals):\n",
    "    \"\"\"\n",
    "    Returns Gematria value of a word.\n",
    "    \n",
    "    Arguments:\n",
    "    \n",
    "    word: Word to be converted.\n",
    "    vals: Dictionary of values for each letter.\n",
    "          Default is `letter_vals`.\n",
    "    \"\"\"\n",
    "    \n",
    "    return sum(vals[w.lower()] for w in word if w in vals)"
   ]
  },
  {
   "cell_type": "markdown",
   "metadata": {},
   "source": [
    "*__b.__*"
   ]
  },
  {
   "cell_type": "code",
   "execution_count": 329,
   "metadata": {},
   "outputs": [],
   "source": [
    "su = nltk.corpus.state_union\n",
    "\n",
    "# for pretty printing later\n",
    "width = max([len(u[5:-4]) for u in su.fileids()])\n",
    "\n",
    "devil_words = [sum([1 for w in su.words(u) if gematria(w) == 666]) for u in su.fileids()]"
   ]
  },
  {
   "cell_type": "code",
   "execution_count": 330,
   "metadata": {},
   "outputs": [
    {
     "name": "stdout",
     "output_type": "stream",
     "text": [
      "1945 Truman:      2\n",
      "1946 Truman:     20\n",
      "1947 Truman:      1\n",
      "1948 Truman:      3\n",
      "1949 Truman:      2\n",
      "1950 Truman:      1\n",
      "1951 Truman:      0\n",
      "1953 Eisenhower:  1\n",
      "1954 Eisenhower:  6\n",
      "1955 Eisenhower:  5\n",
      "1956 Eisenhower:  1\n",
      "1957 Eisenhower:  2\n",
      "1958 Eisenhower:  5\n",
      "1959 Eisenhower:  1\n",
      "1960 Eisenhower:  5\n",
      "1961 Kennedy:     0\n",
      "1962 Kennedy:     4\n",
      "1963 Johnson:     0\n",
      "1963 Kennedy:     3\n",
      "1964 Johnson:     1\n",
      "1965 Johnson-1:   0\n",
      "1965 Johnson-2:   0\n",
      "1966 Johnson:     0\n",
      "1967 Johnson:     2\n",
      "1968 Johnson:     3\n",
      "1969 Johnson:     0\n",
      "1970 Nixon:       0\n",
      "1971 Nixon:       1\n",
      "1972 Nixon:       0\n",
      "1973 Nixon:       1\n",
      "1974 Nixon:       0\n",
      "1975 Ford:        0\n",
      "1976 Ford:        3\n",
      "1977 Ford:        0\n",
      "1978 Carter:      1\n",
      "1979 Carter:      2\n",
      "1980 Carter:      0\n",
      "1981 Reagan:      4\n",
      "1982 Reagan:      0\n",
      "1983 Reagan:      2\n",
      "1984 Reagan:      1\n",
      "1985 Reagan:      1\n",
      "1986 Reagan:      1\n",
      "1987 Reagan:      1\n",
      "1988 Reagan:      2\n",
      "1989 Bush:        2\n",
      "1990 Bush:        2\n",
      "1991 Bush-1:      0\n",
      "1991 Bush-2:      0\n",
      "1992 Bush:        3\n",
      "1993 Clinton:     1\n",
      "1994 Clinton:     2\n",
      "1995 Clinton:     1\n",
      "1996 Clinton:     1\n",
      "1997 Clinton:     1\n",
      "1998 Clinton:     4\n",
      "1999 Clinton:     1\n",
      "2000 Clinton:     3\n",
      "2001 GWBush-1:    1\n",
      "2001 GWBush-2:    0\n",
      "2002 GWBush:      0\n",
      "2003 GWBush:      3\n",
      "2004 GWBush:      2\n",
      "2005 GWBush:      2\n",
      "2006 GWBush:      0\n"
     ]
    }
   ],
   "source": [
    "for u, w in zip(su.fileids(), devil_words):\n",
    "    print(u[:4], u[5:-4] + \":\" +\n",
    "          \" \" * (width - len(u[5:-4])),  \"{:>2}\".format(w))"
   ]
  },
  {
   "cell_type": "markdown",
   "metadata": {},
   "source": [
    "*__c.__ Since strings are immutable, we need to convert whatever format the `text` is in to a list. From there, we have several ways to choose words at random.  I originally chose $n$% of the index values at random and replaced those words.  But this was very slow with large texts, as the interpreter would have to traverse the entire list of words to find the word to be replaced.  I settled on the method below, which is much quicker: The interpreter only goes through the list of words once, and returns a random number between 0.0 and 1.0 for each word.  If the random number is below a certain threshold, the word is replaced.  With this method, there is a decent chance that the percentage of words replaced will differ from the percentage we specify, since the chances of one word being replaced are independent of all other words (i.e., as long as the threshold is not 0% or 100%, there's a chance that none of the words will be replaced, and also a chance that all of the words will be replaced).  Also, punctuation will never be replaced, since these marks don't have values in the dictionary `letter_vals`, which we use in the `gematria` function.*\n",
    "\n",
    "*Also using a function I used in [Chapter 2](https://github.com/Sturzgefahr/Natural-Language-Processing-with-Python-Analyzing-Text-with-the-Natural-Language-Toolkit/tree/master/Chapter%2002 \"Chapter 2 Exercises\") - `join_punctuation` - to reattach punctuation that was separated during tokenizing*"
   ]
  },
  {
   "cell_type": "code",
   "execution_count": 484,
   "metadata": {},
   "outputs": [],
   "source": [
    "import random, nltk\n",
    "from nltk import word_tokenize\n",
    "\n",
    "def join_punctuation(text, characters = [\"'\", '’', ')', ',', '.', ':', ';', '?', '!', ']', \"''\"]): \n",
    "    \"\"\"\n",
    "    Takes a list of strings and attaches punctuation to\n",
    "    the preceding string in the list.\n",
    "    \"\"\"\n",
    "    \n",
    "    text = iter(text)\n",
    "    current = next(text)\n",
    "\n",
    "    for nxt in text:\n",
    "        if nxt in characters:\n",
    "            current += nxt\n",
    "        else:\n",
    "            yield current\n",
    "            current = nxt\n",
    "            \n",
    "\n",
    "    yield current\n",
    "\n",
    "def decode(text, n = 10):\n",
    "    \"\"\"\n",
    "    Returns a copy of the original text with n percent\n",
    "    of the words converted into its gematria form.\n",
    "    \n",
    "    Arguments:\n",
    "    \n",
    "    text: Text can be any form. Will be converted into a list.\n",
    "    n:    Percentage of the words to be converted.  Should be\n",
    "          an integer between 0 and 100.   \n",
    "    \"\"\"\n",
    "    \n",
    "    \n",
    "    # convert a cp of text into a list\n",
    "    if type(text) == str:\n",
    "        # use tokenize to separate punctuation from words\n",
    "        cp = word_tokenize(text)    \n",
    "    elif type(text) == list:\n",
    "        cp = text[:]    \n",
    "    else:\n",
    "        cp = list(text[:])\n",
    "        \n",
    "\n",
    "    # go through the words in the list,\n",
    "    # and return a random number;\n",
    "    # if the random number is less than the percentage\n",
    "    # replace the word with its gematria value\n",
    "    for i in range(len(cp)):\n",
    "        if random.random() <= n/100: \n",
    "            cp[i] = str(gematria(cp[i]))\n",
    "        \n",
    "    \n",
    "    # using join punctuation to rejoin punctuation separated during\n",
    "    # tokenizing\n",
    "    return ' '.join(join_punctuation(cp))"
   ]
  },
  {
   "cell_type": "code",
   "execution_count": 487,
   "metadata": {},
   "outputs": [
    {
     "data": {
      "text/plain": [
       "'318 is just a 1105 to 310 90 my code 870 work'"
      ]
     },
     "execution_count": 487,
     "metadata": {},
     "output_type": "execute_result"
    }
   ],
   "source": [
    "decode(\"This is just a test to see if my code will work\", 25)"
   ]
  },
  {
   "cell_type": "code",
   "execution_count": 488,
   "metadata": {},
   "outputs": [
    {
     "data": {
      "text/plain": [
       "\"0 GEORGE W 0 0' S 0 BEFORE A JOINT SESSION OF THE CONGRESS 0 0 STATE OF 0 UNION January 0 0 0 THE PRESIDENT: Thank you all. Mr. 311, Vice President Cheney, members 150 Congress, members 150 the Supreme 676 55 diplomatic corps, distinguished guests 0 55 1015 785 0 Today our nation lost a beloved, graceful, courageous woman 878 73 America to 710 founding ideals and 423 on a 157 250 0 Tonight we are comforted 12 the 163 of a 38 391 1218 the husband who 1101 476 so long ago 0 and we are 725 for the 147 life 150 Coretta 873 63. ( 502 .) President George W 0 Bush reacts to applause during his State of 413 Union Address at the 591, Tuesday, Jan. 0, 0. White 381 photo by 213 707 time I' 40 485 to this 1216, I' 40 humbled 12 413 privilege 0 55 mindful of the history we 0 11 360 1091. 5 have 626 under 718 591 dome in moments of national mourning and national 533. We 20 520 America through one of the 810 consequential periods of our history -- and it 309 been 50 honor 470 serve 1218 86. In a syst\""
      ]
     },
     "execution_count": 488,
     "metadata": {},
     "output_type": "execute_result"
    }
   ],
   "source": [
    "decode(su.words('2006-GWBush.txt'), 33)[:1000]"
   ]
  },
  {
   "cell_type": "code",
   "execution_count": 489,
   "metadata": {},
   "outputs": [
    {
     "data": {
      "text/plain": [
       "\"0 81 by Jane Austen 0 0 VOLUME I CHAPTER I Emma 533, handsome, clever 0 55 rich, with 1 comfortable home and happy disposition 0 seemed 470 471 some of the 707 blessings of existence; and 13 lived nearly twenty - one 516 in the world 1218 very little to 1519 270 71 her 0 She 1101 the youngest of the two daughters of a 810 affectionate, 558 father; and 13, in consequence 150 her sister' s marriage, 62 mistress of his 389 from 1 221 early period. Her 723 had 23 540 153 74 for 213 470 have more 459 an indistinct remembrance of her caresses; and 213 place had been supplied 12 an excellent woman as 939 0 878 had 196 little 978 of a 723 in affection 0 530 years had Miss Taylor been 60 Mr. Woodhouse' s 171, less as 1 939 459 a friend, very 204 150 480 daughters, but particularly of Emma. Between _them_ 410 was 315 the 524 of sisters 0 Even 362 Miss Taylor 13 ceased to hold the nominal office of 939, the mildness of 213 temper 13 hardly allowed her to impose 61 restraint 0 and 413 1183 150 110\""
      ]
     },
     "execution_count": 489,
     "metadata": {},
     "output_type": "execute_result"
    }
   ],
   "source": [
    "decode(nltk.corpus.gutenberg.words('austen-emma.txt'), 30)[:1000]"
   ]
  },
  {
   "cell_type": "markdown",
   "metadata": {},
   "source": [
    "##### 17. \n",
    "\n",
    "◑ Write a function `shorten(text, n)` to process a text, omitting the $n$ most frequently occurring words of the text. How readable is it?\n",
    "\n",
    "*The texts are usually quite readable if we delete the most common words, as most of these common words will be stop words.  However, in news articles and novels some of the most common words will be the names of the principals, and without those it's impossible to know who's doing what.*"
   ]
  },
  {
   "cell_type": "code",
   "execution_count": 479,
   "metadata": {},
   "outputs": [],
   "source": [
    "import nltk, re\n",
    "\n",
    "def join_punctuation(text, characters = [\"'\", '’', ')', ',', '.', ':', ';', '?', '!', ']', \"''\"]): \n",
    "    \"\"\"\n",
    "    Takes a list of strings and attaches punctuation to\n",
    "    the preceding string in the list.\n",
    "    \"\"\"\n",
    "    \n",
    "    text = iter(text)\n",
    "    current = next(text)\n",
    "\n",
    "    for nxt in text:\n",
    "        if nxt in characters:\n",
    "            current += nxt\n",
    "        else:\n",
    "            yield current\n",
    "            current = nxt\n",
    "            \n",
    "\n",
    "    yield current\n",
    "\n",
    "\n",
    "def shorten(text, n):\n",
    "       \n",
    "    # convert a cp of text into a list\n",
    "    if type(text) == str:\n",
    "        # use tokenize to separate punctuation from words\n",
    "        cp = word_tokenize(text)    \n",
    "    elif type(text) == list:\n",
    "        cp = text[:]    \n",
    "    else:\n",
    "        cp = list(text[:])\n",
    "        \n",
    "    # get a list of most common words, and strip away the counts\n",
    "    most_common = [w for w, _ in nltk.FreqDist(w for w in cp if w.isalpha()).most_common(n)]\n",
    "    \n",
    "    # replace most common words\n",
    "    for i in range(len(cp)):\n",
    "        if cp[i] in most_common:\n",
    "            cp[i] = ''\n",
    "    \n",
    "    # join list and normalize whitespace - \n",
    "    # otherwise there'll be gaps for the missing words\n",
    "    # also use join_punctuation to reattach punctuation \n",
    "    # separate during tokenizing\n",
    "    return re.sub(r'\\s+', ' ', ' '.join(join_punctuation(cp)))\n",
    "        \n",
    "        "
   ]
  },
  {
   "cell_type": "code",
   "execution_count": 480,
   "metadata": {},
   "outputs": [
    {
     "data": {
      "text/plain": [
       "'This a test which a rather short one'"
      ]
     },
     "execution_count": 480,
     "metadata": {},
     "output_type": "execute_result"
    }
   ],
   "source": [
    "shorten(\"This is a test which is a rather short one\", 1)"
   ]
  },
  {
   "cell_type": "code",
   "execution_count": 491,
   "metadata": {},
   "outputs": [
    {
     "data": {
      "text/plain": [
       "\"PRESIDENT GEORGE W. BUSH' S ADDRESS BEFORE A JOINT SESSION OF THE CONGRESS ON THE STATE OF THE UNION January 31, 2006 THE PRESIDENT: Thank . Mr. Speaker, Vice President Cheney, members Congress, members Supreme Court diplomatic corps, distinguished guests, fellow citizens: Today lost beloved, graceful, courageous woman called its founding ideals carried noble dream. Tonight comforted hope glad reunion husband was taken so long ago, grateful good life Coretta Scott King. ( .) President George W. Bush reacts applause during his State Union Address Capitol, Tuesday, Jan. 31, 2006. White House photo Eric DraperEvery time ' m invited rostrum, ' m humbled privilege, mindful history ' ve seen together. gathered under Capitol dome moments national mourning national achievement. served through one most consequential periods history -- been my honor serve . system two parties, two chambers, two elected branches, there always differences debate. But even tough debates conducted civil tone, differ\""
      ]
     },
     "execution_count": 491,
     "metadata": {},
     "output_type": "execute_result"
    }
   ],
   "source": [
    "shorten(su.words('2006-GWBush.txt'), 50)[:1000]"
   ]
  },
  {
   "cell_type": "code",
   "execution_count": 492,
   "metadata": {},
   "outputs": [
    {
     "data": {
      "text/plain": [
       "\"[ Jane Austen 1816] VOLUME CHAPTER Woodhouse, handsome, clever, rich, comfortable home happy disposition, seemed unite some best blessings existence; lived nearly twenty - one years world little distress or vex . youngest two daughters most affectionate, indulgent father; , consequence sister' marriage, mistress house early period. Her mother died too long ago more than an indistinct remembrance caresses; place supplied an excellent woman governess, who fallen little short mother affection. Sixteen years Taylor . Woodhouse' family, less governess than friend, fond both daughters, particularly . Between _them_ more intimacy sisters. Even before Taylor ceased hold nominal office governess, mildness temper hardly allowed impose restraint; shadow authority being now long passed away, they living together friend friend mutually attached, doing just what liked; highly esteeming Taylor' judgment, directed chiefly own. The real evils, indeed, ' situation power having rather too much own way, d\""
      ]
     },
     "execution_count": 492,
     "metadata": {},
     "output_type": "execute_result"
    }
   ],
   "source": [
    "shorten(nltk.corpus.gutenberg.words('austen-emma.txt'), 50)[:1000]"
   ]
  },
  {
   "cell_type": "markdown",
   "metadata": {},
   "source": [
    "*If we delete an additional 50 common words, we'll lose mentions of \"Woodhouse\", one of the principal characters.*"
   ]
  },
  {
   "cell_type": "code",
   "execution_count": 493,
   "metadata": {},
   "outputs": [
    {
     "data": {
      "text/plain": [
       "\"[ Austen 1816] VOLUME CHAPTER , handsome, clever, rich, comfortable home happy disposition, seemed unite some best blessings existence; lived nearly twenty - years world distress vex . youngest two daughters most affectionate, indulgent father; , consequence sister' marriage, mistress house early period. Her mother died too long ago indistinct remembrance caresses; place supplied excellent woman governess, fallen short mother affection. Sixteen years Taylor . ' family, less governess friend, fond both daughters, particularly . Between _them_ intimacy sisters. Even before Taylor ceased hold nominal office governess, mildness temper hardly allowed impose restraint; shadow authority long passed away, living together friend friend mutually attached, doing just liked; highly esteeming Taylor' judgment, directed chiefly . real evils, indeed, ' situation power having rather too way, disposition too ; these disadvantages threatened alloy many enjoyments. danger, however, present unperceived, m\""
      ]
     },
     "execution_count": 493,
     "metadata": {},
     "output_type": "execute_result"
    }
   ],
   "source": [
    "shorten(nltk.corpus.gutenberg.words('austen-emma.txt'), 100)[:1000]"
   ]
  },
  {
   "cell_type": "markdown",
   "metadata": {},
   "source": [
    "##### 18.\n",
    "\n",
    "◑ Write code to print out an index for a lexicon, allowing someone to look up words according to their meanings (or pronunciations; whatever properties are contained in lexical entries)."
   ]
  },
  {
   "cell_type": "markdown",
   "metadata": {},
   "source": [
    "*I'm a little confused by this question, since the notion of lexicon indexing was not introduced in the book, nor is it such a common concept (i.e., googling it doesn't bring up that many hits).*\n",
    " \n",
    "*From the best that I can understand, the idea is that we make a list of all items in lexicon $X$ with quality $Y_1$, all items with $Y_2$, and so on until we get to all items with $Y_n$.*\n",
    "\n",
    "*If we used the CMU Pronouncing Dictionary for this, the first index would be for words with the phoneme `AA0`, the next for words with `AA1`, and so on until we get to the last phoneme, `Y` (cf. [here](http://www.speech.cs.cmu.edu/cgi-bin/cmudict?in=C+M+U+Dictionary \"CMU dictionary\") for more information).*\n",
    "\n",
    "*It's difficult to see how we could do this with anything other than a Python dictionary, which really haven't been covered in much detail.  A Python dictionary can create an index of all the phonemes of the 133,737 words in a matter of seconds.*\"\n",
    "   "
   ]
  },
  {
   "cell_type": "code",
   "execution_count": 2,
   "metadata": {},
   "outputs": [],
   "source": [
    "entries = nltk.corpus.cmudict.entries()"
   ]
  },
  {
   "cell_type": "code",
   "execution_count": 3,
   "metadata": {},
   "outputs": [
    {
     "data": {
      "text/plain": [
       "133737"
      ]
     },
     "execution_count": 3,
     "metadata": {},
     "output_type": "execute_result"
    }
   ],
   "source": [
    "# number of entries in the dictionary\n",
    "\n",
    "len(entries)"
   ]
  },
  {
   "cell_type": "markdown",
   "metadata": {},
   "source": [
    "*The dictionary uses the method `setdefault`, whose syntax I find quite twisted.  Regardless, the method creates a new item for phonemes it hasn't yet seen, and adds values for items that already exist.*\"\n",
    "   "
   ]
  },
  {
   "cell_type": "code",
   "execution_count": 4,
   "metadata": {},
   "outputs": [],
   "source": [
    "d = {}\n",
    "\n",
    "for word, pronunciation in entries:\n",
    "        for phoneme in pronunciation:\n",
    "            # create item if it doesn't exist\n",
    "            # if it does exist, add current word\n",
    "            d.setdefault(phoneme, []).append(word)"
   ]
  },
  {
   "cell_type": "markdown",
   "metadata": {},
   "source": [
    "*There are 70 phonemes in this dictionary.  There are 39 basic phonemes, but the vowels have multiple forms, depending where the stress lies.*\"\n",
    "   "
   ]
  },
  {
   "cell_type": "code",
   "execution_count": 5,
   "metadata": {},
   "outputs": [
    {
     "data": {
      "text/plain": [
       "70"
      ]
     },
     "execution_count": 5,
     "metadata": {},
     "output_type": "execute_result"
    }
   ],
   "source": [
    "sum([1 for x in d.items()])"
   ]
  },
  {
   "cell_type": "markdown",
   "metadata": {},
   "source": [
    "<i>Now I'll create a function that will find all items in the lexicon that have some specified properties.  We need at least one property to match (that of `arg1`), but we can use an unlimited number of additional properties, thanks to the `*args` argument.  From there, we'll use set intersections to find only those items which have all the specified properties.</i>\"\n",
    "   "
   ]
  },
  {
   "cell_type": "code",
   "execution_count": 6,
   "metadata": {},
   "outputs": [],
   "source": [
    "def find_all_entries(d, arg1, *args):\n",
    "        \"\"\"\n",
    "        Returns a set of words using the phonemes\n",
    "        in arg1 and args.\n",
    "        \n",
    "        Arguments:\n",
    "        \n",
    "        d:    A dictionary of items.\n",
    "        arg1: The first index to be match.\n",
    "        args: Optional 2nd - nth indices to be matched.\n",
    "        \"\"\"\n",
    "        \n",
    "        rest = set(d[arg1])\n",
    "        for a in args:\n",
    "            rest = rest.intersection(set(d[a]))\n",
    "        \n",
    "        return rest"
   ]
  },
  {
   "cell_type": "code",
   "execution_count": 7,
   "metadata": {},
   "outputs": [
    {
     "data": {
      "text/plain": [
       "{'abdication',\n",
       " 'abstracted',\n",
       " 'ambidextrous',\n",
       " 'backhanded',\n",
       " 'bradycardia',\n",
       " 'broadcasting',\n",
       " \"broadcasting's\",\n",
       " 'bundesbank',\n",
       " \"bundesbank's\",\n",
       " 'creditbank',\n",
       " 'middenstandsbank'}"
      ]
     },
     "execution_count": 7,
     "metadata": {},
     "output_type": "execute_result"
    }
   ],
   "source": [
    "find_all_entries(d, 'AE2', 'B', 'D', 'IH0', 'K')"
   ]
  },
  {
   "cell_type": "markdown",
   "metadata": {},
   "source": [
    "*I'd like to do a sanity check to make sure my code is working correctly.  Finding pronunciations for specific words in the CMU dictionary is not so straight-forward, so I've made a function for this.  I'll check just two words, since I still have to verify everything manually:*\"\n",
    "   "
   ]
  },
  {
   "cell_type": "code",
   "execution_count": 8,
   "metadata": {},
   "outputs": [],
   "source": [
    "def get_pronuncation(corpus, target):\n",
    "        \"\"\"\n",
    "        Return pronunciation for target in corpus.\n",
    "        \"\"\"\n",
    "            \n",
    "        return [pronunciation for word, pronunciation in corpus if word == target]\n",
    "   "
   ]
  },
  {
   "cell_type": "code",
   "execution_count": 9,
   "metadata": {},
   "outputs": [
    {
     "data": {
      "text/plain": [
       "[['AE1', 'B', 'S', 'T', 'R', 'AE2', 'K', 'T', 'IH0', 'D']]"
      ]
     },
     "execution_count": 9,
     "metadata": {},
     "output_type": "execute_result"
    }
   ],
   "source": [
    "get_pronuncation(entries, 'abstracted')"
   ]
  },
  {
   "cell_type": "code",
   "execution_count": 10,
   "metadata": {},
   "outputs": [
    {
     "data": {
      "text/plain": [
       "[['B', 'UH1', 'N', 'D', 'IH0', 'S', 'B', 'AE2', 'NG', 'K'],\n",
       " ['B', 'AA1', 'N', 'D', 'IH0', 'S', 'B', 'AE2', 'NG', 'K'],\n",
       " ['B', 'UH1', 'N', 'D', 'IH0', 'S', 'B', 'AA2', 'NG', 'K']]"
      ]
     },
     "execution_count": 10,
     "metadata": {},
     "output_type": "execute_result"
    }
   ],
   "source": [
    "get_pronuncation(entries, 'bundesbank')"
   ]
  },
  {
   "cell_type": "code",
   "execution_count": 11,
   "metadata": {},
   "outputs": [],
   "source": [
    "from nltk.corpus import wordnet as wn"
   ]
  },
  {
   "cell_type": "markdown",
   "metadata": {},
   "source": [
    "*It takes a little longer to make a comparable dictionary of WordNet entries, but it's still possible.*\n",
    "   "
   ]
  },
  {
   "cell_type": "code",
   "execution_count": 14,
   "metadata": {},
   "outputs": [],
   "source": [
    "d2 = {}\n",
    "    \n",
    "for ss in wn.all_synsets():\n",
    "    for word in ss.definition().split():\n",
    "        word = re.sub(r\"[`'();,]\", \"\", word)\n",
    "        d2.setdefault(word, []).append(ss.name())\n",
    "   "
   ]
  },
  {
   "cell_type": "code",
   "execution_count": 27,
   "metadata": {},
   "outputs": [
    {
     "data": {
      "text/plain": [
       "{'jack_of_all_trades.n.01', 'writer.n.02'}"
      ]
     },
     "execution_count": 27,
     "metadata": {},
     "output_type": "execute_result"
    }
   ],
   "source": [
    "find_all_entries(d2, \"able\", \"person\")"
   ]
  },
  {
   "cell_type": "markdown",
   "metadata": {},
   "source": [
    "*Sanity check:*"
   ]
  },
  {
   "cell_type": "code",
   "execution_count": 34,
   "metadata": {},
   "outputs": [
    {
     "name": "stdout",
     "output_type": "stream",
     "text": [
      "* a person able to do a variety of different jobs acceptably well\n",
      "* a person who is able to write and has written something\n"
     ]
    }
   ],
   "source": [
    "for x in sorted(find_all_entries(d2, \"able\", \"person\")):\n",
    "    print(\"* \" + wn.synset(x).definition())"
   ]
  },
  {
   "cell_type": "code",
   "execution_count": 22,
   "metadata": {},
   "outputs": [
    {
     "data": {
      "text/plain": [
       "{'bellows.n.01',\n",
       " 'blow.v.11',\n",
       " 'brassy.a.01',\n",
       " 'clavichord.n.01',\n",
       " 'cymbal.n.01',\n",
       " 'kazoo.n.01',\n",
       " \"kundt's_tube.n.01\",\n",
       " 'organ.n.05',\n",
       " 'percussion_instrument.n.01',\n",
       " 'rain_stick.n.01',\n",
       " 'scat.n.01',\n",
       " 'sounding_board.n.02',\n",
       " 'stringed_instrument.n.01',\n",
       " 'strum.v.01',\n",
       " 'tootle.n.01',\n",
       " 'vibraphone.n.01',\n",
       " 'whistle.n.03',\n",
       " 'wind_instrument.n.01'}"
      ]
     },
     "execution_count": 22,
     "metadata": {},
     "output_type": "execute_result"
    }
   ],
   "source": [
    "find_all_entries(d2, \"sound\", \"instrument\")"
   ]
  },
  {
   "cell_type": "markdown",
   "metadata": {},
   "source": [
    "*Sanity check:*"
   ]
  },
  {
   "cell_type": "code",
   "execution_count": 35,
   "metadata": {},
   "outputs": [
    {
     "name": "stdout",
     "output_type": "stream",
     "text": [
      "* a mechanical device that blows a strong current of air; used to make a fire burn more fiercely or to sound a musical instrument\n",
      "* play or sound a wind instrument\n",
      "* resembling the sound of a brass instrument\n",
      "* an early stringed instrument like a piano but with more delicate sound\n",
      "* a percussion instrument consisting of a concave brass disk; makes a loud crashing sound when hit with a drumstick or when two are struck together\n",
      "* a toy wind instrument that has a membrane that makes a sound when you hum into the mouthpiece\n",
      "* a measuring instrument used to measure the speed of sound\n",
      "* wind instrument whose sound is produced by means of pipes arranged in sets supplied with air from a bellows and controlled from a large complex musical keyboard\n",
      "* a musical instrument in which the sound is produced by one object striking another\n",
      "* a percussion instrument that is made from a dried cactus branch that is hollowed out and filled with small pebbles and capped at both ends; makes the sound of falling rain when tilted; origin was in Chile where tribesmen used it in ceremonies to bring rain\n",
      "* singing jazz; the singer substitutes nonsense syllables for the words of the song and tries to sound like a musical instrument\n",
      "* (music) resonator consisting of a thin board whose vibrations reinforce the sound of the instrument\n",
      "* a musical instrument in which taut strings provide the source of sound\n",
      "* sound the strings of (a string instrument)\n",
      "* the sound of casual playing on a musical instrument\n",
      "* a percussion instrument similar to a xylophone but having metal bars and rotating disks in the resonators that produce a vibrato sound\n",
      "* a small wind instrument that produces a whistling sound by blowing into it\n",
      "* a musical instrument in which the sound is produced by an enclosed column of air that is moved by the breath\n"
     ]
    }
   ],
   "source": [
    "for x in sorted(find_all_entries(d2, \"sound\", \"instrument\")):\n",
    "    print(\"* \" + wn.synset(x).definition())"
   ]
  },
  {
   "cell_type": "code",
   "execution_count": 23,
   "metadata": {},
   "outputs": [
    {
     "data": {
      "text/plain": [
       "{'battery.n.02',\n",
       " 'conductor.n.04',\n",
       " 'electrical_device.n.01',\n",
       " 'electromechanical_device.n.01',\n",
       " 'electrostatic_generator.n.01'}"
      ]
     },
     "execution_count": 23,
     "metadata": {},
     "output_type": "execute_result"
    }
   ],
   "source": [
    "find_all_entries(d2, \"electricity\", \"device\")"
   ]
  },
  {
   "cell_type": "markdown",
   "metadata": {},
   "source": [
    "*Sanity check:*"
   ]
  },
  {
   "cell_type": "code",
   "execution_count": 36,
   "metadata": {},
   "outputs": [
    {
     "name": "stdout",
     "output_type": "stream",
     "text": [
      "* a device that produces electricity; may have several primary or secondary cells arranged in parallel or series\n",
      "* a device designed to transmit electricity, heat, etc.\n",
      "* a device that produces or is powered by electricity\n",
      "* a mechanical device that is operated by electricity\n",
      "* electrical device that produces a high voltage by building up a charge of static electricity\n"
     ]
    }
   ],
   "source": [
    "for x in sorted(find_all_entries(d2, \"electricity\", \"device\")):\n",
    "    print(\"* \" + wn.synset(x).definition())"
   ]
  },
  {
   "cell_type": "markdown",
   "metadata": {},
   "source": [
    "##### 19.\n",
    "\n",
    "◑ Write a list comprehension that sorts a list of WordNet synsets for proximity to a given synset. For example, given the synsets `minke_whale.n.01`, `orca.n.01`, `novel.n.01`, and `tortoise.n.01`, sort them according to their `shortest_path_distance()` from `right_whale.n.01`."
   ]
  },
  {
   "cell_type": "code",
   "execution_count": 10,
   "metadata": {},
   "outputs": [],
   "source": [
    "right = wn.synset('right_whale.n.01')\n",
    "orca = wn.synset('orca.n.01')\n",
    "minke = wn.synset('minke_whale.n.01')\n",
    "tortoise = wn.synset('tortoise.n.01')\n",
    "novel = wn.synset('novel.n.01')\n",
    "\n",
    "whales = [orca, minke, tortoise, novel]"
   ]
  },
  {
   "cell_type": "code",
   "execution_count": 16,
   "metadata": {},
   "outputs": [
    {
     "data": {
      "text/plain": [
       "[(0.25, Synset('lesser_rorqual.n.01')),\n",
       " (0.16666666666666666, Synset('killer_whale.n.01')),\n",
       " (0.07692307692307693, Synset('tortoise.n.01')),\n",
       " (0.043478260869565216, Synset('novel.n.01'))]"
      ]
     },
     "execution_count": 16,
     "metadata": {},
     "output_type": "execute_result"
    }
   ],
   "source": [
    "sorted(set([(right.path_similarity(w), w) for w in whales]), reverse = True)"
   ]
  },
  {
   "cell_type": "markdown",
   "metadata": {},
   "source": [
    "*Note the alternate names for __minke__ and __orca__:*"
   ]
  },
  {
   "cell_type": "code",
   "execution_count": 17,
   "metadata": {},
   "outputs": [
    {
     "name": "stdout",
     "output_type": "stream",
     "text": [
      "Synset('lesser_rorqual.n.01')\n",
      "Synset('killer_whale.n.01')\n"
     ]
    }
   ],
   "source": [
    "print(minke, orca, sep = '\\n')"
   ]
  },
  {
   "cell_type": "markdown",
   "metadata": {},
   "source": [
    "##### 20. \n",
    "\n",
    "◑ Write a function that takes a list of words (containing duplicates) and returns a list of words (with no duplicates) sorted by decreasing frequency. E.g. if the input list contained 10 instances of the word `table` and 9 instances of the word `chair`, then `table` would appear before `chair` in the output list."
   ]
  },
  {
   "cell_type": "code",
   "execution_count": 28,
   "metadata": {},
   "outputs": [],
   "source": [
    "def sort_list_by_frequency(t):\n",
    "    return sorted(set([(w) for w, _ in nltk.FreqDist(t).items()]), \n",
    "                  reverse = True)"
   ]
  },
  {
   "cell_type": "code",
   "execution_count": 21,
   "metadata": {},
   "outputs": [
    {
     "name": "stdout",
     "output_type": "stream",
     "text": [
      "['chair', 'chair', 'chair', 'chair', 'chair', 'chair', 'chair', 'chair', 'chair', 'table', 'table', 'table', 'table', 'table', 'table', 'table', 'table', 'table', 'table'] "
     ]
    }
   ],
   "source": [
    "test = []\n",
    "for i in range(9):\n",
    "    test.append(\"chair\")\n",
    "for i in range(10):\n",
    "    test.append(\"table\")\n",
    "\n",
    "print(test, end = \" \")"
   ]
  },
  {
   "cell_type": "code",
   "execution_count": 29,
   "metadata": {},
   "outputs": [
    {
     "data": {
      "text/plain": [
       "['table', 'chair']"
      ]
     },
     "execution_count": 29,
     "metadata": {},
     "output_type": "execute_result"
    }
   ],
   "source": [
    "sort_list_by_frequency(test)"
   ]
  },
  {
   "cell_type": "markdown",
   "metadata": {},
   "source": [
    "##### 21.\n",
    "\n",
    "◑ Write a function that takes a text and a vocabulary as its arguments and returns the set of words that appear in the text but not in the vocabulary. Both arguments can be represented as lists of strings. Can you do this in a single line, using `set.difference()`?\n",
    "\n",
    "*The instructions explicitly say that we only need a single line and the arguments are lists of strings.  However, considering all the advice given in this chapter, I would strongly recommend programming \"defensively\" and adding checks to make sure that the arguments are indeed lists.*\n",
    "\n",
    "*Here's what the function would look like as one line:*"
   ]
  },
  {
   "cell_type": "code",
   "execution_count": 54,
   "metadata": {},
   "outputs": [],
   "source": [
    "def return_vocab_not_in_text(text, vocab):\n",
    "    \"\"\"\n",
    "    Returns strings in text but not in vocab.\n",
    "    \n",
    "    Arguments:\n",
    "    \n",
    "    text:  A list of strings.\n",
    "    vocab: A list of strings.\n",
    "    \"\"\"\n",
    "    return set(text).difference(set(vocab))"
   ]
  },
  {
   "cell_type": "markdown",
   "metadata": {},
   "source": [
    "*If we program defensively and try to envision every combination of `str`, `set`, or `list`, we'd end up with a much longer function.*"
   ]
  },
  {
   "cell_type": "code",
   "execution_count": 102,
   "metadata": {},
   "outputs": [],
   "source": [
    "from nltk import word_tokenize\n",
    "\n",
    "def return_vocab_not_in_text(text, vocab):\n",
    "    \"\"\"\n",
    "    Returns strings in text but not in vocab.\n",
    "    \n",
    "    Arguments:\n",
    "    \n",
    "    text:  A list of strings, a set of strings, or a string.\n",
    "    vocab: A list of strings, a set of strings, or a string.\n",
    "    \"\"\"\n",
    "    \n",
    "    # if text and vocab are some combination of set and list\n",
    "    if isinstance(text, set) and isinstance(vocab, set):\n",
    "        return text.difference(vocab)\n",
    "    elif isinstance(text, list) and isinstance(vocab, set):\n",
    "        return set(text).difference(vocab)\n",
    "    elif isinstance(text, set) and isinstance(vocab, list):\n",
    "        return text.difference(set(vocab))\n",
    "    \n",
    "    # if text is a str\n",
    "    if type(text) == str:\n",
    "        text = word_tokenize(text)\n",
    "    else:\n",
    "        assert isinstance(text, \n",
    "                          list), \"Argument `text` must be a list or a string\"\n",
    "    \n",
    "    # if vocab is a str\n",
    "    if type(vocab) == str:\n",
    "        vocab = word_tokenize(vocab)\n",
    "    else:\n",
    "        assert isinstance(vocab, \n",
    "                          list), \"Argument `vocab` must be a list or a string\"\n",
    "\n",
    "    return set(text).difference(set(vocab))"
   ]
  },
  {
   "cell_type": "code",
   "execution_count": 73,
   "metadata": {},
   "outputs": [],
   "source": [
    "\n",
    "\n",
    "deep_thought = (\"When I was a kid my favorite relative was Uncle Caveman. \" \n",
    "                \"After school we'd all go play in his cave, \"\n",
    "                \"and every once in a while he would eat one of us. \" \n",
    "                \"It wasn't until later that I found out that Uncle Caveman \"\n",
    "                \"was a bear.\")\n",
    "\n",
    "# convert deep_thought to a list\n",
    "\n",
    "dt_words = word_tokenize(deep_thought)"
   ]
  },
  {
   "cell_type": "code",
   "execution_count": 59,
   "metadata": {},
   "outputs": [],
   "source": [
    "vocab =  [\"'d\", 'was', '.', 'play', 'school', 'favorite', 'found',  \n",
    "          'kid', 'all', 'once', 'Caveman', 'Uncle', 'cave', \n",
    "          'while', 'relative', \"n't\", 'until', 'out', 'we', 'a', 'my', \n",
    "          'After', 'that', 'every', 'later', 'and', 'go', 'in', 'of', \n",
    "          'one', 'bear', 'When', 'would', 'eat']"
   ]
  },
  {
   "cell_type": "code",
   "execution_count": 82,
   "metadata": {},
   "outputs": [
    {
     "data": {
      "text/plain": [
       "{',', 'I', 'It', 'he', 'his', 'us'}"
      ]
     },
     "execution_count": 82,
     "metadata": {},
     "output_type": "execute_result"
    }
   ],
   "source": [
    "return_vocab_not_in_text(dt_words, vocab)"
   ]
  },
  {
   "cell_type": "code",
   "execution_count": 98,
   "metadata": {},
   "outputs": [
    {
     "data": {
      "text/plain": [
       "{',', 'I', 'It', 'he', 'his', 'us'}"
      ]
     },
     "execution_count": 98,
     "metadata": {},
     "output_type": "execute_result"
    }
   ],
   "source": [
    "return_vocab_not_in_text(deep_thought, vocab)"
   ]
  },
  {
   "cell_type": "code",
   "execution_count": 103,
   "metadata": {},
   "outputs": [
    {
     "data": {
      "text/plain": [
       "{',', 'I', 'It', 'he', 'his', 'us'}"
      ]
     },
     "execution_count": 103,
     "metadata": {},
     "output_type": "execute_result"
    }
   ],
   "source": [
    "return_vocab_not_in_text(set(dt_words), vocab)"
   ]
  },
  {
   "cell_type": "markdown",
   "metadata": {},
   "source": [
    "##### 22.\n",
    "\n",
    "◑ Import the `itemgetter()` function from the operator module in Python's standard library (i.e. `from operator import itemgetter`). Create a list `words` containing several words. Now try calling: `sorted(words, key=itemgetter(1))`, and `sorted(words, key=itemgetter(-1))`. Explain what `itemgetter()` is doing."
   ]
  },
  {
   "cell_type": "code",
   "execution_count": 114,
   "metadata": {},
   "outputs": [],
   "source": [
    "from operator import itemgetter\n",
    "\n",
    "words = ['my', 'list', 'of', 'several', 'words']"
   ]
  },
  {
   "cell_type": "markdown",
   "metadata": {},
   "source": [
    "*`itemgetter(n)` retrieves the item at index position `n`. In the below examples, the list `word` is sorted by the key at index `n`.*"
   ]
  },
  {
   "cell_type": "code",
   "execution_count": 116,
   "metadata": {},
   "outputs": [
    {
     "data": {
      "text/plain": [
       "['list', 'my', 'of', 'several', 'words']"
      ]
     },
     "execution_count": 116,
     "metadata": {},
     "output_type": "execute_result"
    }
   ],
   "source": [
    "sorted(words, key = itemgetter(0))"
   ]
  },
  {
   "cell_type": "code",
   "execution_count": 115,
   "metadata": {},
   "outputs": [
    {
     "data": {
      "text/plain": [
       "['several', 'of', 'list', 'words', 'my']"
      ]
     },
     "execution_count": 115,
     "metadata": {},
     "output_type": "execute_result"
    }
   ],
   "source": [
    "sorted(words, key = itemgetter(1))"
   ]
  },
  {
   "cell_type": "code",
   "execution_count": 108,
   "metadata": {},
   "outputs": [
    {
     "data": {
      "text/plain": [
       "['a', 'of', 'several', 'words', 'list']"
      ]
     },
     "execution_count": 108,
     "metadata": {},
     "output_type": "execute_result"
    }
   ],
   "source": [
    "sorted(words, key = itemgetter(-1))"
   ]
  },
  {
   "cell_type": "markdown",
   "metadata": {},
   "source": [
    "*If the above examples were not clear, the tuple below should be easier to follow:*"
   ]
  },
  {
   "cell_type": "code",
   "execution_count": 117,
   "metadata": {},
   "outputs": [
    {
     "data": {
      "text/plain": [
       "[('A', 'Beta', 3), ('B', 'Gamma', 1), ('C', 'Alpha', 2)]"
      ]
     },
     "execution_count": 117,
     "metadata": {},
     "output_type": "execute_result"
    }
   ],
   "source": [
    "test = [('A', 'Beta', 3), ('C', 'Alpha', 2), ('B', 'Gamma', 1)]\n",
    "sorted(test, key = itemgetter(0))"
   ]
  },
  {
   "cell_type": "code",
   "execution_count": 118,
   "metadata": {},
   "outputs": [
    {
     "data": {
      "text/plain": [
       "[('C', 'Alpha', 2), ('A', 'Beta', 3), ('B', 'Gamma', 1)]"
      ]
     },
     "execution_count": 118,
     "metadata": {},
     "output_type": "execute_result"
    }
   ],
   "source": [
    "sorted(test, key = itemgetter(1))"
   ]
  },
  {
   "cell_type": "code",
   "execution_count": 119,
   "metadata": {},
   "outputs": [
    {
     "data": {
      "text/plain": [
       "[('B', 'Gamma', 1), ('C', 'Alpha', 2), ('A', 'Beta', 3)]"
      ]
     },
     "execution_count": 119,
     "metadata": {},
     "output_type": "execute_result"
    }
   ],
   "source": [
    "sorted(test, key = itemgetter(2))"
   ]
  },
  {
   "cell_type": "markdown",
   "metadata": {},
   "source": [
    "##### 23. \n",
    "\n",
    "◑ Write a recursive function `lookup(trie, key)` that looks up a key in a trie, and returns the value it finds. Extend the function to return a word when it is uniquely determined by its prefix (e.g. `vanguard` is the only word that starts with `vang-`, so `lookup(trie, 'vang')` should return the same thing as `lookup(trie, 'vanguard'))`.\n",
    "\n",
    "*I tried to use recursion as much as possible when solving this question.  I was able to do this for the first part of the question - simple lookup of a word in the tree; but I had some problems when I tried to expand this so that we could find words solely by their prefix.  If a word was uniquely determined by its prefix - as per the example in the question - then I was able to return the value solely through recursion. However, for non-unique prefixes, there would be several potential matches, but this function would only return the first, without notifying the user that there were other possible matches. I found this of limited practical usage, since an end user would probably not be aware if a prefix was unique or not. I therefore expanded the function even more so that it output all possible final values.  To tackle this final problem I had to resort to a non-recursive method - namely, a second function that would handle the special case of non-unique prefixes.  As far as I am aware, it would not be possible to do this entirely recursively.*\n",
    "\n",
    "*The function `insert` from chapter 4 in the NLTK book:*"
   ]
  },
  {
   "cell_type": "code",
   "execution_count": 288,
   "metadata": {},
   "outputs": [],
   "source": [
    "def insert(trie, key, value):\n",
    "    if key:\n",
    "        first, rest = key[0], key[1:]\n",
    "        if first not in trie:\n",
    "            trie[first] = {}\n",
    "        insert(trie[first], rest, value)\n",
    "    else:\n",
    "        trie['value'] = value"
   ]
  },
  {
   "cell_type": "code",
   "execution_count": 289,
   "metadata": {},
   "outputs": [],
   "source": [
    "trie = {}\n",
    "\n",
    "en = [\"vandalism\", \"vandalize\", \"vane\", \"vanguard\", \"vanilla\", \"vanish\", \n",
    "      \"vanity\"]\n",
    "fr = [\"vandalisme\", \"vandaliser\", \"girouette\", \"avant-garde\", \"vanille\", \n",
    "      \"disparaître\", \"vanité\"]\n",
    "\n",
    "[insert(trie, e, f) for e, f in zip(en, fr)];"
   ]
  },
  {
   "cell_type": "code",
   "execution_count": 4,
   "metadata": {},
   "outputs": [
    {
     "name": "stdout",
     "output_type": "stream",
     "text": [
      "{'v': {'a': {'n': {'d': {'a': {'l': {'i': {'s': {'m': {'value': 'vandalisme'}},\n",
      "                                           'z': {'e': {'value': 'vandaliser'}}}}}},\n",
      "                   'e': {'value': 'girouette'},\n",
      "                   'g': {'u': {'a': {'r': {'d': {'value': 'avant-garde'}}}}},\n",
      "                   'i': {'l': {'l': {'a': {'value': 'vanille'}}},\n",
      "                         's': {'h': {'value': 'disparaître'}},\n",
      "                         't': {'y': {'value': 'vanité'}}}}}}}\n"
     ]
    }
   ],
   "source": [
    "pprint.pprint(trie, width = 50)"
   ]
  },
  {
   "cell_type": "markdown",
   "metadata": {},
   "source": [
    "*The original version of the function that I wrote.  It looks up a key and returns its value:*"
   ]
  },
  {
   "cell_type": "code",
   "execution_count": 337,
   "metadata": {},
   "outputs": [],
   "source": [
    "# original\n",
    "\n",
    "def lookup(trie, word):\n",
    "    \"\"\"\n",
    "    Looks up the value of a word in a trie.\n",
    "    \"\"\"\n",
    "    \n",
    "    if len(word) == 1:\n",
    "        return trie[word]     \n",
    "    first, rest = word[0], word[1:]\n",
    "    if first not in trie:\n",
    "        return False\n",
    "    return lookup(trie[first], rest)\n"
   ]
  },
  {
   "cell_type": "code",
   "execution_count": 338,
   "metadata": {},
   "outputs": [
    {
     "data": {
      "text/plain": [
       "{'value': 'girouette'}"
      ]
     },
     "execution_count": 338,
     "metadata": {},
     "output_type": "execute_result"
    }
   ],
   "source": [
    "lookup(trie, 'vane')"
   ]
  },
  {
   "cell_type": "code",
   "execution_count": 340,
   "metadata": {},
   "outputs": [
    {
     "data": {
      "text/plain": [
       "{'value': 'disparaître'}"
      ]
     },
     "execution_count": 340,
     "metadata": {},
     "output_type": "execute_result"
    }
   ],
   "source": [
    "lookup(trie, 'vanish')"
   ]
  },
  {
   "cell_type": "code",
   "execution_count": 348,
   "metadata": {},
   "outputs": [
    {
     "data": {
      "text/plain": [
       "False"
      ]
     },
     "execution_count": 348,
     "metadata": {},
     "output_type": "execute_result"
    }
   ],
   "source": [
    "# test - word not in trie\n",
    "\n",
    "lookup(trie, 'error')"
   ]
  },
  {
   "cell_type": "markdown",
   "metadata": {},
   "source": [
    "*The expanded version is able to handle portions of keys, as long as those portions are unique to a specific key.  Otherwise, the function merely returns the first value to match that portion of a key.*"
   ]
  },
  {
   "cell_type": "code",
   "execution_count": 341,
   "metadata": {},
   "outputs": [],
   "source": [
    "# expanded version - returns the value for complete words and unique suffixes\n",
    "\n",
    "def lookup(trie, word):\n",
    "    \"\"\"\n",
    "    Looks up the value of a word in a trie.\n",
    "    Word can be a complete word of just a prefix, i.e., \n",
    "    beginning of the string.  Function will only return the \n",
    "    first match for non-unique prefixes.\n",
    "    \"\"\"\n",
    "    \n",
    "    if len(word) == 1:\n",
    "        keys = list(trie[word].keys())\n",
    "        if keys[0] == 'value':\n",
    "            return trie[word].values()\n",
    "        else:\n",
    "            for k in keys:\n",
    "                return lookup(trie[word], k)\n",
    "\n",
    "    first, rest = word[0], word[1:]\n",
    "    if first not in trie:\n",
    "        return False\n",
    "    return lookup(trie[first], rest)\n"
   ]
  },
  {
   "cell_type": "code",
   "execution_count": 342,
   "metadata": {},
   "outputs": [
    {
     "data": {
      "text/plain": [
       "dict_values(['avant-garde'])"
      ]
     },
     "execution_count": 342,
     "metadata": {},
     "output_type": "execute_result"
    }
   ],
   "source": [
    "lookup(trie, 'vang')"
   ]
  },
  {
   "cell_type": "code",
   "execution_count": 343,
   "metadata": {},
   "outputs": [
    {
     "data": {
      "text/plain": [
       "dict_values(['vanille'])"
      ]
     },
     "execution_count": 343,
     "metadata": {},
     "output_type": "execute_result"
    }
   ],
   "source": [
    "lookup(trie, 'vanil')"
   ]
  },
  {
   "cell_type": "markdown",
   "metadata": {},
   "source": [
    "*The final version is able to handle non-unique portions of keys, but resorts to a helper function to do this.  Therefore, it is not entirely recursive:*"
   ]
  },
  {
   "cell_type": "code",
   "execution_count": 344,
   "metadata": {},
   "outputs": [],
   "source": [
    "# semi-recursive version; able to handle non-unique prefixes\n",
    "\n",
    "def get_final_value(trie, word):\n",
    "    \"\"\"\n",
    "    Retrieves the final value of word\n",
    "    in a trie.\n",
    "    \"\"\"\n",
    "    if len(word) == 1:\n",
    "        keys = list(trie[word].keys())\n",
    "\n",
    "        if keys[0] == 'value':\n",
    "            return trie[word].values()\n",
    "        else:\n",
    "            for k in keys:\n",
    "                return lookup(trie[word], k)     \n",
    "    return results\n",
    "\n",
    "def lookup(trie, word):\n",
    "    \"\"\"\n",
    "    Looks up the value of a word in a trie.\n",
    "    Word can be a complete word of just a prefix, i.e., \n",
    "    beginning of the string.  Function will return all \n",
    "    possible matches for non-unique prefixes.\n",
    "    \"\"\"\n",
    "        \n",
    "    if len(word) == 1:\n",
    "        keys = list(trie[word].keys())\n",
    "        if len(keys) > 1:\n",
    "            results = []\n",
    "            for k in keys:\n",
    "                results.append(get_final_value(trie[word], k))\n",
    "            return results\n",
    "        \n",
    "        if keys[0] == 'value':\n",
    "            return trie[word].values()\n",
    "        else:\n",
    "            for k in keys:\n",
    "                return lookup(trie[word], k)\n",
    "            \n",
    "        \n",
    "    if len(word) > 1:\n",
    "        \n",
    "        first, rest = word[0], word[1:]\n",
    "        if first not in trie:\n",
    "            return False\n",
    "        return lookup(trie[first], rest)\n",
    "\n",
    "    \n"
   ]
  },
  {
   "cell_type": "code",
   "execution_count": 345,
   "metadata": {},
   "outputs": [
    {
     "data": {
      "text/plain": [
       "dict_values(['avant-garde'])"
      ]
     },
     "execution_count": 345,
     "metadata": {},
     "output_type": "execute_result"
    }
   ],
   "source": [
    "lookup(trie, 'vang')"
   ]
  },
  {
   "cell_type": "code",
   "execution_count": 346,
   "metadata": {},
   "outputs": [
    {
     "data": {
      "text/plain": [
       "[dict_values(['vandalisme']), dict_values(['vandaliser'])]"
      ]
     },
     "execution_count": 346,
     "metadata": {},
     "output_type": "execute_result"
    }
   ],
   "source": [
    "lookup(trie, 'vand')"
   ]
  },
  {
   "cell_type": "markdown",
   "metadata": {},
   "source": [
    "##### 24.\n",
    "\n",
    "◑ Read up on \"keyword linkage\" (chapter 5 of (Scott & Tribble, 2006)). Extract keywords from NLTK's Shakespeare Corpus and using the NetworkX package, plot keyword linkage networks.\n",
    "\n",
    "*This was another question that I found to be quite vexing. Outside of this question, there is no mention of 'keyword linkage' in the book.  Furthermore, the Shakespeare Corpus is in xml format, which isn't covered until the last chapter of the book.*\n",
    "\n",
    "*There is some example code about the Shakespeare Corpus [here](http://www.nltk.org/howto/corpus.html, \"howto/corpus\"), but in my opinion it's not terribly helpful.  I was only able to access the lines of the plays after I had located an [external blog](https://www.datasciencebytes.com/bytes/2014/12/30/topic-modeling-of-shakespeare-characters/ \"topic modeling in Shakespeare\") where someone discussed dealing with a similar problem.*\n",
    "\n",
    "*Furthermore, even after I was able to locate a copy of Scott & Tribble, I found it quite difficult to replicate their results.  I found their discussion of keywords to be very general, and it was difficult to get the exact keywords in \"Romeo & Juliet\" that they had found.*\n",
    "\n",
    "*Finally, I'm not convinced that NetworkX is the best module for this specific task.  The example in the book showed WordNet hierarchies, but the network in this example is much shallower.  The networks for this problem have a lot of nodes and only a few edges, which make for a very cluttered graph.*"
   ]
  },
  {
   "cell_type": "markdown",
   "metadata": {},
   "source": [
    "*The xml text is stored in this format, making it difficult to grab text from collocational windows (i.e., 5 words before and after a keyword).*\n",
    "\n",
    "\n",
    "```{xml}\n",
    "<SPEECH>\n",
    "<SPEAKER>BENVOLIO</SPEAKER>\n",
    "<LINE>Why, Romeo, art thou mad?</LINE>\n",
    "</SPEECH>\n",
    "```"
   ]
  },
  {
   "cell_type": "code",
   "execution_count": 2,
   "metadata": {},
   "outputs": [
    {
     "data": {
      "text/plain": [
       "['a_and_c.xml',\n",
       " 'dream.xml',\n",
       " 'hamlet.xml',\n",
       " 'j_caesar.xml',\n",
       " 'macbeth.xml',\n",
       " 'merchant.xml',\n",
       " 'othello.xml',\n",
       " 'r_and_j.xml']"
      ]
     },
     "execution_count": 2,
     "metadata": {},
     "output_type": "execute_result"
    }
   ],
   "source": [
    "from nltk.corpus import shakespeare\n",
    "from xml.etree import ElementTree\n",
    "shakespeare.fileids() \n"
   ]
  },
  {
   "cell_type": "code",
   "execution_count": 4,
   "metadata": {},
   "outputs": [
    {
     "name": "stdout",
     "output_type": "stream",
     "text": [
      "['ESCALUS, prince of Verona. ', 'PARIS, a young nobleman, kinsman to the prince.', 'An old man, cousin to Capulet. ', 'ROMEO, son to Montague.', 'MERCUTIO, kinsman to the prince, and friend to Romeo.', 'BENVOLIO, nephew to Montague, and friend to Romeo.', 'TYBALT, nephew to Lady Capulet.', 'BALTHASAR, servant to Romeo.', \"PETER, servant to Juliet's nurse.\", 'ABRAHAM, servant to Montague.', 'An Apothecary. ', 'Three Musicians.', 'Page to Paris; another Page; an officer.', 'LADY MONTAGUE, wife to Montague.', 'LADY CAPULET, wife to Capulet.', 'JULIET, daughter to Capulet.', 'Nurse to Juliet. ', 'Citizens of Verona; several Men and Women, relations to both houses; Maskers, Guards, Watchmen, and Attendants.', 'Chorus.']\n"
     ]
    }
   ],
   "source": [
    "play = shakespeare.xml('r_and_j.xml')\n",
    "\n",
    "personae = [persona.text for persona in\n",
    "             play.findall('PERSONAE/PERSONA')]\n",
    "print(personae) # doctest: +ELLIPSIS\n"
   ]
  },
  {
   "cell_type": "code",
   "execution_count": 5,
   "metadata": {},
   "outputs": [
    {
     "name": "stdout",
     "output_type": "stream",
     "text": [
      "{'TYBALT', 'FRIAR JOHN', 'Second Musician', 'Servant', 'First Watchman', 'Chorus', 'PETER', 'ABRAHAM', 'Second Capulet', 'MONTAGUE', 'First Servant', 'First Citizen', 'MERCUTIO', 'JULIET', 'PRINCE', 'GREGORY', 'NURSE', 'PARIS', 'BALTHASAR', 'Second Servant', 'FRIAR LAURENCE', 'Third Musician', 'BENVOLIO', 'Musician', None, 'CAPULET', 'Second Watchman', 'Nurse', 'LADY  CAPULET', 'ROMEO', 'Third Watchman', 'SAMPSON', 'LADY MONTAGUE', 'Apothecary', 'PAGE', 'LADY CAPULET', 'First Musician'}"
     ]
    }
   ],
   "source": [
    "speakers = set(speaker.text for speaker in\n",
    "                play.findall('*/*/*/SPEAKER'))\n",
    "\n",
    "print(speakers, end = '')"
   ]
  },
  {
   "cell_type": "markdown",
   "metadata": {},
   "source": [
    "*Not quite what I had wanted, but a dictionary of all lines with that mention Romeo:*"
   ]
  },
  {
   "cell_type": "code",
   "execution_count": 8,
   "metadata": {},
   "outputs": [
    {
     "name": "stdout",
     "output_type": "stream",
     "text": [
      "O, where is Romeo? saw you him to-day?\n",
      "It was. What sadness lengthens Romeo's hours?\n",
      "This is not Romeo, he's some other where.\n",
      "Why, Romeo, art thou mad?\n",
      "Nay, gentle Romeo, we must have you dance.\n",
      "Young Romeo is it?\n",
      "'Tis he, that villain Romeo.\n",
      "His name is Romeo, and a Montague;\n",
      "Romeo! my cousin Romeo!\n",
      "Romeo! humours! madman! passion! lover!\n",
      "Romeo, that she were, O, that she were\n",
      "Romeo, good night: I'll to my truckle-bed;\n",
      "O Romeo, Romeo! wherefore art thou Romeo?\n",
      "So Romeo would, were he not Romeo call'd,\n",
      "Without that title. Romeo, doff thy name,\n",
      "Henceforth I never will be Romeo.\n",
      "Art thou not Romeo and a Montague?\n",
      "Then say, Jove laughs. O gentle Romeo,\n",
      "Three words, dear Romeo, and good night indeed.\n",
      "Hist! Romeo, hist! O, for a falconer's voice,\n",
      "With repetition of my Romeo's name.\n",
      "Romeo!\n",
      "Our Romeo hath not been in bed to-night.\n",
      "Where the devil should this Romeo be?\n",
      "Romeo will answer it.\n",
      "Alas poor Romeo! he is already dead; stabbed with a\n",
      "Here comes Romeo, here comes Romeo.\n",
      "Romeo, bon jour! there's a French salutation\n",
      "now art thou sociable, now art thou Romeo; now art\n",
      "may find the young Romeo?\n",
      "I can tell you; but young Romeo will be older when\n",
      "Romeo, will you come to your father's? we'll\n",
      "rosemary and Romeo begin both with a letter?\n",
      "how to choose a man: Romeo! no, not he; though his\n",
      "Here's such a coil! come, what says Romeo?\n",
      "Romeo shall thank thee, daughter, for us both.\n",
      "Mercutio, thou consort'st with Romeo,--\n",
      "Romeo, the hate I bear thee can afford\n",
      "O Romeo, Romeo, brave Mercutio's dead!\n",
      "Romeo, away, be gone!\n",
      "There lies the man, slain by young Romeo,\n",
      "Tybalt, here slain, whom Romeo's hand did slay;\n",
      "Romeo that spoke him fair, bade him bethink\n",
      "Retorts it: Romeo he cries aloud,\n",
      "But by and by comes back to Romeo,\n",
      "And, as he fell, did Romeo turn and fly.\n",
      "Romeo slew Tybalt, Romeo must not live.\n",
      "Romeo slew him, he slew Mercutio;\n",
      "Not Romeo, prince, he was Mercutio's friend;\n",
      "Therefore use none: let Romeo hence in haste,\n",
      "That runaway's eyes may wink and Romeo\n",
      "Come, night; come, Romeo; come, thou day in night;\n",
      "Give me my Romeo; and, when he shall die,\n",
      "But Romeo's name speaks heavenly eloquence.\n",
      "That Romeo bid thee fetch?\n",
      "Romeo can,\n",
      "Though heaven cannot: O Romeo, Romeo!\n",
      "Who ever would have thought it? Romeo!\n",
      "Hath Romeo slain himself? say thou but 'I,'\n",
      "And thou and Romeo press one heavy bier!\n",
      "Is Romeo slaughter'd, and is Tybalt dead?\n",
      "Tybalt is gone, and Romeo banished;\n",
      "Romeo that kill'd him, he is banished.\n",
      "O God! did Romeo's hand shed Tybalt's blood?\n",
      "Shame come to Romeo!\n",
      "'Tybalt is dead, and Romeo--banished;'\n",
      "'Romeo is banished,' to speak that word,\n",
      "Is father, mother, Tybalt, Romeo, Juliet,\n",
      "All slain, all dead. 'Romeo is banished!'\n",
      "When theirs are dry, for Romeo's banishment.\n",
      "Both you and I; for Romeo is exiled:\n",
      "And death, not Romeo, take my maidenhead!\n",
      "Hie to your chamber: I'll find Romeo\n",
      "Hark ye, your Romeo will be here at night:\n",
      "Romeo, come forth; come forth, thou fearful man:\n",
      "But Romeo may not: more validity,\n",
      "In carrion-flies than Romeo: they my seize\n",
      "But Romeo may not; he is banished:\n",
      "Arise; one knocks; good Romeo, hide thyself.\n",
      "Hark, how they knock! Who's there? Romeo, arise;\n",
      "Where is my lady's lord, where's Romeo?\n",
      "And Tybalt calls; and then on Romeo cries,\n",
      "Romeo is coming.\n",
      "Ere I again behold my Romeo!\n",
      "That same villain, Romeo.\n",
      "With Romeo, till I behold him--dead--\n",
      "That Romeo should, upon receipt thereof,\n",
      "It shall be Romeo, whom you know I hate,\n",
      "Romeo is banish'd; and all the world to nothing,\n",
      "Romeo's a dishclout to him: an eagle, madam,\n",
      "God join'd my heart and Romeo's, thou our hands;\n",
      "And ere this hand, by thee to Romeo seal'd,\n",
      "Shall Romeo by my letters know our drift,\n",
      "Shall Romeo bear thee hence to Mantua.\n",
      "Because he married me before to Romeo?\n",
      "I wake before the time that Romeo\n",
      "And there die strangled ere my Romeo comes?\n",
      "Seeking out Romeo, that did spit his body\n",
      "Romeo, I come! this do I drink to thee.\n",
      "Welcome from Mantua: what says Romeo?\n",
      "Who bare my letter, then, to Romeo?\n",
      "She will beshrew me much that Romeo\n",
      "And keep her at my cell till Romeo come;\n",
      "Romeo.\n",
      "Romeo!\n",
      "Romeo! O, pale! Who else? what, Paris too?\n",
      "And there I am. Where is my Romeo?\n",
      "Here's Romeo's man; we found him in the churchyard.\n",
      "The people in the street cry Romeo,\n",
      "And Romeo dead; and Juliet, dead before,\n",
      "Here is a friar, and slaughter'd Romeo's man;\n",
      "Romeo, there dead, was husband to that Juliet;\n",
      "And she, there dead, that Romeo's faithful wife:\n",
      "The form of death: meantime I writ to Romeo,\n",
      "Till I conveniently could send to Romeo:\n",
      "The noble Paris and true Romeo dead.\n",
      "Where's Romeo's man? what can he say in this?\n",
      "As rich shall Romeo's by his lady's lie;\n",
      "Than this of Juliet and her Romeo.\n"
     ]
    }
   ],
   "source": [
    "Romeo = {}\n",
    "\n",
    "play = shakespeare.xml('r_and_j.xml')\n",
    "\n",
    "from nltk import word_tokenize\n",
    "\n",
    "for act in play.findall('ACT'):\n",
    "    for scene in act.findall('SCENE'):\n",
    "        for speech in scene.findall('SPEECH'):\n",
    "            for line in speech.findall('LINE'):\n",
    "                if 'Romeo' in str(line.text):\n",
    "                    print(line.text)\n",
    "                    for word in word_tokenize(line.text):\n",
    "                        Romeo[word] = 1 + Romeo.get(word, 0)"
   ]
  },
  {
   "cell_type": "code",
   "execution_count": 9,
   "metadata": {},
   "outputs": [
    {
     "name": "stdout",
     "output_type": "stream",
     "text": [
      "{'O': 9, ',': 113, 'where': 3, 'is': 19, 'Romeo': 125, '?': 28, 'saw': 1, 'you': 6, 'him': 8, 'to-day': 1, 'It': 2, 'was': 3, '.': 29, 'What': 1, 'sadness': 1, 'lengthens': 1, \"'s\": 28, 'hours': 1, 'This': 1, 'not': 10, 'he': 14, 'some': 1, 'other': 1, 'Why': 1, 'art': 5, 'thou': 11, 'mad': 1, 'Nay': 1, 'gentle': 2, 'we': 3, 'must': 2, 'have': 2, 'dance': 1, 'Young': 1, 'it': 4, \"'T\": 1, 'that': 12, 'villain': 2, 'His': 1, 'name': 4, 'and': 20, 'a': 10, 'Montague': 2, ';': 30, '!': 30, 'my': 14, 'cousin': 1, 'humours': 1, 'madman': 1, 'passion': 1, 'lover': 1, 'she': 3, 'were': 3, 'good': 3, 'night': 5, ':': 17, 'I': 16, \"'ll\": 3, 'to': 17, 'truckle-bed': 1, 'wherefore': 1, 'So': 1, 'would': 2, 'call': 1, \"'d\": 7, 'Without': 1, 'title': 1, 'doff': 1, 'thy': 1, 'Henceforth': 1, 'never': 1, 'will': 6, 'be': 6, 'Art': 1, 'Then': 1, 'say': 3, 'Jove': 1, 'laughs': 1, 'Three': 1, 'words': 1, 'dear': 1, 'indeed': 1, 'Hist': 1, 'hist': 1, 'for': 4, 'falconer': 1, 'voice': 1, 'With': 2, 'repetition': 1, 'of': 3, 'Our': 1, 'hath': 1, 'been': 1, 'in': 6, 'bed': 1, 'to-night': 1, 'Where': 4, 'the': 8, 'devil': 1, 'should': 2, 'this': 5, 'answer': 1, 'Alas': 1, 'poor': 1, 'already': 1, 'dead': 11, 'stabbed': 1, 'with': 3, 'Here': 4, 'comes': 4, 'here': 3, 'bon': 1, 'jour': 1, 'there': 6, 'French': 1, 'salutation': 1, 'now': 3, 'sociable': 1, 'may': 4, 'find': 2, 'young': 3, 'can': 5, 'tell': 1, 'but': 2, 'older': 1, 'when': 2, 'come': 9, 'your': 3, 'father': 2, 'rosemary': 1, 'begin': 1, 'both': 2, 'letter': 2, 'how': 2, 'choose': 1, 'man': 6, 'no': 1, 'though': 1, 'his': 3, 'such': 1, 'coil': 1, 'what': 4, 'says': 2, 'shall': 4, 'thank': 1, 'thee': 6, 'daughter': 1, 'us': 1, 'Mercutio': 4, \"consort'st\": 1, '--': 4, 'hate': 2, 'bear': 2, 'afford': 1, 'brave': 1, 'away': 1, 'gone': 2, 'There': 1, 'lies': 1, 'slain': 4, 'by': 6, 'Tybalt': 7, 'whom': 2, 'hand': 3, 'did': 4, 'slay': 1, 'spoke': 1, 'fair': 1, 'bade': 1, 'bethink': 1, 'Retorts': 1, 'cries': 2, 'aloud': 1, 'But': 4, 'back': 1, 'And': 10, 'as': 1, 'fell': 1, 'turn': 1, 'fly': 1, 'slew': 3, 'live': 1, 'Not': 1, 'prince': 1, 'friend': 1, 'Therefore': 1, 'use': 1, 'none': 1, 'let': 1, 'hence': 2, 'haste': 1, 'That': 4, 'runaway': 1, 'eyes': 1, 'wink': 1, 'Come': 1, 'day': 1, 'Give': 1, 'me': 3, 'die': 2, 'speaks': 1, 'heavenly': 1, 'eloquence': 1, 'bid': 1, 'fetch': 1, 'Though': 1, 'heaven': 1, 'Who': 4, 'ever': 1, 'thought': 1, 'Hath': 1, 'himself': 1, \"'\": 5, 'press': 1, 'one': 2, 'heavy': 1, 'bier': 1, 'Is': 2, 'slaughter': 2, 'banished': 6, 'kill': 1, 'God': 2, 'shed': 1, 'blood': 1, 'Shame': 1, \"'Tybalt\": 1, \"'Romeo\": 2, 'speak': 1, 'word': 1, 'mother': 1, 'Juliet': 4, 'All': 1, 'all': 2, 'When': 1, 'theirs': 1, 'are': 1, 'dry': 1, 'banishment': 1, 'Both': 1, 'exiled': 1, 'death': 2, 'take': 1, 'maidenhead': 1, 'Hie': 1, 'chamber': 1, 'Hark': 2, 'ye': 1, 'at': 2, 'forth': 2, 'fearful': 1, 'more': 1, 'validity': 1, 'In': 1, 'carrion-flies': 1, 'than': 1, 'they': 2, 'seize': 1, 'Arise': 1, 'knocks': 1, 'hide': 1, 'thyself': 1, 'knock': 1, 'arise': 1, 'lady': 2, 'lord': 1, 'calls': 1, 'then': 2, 'on': 1, 'coming': 1, 'Ere': 1, 'again': 1, 'behold': 2, 'same': 1, 'till': 2, 'upon': 1, 'receipt': 1, 'thereof': 1, 'know': 2, 'banish': 1, 'world': 1, 'nothing': 1, 'dishclout': 1, 'an': 1, 'eagle': 1, 'madam': 1, 'join': 1, 'heart': 1, 'our': 2, 'hands': 1, 'ere': 2, 'seal': 1, 'Shall': 2, 'letters': 1, 'drift': 1, 'Mantua': 2, 'Because': 1, 'married': 1, 'before': 3, 'wake': 1, 'time': 1, 'strangled': 1, 'Seeking': 1, 'out': 1, 'spit': 1, 'body': 1, 'do': 1, 'drink': 1, 'Welcome': 1, 'from': 1, 'bare': 1, 'She': 1, 'beshrew': 1, 'much': 1, 'keep': 1, 'her': 2, 'cell': 1, 'pale': 1, 'else': 1, 'Paris': 2, 'too': 1, 'am': 1, 'found': 1, 'churchyard': 1, 'The': 3, 'people': 1, 'street': 1, 'cry': 1, 'friar': 1, 'husband': 1, 'faithful': 1, 'wife': 1, 'form': 1, 'meantime': 1, 'writ': 1, 'Till': 1, 'conveniently': 1, 'could': 1, 'send': 1, 'noble': 1, 'true': 1, 'As': 1, 'rich': 1, 'lie': 1, 'Than': 1}"
     ]
    }
   ],
   "source": [
    "print(Romeo, end = '')"
   ]
  },
  {
   "cell_type": "markdown",
   "metadata": {},
   "source": [
    "<i>[The blog](https://www.datasciencebytes.com/bytes/2014/12/30/topic-modeling-of-shakespeare-characters/ \"Topic modeling in Shakespeare\") that I referenced earlier had a method for making a dictionary where all of the characters in a play would be the keys, and all of their lines the values.  What follows below is modified code from what was found at the linked blog:<i>"
   ]
  },
  {
   "cell_type": "code",
   "execution_count": 46,
   "metadata": {},
   "outputs": [],
   "source": [
    "from collections import defaultdict\n",
    "\n",
    "tokenizer = nltk.tokenize.RegexpTokenizer(r'\\w+')\n",
    "stopwords = set(nltk.corpus.stopwords.words('english'))\n",
    "\n",
    "lines = defaultdict(list)\n",
    "linecounts = defaultdict(int)\n",
    "\n",
    "play = shakespeare.xml('r_and_j.xml')\n",
    "\n",
    "for child in play.findall('ACT/SCENE/SPEECH'):\n",
    "    speaker = child.find('SPEAKER').text\n",
    "    for line in child.findall('LINE'):\n",
    "        if line.text is not None:\n",
    "            for word in tokenizer.tokenize(line.text):\n",
    "                if word not in stopwords and len(word) > 2:\n",
    "                    lines[speaker].append(word)\n",
    "                    linecounts[speaker] += 1\n",
    "                    \n",
    "                    "
   ]
  },
  {
   "cell_type": "markdown",
   "metadata": {},
   "source": [
    "*This is a dictionary of all the words said by Romeo, followed by their counts:*"
   ]
  },
  {
   "cell_type": "code",
   "execution_count": 47,
   "metadata": {},
   "outputs": [
    {
     "name": "stdout",
     "output_type": "stream",
     "text": [
      "[('thou', 55), ('love', 50), ('And', 43), ('thy', 39), ('thee', 37), ('death', 20), ('What', 16), ('Juliet', 16), ('man', 15), ('fair', 15), ('That', 15), ('mine', 14), ('night', 14), ('The', 13), ('may', 13), ('But', 13), ('upon', 13), ('dear', 13), ('eyes', 12), ('shall', 12)]"
     ]
    }
   ],
   "source": [
    "romeo = {}\n",
    "\n",
    "for w in lines[\"ROMEO\"]:\n",
    "    romeo[w] = 1 + romeo.get(w, 0)\n",
    "    \n",
    "from operator import itemgetter\n",
    "\n",
    "print(sorted(romeo.items(), key = itemgetter(1), reverse = True)[:20], end = '')\n"
   ]
  },
  {
   "cell_type": "markdown",
   "metadata": {},
   "source": [
    "*Getting raw text from Romeo & Juliet:*"
   ]
  },
  {
   "cell_type": "code",
   "execution_count": 48,
   "metadata": {},
   "outputs": [],
   "source": [
    "tokenizer = nltk.tokenize.RegexpTokenizer(r\"\\w+'*\\w+\")\n",
    "\n",
    "raw_rj = []\n",
    "\n",
    "play = shakespeare.xml('r_and_j.xml')\n",
    "\n",
    "for line in play.findall('ACT/SCENE/SPEECH/LINE'):\n",
    "    if line.text is not None:\n",
    "        for word in tokenizer.tokenize(line.text):\n",
    "            if word not in stopwords and len(word) > 2:\n",
    "                raw_rj.append(word)"
   ]
  },
  {
   "cell_type": "code",
   "execution_count": 49,
   "metadata": {},
   "outputs": [
    {
     "name": "stdout",
     "output_type": "stream",
     "text": [
      "['Gregory', 'word', \"we'll\", 'carry', 'coals', 'colliers', 'mean', 'choler', \"we'll\", 'draw', 'live', 'draw', 'neck', 'collar', 'strike', 'quickly', 'moved', 'But', 'thou', 'art']"
     ]
    }
   ],
   "source": [
    "print(raw_rj[:20], end = '')"
   ]
  },
  {
   "cell_type": "markdown",
   "metadata": {},
   "source": [
    "*Getting raw text from other Shakespeare plays in this corpus:*"
   ]
  },
  {
   "cell_type": "code",
   "execution_count": 50,
   "metadata": {},
   "outputs": [],
   "source": [
    "raw_others = []\n",
    "tokenizer = nltk.tokenize.RegexpTokenizer(r\"\\w+'*\\w+\")\n",
    "\n",
    "for p in shakespeare.fileids():\n",
    "    # tokenize all plays EXCEPT R & J\n",
    "    if p != 'r_and_j.xml':\n",
    "        play = shakespeare.xml(p)\n",
    "    \n",
    "    \n",
    "    for line in play.findall('ACT/SCENE/SPEECH/LINE'):\n",
    "        if line.text is not None:\n",
    "            for word in tokenizer.tokenize(line.text):\n",
    "                if word not in stopwords and len(word) > 2:\n",
    "                    raw_others.append(word)\n",
    "                    \n",
    "                "
   ]
  },
  {
   "cell_type": "markdown",
   "metadata": {},
   "source": [
    "*One way to think of keywords is all the words in one text that do not appear in comparable texts.  Here, `rj_kw` is the set difference between all the words in \"Romeo and Juliet\" and all the words in the other plays in the corpus.*"
   ]
  },
  {
   "cell_type": "code",
   "execution_count": 51,
   "metadata": {},
   "outputs": [],
   "source": [
    "rj_kw = set(raw_rj) - set(raw_others)"
   ]
  },
  {
   "cell_type": "code",
   "execution_count": 53,
   "metadata": {},
   "outputs": [
    {
     "data": {
      "text/plain": [
       "True"
      ]
     },
     "execution_count": 53,
     "metadata": {},
     "output_type": "execute_result"
    }
   ],
   "source": [
    "\"Romeo\" in rj_kw"
   ]
  },
  {
   "cell_type": "markdown",
   "metadata": {},
   "source": [
    "*But we should get rid of __hapax legomenon__ (words that only occur once), as well as __dis legomenon__ (words that occur only twice):*"
   ]
  },
  {
   "cell_type": "code",
   "execution_count": 54,
   "metadata": {},
   "outputs": [],
   "source": [
    "# get counts in raw R&J text\n",
    "\n",
    "raw_rj_dict = {}\n",
    "\n",
    "for w in raw_rj:\n",
    "    raw_rj_dict[w] = 1 + raw_rj_dict.get(w, 0)"
   ]
  },
  {
   "cell_type": "code",
   "execution_count": 55,
   "metadata": {},
   "outputs": [],
   "source": [
    "# sort the dictionary\n",
    "\n",
    "potential_rj_keywords = sorted(raw_rj_dict.items(), key = itemgetter(1), reverse = True)"
   ]
  },
  {
   "cell_type": "code",
   "execution_count": 56,
   "metadata": {},
   "outputs": [],
   "source": [
    "# keep only the words that appear more than twice\n",
    "\n",
    "rj_keywords = [w for w, v in potential_rj_keywords if v > 2]"
   ]
  },
  {
   "cell_type": "code",
   "execution_count": 57,
   "metadata": {},
   "outputs": [
    {
     "name": "stdout",
     "output_type": "stream",
     "text": [
      "['thou', 'And', 'thy', 'thee', 'love', 'Romeo', 'shall', 'night', 'What', 'But']\n"
     ]
    }
   ],
   "source": [
    "print(rj_keywords[:10])"
   ]
  },
  {
   "cell_type": "markdown",
   "metadata": {},
   "source": [
    "*The code below makes a master list of keywords in the plays other than R & J in our corpus.  In order to make it to the master list, a word has to appear at least twice in at least one play.  This code is basically a combination of other pieces of code that have been used up to now:*"
   ]
  },
  {
   "cell_type": "code",
   "execution_count": 58,
   "metadata": {},
   "outputs": [],
   "source": [
    "from operator import itemgetter\n",
    "\n",
    "tokenizer = nltk.tokenize.RegexpTokenizer(r\"\\w+'*\\w+\")\n",
    "\n",
    "# master list of keywords in all plays\n",
    "raw_others_keywords = []\n",
    "\n",
    "for p in shakespeare.fileids():\n",
    "    # tokenize all plays EXCEPT R & J\n",
    "    if p != 'r_and_j.xml':\n",
    "        play = shakespeare.xml(p)\n",
    "    \n",
    "    # temporary file for all words in current play\n",
    "    temp_raw = []\n",
    "    \n",
    "    # append all words to temp file\n",
    "    for line in play.findall('ACT/SCENE/SPEECH/LINE'):\n",
    "        if line.text is not None:\n",
    "            for word in tokenizer.tokenize(line.text):\n",
    "                if word not in stopwords and len(word) > 2:\n",
    "                    temp_raw.append(word)\n",
    "                    \n",
    "    # make temporary dictionary and tally words in current play\n",
    "    temp_d = {}\n",
    "    for w in temp_raw:\n",
    "        temp_d[w] = 1 + temp_d.get(w, 0)\n",
    "\n",
    "    # if word occurs more than twice, add to master list\n",
    "    for w, v in temp_d.items():\n",
    "        if v > 2:\n",
    "            raw_others_keywords.append(w)\n",
    "            \n",
    "# get rid of duplicates\n",
    "raw_others_keywords = set(raw_others_keywords)\n",
    " "
   ]
  },
  {
   "cell_type": "code",
   "execution_count": 59,
   "metadata": {},
   "outputs": [],
   "source": [
    "# substract kws from all plays from kws in R & J\n",
    "rj_only_kw = set(rj_keywords) - raw_others_keywords"
   ]
  },
  {
   "cell_type": "code",
   "execution_count": 60,
   "metadata": {},
   "outputs": [],
   "source": [
    "# sort by count\n",
    "\n",
    "potential_rj_keywords = sorted(raw_rj_dict.items(), key = itemgetter(1), reverse = True)"
   ]
  },
  {
   "cell_type": "code",
   "execution_count": 129,
   "metadata": {},
   "outputs": [],
   "source": [
    "# keep only those words that appear more than twice, and only in R & J\n",
    "\n",
    "rj_kw = sorted(set(w for w,v in potential_rj_keywords if w in rj_only_kw and v >= 3))"
   ]
  },
  {
   "cell_type": "code",
   "execution_count": 131,
   "metadata": {},
   "outputs": [
    {
     "name": "stdout",
     "output_type": "stream",
     "text": [
      "['Anon', 'Benvolio', 'Came', 'Capulet', 'Capulets', 'Church', 'County', 'Death', 'Else', 'Find', 'Friar', 'Gentlemen', \"Heart's\", 'Hie', 'Jesu', 'John', 'Jule', 'Juliet', \"Juliet's\", 'Lady', 'Lammas', 'Laurence', 'Mab', 'Mantua', 'Mercutio', \"Mercutio's\", 'Montague', 'Montagues', 'Nurse', \"O'er\", 'Paris', \"Peter's\", 'Romeo', \"Romeo's\", 'Rosaline', 'Susan', 'Thursday', 'Tut', 'Tybalt', \"Tybalt's\", 'Verona', 'Wednesday', 'Wife', 'Young', 'advanced', 'afford', 'afternoon', 'airy', 'aloof', 'anger', \"another's\", 'apothecary', 'apprehend', 'aside', 'backward', \"banish'd\", 'banished', 'banishment', 'bark', 'bawd', 'beats', 'beauties', 'beseeming', 'bite', 'blush', 'bridal', 'bride', 'bridegroom', 'brows', 'burden', 'calm', 'cease', 'cell', 'church', 'churchyard', 'closed', 'conjure', 'contrary', 'cords', 'county', \"cousin's\", 'coz', 'craves', 'crow', 'date', \"daughter's\", 'daylight', 'deadly', 'den', 'discords', 'doom', 'dug', 'early', 'empty', 'envious', 'exchange', 'exile', 'fickle', 'five', 'foe', 'food', 'forsworn', 'fourteen', 'friar', 'gallant', 'gaze', 'gentlewoman', 'ghostly', 'grey', 'guests', 'hare', \"hear'st\", \"heart's\", 'heir', 'hie', 'hire', 'hoar', 'hollow', 'houses', 'inconstant', 'iron', 'joint', 'joints', 'joyful', 'kinsman', 'kinsmen', 'knees', \"know'st\", \"lady's\", 'lain', 'lamb', 'lamentable', 'lent', 'lick', 'lightning', 'likeness', 'loathsome', 'maids', 'mask', 'meat', \"morning's\", 'mouse', 'musicians', 'names', 'needy', 'nightingale', 'nurse', 'open', 'oppression', 'philosophy', 'powder', \"prince's\", 'quoth', 'remove', 'rhyme', 'rosemary', 'sadness', 'saint', 'save', 'scratch', 'sell', 'shrift', 'shroud', 'sighs', \"slaughter'd\", 'slay', 'sought', 'sour', 'spent', \"stay'd\", 'strew', 'sweetest', 'thrust', 'thumb', 'toad', 'torch', 'torture', 'tree', \"unaccustom'd\", 'untimely', 'urged', 'vain', 'vault', 'veins', 'visor', 'warm', \"wash'd\", 'wast', 'wedding', 'weeping', 'weeps', 'wench', \"where's\", 'window', 'woes', 'woful', 'womb', 'worn', 'yond', 'youthful']"
     ]
    }
   ],
   "source": [
    "print(rj_kw, end = '')"
   ]
  },
  {
   "cell_type": "markdown",
   "metadata": {},
   "source": [
    "*This is very close to the method described in Scott and Tribble, but my list of resulting keywords seems to be much larger.  It should be remember that Scott & Tribble used a much larger corpus of Shakespeare works.*\n",
    "\n",
    "*Next, I tried to make a dictionary for each of the main characters, with the most common words used by each:*"
   ]
  },
  {
   "cell_type": "code",
   "execution_count": 132,
   "metadata": {},
   "outputs": [],
   "source": [
    "romeo = {}\n",
    "\n",
    "for w in lines[\"ROMEO\"]:\n",
    "    if w in rj_kw:\n",
    "        romeo[w] = 1 + romeo.get(w, 0)"
   ]
  },
  {
   "cell_type": "code",
   "execution_count": 133,
   "metadata": {},
   "outputs": [
    {
     "data": {
      "text/plain": [
       "[('Juliet', 16),\n",
       " ('Mercutio', 9),\n",
       " ('Tybalt', 9),\n",
       " ('banished', 9),\n",
       " ('Romeo', 6),\n",
       " ('nurse', 5),\n",
       " ('saint', 4),\n",
       " ('Capulet', 4),\n",
       " ('banishment', 4),\n",
       " ('friar', 4)]"
      ]
     },
     "execution_count": 133,
     "metadata": {},
     "output_type": "execute_result"
    }
   ],
   "source": [
    "from operator import itemgetter\n",
    "\n",
    "sorted(romeo.items(), key = itemgetter(1), reverse = True)[:10]"
   ]
  },
  {
   "cell_type": "code",
   "execution_count": 134,
   "metadata": {},
   "outputs": [],
   "source": [
    "tybalt = {}\n",
    "\n",
    "for w in lines[\"TYBALT\"]:\n",
    "    if w in rj_kw:\n",
    "        tybalt[w] = 1 + tybalt.get(w, 0)"
   ]
  },
  {
   "cell_type": "code",
   "execution_count": 135,
   "metadata": {},
   "outputs": [
    {
     "data": {
      "text/plain": [
       "{'Benvolio': 1,\n",
       " 'Montagues': 1,\n",
       " 'Montague': 2,\n",
       " 'foe': 1,\n",
       " 'Romeo': 3,\n",
       " 'Gentlemen': 1,\n",
       " 'den': 1,\n",
       " 'Mercutio': 1,\n",
       " 'afford': 1}"
      ]
     },
     "execution_count": 135,
     "metadata": {},
     "output_type": "execute_result"
    }
   ],
   "source": [
    "tybalt"
   ]
  },
  {
   "cell_type": "code",
   "execution_count": 136,
   "metadata": {},
   "outputs": [],
   "source": [
    "juliet = {}\n",
    "\n",
    "for w in lines[\"JULIET\"]:\n",
    "    if w in rj_kw:\n",
    "        juliet[w] = 1 + juliet.get(w, 0)"
   ]
  },
  {
   "cell_type": "code",
   "execution_count": 137,
   "metadata": {},
   "outputs": [
    {
     "data": {
      "text/plain": [
       "[('Romeo', 41),\n",
       " ('nurse', 17),\n",
       " ('Tybalt', 14),\n",
       " ('Montague', 5),\n",
       " ('banished', 5),\n",
       " ('friar', 4),\n",
       " ('early', 3),\n",
       " ('cords', 3),\n",
       " ('Nurse', 3),\n",
       " ('fickle', 3)]"
      ]
     },
     "execution_count": 137,
     "metadata": {},
     "output_type": "execute_result"
    }
   ],
   "source": [
    "from operator import itemgetter\n",
    "\n",
    "sorted(juliet.items(), key = itemgetter(1), reverse = True)[:10]"
   ]
  },
  {
   "cell_type": "code",
   "execution_count": 138,
   "metadata": {},
   "outputs": [],
   "source": [
    "nurse = {}\n",
    "\n",
    "for w in lines[\"NURSE\"]:\n",
    "    if w in rj_kw:\n",
    "        nurse[w] = 1 + nurse.get(w, 0)"
   ]
  },
  {
   "cell_type": "code",
   "execution_count": 139,
   "metadata": {},
   "outputs": [
    {
     "data": {
      "text/plain": [
       "{'sweetest': 1, 'Paris': 2, 'toad': 2, 'anger': 1, 'rosemary': 1, 'Romeo': 1}"
      ]
     },
     "execution_count": 139,
     "metadata": {},
     "output_type": "execute_result"
    }
   ],
   "source": [
    "nurse"
   ]
  },
  {
   "cell_type": "code",
   "execution_count": 140,
   "metadata": {},
   "outputs": [],
   "source": [
    "mercutio = {}\n",
    "\n",
    "for w in lines[\"MERCUTIO\"]:\n",
    "    if w in rj_kw:\n",
    "        mercutio[w] = 1 + mercutio.get(w, 0)"
   ]
  },
  {
   "cell_type": "code",
   "execution_count": 141,
   "metadata": {},
   "outputs": [
    {
     "data": {
      "text/plain": [
       "[('Romeo', 9),\n",
       " ('hare', 5),\n",
       " ('conjure', 4),\n",
       " ('hoar', 4),\n",
       " ('houses', 4),\n",
       " ('five', 3),\n",
       " ('Mab', 3),\n",
       " ('anger', 3),\n",
       " ('wench', 3),\n",
       " ('bawd', 3)]"
      ]
     },
     "execution_count": 141,
     "metadata": {},
     "output_type": "execute_result"
    }
   ],
   "source": [
    "sorted(mercutio.items(), key = itemgetter(1), reverse = True)[:10]"
   ]
  },
  {
   "cell_type": "code",
   "execution_count": 142,
   "metadata": {},
   "outputs": [],
   "source": [
    "paris = {}\n",
    "\n",
    "for w in lines[\"PARIS\"]:\n",
    "    if w in rj_kw:\n",
    "        paris[w] = 1 + paris.get(w, 0)"
   ]
  },
  {
   "cell_type": "code",
   "execution_count": 143,
   "metadata": {},
   "outputs": [
    {
     "data": {
      "text/plain": [
       "{'afford': 1,\n",
       " 'Thursday': 3,\n",
       " 'Capulet': 1,\n",
       " 'weeps': 1,\n",
       " 'Tybalt': 1,\n",
       " 'Juliet': 2,\n",
       " 'early': 1,\n",
       " 'torch': 2,\n",
       " 'aloof': 1,\n",
       " 'yond': 1,\n",
       " 'hollow': 1,\n",
       " 'churchyard': 1,\n",
       " 'bridal': 1,\n",
       " 'strew': 2,\n",
       " 'Montague': 2,\n",
       " 'apprehend': 3}"
      ]
     },
     "execution_count": 143,
     "metadata": {},
     "output_type": "execute_result"
    }
   ],
   "source": [
    "paris"
   ]
  },
  {
   "cell_type": "markdown",
   "metadata": {},
   "source": [
    "*I then took five of the main characters, and created dictionaries with the ten keywords most often used by each charcter.  I used these dictionaries to produce a network graph:*"
   ]
  },
  {
   "cell_type": "code",
   "execution_count": 144,
   "metadata": {},
   "outputs": [],
   "source": [
    "rom = [w for w, _ in sorted(romeo.items(), key = itemgetter(1), reverse = True)[:10]]\n",
    "jul = [w for w, _ in sorted(juliet.items(), key = itemgetter(1), reverse = True)[:10]]\n",
    "tyb = [w for w, _ in sorted(tybalt.items(), key = itemgetter(1), reverse = True)[:10]]\n",
    "mer = [w for w, _ in sorted(mercutio.items(), key = itemgetter(1), reverse = True)[:10]]\n",
    "par = [w for w, _ in sorted(paris.items(), key = itemgetter(1), reverse = True)[:10]]"
   ]
  },
  {
   "cell_type": "code",
   "execution_count": 145,
   "metadata": {},
   "outputs": [],
   "source": [
    "d = {'Romeo': rom, 'Juliet': jul, 'Tybalt': tyb, 'Mercutio': mer, 'Paris': par}"
   ]
  },
  {
   "cell_type": "code",
   "execution_count": 76,
   "metadata": {},
   "outputs": [],
   "source": [
    "%matplotlib inline"
   ]
  },
  {
   "cell_type": "code",
   "execution_count": 146,
   "metadata": {},
   "outputs": [
    {
     "data": {
      "image/png": "[encoded data removed]",
      "text/plain": [
       "<Figure size 432x288 with 1 Axes>"
      ]
     },
     "metadata": {},
     "output_type": "display_data"
    }
   ],
   "source": [
    "import networkx as  nx\n",
    "import matplotlib.pyplot as plt\n",
    "\n",
    "g = nx.DiGraph(d)\n",
    "\n",
    "g.add_nodes_from(d.keys())\n",
    "\n",
    "nx.draw(g, with_labels=True, node_size = 100,font_size=12)\n",
    "\n",
    "plt.show();"
   ]
  },
  {
   "cell_type": "code",
   "execution_count": 147,
   "metadata": {},
   "outputs": [
    {
     "data": {
      "image/png": "[encoded data removed]",
      "text/plain": [
       "<Figure size 432x288 with 1 Axes>"
      ]
     },
     "metadata": {},
     "output_type": "display_data"
    }
   ],
   "source": [
    "# Spring layout\n",
    "g = nx.DiGraph(d)\n",
    "\n",
    "g.add_nodes_from(d.keys())\n",
    "\n",
    "pos = nx.spring_layout(g)\n",
    "\n",
    "nx.draw_networkx(g, pos, node_size = 100, edge_color='y', alpha=.8, linewidths=0, font_size = 12)\n",
    "plt.show();"
   ]
  },
  {
   "cell_type": "markdown",
   "metadata": {},
   "source": [
    "*The resulting graph isn't very helpful.  Let's use the exact keywords given in Scott & Tribble.  To get these keywords, the authors made a list of keywords occurring within a collocation window of five words before or after the target words:*"
   ]
  },
  {
   "cell_type": "code",
   "execution_count": 148,
   "metadata": {},
   "outputs": [],
   "source": [
    "ROMEO = [\"Benvolio\", \"Juliet\", \"banished\", \"night\", \"Tybalt\", \"art\", \"dead\", \n",
    "         \"O\", \"thou\", \"is\"]\n",
    "TYBALT = [\"Capulet\", \"dead\", \"kinsman\", \"art\", \"O\", \"Mercutio\", \"slain\", \"is\", \n",
    "          \"thou\", \"Romeo\"]\n",
    "JULIET =  [\"she\", \"O\", \"lady\", \"thou\", \"thee\", \"thy\", \"dead\", \"Romeo\", \"Nurse\"]\n",
    "CAPULET = [\"thee\", \"Friar\", \"Tybalt\", \"Juliet\", \"Montague\", \"is\", \"Paris\", \n",
    "           \"Capulet’s\", \"nurse\", \"Lady\"]\n",
    "NURSE = [\"thy\", \"she\", \"Peter\", \"thee\", \"is\", \"Juliet\", \"Capulet\", \"thou\", \n",
    "         \"Lady\", \"O\"]\n",
    "NIGHT = [\"light\", \"torch\", \"O\", \"she\", \"thy\", \"thee\", \"love\", \"Romeo\", \"thou\", \"is\"]\n",
    "MERCUTIO = [\"she\", \"O\", \"kinsman\", \"is\", \"thy\", \"thou\", \"lady\", \"Romeo\", \n",
    "            \"Tybalt\", \"Benvolio\"]\n",
    "PARIS = [\"Thursday\", \"married\", \"Lawrence\", \"Friar\", \"love\", \"is\", \"Romeo\", \n",
    "         \"dead\", \"Capulet\", \"County\"]\n",
    "LOVE = [\"Paris\", \"Lady\", \"death\", \"night\", \"she\", \"thee\", \"thou\", \"is\", \"O\", \n",
    "        \"thy\"]\n",
    "MONTAGUE = [\"thee\", \"Benvolio\", \"O\", \"thy\", \"art\", \"Lady\", \"Romeo\", \"thou\", \n",
    "            \"Capulet\", \"is\"]\n",
    "THOU = [\"death\", \"night\", \"O\", \"love\", \"is\", \"Romeo\", \"thee\", \"wilt\", \"thy\", \n",
    "        \"art\"]\n",
    "FRIAR = [\"Romeo\", \"Nurse\", \"Capulet\", \"Lady\", \"Mantua\", \"Paris\", \"O\", \"is\", \n",
    "         \"cell\", \"Lawrence\"]\n",
    "ROMEOS = [\"she\", \"dead\", \"banished\", \"Romeo\", \"thou\", \"Friar\", \"Tybalt’s\", \n",
    "          \"watch\", \"O\", \"is\"]\n",
    "O = [\"Juliet\", \"Friar\", \"she\", \"Nurse\", \"thee\", \"thy\", \"Romeo\", \"thou\", \"love\", \n",
    "     \"is\"]"
   ]
  },
  {
   "cell_type": "code",
   "execution_count": 149,
   "metadata": {},
   "outputs": [],
   "source": [
    "d2 = {'Romeo': ROMEO, 'Tybalt': TYBALT, 'Juliet': JULIET, 'Capulet': CAPULET, 'n': NURSE, 'ni': NIGHT, \n",
    "      'm': MERCUTIO, 'p': PARIS, 'l': LOVE, 'mo': MONTAGUE, 'th': THOU, 'f': FRIAR, 'rs': ROMEOS, 'o': O}"
   ]
  },
  {
   "cell_type": "code",
   "execution_count": 150,
   "metadata": {},
   "outputs": [
    {
     "data": {
      "image/png": "[encoded data removed]",
      "text/plain": [
       "<Figure size 432x288 with 1 Axes>"
      ]
     },
     "metadata": {},
     "output_type": "display_data"
    }
   ],
   "source": [
    "g2 = nx.DiGraph(d2)\n",
    "\n",
    "g2.add_nodes_from(d2.keys())\n",
    "\n",
    "\n",
    "for k, v in d2.items():\n",
    "    g2.add_edges_from(([(k, t) for t in v]))\n",
    "\n",
    "nx.draw(g2, with_labels=True, node_size = 100,font_size=12)\n",
    "\n",
    "plt.show();"
   ]
  },
  {
   "cell_type": "code",
   "execution_count": 151,
   "metadata": {},
   "outputs": [
    {
     "data": {
      "image/png": "[encoded data removed]",
      "text/plain": [
       "<Figure size 432x288 with 1 Axes>"
      ]
     },
     "metadata": {},
     "output_type": "display_data"
    }
   ],
   "source": [
    "g2 = nx.DiGraph(d2)\n",
    "\n",
    "g2.add_nodes_from(d2.keys())\n",
    "\n",
    "\n",
    "for k, v in d2.items():\n",
    "    g2.add_edges_from(([(k, t) for t in v]))\n",
    "\n",
    "nx.draw(g2, with_labels=True)\n",
    "\n",
    "plt.show();"
   ]
  },
  {
   "cell_type": "markdown",
   "metadata": {},
   "source": [
    "*This graph is much too busy.  Let's try a smaller network, with just the two principals and the main characters from the house of Montague:*"
   ]
  },
  {
   "cell_type": "code",
   "execution_count": 152,
   "metadata": {},
   "outputs": [],
   "source": [
    "d3 = {'Romeo': ROMEO,  'Juliet': JULIET,  'Mercutio': MERCUTIO,  'Montague': MONTAGUE}"
   ]
  },
  {
   "cell_type": "code",
   "execution_count": 153,
   "metadata": {},
   "outputs": [
    {
     "data": {
      "image/png": "[encoded data removed]",
      "text/plain": [
       "<Figure size 432x288 with 1 Axes>"
      ]
     },
     "metadata": {},
     "output_type": "display_data"
    }
   ],
   "source": [
    "g3 = nx.DiGraph(d3)\n",
    "\n",
    "g3.add_nodes_from(d3.keys())\n",
    "\n",
    "\n",
    "for k, v in d3.items():\n",
    "    g3.add_edges_from(([(k, t) for t in v]))\n",
    "\n",
    "nx.draw(g3, with_labels=True, node_size = 10,font_size=12)\n",
    "\n",
    "plt.show();"
   ]
  },
  {
   "cell_type": "markdown",
   "metadata": {},
   "source": [
    "*Let's try the same with the house of Capulet:*"
   ]
  },
  {
   "cell_type": "code",
   "execution_count": 154,
   "metadata": {},
   "outputs": [],
   "source": [
    "d4 = {'Romeo': ROMEO,  'Juliet': JULIET,  'Capulet': CAPULET, 'Nurse': NURSE, 'Paris': PARIS,}"
   ]
  },
  {
   "cell_type": "code",
   "execution_count": 155,
   "metadata": {},
   "outputs": [
    {
     "data": {
      "image/png": "[encoded data removed]",
      "text/plain": [
       "<Figure size 432x288 with 1 Axes>"
      ]
     },
     "metadata": {},
     "output_type": "display_data"
    }
   ],
   "source": [
    "g4 = nx.DiGraph(d4)\n",
    "\n",
    "g4.add_nodes_from(d4.keys())\n",
    "\n",
    "\n",
    "for k, v in d4.items():\n",
    "    g4.add_edges_from(([(k, t) for t in v]))\n",
    "\n",
    "nx.draw(g4, with_labels=True, node_size = 10,font_size=12)\n",
    "\n",
    "plt.show();"
   ]
  },
  {
   "cell_type": "markdown",
   "metadata": {},
   "source": [
    "*Below was code I used to try to replicate the keyword selection in Scott & Tribble.  The code below find words within a collocation window of five words before and after a mention of 'Romeo'. The XML file lists each line separately, and if a target word began a line, it would be difficult to grab the last five words from the previous line.  To simplify things, I stripped all the lines of text from the XML file and concatenated it to one long list.  To prevent the words of two speakers from appearing in two collocation windows, I added five empty strings before the beginning of every speaker's line.*"
   ]
  },
  {
   "cell_type": "code",
   "execution_count": 156,
   "metadata": {},
   "outputs": [],
   "source": [
    "tokenizer = nltk.tokenize.RegexpTokenizer(r\"\\w+'?\\w+\")\n",
    "\n",
    "play = shakespeare.xml('r_and_j.xml')\n",
    "\n",
    "raw = []\n",
    "\n",
    "for child in play.findall('ACT/SCENE/SPEECH'):\n",
    "    speaker = child.find('SPEAKER').text\n",
    "    for i in range(5):\n",
    "        raw.append(\"\")\n",
    "    for line in child.findall('LINE'):\n",
    "        if line.text is not None:\n",
    "            for word in tokenizer.tokenize(line.text):\n",
    "                raw.append(word)\n",
    "                    \n",
    "                    "
   ]
  },
  {
   "cell_type": "code",
   "execution_count": 157,
   "metadata": {},
   "outputs": [
    {
     "name": "stdout",
     "output_type": "stream",
     "text": [
      "['', '', '', '', '', 'Gregory', 'my', 'word', \"we'll\", 'not', 'carry', 'coals', '', '', '', '', '', 'No', 'for', 'then', 'we', 'should', 'be', 'colliers', '', '', '', '', '', 'mean', 'an', 'we', 'be', 'in', 'choler', \"we'll\", 'draw', '', '', '', '', '', 'Ay', 'while', 'you', 'live', 'draw', 'your', 'neck', 'out', 'the', 'collar', '', '', '', '', '', 'strike', 'quickly', 'being', 'moved', '', '', '', '', '', 'But', 'thou', 'art', 'not', 'quickly', 'moved', 'to', 'strike', '', '', '', '', '', 'dog', 'of', 'the', 'house', 'of', 'Montague', 'moves', 'me', '', '', '', '', '', 'To', 'move', 'is', 'to', 'stir', 'and', 'to', 'be', 'valiant', 'is', 'to', 'stand', 'therefore', 'if', 'thou', 'art', 'moved', 'thou', \"runn'st\", 'away', '', '', '', '', '', 'dog', 'of', 'that', 'house', 'shall', 'move', 'me', 'to', 'stand', 'will', 'take', 'the', 'wall', 'of', 'any', 'man', 'or', 'maid', 'of', \"Montague's\", '', '', '', '', '', 'That', 'shows', 'thee', 'weak', 'slave', 'for', 'the', 'weakest']"
     ]
    }
   ],
   "source": [
    "print(raw[:150], end = '')"
   ]
  },
  {
   "cell_type": "code",
   "execution_count": 188,
   "metadata": {},
   "outputs": [
    {
     "name": "stdout",
     "output_type": "stream",
     "text": [
      "['Romeo', 'Tybalt', 'banished', 'Juliet', 'Paris', \"Mercutio's\", 'Montague', 'Mercutio', 'Mantua', 'Young', 'conjure', 'Came', 'spent', 'rosemary', 'gallant', 'kinsman', \"Romeo's\", 'slay', 'Else', 'cords', 'contrary', \"slaughter'd\", \"Tybalt's\", 'wedding', \"lady's\", \"where's\", \"banish'd\", \"cousin's\", 'cell', 'closed', 'County']"
     ]
    }
   ],
   "source": [
    "# words from collocation windows with 'Romeo'\n",
    "romeo_ky = [raw[i - 5 :i] + raw[i + 1 : i + 6] for i in range(len(raw)) if raw[i] == \"Romeo\"]\n",
    "\n",
    "# only keep those words in R&J keywords\n",
    "romeo_ky = [w for sl in romeo_ky for w in sl if w in rj_kw]\n",
    "\n",
    "# get counts\n",
    "romeo_kyd = {}\n",
    "for w in romeo_ky:\n",
    "    romeo_kyd[w] = 1 + romeo_kyd.get(w, 0)\n",
    "    \n",
    "# sort by count\n",
    "from operator import itemgetter\n",
    "   \n",
    "romeo_ky = [w for w, _ in sorted(romeo_kyd.items(), \n",
    "                                 key = itemgetter(1), reverse = True)]\n",
    "print(romeo_ky, end = '')"
   ]
  },
  {
   "cell_type": "markdown",
   "metadata": {},
   "source": [
    "*Compare that to the keywords listed in Scott & Tribble:*"
   ]
  },
  {
   "cell_type": "code",
   "execution_count": null,
   "metadata": {},
   "outputs": [],
   "source": [
    "ROMEO = [\"Benvolio\", \"Juliet\", \"banished\", \"night\", \"Tybalt\", \"art\", \"dead\", \n",
    "         \"O\", \"thou\", \"is\"]"
   ]
  },
  {
   "cell_type": "markdown",
   "metadata": {},
   "source": [
    "*As I mentioned earlier, instead of giving a step-by-step breakdown of their process for determining keywords, Scott & Tribble instead presented it more as a narrative, making it quite difficult to replicate their results.*\n",
    "\n",
    "*When examining our - fairly disappointing - final graphs, something we have to remember is that Scott & Tribble never discussed actual linked keyword networks; rather hypothetical ones:*\n",
    "\n",
    "* \"We may now hypothesise that a KW plot such as the ones we saw in the previous chapter could be redrawn as a network of connections consisting of configurations reminiscent of strings, stars, cliques and clumps of which the next figure shows a fragment.\" (Scott & Tribble, p. 75)\n",
    "\n",
    "*From the graphs above, we can see that the actual graphs would be far messier than hypothesized.  The number of overlapping edges is large and makes the graph very difficult to read.  The only way to remedy this is to use a select subset of keywords for a selection of characters.  But the process of selecting keywords is quite laborious and might outweigh any benefits of seeing these networks visually.*\n",
    "\n",
    "*I would argue that this approach is not as practical as Scott & Tribble hypothesized.  While one may say that my personal inexperience with NetworkX is responsible for the less-than-ideal graphs above, a Google image search for \"linguistics keyword linkage graph\" failed to produce any relevant results. This seems to indicate that in the 13 years since \"Textual Patterns\" was published, no one has been able to actualize and publish any linked network graphs in the vein of what Scott & Tribble proposed, and this approach is not a viable one.*"
   ]
  },
  {
   "cell_type": "markdown",
   "metadata": {},
   "source": [
    "##### 25. \n",
    "\n",
    "◑ Read about string edit distance and the Levenshtein Algorithm. Try the implementation provided in `nltk.edit_distance()`. In what way is this using dynamic programming? Does it use the bottom-up or top-down approach? [See also http://norvig.com/spell-correct.html]\n",
    "\n",
    "*The implementation uses a bottom-up approach: It breaks the problem into sub-problems, and solves these one by one until the edit distance has been found.  Since many of the sub-problems will have overlapping solutions, this implementation saves time by using dynamic programming, as the function merely retrieves the solution found earlier, instead of calculating it anew.*"
   ]
  },
  {
   "cell_type": "code",
   "execution_count": 190,
   "metadata": {},
   "outputs": [
    {
     "name": "stdout",
     "output_type": "stream",
     "text": [
      "Help on function edit_distance in module nltk.metrics.distance:\n",
      "\n",
      "edit_distance(s1, s2, substitution_cost=1, transpositions=False)\n",
      "    Calculate the Levenshtein edit-distance between two strings.\n",
      "    The edit distance is the number of characters that need to be\n",
      "    substituted, inserted, or deleted, to transform s1 into s2.  For\n",
      "    example, transforming \"rain\" to \"shine\" requires three steps,\n",
      "    consisting of two substitutions and one insertion:\n",
      "    \"rain\" -> \"sain\" -> \"shin\" -> \"shine\".  These operations could have\n",
      "    been done in other orders, but at least three steps are needed.\n",
      "    \n",
      "    Allows specifying the cost of substitution edits (e.g., \"a\" -> \"b\"),\n",
      "    because sometimes it makes sense to assign greater penalties to\n",
      "    substitutions.\n",
      "    \n",
      "    This also optionally allows transposition edits (e.g., \"ab\" -> \"ba\"),\n",
      "    though this is disabled by default.\n",
      "    \n",
      "    :param s1, s2: The strings to be analysed\n",
      "    :param transpositions: Whether to allow transposition edits\n",
      "    :type s1: str\n",
      "    :type s2: str\n",
      "    :type substitution_cost: int\n",
      "    :type transpositions: bool\n",
      "    :rtype int\n",
      "\n"
     ]
    }
   ],
   "source": [
    "help(nltk.edit_distance)"
   ]
  },
  {
   "cell_type": "code",
   "execution_count": 193,
   "metadata": {},
   "outputs": [
    {
     "data": {
      "text/plain": [
       "3"
      ]
     },
     "execution_count": 193,
     "metadata": {},
     "output_type": "execute_result"
    }
   ],
   "source": [
    "nltk.edit_distance('water', 'wine')"
   ]
  },
  {
   "cell_type": "code",
   "execution_count": 194,
   "metadata": {},
   "outputs": [
    {
     "data": {
      "text/plain": [
       "2"
      ]
     },
     "execution_count": 194,
     "metadata": {},
     "output_type": "execute_result"
    }
   ],
   "source": [
    "nltk.edit_distance('something', 'seething')"
   ]
  },
  {
   "cell_type": "code",
   "execution_count": 191,
   "metadata": {},
   "outputs": [
    {
     "data": {
      "text/plain": [
       "3"
      ]
     },
     "execution_count": 191,
     "metadata": {},
     "output_type": "execute_result"
    }
   ],
   "source": [
    "nltk.edit_distance('cat', 'dog')"
   ]
  },
  {
   "cell_type": "code",
   "execution_count": 192,
   "metadata": {},
   "outputs": [
    {
     "data": {
      "text/plain": [
       "4"
      ]
     },
     "execution_count": 192,
     "metadata": {},
     "output_type": "execute_result"
    }
   ],
   "source": [
    "nltk.edit_distance('boy', 'girl')"
   ]
  },
  {
   "cell_type": "markdown",
   "metadata": {},
   "source": [
    "##### 26. \n",
    "\n",
    "◑ The Catalan numbers arise in many applications of combinatorial mathematics, including the counting of parse trees. The series can be defined as follows: $C_0 = 1$, and $C_{n+1} = \\sum_{0..n} (C_iC_{n-i})$.\n",
    "\n",
    "* a. Write a recursive function to compute $n$th Catalan number $C_n$.\n",
    "\n",
    "* b. Now write another function that does this computation using dynamic programming.\n",
    "\n",
    "* c. Use the timeit module to compare the performance of these functions as n increases.\n",
    "\n",
    "*After a little research, I discovered that the only way to get this to work as a recursive program is to rewrite the formula as $C_n = \\sum_0^n (C_iC_{n-1-i})$:*"
   ]
  },
  {
   "cell_type": "code",
   "execution_count": 243,
   "metadata": {},
   "outputs": [],
   "source": [
    "def Catalan(n):\n",
    "    if n < 1:\n",
    "        return 1\n",
    "    else:\n",
    "        return sum([(Catalan(i) * Catalan(n - 1 - i)) for i in range(n)])\n"
   ]
  },
  {
   "cell_type": "code",
   "execution_count": 252,
   "metadata": {},
   "outputs": [
    {
     "data": {
      "text/plain": [
       "58786"
      ]
     },
     "execution_count": 252,
     "metadata": {},
     "output_type": "execute_result"
    }
   ],
   "source": [
    "Catalan(11)"
   ]
  },
  {
   "cell_type": "code",
   "execution_count": 223,
   "metadata": {},
   "outputs": [],
   "source": [
    "def Catalan_memo(n, lookup = {0: 1}):\n",
    "    if n not in lookup:\n",
    "        result = sum([(Catalan(i) * Catalan(n - 1 - i)) for i in range(n)])\n",
    "        lookup[n] = result\n",
    "    return lookup[n]"
   ]
  },
  {
   "cell_type": "code",
   "execution_count": 226,
   "metadata": {},
   "outputs": [
    {
     "data": {
      "text/plain": [
       "58786"
      ]
     },
     "execution_count": 226,
     "metadata": {},
     "output_type": "execute_result"
    }
   ],
   "source": [
    "Catalan_memo(11)"
   ]
  },
  {
   "cell_type": "code",
   "execution_count": 229,
   "metadata": {},
   "outputs": [],
   "source": [
    "from nltk import memoize\n",
    "@memoize\n",
    "\n",
    "def Catalan_memoize(n):\n",
    "    if n < 1:\n",
    "        return 1\n",
    "    else:\n",
    "        result = sum([(Catalan(i) * Catalan(n - 1 - i)) for i in range(n)])\n",
    "        return result"
   ]
  },
  {
   "cell_type": "code",
   "execution_count": 230,
   "metadata": {},
   "outputs": [
    {
     "data": {
      "text/plain": [
       "58786"
      ]
     },
     "execution_count": 230,
     "metadata": {},
     "output_type": "execute_result"
    }
   ],
   "source": [
    "Catalan_memoize(11)"
   ]
  },
  {
   "cell_type": "markdown",
   "metadata": {},
   "source": [
    "*We can use `%%time` to time operations in jupyter notebooks:*"
   ]
  },
  {
   "cell_type": "code",
   "execution_count": 249,
   "metadata": {},
   "outputs": [
    {
     "name": "stdout",
     "output_type": "stream",
     "text": [
      "[1, 1, 2, 5, 14, 42, 132, 429, 1430, 4862, 16796, 58786, 208012, 742900, 2674440]\n",
      "Wall time: 2.69 s\n"
     ]
    }
   ],
   "source": [
    "%%time\n",
    "print([Catalan(i) for i in range(15)])"
   ]
  },
  {
   "cell_type": "code",
   "execution_count": 250,
   "metadata": {},
   "outputs": [
    {
     "name": "stdout",
     "output_type": "stream",
     "text": [
      "[1, 1, 2, 5, 14, 42, 132, 429, 1430, 4862, 16796, 58786, 208012, 742900, 2674440]\n",
      "Wall time: 996 µs\n"
     ]
    }
   ],
   "source": [
    "%%time\n",
    "print([Catalan_memo(i) for i in range(15)])"
   ]
  },
  {
   "cell_type": "code",
   "execution_count": 251,
   "metadata": {},
   "outputs": [
    {
     "name": "stdout",
     "output_type": "stream",
     "text": [
      "[1, 1, 2, 5, 14, 42, 132, 429, 1430, 4862, 16796, 58786, 208012, 742900, 2674440]\n",
      "Wall time: 0 ns\n"
     ]
    }
   ],
   "source": [
    "%%time\n",
    "print([Catalan_memoize(i) for i in range(15)])"
   ]
  },
  {
   "cell_type": "markdown",
   "metadata": {},
   "source": [
    "*This [website](https://rosettacode.org/wiki/Catalan_numbers#Python \"printing the results for multiple functions at once\") had some nice code for running several functions at once and printing the results in a presentable format.  Below is the code I found at the site, with slight modifications:*"
   ]
  },
  {
   "cell_type": "code",
   "execution_count": 267,
   "metadata": {},
   "outputs": [],
   "source": [
    "def pr(defs, results):\n",
    "    fmt = '%-16s ' * 3\n",
    "    print((fmt % tuple(c.__name__ for c in defs)).upper())\n",
    "    print(fmt % ((\"=\" * 16,) * 3))\n",
    "    for r in zip(*results):\n",
    "        print(fmt % r)"
   ]
  },
  {
   "cell_type": "code",
   "execution_count": 268,
   "metadata": {},
   "outputs": [
    {
     "name": "stdout",
     "output_type": "stream",
     "text": [
      "CATALAN          CATALAN_MEMO     CATALAN_MEMOIZE  \n",
      "================ ================ ================ \n",
      "1                1                1                \n",
      "1                1                1                \n",
      "2                2                2                \n",
      "5                5                5                \n",
      "14               14               14               \n",
      "42               42               42               \n",
      "132              132              132              \n",
      "429              429              429              \n",
      "1430             1430             1430             \n",
      "4862             4862             4862             \n",
      "16796            16796            16796            \n",
      "58786            58786            58786            \n",
      "208012           208012           208012           \n",
      "742900           742900           742900           \n",
      "2674440          2674440          2674440          \n"
     ]
    }
   ],
   "source": [
    "defs = (Catalan, Catalan_memo, Catalan_memoize)\n",
    "results = [tuple(c(i) for i in range(15)) for c in defs]\n",
    "pr(defs, results)"
   ]
  },
  {
   "cell_type": "markdown",
   "metadata": {},
   "source": [
    "##### 27. \n",
    "\n",
    "★ Reproduce some of the results of (Zhao & Zobel, 2007) concerning authorship identification.\n",
    "\n",
    "*Zhao & Zobel is easily found online.  [Here](https://www.researchgate.net/publication/221574042_Searching_With_Style_Authorship_Attribution_in_Classic_Literature \"Zhao & Zobel\") is the site where I found my copy.*\n",
    "\n",
    "*Their study would be very difficult to replicate, especially for someone only on chapter 4 of the NLTK.  The study dealt with a huge number of texts (634 Project Gutenberg texts and 250,000 newswire articles), and some of the methods used are either NLP methods that have not been covered yet in this book (e.g., part-of-speech tagging), or fairly complicated statistical techniques that are beyond the purview of the book, i.e., the Kullback-Leibler divergence.*\n",
    "\n",
    "*Since I didn't want to reinvent the wheel for such a complicated experiment, I did a little googling to see if someone else had undertaken a comparable experiment.  I found one [here](http://www.aicbt.com/authorship-attribution/ \"Authorship Attribution\") that looked promising.  The author in this case examined one book with two authors, and tried to determine which author had written which chapter.*\n",
    "\n",
    "*I aimed to do analyze the same authors as in Zhao Zobel - namely Shakespeare and Christopher Marlowe - and used six plays from Marlowe and seven from Shakespeare.  Since Marlowe was a tragedian, I made sure to use only tragedies for Shakespeare's works.  The thirteen works were \"Antony and Cleopatra\" (WS); \"Coriolanus\" (WS); \"Dido\" (CM); \"Dr. Faustus\" (CM); \"Edward II\" (CM); \"Hamlet\" (WS); \"The Jew of Malta\" (CW); \"Julius Caesar\" (WS); \"King Lear\" (WS); \"MacBeth\" (WS); \"Othello\" (WS); \"Tamburlaine pt. I\" (CM); and \"Tamburlaine pt. II\" (CM).*\n",
    "\n",
    "*Most of the code which follows is based on the code at that blog, with slight modifications for this task. Namely, the original code considered 12 chapters of a single book, whereas I considered 13 plays.  Also, the original code used punctuation as a method for attributing authors, specifically semicolons and colons.  However, we don't have the original scripts of the majority (if not the entirety) of plays from Elizabethan era playwrights, so any differences in punctuation may be due to the editors of the various editions of these plays.  I.e., the differences in the use of semicolons/colons are probably not a good way to identify authors.  Nonetheless, I was curious if the number of exclamation marks could indicate who wrote which play, so I left this code in.*"
   ]
  },
  {
   "cell_type": "code",
   "execution_count": 270,
   "metadata": {},
   "outputs": [],
   "source": [
    "import numpy as np\n",
    "import nltk, glob, os\n",
    "from sklearn.feature_extraction.text import CountVectorizer\n",
    "from sklearn.cluster import KMeans\n",
    "from scipy.cluster.vq import whiten\n",
    "sentence_tokenizer = nltk.data.load('tokenizers/punkt/english.pickle')\n",
    "word_tokenizer = nltk.tokenize.RegexpTokenizer(r\"\\w+'?\\w+\")"
   ]
  },
  {
   "cell_type": "code",
   "execution_count": 330,
   "metadata": {},
   "outputs": [],
   "source": [
    "# Load data\n",
    "path = \"C:\\\\Users\\\\mjcor\\\\Desktop\\\\ProgrammingStuff\\\\nltk\\\\PGtexts_Anon\"\n",
    "files = sorted(glob.glob(os.path.join(path, \"Text*.txt\")))\n",
    "texts = []\n",
    "\n",
    "\n",
    "for fn in files:\n",
    "    with open(fn, encoding = 'utf8') as f:\n",
    "        texts.append(f.read())\n",
    "all_text = ' '.join(texts)\n",
    "\n",
    "rep = {r'\\n': ' ', r\"\\'\": \"'\", r'\\ufeff': ' '}\n",
    "\n",
    "for k, v in rep.items():\n",
    "    all_text = re.sub(k, v, all_text)"
   ]
  },
  {
   "cell_type": "code",
   "execution_count": 331,
   "metadata": {},
   "outputs": [
    {
     "name": "stdout",
     "output_type": "stream",
     "text": [
      "   The Tragedie of Anthonie, and Cleopatra  Actus Primus. Scoena Prima.  Enter Demetrius and Philo.    Philo. Nay, but this dotage of our Generals Ore-flowes the measure: those his goodly eyes That o're the Files and Musters of the Warre, Haue glow'd like plated Mars: Now bend, now turne The Office and Deuotion of their view Vpon a Tawny Front. His Captaines heart, Which in the scuffles of great Fights hath burst The Buckles on his brest, reneages all temper, And is become the Bellowes and the F\n"
     ]
    }
   ],
   "source": [
    "print(all_text[:500])"
   ]
  },
  {
   "cell_type": "code",
   "execution_count": 358,
   "metadata": {},
   "outputs": [],
   "source": [
    "def LexicalFeatures():\n",
    "    num_texts = len(texts)\n",
    "    fvs_lexical = np.zeros((num_texts, 3), np.float64)\n",
    "    fvs_punct = np.zeros((num_texts, 3), np.float64)\n",
    "\n",
    "    for e, n_text in enumerate(texts):\n",
    "        tokens = nltk.word_tokenize(n_text.lower())\n",
    "        words = word_tokenizer.tokenize(n_text.lower())\n",
    "        sentences = sentence_tokenizer.tokenize(n_text)\n",
    "\n",
    "        vocab = set(words)\n",
    "\n",
    "        words_per_sentence = np.array([len(word_tokenizer.tokenize(s)) \n",
    "                                       for s in sentences])\n",
    "\n",
    "        # average number of words per sentence\n",
    "        fvs_lexical[e, 0] = words_per_sentence.mean()\n",
    "        # sentence length variation\n",
    "        fvs_lexical[e, 1] = words_per_sentence.std()\n",
    "        # Lexical diversity\n",
    "        fvs_lexical[e, 2] = len(vocab) / float(len(words))\n",
    "\n",
    "        # Commas per sentence\n",
    "        fvs_punct[e, 0] = tokens.count(',') / float(len(sentences))\n",
    "        # Semicolons per sentence\n",
    "        fvs_punct[e, 1] = tokens.count(';') / float(len(sentences))\n",
    "        # Exclamation marks per sentence\n",
    "        fvs_punct[e, 2] = tokens.count('!') / float(len(sentences))\n",
    "        \n",
    "    \n",
    "\n",
    "    # apply whitening to decorrelate the features\n",
    "    fvs_lexical = whiten(fvs_lexical)\n",
    "    fvs_punct = whiten(fvs_punct)\n",
    "    \n",
    "    return fvs_lexical, fvs_punct"
   ]
  },
  {
   "cell_type": "code",
   "execution_count": 359,
   "metadata": {},
   "outputs": [],
   "source": [
    "def BagOfWords(n = 15):\n",
    "    # get most common words in the whole book\n",
    "    all_tokens = nltk.word_tokenize(all_text)\n",
    "    fdist = nltk.FreqDist(all_tokens)\n",
    "    vocab = [k for k,v in fdist.most_common(n)]\n",
    "\n",
    "    # use sklearn to create the bag of words feature vector for each text\n",
    "    vectorizer = CountVectorizer(vocabulary = vocab, tokenizer = nltk.word_tokenize)\n",
    "    fvs_bow = vectorizer.fit_transform(texts).toarray().astype(np.float64)\n",
    "\n",
    "    # normalize by dividing each row by its Euclidean norm\n",
    "    fvs_bow /= np.c_[np.apply_along_axis(np.linalg.norm, 1, fvs_bow)]\n",
    "    \n",
    "    return fvs_bow"
   ]
  },
  {
   "cell_type": "code",
   "execution_count": 334,
   "metadata": {},
   "outputs": [],
   "source": [
    "def SyntacticFeatures():\n",
    "    # get part of speech for each token in each chapter\n",
    "\n",
    "    def token_to_pos(ch):\n",
    "        tokens = nltk.word_tokenize(ch)\n",
    "        return [p[1] for p in nltk.pos_tag(tokens)]\n",
    "\n",
    "    text_pos = [token_to_pos(t) for t in texts]\n",
    "\n",
    "    # count frequencies for common POS types\n",
    "    pos_list = ['NN', 'NNP', 'DT', 'IN', 'JJ', 'NNS']\n",
    "    fvs_syntax = np.array([[t.count(pos) for pos in pos_list]\n",
    "                           for t in text_pos]).astype(np.float64)\n",
    "\n",
    "    # normalize by dividing each row by number of tokens in the chapter\n",
    "    fvs_syntax /= np.c_[np.array([len(t) for t in text_pos])]\n",
    "    \n",
    "    return fvs_syntax"
   ]
  },
  {
   "cell_type": "code",
   "execution_count": 364,
   "metadata": {},
   "outputs": [],
   "source": [
    "def PredictAuthors(fvs):\n",
    "    km = KMeans(n_clusters = 2, init = 'k-means++', n_init = 10, verbose = 0)\n",
    "    km.fit(fvs)\n",
    "    \n",
    "    return km"
   ]
  },
  {
   "cell_type": "code",
   "execution_count": 372,
   "metadata": {},
   "outputs": [],
   "source": [
    "feature_sets = list(LexicalFeatures())"
   ]
  },
  {
   "cell_type": "code",
   "execution_count": 373,
   "metadata": {},
   "outputs": [],
   "source": [
    "feature_sets.append(BagOfWords(30))"
   ]
  },
  {
   "cell_type": "code",
   "execution_count": 374,
   "metadata": {},
   "outputs": [],
   "source": [
    "feature_sets.append(SyntacticFeatures())"
   ]
  },
  {
   "cell_type": "code",
   "execution_count": 439,
   "metadata": {},
   "outputs": [],
   "source": [
    "classifications = [PredictAuthors(fvs).labels_ for fvs in feature_sets]"
   ]
  },
  {
   "cell_type": "code",
   "execution_count": 440,
   "metadata": {},
   "outputs": [
    {
     "name": "stdout",
     "output_type": "stream",
     "text": [
      "1 1 0 0 1 1 1 1 1 0 1 0 0\n",
      "1 0 1 0 0 0 0 0 0 1 1 0 0\n",
      "1 1 0 1 1 1 1 1 1 0 1 0 0\n",
      "0 1 1 0 0 1 0 0 1 0 0 1 1\n"
     ]
    }
   ],
   "source": [
    "for results in classifications:\n",
    "    print(' '.join([str(a) for a in results]))"
   ]
  },
  {
   "cell_type": "markdown",
   "metadata": {},
   "source": [
    "*Unfortunately, the results are far from conclusive, and a bit difficult to decipher.  The four rows refer to Lexical differences; Punctuation differences; Bag of Words: and Syntactic differences.  Since there is no guide telling us which author is '0' and which is '1', we have to deduce which is which. (Usually, Marlowe is '0' and Shakespeare '1').  The results are usually middling, with only about half correct; two incorrect; and the rest inconclusive.  Making matters worse is the fact the model is rather inconsistent: the results tend to vary widely each time the experiment is run.  Part of this is probably due to the fact that the model uses K-means clustering, which to a large extent is based on random initial values.  However, since the results seem to be so different each time, it seems that the features are quite difficult to distinguish from each other, and that a better set of features needs to be used.*"
   ]
  },
  {
   "cell_type": "code",
   "execution_count": null,
   "metadata": {},
   "outputs": [],
   "source": []
  },
  {
   "cell_type": "code",
   "execution_count": null,
   "metadata": {},
   "outputs": [],
   "source": []
  },
  {
   "cell_type": "code",
   "execution_count": null,
   "metadata": {},
   "outputs": [],
   "source": []
  },
  {
   "cell_type": "markdown",
   "metadata": {},
   "source": [
    "*Here I tried to replicate some of the early figures from Zhao and Zobel, but without luck...*"
   ]
  },
  {
   "cell_type": "code",
   "execution_count": 401,
   "metadata": {},
   "outputs": [],
   "source": [
    "import numpy as np\n",
    "import nltk, glob, os\n",
    "from sklearn.feature_extraction.text import CountVectorizer\n",
    "from sklearn.cluster import KMeans\n",
    "from scipy.cluster.vq import whiten\n",
    "sentence_tokenizer = nltk.data.load('tokenizers/punkt/english.pickle')\n",
    "word_tokenizer = nltk.tokenize.RegexpTokenizer(r\"\\w+\")"
   ]
  },
  {
   "cell_type": "code",
   "execution_count": 389,
   "metadata": {},
   "outputs": [],
   "source": [
    "# Load data\n",
    "path = \"C:\\\\Users\\\\mjcor\\\\Desktop\\\\ProgrammingStuff\\\\nltk\\\\PGtexts\"\n",
    "sh_files = sorted(glob.glob(os.path.join(path, \"Sh*.txt\")))\n",
    "texts = []\n",
    "\n",
    "\n",
    "for fn in sh_files:\n",
    "    with open(fn, encoding = 'utf8') as f:\n",
    "        texts.append(f.read())\n",
    "all_sh = ' '.join(texts)\n",
    "\n",
    "rep = {r'\\n': ' ', r\"\\'\": \"'\", r'\\ufeff': ' '}\n",
    "\n",
    "for k, v in rep.items():\n",
    "    all_sh = re.sub(k, v, all_sh)"
   ]
  },
  {
   "cell_type": "code",
   "execution_count": 381,
   "metadata": {},
   "outputs": [],
   "source": [
    "# Load data\n",
    "path = \"C:\\\\Users\\\\mjcor\\\\Desktop\\\\ProgrammingStuff\\\\nltk\\\\PGtexts\"\n",
    "ma_files = sorted(glob.glob(os.path.join(path, \"Ma*.txt\")))\n",
    "texts = []\n",
    "\n",
    "\n",
    "for fn in ma_files:\n",
    "    with open(fn, encoding = 'utf8') as f:\n",
    "        texts.append(f.read())\n",
    "all_ma = ' '.join(texts)\n",
    "\n",
    "rep = {r'\\n': ' ', r\"\\'\": \"'\", r'\\ufeff': ' '}\n",
    "\n",
    "for k, v in rep.items():\n",
    "    all_ma = re.sub(k, v, all_ma)"
   ]
  },
  {
   "cell_type": "code",
   "execution_count": 410,
   "metadata": {},
   "outputs": [],
   "source": [
    "# from https://semanticsimilarity.files.wordpress.com/2013/08/jim-oshea-fwlist-277.pdf\n",
    "\n",
    "function_words = [\"a\", \"about\", \"above\", \"across\", \"after\", \"afterwards\", \n",
    "                  \"again\", \"against\", \"all\", \"almost\", \"alone\", \"along\", \n",
    "                  \"already\", \"also\", \"although\", \"always\", \"am\", \"among\", \n",
    "                  \"amongst\", \"amoungst\", \"an\", \"and\", \"another\", \"any\", \n",
    "                  \"anyhow\", \"anyone\", \"anything\", \"anyway\", \"anywhere\", \n",
    "                  \"are\", \"around\", \"as\", \"at\", \"be\", \"became\", \"because\", \n",
    "                  \"been\", \"before\", \"beforehand\", \"behind\", \"being\", \"below\",\n",
    "                  \"beside\", \"besides\", \"between\", \"beyond\", \"both\", \"but\", \n",
    "                  \"by\", \"can\", \"cannot\", \"could\", \"dare\", \"despite\", \"did\", \n",
    "                  \"do\", \"does\", \"done\", \"down\", \"during\", \"each\", \"eg\", \n",
    "                  \"either\", \"else\", \"elsewhere\", \"enough\", \"etc\", \"even\", \n",
    "                  \"ever\", \"every\", \"everyone\", \"everything\", \"everywhere\", \n",
    "                  \"except\", \"few\", \"first\", \"for\", \"former\", \"formerly\", \n",
    "                  \"from\", \"further\", \"furthermore\", \"had\", \"has\", \"have\", \n",
    "                  \"he\", \"hence\", \"her\", \"here\", \"hereabouts\", \"hereafter\", \n",
    "                  \"hereby\", \"herein\", \"hereinafter\", \"heretofore\", \n",
    "                  \"hereunder\", \"hereupon\", \"herewith\", \"hers\", \"herself\", \n",
    "                  \"him\", \"himself\", \"his\", \"how\", \"however\", \"i\", \"ie\", \n",
    "                  \"if\", \"in\", \"indeed\", \"inside\", \"instead\", \"into\", \"is\", \n",
    "                  \"it\", \"its\", \"itself\", \"last\", \"latter\", \"latterly\", \n",
    "                  \"least\", \"less\", \"lot\", \"lots\", \"many\", \"may\", \"me\", \n",
    "                  \"meanwhile\", \"might\", \"mine\", \"more\", \"moreover\", \"most\", \n",
    "                  \"mostly\", \"much\", \"must\", \"my\", \"myself\", \"namely\", \n",
    "                  \"near\", \"need\", \"neither\", \"never\", \"nevertheless\", \n",
    "                  \"next\", \"no\", \"nobody\", \"none\", \"noone\", \"nor\", \"not\", \n",
    "                  \"nothing\", \"now\", \"nowhere\", \"of\", \"off\", \"often\", \n",
    "                  \"oftentimes\", \"on\", \"once\", \"one\", \"only\", \"onto\", \"or\", \n",
    "                  \"other\", \"others\", \"otherwise\", \"ought\", \"our\", \"ours\", \n",
    "                  \"ourselves\", \"out\", \"outside\", \"over\", \"per\", \"perhaps\", \n",
    "                  \"rather\", \"re\", \"same\", \"second\", \"several\", \"shall\", \n",
    "                  \"she\", \"should\", \"since\", \"so\", \"some\", \"somehow\", \n",
    "                  \"someone\", \"something\", \"sometime\", \"sometimes\", \n",
    "                  \"somewhat\", \"somewhere\", \"still\", \"such\", \"than\", \"that\", \n",
    "                  \"the\", \"their\", \"theirs\", \"them\", \"themselves\", \"then\", \n",
    "                  \"thence\", \"there\", \"thereabouts\", \"thereafter\", \"thereby\",\n",
    "                  \"therefore\", \"therein\", \"thereof\", \"thereon\", \"thereupon\", \n",
    "                  \"these\", \"they\", \"third\", \"this\", \"those\", \"though\", \n",
    "                  \"through\", \"throughout\", \"thru\", \"thus\", \"to\", \"together\",\n",
    "                  \"too\", \"top\", \"toward\", \"towards\", \"under\", \"until\", \"up\", \n",
    "                  \"upon\", \"us\", \"used\", \"very\", \"via\", \"was\", \"we\", \"well\", \n",
    "                  \"were\", \"what\", \"whatever\", \"when\", \"whence\", \"whenever\", \n",
    "                  \"where\", \"whereafter\", \"whereas\", \"whereby\", \"wherein\", \n",
    "                  \"whereupon\", \"wherever\", \"whether\", \"which\", \"while\", \n",
    "                  \"whither\", \"who\", \"whoever\", \"whole\", \"whom\", \"whose\", \n",
    "                  \"why\", \"whyever\", \"will\", \"with\", \"within\", \"without\", \n",
    "                  \"would\", \"yes\", \"yet\", \"you\", \"your\", \"yours\", \"yourself\", \n",
    "                  \"yourselves\"]"
   ]
  },
  {
   "cell_type": "code",
   "execution_count": 427,
   "metadata": {},
   "outputs": [
    {
     "data": {
      "text/plain": [
       "{'the': 6.542800768997268, 'of': 3.6122634827481535, 'a': 2.8761509663057776}"
      ]
     },
     "execution_count": 427,
     "metadata": {},
     "output_type": "execute_result"
    }
   ],
   "source": [
    "sh_words = word_tokenizer.tokenize(all_sh.lower())\n",
    "sh_function = [w for w in sh_words if w in function_words]\n",
    "sh_dict = {}\n",
    "\n",
    "f_words = ['the', 'of', 'a']\n",
    "\n",
    "for f in f_words:\n",
    "    for w in sh_function:\n",
    "        if w == f:\n",
    "            sh_dict[f] = 1 + sh_dict.get(f, 0)\n",
    "            \n",
    "for f in f_words:\n",
    "    sh_dict[f] = (sh_dict[f]/len(sh_function)) * 100\n",
    "    \n",
    "sh_dict"
   ]
  },
  {
   "cell_type": "code",
   "execution_count": 428,
   "metadata": {},
   "outputs": [
    {
     "data": {
      "text/plain": [
       "{'the': 7.075426899918325, 'of': 4.680228692992952, 'a': 2.4749748323741145}"
      ]
     },
     "execution_count": 428,
     "metadata": {},
     "output_type": "execute_result"
    }
   ],
   "source": [
    "ma_words = word_tokenizer.tokenize(all_ma.lower())\n",
    "ma_function = [w for w in ma_words if w in function_words]\n",
    "ma_dict = {}\n",
    "\n",
    "f_words = ['the', 'of', 'a']\n",
    "\n",
    "for f in f_words:\n",
    "    for w in ma_function:\n",
    "        if w == f:\n",
    "            ma_dict[f] = 1 + ma_dict.get(f, 0)\n",
    "            \n",
    "for f in f_words:\n",
    "    ma_dict[f] = (ma_dict[f]/len(ma_function)) * 100\n",
    "    \n",
    "ma_dict"
   ]
  },
  {
   "cell_type": "code",
   "execution_count": 431,
   "metadata": {},
   "outputs": [],
   "source": [
    "# slow to run\n",
    "\n",
    "sh_pos = [p[1] for p in nltk.pos_tag(all_sh)]\n",
    "ma_pos = [p[1] for p in nltk.pos_tag(all_ma)]"
   ]
  },
  {
   "cell_type": "code",
   "execution_count": 433,
   "metadata": {},
   "outputs": [],
   "source": [
    "sh_pos_d = {}\n",
    "\n",
    "tags = ['CC', 'IN', 'JJ']\n",
    "\n",
    "for t in tags:\n",
    "    for p in sh_pos:\n",
    "        if p == t:\n",
    "            sh_pos_d[t] = 1 + sh_pos_d.get(t, 0)\n",
    "            \n",
    "for t in tags:\n",
    "    sh_pos_d[t] = (sh_pos_d[t]/len(sh_pos)) * 100"
   ]
  },
  {
   "cell_type": "code",
   "execution_count": 434,
   "metadata": {},
   "outputs": [
    {
     "data": {
      "text/plain": [
       "{'CC': 1.2143168477122592, 'IN': 0.602629925449595, 'JJ': 9.595548486066377}"
      ]
     },
     "execution_count": 434,
     "metadata": {},
     "output_type": "execute_result"
    }
   ],
   "source": [
    "sh_pos_d"
   ]
  },
  {
   "cell_type": "code",
   "execution_count": 435,
   "metadata": {},
   "outputs": [],
   "source": [
    "ma_pos_d = {}\n",
    "\n",
    "tags = ['CC', 'IN', 'JJ']\n",
    "\n",
    "for t in tags:\n",
    "    for p in ma_pos:\n",
    "        if p == t:\n",
    "            ma_pos_d[t] = 1 + ma_pos_d.get(t, 0)\n",
    "            \n",
    "for t in tags:\n",
    "    ma_pos_d[t] = (ma_pos_d[t]/len(ma_pos)) * 100"
   ]
  },
  {
   "cell_type": "code",
   "execution_count": 436,
   "metadata": {},
   "outputs": [
    {
     "data": {
      "text/plain": [
       "{'CC': 0.8757072874340182, 'IN': 0.6080583298522766, 'JJ': 9.041279003531692}"
      ]
     },
     "execution_count": 436,
     "metadata": {},
     "output_type": "execute_result"
    }
   ],
   "source": [
    "ma_pos_d"
   ]
  },
  {
   "cell_type": "code",
   "execution_count": null,
   "metadata": {},
   "outputs": [],
   "source": []
  },
  {
   "cell_type": "code",
   "execution_count": null,
   "metadata": {},
   "outputs": [],
   "source": []
  }
 ],
 "metadata": {
  "kernelspec": {
   "display_name": "Python 3",
   "language": "python",
   "name": "python3"
  },
  "language_info": {
   "codemirror_mode": {
    "name": "ipython",
    "version": 3
   },
   "file_extension": ".py",
   "mimetype": "text/x-python",
   "name": "python",
   "nbconvert_exporter": "python",
   "pygments_lexer": "ipython3",
   "version": "3.7.3"
  }
 },
 "nbformat": 4,
 "nbformat_minor": 2
}
