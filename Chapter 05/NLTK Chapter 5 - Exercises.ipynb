{
 "cells": [
  {
   "cell_type": "markdown",
   "metadata": {},
   "source": [
    "# NLTK Chapter 5\n",
    "\n",
    "## Categorizing and Tagging Words\n",
    "\n",
    "*The html version of this chapter in the NLTK book is available [here](https://www.nltk.org/book/ch05.html#exercises \"Ch05 Exercises\").*\n",
    "\n",
    "### 5.10   Exercises\n",
    "\n",
    "##### 1.\n",
    "\n",
    "☼ Search the web for \"spoof newspaper headlines\", to find such gems as: *British Left Waffles on Falkland Islands*, and *Juvenile Court to Try Shooting Defendant*. Manually tag these headlines to see if knowledge of the part-of-speech tags removes the ambiguity."
   ]
  },
  {
   "cell_type": "markdown",
   "metadata": {},
   "source": [
    "*No, the ambiguity is not necessarily removed.  For example, in __\"Drunk Gets Nine Months in Violin Case\"__, the ambiguity concerns the two senses of the word \"Case\", which are both nouns.  Likewise with the headline __\"Miners Refuse to Work after Death\"__, where the two senses of \"Death\" are also nouns.*  "
   ]
  },
  {
   "cell_type": "markdown",
   "metadata": {},
   "source": [
    "##### 2.\n",
    "\n",
    "☼ Working with someone else, take turns to pick a word that can be either a noun or a verb (e.g. *contest*); the opponent has to predict which one is likely to be the most frequent in the Brown corpus; check the opponent's prediction, and tally the score over several turns.\n",
    "\n",
    "*I'm just playing against myself.  I took a list of words from [this page](https://www.businessenglishresources.com/learn-english-for-business/teachers-section/mini-lessons/pronunciation-lessons-pronunciation-changes-in-words-that-are-both-nouns-and-verbs/ \"words that are both nouns and verbs\"), and manually sorted them into two lists: one for words I thought were more likely to be nouns, and one for words I thought were more likely to be verbs.  I then devised code which programmatically check this for me:*"
   ]
  },
  {
   "cell_type": "code",
   "execution_count": 2,
   "metadata": {},
   "outputs": [],
   "source": [
    "import nltk"
   ]
  },
  {
   "cell_type": "code",
   "execution_count": 3,
   "metadata": {},
   "outputs": [
    {
     "data": {
      "text/plain": [
       "[('NN', 19), ('VB', 16)]"
      ]
     },
     "execution_count": 3,
     "metadata": {},
     "output_type": "execute_result"
    }
   ],
   "source": [
    "btw = nltk.corpus.brown.tagged_words()\n",
    "cfd = nltk.ConditionalFreqDist(btw)\n",
    "likely_nouns = [\"conduct\", \"combat\", \"conflict\", \"contest\", \"contract\", \n",
    "                \"impact\", \"insult\", \"object\", \"present\", \"progress\", \"project\",\n",
    "                \"rebel\", \"refill\", \"refund\", \"subject\"]"
   ]
  },
  {
   "cell_type": "code",
   "execution_count": 11,
   "metadata": {},
   "outputs": [
    {
     "data": {
      "text/plain": [
       "0.8666666666666667"
      ]
     },
     "execution_count": 11,
     "metadata": {},
     "output_type": "execute_result"
    }
   ],
   "source": [
    "sum([cfd[ln].most_common()[0][0] == 'NN' for ln in likely_nouns])/len(likely_nouns)"
   ]
  },
  {
   "cell_type": "code",
   "execution_count": 13,
   "metadata": {},
   "outputs": [
    {
     "data": {
      "text/plain": [
       "[('present', [('JJ', 220), ('RB', 63), ('NN', 44), ('VB', 39), ('AP', 4)]),\n",
       " ('refill', [('VB', 1)])]"
      ]
     },
     "execution_count": 13,
     "metadata": {},
     "output_type": "execute_result"
    }
   ],
   "source": [
    "[(ln, cfd[ln].most_common()) for ln in likely_nouns if cfd[ln].most_common()[0][0] != 'NN']"
   ]
  },
  {
   "cell_type": "code",
   "execution_count": 17,
   "metadata": {},
   "outputs": [
    {
     "name": "stdout",
     "output_type": "stream",
     "text": [
      "JJ: adjective\n",
      "    ecent over-all possible hard-fought favorable hard meager fit such\n",
      "    widespread outmoded inadequate ambiguous grand clerical effective\n",
      "    orderly federal foster general proportionate ...\n"
     ]
    }
   ],
   "source": [
    "nltk.help.brown_tagset('JJ')"
   ]
  },
  {
   "cell_type": "markdown",
   "metadata": {},
   "source": [
    "*I neglected to consider that 'present' can also be an adjective.  I was also suprised that 'refill' was only in the corpus once, which may be an artifact of the corpus's age, as soft drink fountains weren't as ubiquitous 50 years ago.*\n",
    "\n",
    "*Trying the same with the words I suspect are more common as verbs:*"
   ]
  },
  {
   "cell_type": "code",
   "execution_count": 6,
   "metadata": {},
   "outputs": [],
   "source": [
    "dual_meaning = [\"conduct\", \"attribute\", \"combat\", \"conflict\", \"contest\", \n",
    "                \"contract\", \"decrease\", \"escort\", \"impact\", \"increase\", \n",
    "                \"insult\", \"object\", \"permit\", \"present\", \"proceed\", \"progress\",\n",
    "                \"project\", \"rebel\", \"refill\", \"refund\", \"reject\", \"repeat\", \n",
    "                \"subject\", \"suspect\"]\n",
    "likely_verbs = [dm for dm in dual_meaning if dm not in likely_nouns]"
   ]
  },
  {
   "cell_type": "code",
   "execution_count": 22,
   "metadata": {},
   "outputs": [
    {
     "data": {
      "text/plain": [
       "0.6666666666666666"
      ]
     },
     "execution_count": 22,
     "metadata": {},
     "output_type": "execute_result"
    }
   ],
   "source": [
    "sum([cfd[lv].most_common()[0][0] == 'VB' for lv in likely_verbs])/len(likely_verbs)"
   ]
  },
  {
   "cell_type": "code",
   "execution_count": 24,
   "metadata": {},
   "outputs": [
    {
     "data": {
      "text/plain": [
       "[('attribute', [('NN', 4), ('VB', 2)]),\n",
       " ('escort', [('NN', 5), ('VB', 4)]),\n",
       " ('increase', [('NN', 112), ('VB', 81), ('VB-HL', 1)])]"
      ]
     },
     "execution_count": 24,
     "metadata": {},
     "output_type": "execute_result"
    }
   ],
   "source": [
    "[(lv, cfd[lv].most_common()) for lv in likely_verbs if cfd[lv].most_common()[0][0] != 'VB']"
   ]
  },
  {
   "cell_type": "markdown",
   "metadata": {},
   "source": [
    "##### 3. \n",
    "\n",
    "☼ Tokenize and tag the following sentence: *They wind back the clock, while we chase after the wind.* What different pronunciations and parts of speech are involved?\n",
    "\n",
    "*Using the universal tagset.  A good description thereof can be found [here](https://universaldependencies.org/u/pos/ \"Universal Tagset\"):*\n",
    "\n",
    "They|PRON wind|VERB back|ADP the|DET clock|NOUN ,|PUNCT while|CCONJ we|PRON chase|VERB after|ADP the|DET wind|NOUN .|PUNCT\n",
    "\n",
    "*The only homonyms that could be pronounced differently are wind|VERB __/ˈwaɪnd/__ and wind|NOUN __/ˈwɪnd/__.*"
   ]
  },
  {
   "cell_type": "markdown",
   "metadata": {},
   "source": [
    "##### 4. \n",
    "\n",
    "☼ Review the mappings in [3.1](https://www.nltk.org/book/ch05.html#tab-linguistic-objects). Discuss any other examples of mappings you can think of. What type of information do they map from and to?\n",
    "\n",
    "*A phone book maps from names to phone numbers;  A map maps from GPS coordinates to a physical location;  A schedule maps from times to events; etc...*\n",
    "\n",
    "#### 5.\n",
    "\n",
    "☼ Using the Python interpreter in interactive mode, experiment with the dictionary examples in this chapter. Create a dictionary `d`, and add some entries. What happens if you try to access a non-existent entry, e.g. `d['xyz']`?\n"
   ]
  },
  {
   "cell_type": "code",
   "execution_count": 30,
   "metadata": {},
   "outputs": [],
   "source": [
    "d = {'123': 'easy as', 'DoReMi': 'simple as', 'abc': 'baby, you and me girl'}"
   ]
  },
  {
   "cell_type": "markdown",
   "metadata": {},
   "source": [
    "*Looking up a non-existent key will throw an error:*\n",
    "\n",
    "```\n",
    "d['xyz']\n",
    "\n",
    "---------------------------------------------------------------------------\n",
    "KeyError                                  Traceback (most recent call last)\n",
    "<ipython-input-27-eff1decdc6c9> in <module>\n",
    "----> 1 d['xyz']\n",
    "\n",
    "KeyError: 'xyz'\n",
    "    \n",
    "```"
   ]
  },
  {
   "cell_type": "markdown",
   "metadata": {},
   "source": [
    "##### 6.\n",
    "\n",
    "☼ Try deleting an element from a dictionary `d`, using the syntax `del d['abc']`. Check that the item was deleted."
   ]
  },
  {
   "cell_type": "code",
   "execution_count": 31,
   "metadata": {},
   "outputs": [
    {
     "data": {
      "text/plain": [
       "'baby, you and me girl'"
      ]
     },
     "execution_count": 31,
     "metadata": {},
     "output_type": "execute_result"
    }
   ],
   "source": [
    "d['abc']"
   ]
  },
  {
   "cell_type": "code",
   "execution_count": 32,
   "metadata": {},
   "outputs": [],
   "source": [
    "del d['abc']"
   ]
  },
  {
   "cell_type": "markdown",
   "metadata": {},
   "source": [
    "```\n",
    "d['abc']\n",
    "\n",
    "---------------------------------------------------------------------------\n",
    "KeyError                                  Traceback (most recent call last)\n",
    "<ipython-input-29-d1565fe7f927> in <module>\n",
    "----> 1 d['abc']\n",
    "\n",
    "KeyError: 'abc'\n",
    "    \n",
    "```"
   ]
  },
  {
   "cell_type": "markdown",
   "metadata": {},
   "source": [
    "##### 7.\n",
    "\n",
    "☼ Create two dictionaries, `d1` and `d2`, and add some entries to each. Now issue the command `d1.update(d2)`. What did this do? What might it be useful for?"
   ]
  },
  {
   "cell_type": "code",
   "execution_count": 33,
   "metadata": {},
   "outputs": [],
   "source": [
    "d1 = {'do': 'a deer, a female deer', 're': 'a drop of golden sun'}\n",
    "d2 = {'mi': 'a name I call myself', 'fa': 'a long, long way to run'}"
   ]
  },
  {
   "cell_type": "code",
   "execution_count": 34,
   "metadata": {},
   "outputs": [
    {
     "data": {
      "text/plain": [
       "{'do': 'a deer, a female deer',\n",
       " 're': 'a drop of golden sun',\n",
       " 'mi': 'a name I call myself',\n",
       " 'fa': 'a long, long way to run'}"
      ]
     },
     "execution_count": 34,
     "metadata": {},
     "output_type": "execute_result"
    }
   ],
   "source": [
    "d1.update(d2)\n",
    "d1"
   ]
  },
  {
   "cell_type": "markdown",
   "metadata": {},
   "source": [
    "*It concatenated the dictionaries.  It's useful for updating dictionaries without having to redefine them.*\n",
    "\n",
    "##### 8. \n",
    "\n",
    "☼ Create a dictionary `e`, to represent a single lexical entry for some word of your choice. Define keys like `headword`, `part-of-speech`, `sense`, and `example`, and assign them suitable values."
   ]
  },
  {
   "cell_type": "code",
   "execution_count": 39,
   "metadata": {},
   "outputs": [],
   "source": [
    "# winklepicker\n",
    "\n",
    "e = {'headword': 'A style of boot with a severely pointed toe, fashionable in the 1950s.',\n",
    "  'part-of-speech': 'Noun', \n",
    "  'sense': 'type of footwear', \n",
    "  'example': 'Winklepickers were very popular among mods in the 60s.'}"
   ]
  },
  {
   "cell_type": "code",
   "execution_count": 40,
   "metadata": {},
   "outputs": [
    {
     "data": {
      "text/plain": [
       "{'headword': 'A style of boot with a severely pointed toe, fashionable in the 1950s.',\n",
       " 'part-of-speech': 'Noun',\n",
       " 'sense': 'type of footwear',\n",
       " 'example': 'Winklepickers were very popular among mods in the 60s.'}"
      ]
     },
     "execution_count": 40,
     "metadata": {},
     "output_type": "execute_result"
    }
   ],
   "source": [
    "e"
   ]
  },
  {
   "cell_type": "markdown",
   "metadata": {},
   "source": [
    "##### 9. \n",
    "\n",
    "☼ Satisfy yourself that there are restrictions on the distribution of *go* and *went*, in the sense that they cannot be freely interchanged in the kinds of contexts illustrated in ([3d](https://www.nltk.org/book/ch05.html#ex-go)) in [7](https://www.nltk.org/book/ch05.html#sec-how-to-determine-the-category-of-a-word).\n",
    "\n",
    "<i>'Go' cannot be replaced by 'went' when used in the imperative mood (e.g., \"*Please went.\", or when referring to future events (e.g., \"*They will went to the festival tomorrow.\").  'Went' cannot be replaced by 'go' for the 3rd person: \"*He go to school in the morning.\"</i>"
   ]
  },
  {
   "cell_type": "markdown",
   "metadata": {},
   "source": [
    "##### 10. \n",
    "\n",
    "☼ Train a unigram tagger and run it on some new text. Observe that some words are not assigned a tag. Why not?"
   ]
  },
  {
   "cell_type": "code",
   "execution_count": 42,
   "metadata": {},
   "outputs": [],
   "source": [
    "from nltk.corpus import brown\n",
    "unigram_tagger = nltk.UnigramTagger(brown.tagged_sents())"
   ]
  },
  {
   "cell_type": "code",
   "execution_count": 46,
   "metadata": {},
   "outputs": [
    {
     "data": {
      "text/plain": [
       "[('this', 'DT'),\n",
       " (\"shouldn't\", 'MD*'),\n",
       " ('be', 'BE'),\n",
       " ('too', 'QL'),\n",
       " ('difficult', 'JJ')]"
      ]
     },
     "execution_count": 46,
     "metadata": {},
     "output_type": "execute_result"
    }
   ],
   "source": [
    "test = \"this shouldn't be too difficult\"\n",
    "unigram_tagger.tag(test.split())"
   ]
  },
  {
   "cell_type": "code",
   "execution_count": 47,
   "metadata": {},
   "outputs": [
    {
     "data": {
      "text/plain": [
       "[('this', 'DT'),\n",
       " ('should', 'MD'),\n",
       " ('be', 'BE'),\n",
       " ('a', 'AT'),\n",
       " ('bit', 'NN'),\n",
       " ('more', 'QL'),\n",
       " ('of', 'IN'),\n",
       " ('a', 'AT'),\n",
       " ('challenge,', None),\n",
       " ('as', 'CS'),\n",
       " ('they', 'PPSS'),\n",
       " (\"didn't\", 'DOD*'),\n",
       " ('have', 'HV'),\n",
       " ('blogs', None),\n",
       " ('when', 'WRB'),\n",
       " ('the', 'AT'),\n",
       " ('corpus', 'NN'),\n",
       " ('was', 'BEDZ'),\n",
       " ('compiled', 'VBN')]"
      ]
     },
     "execution_count": 47,
     "metadata": {},
     "output_type": "execute_result"
    }
   ],
   "source": [
    "test2 = \"\"\"\n",
    "        this should be a bit more of a challenge, \n",
    "        as they didn't have blogs when the corpus\n",
    "        was compiled\n",
    "        \"\"\"\n",
    "unigram_tagger.tag(test2.split())"
   ]
  },
  {
   "cell_type": "markdown",
   "metadata": {},
   "source": [
    "*I expected that the word 'blog' would be tagged with `None`, as I was certain it wouldn't have appeared in the Brown Corpus.  But I was surprised to see that 'challenge' was also tagged with `None`.  I tried to do a little investigating into this, but wasn't able to come up with a satisfactory answer.  I suspected it may have had something to do with the fact that challenge can be either a noun or a verb, but other words with this quality don't seem to be tagged with `None`.*"
   ]
  },
  {
   "cell_type": "code",
   "execution_count": 62,
   "metadata": {},
   "outputs": [
    {
     "data": {
      "text/plain": [
       "FreqDist({'NN': 21, 'VB': 14})"
      ]
     },
     "execution_count": 62,
     "metadata": {},
     "output_type": "execute_result"
    }
   ],
   "source": [
    "cfd = nltk.ConditionalFreqDist(brown.tagged_words())\n",
    "cfd['challenge']"
   ]
  },
  {
   "cell_type": "code",
   "execution_count": 63,
   "metadata": {},
   "outputs": [
    {
     "data": {
      "text/plain": [
       "FreqDist({'NN': 5, 'VB': 4})"
      ]
     },
     "execution_count": 63,
     "metadata": {},
     "output_type": "execute_result"
    }
   ],
   "source": [
    "cfd['escort']"
   ]
  },
  {
   "cell_type": "code",
   "execution_count": 61,
   "metadata": {},
   "outputs": [
    {
     "data": {
      "text/plain": [
       "[('what', 'WDT'),\n",
       " ('about', 'IN'),\n",
       " ('the', 'AT'),\n",
       " ('word', 'NN'),\n",
       " ('escort', 'NN')]"
      ]
     },
     "execution_count": 61,
     "metadata": {},
     "output_type": "execute_result"
    }
   ],
   "source": [
    "test3 = 'what about the word escort'\n",
    "unigram_tagger.tag(test3.split())"
   ]
  },
  {
   "cell_type": "markdown",
   "metadata": {},
   "source": [
    "##### 11.\n",
    "\n",
    "☼ Learn about the affix tagger (type `help(nltk.AffixTagger)`). Train an affix tagger and run it on some new text. Experiment with different settings for the affix length and the minimum word length. Discuss your findings."
   ]
  },
  {
   "cell_type": "code",
   "execution_count": 64,
   "metadata": {},
   "outputs": [
    {
     "name": "stdout",
     "output_type": "stream",
     "text": [
      "Help on class AffixTagger in module nltk.tag.sequential:\n",
      "\n",
      "class AffixTagger(ContextTagger)\n",
      " |  AffixTagger(train=None, model=None, affix_length=-3, min_stem_length=2, backoff=None, cutoff=0, verbose=False)\n",
      " |  \n",
      " |  A tagger that chooses a token's tag based on a leading or trailing\n",
      " |  substring of its word string.  (It is important to note that these\n",
      " |  substrings are not necessarily \"true\" morphological affixes).  In\n",
      " |  particular, a fixed-length substring of the word is looked up in a\n",
      " |  table, and the corresponding tag is returned.  Affix taggers are\n",
      " |  typically constructed by training them on a tagged corpus.\n",
      " |  \n",
      " |  Construct a new affix tagger.\n",
      " |  \n",
      " |  :param affix_length: The length of the affixes that should be\n",
      " |      considered during training and tagging.  Use negative\n",
      " |      numbers for suffixes.\n",
      " |  :param min_stem_length: Any words whose length is less than\n",
      " |      min_stem_length+abs(affix_length) will be assigned a\n",
      " |      tag of None by this tagger.\n",
      " |  \n",
      " |  Method resolution order:\n",
      " |      AffixTagger\n",
      " |      ContextTagger\n",
      " |      SequentialBackoffTagger\n",
      " |      nltk.tag.api.TaggerI\n",
      " |      builtins.object\n",
      " |  \n",
      " |  Methods defined here:\n",
      " |  \n",
      " |  __init__(self, train=None, model=None, affix_length=-3, min_stem_length=2, backoff=None, cutoff=0, verbose=False)\n",
      " |      :param context_to_tag: A dictionary mapping contexts to tags.\n",
      " |      :param backoff: The backoff tagger that should be used for this tagger.\n",
      " |  \n",
      " |  context(self, tokens, index, history)\n",
      " |      :return: the context that should be used to look up the tag\n",
      " |          for the specified token; or None if the specified token\n",
      " |          should not be handled by this tagger.\n",
      " |      :rtype: (hashable)\n",
      " |  \n",
      " |  encode_json_obj(self)\n",
      " |  \n",
      " |  ----------------------------------------------------------------------\n",
      " |  Class methods defined here:\n",
      " |  \n",
      " |  decode_json_obj(obj) from abc.ABCMeta\n",
      " |  \n",
      " |  ----------------------------------------------------------------------\n",
      " |  Data and other attributes defined here:\n",
      " |  \n",
      " |  __abstractmethods__ = frozenset()\n",
      " |  \n",
      " |  json_tag = 'nltk.tag.sequential.AffixTagger'\n",
      " |  \n",
      " |  ----------------------------------------------------------------------\n",
      " |  Methods inherited from ContextTagger:\n",
      " |  \n",
      " |  __repr__(self)\n",
      " |      Return repr(self).\n",
      " |  \n",
      " |  choose_tag(self, tokens, index, history)\n",
      " |      Decide which tag should be used for the specified token, and\n",
      " |      return that tag.  If this tagger is unable to determine a tag\n",
      " |      for the specified token, return None -- do not consult\n",
      " |      the backoff tagger.  This method should be overridden by\n",
      " |      subclasses of SequentialBackoffTagger.\n",
      " |      \n",
      " |      :rtype: str\n",
      " |      :type tokens: list\n",
      " |      :param tokens: The list of words that are being tagged.\n",
      " |      :type index: int\n",
      " |      :param index: The index of the word whose tag should be\n",
      " |          returned.\n",
      " |      :type history: list(str)\n",
      " |      :param history: A list of the tags for all words before *index*.\n",
      " |  \n",
      " |  size(self)\n",
      " |      :return: The number of entries in the table used by this\n",
      " |          tagger to map from contexts to tags.\n",
      " |  \n",
      " |  ----------------------------------------------------------------------\n",
      " |  Methods inherited from SequentialBackoffTagger:\n",
      " |  \n",
      " |  tag(self, tokens)\n",
      " |      Determine the most appropriate tag sequence for the given\n",
      " |      token sequence, and return a corresponding list of tagged\n",
      " |      tokens.  A tagged token is encoded as a tuple ``(token, tag)``.\n",
      " |      \n",
      " |      :rtype: list(tuple(str, str))\n",
      " |  \n",
      " |  tag_one(self, tokens, index, history)\n",
      " |      Determine an appropriate tag for the specified token, and\n",
      " |      return that tag.  If this tagger is unable to determine a tag\n",
      " |      for the specified token, then its backoff tagger is consulted.\n",
      " |      \n",
      " |      :rtype: str\n",
      " |      :type tokens: list\n",
      " |      :param tokens: The list of words that are being tagged.\n",
      " |      :type index: int\n",
      " |      :param index: The index of the word whose tag should be\n",
      " |          returned.\n",
      " |      :type history: list(str)\n",
      " |      :param history: A list of the tags for all words before *index*.\n",
      " |  \n",
      " |  ----------------------------------------------------------------------\n",
      " |  Data descriptors inherited from SequentialBackoffTagger:\n",
      " |  \n",
      " |  backoff\n",
      " |      The backoff tagger for this tagger.\n",
      " |  \n",
      " |  ----------------------------------------------------------------------\n",
      " |  Methods inherited from nltk.tag.api.TaggerI:\n",
      " |  \n",
      " |  evaluate(self, gold)\n",
      " |      Score the accuracy of the tagger against the gold standard.\n",
      " |      Strip the tags from the gold standard text, retag it using\n",
      " |      the tagger, then compute the accuracy score.\n",
      " |      \n",
      " |      :type gold: list(list(tuple(str, str)))\n",
      " |      :param gold: The list of tagged sentences to score the tagger on.\n",
      " |      :rtype: float\n",
      " |  \n",
      " |  tag_sents(self, sentences)\n",
      " |      Apply ``self.tag()`` to each element of *sentences*.  I.e.:\n",
      " |      \n",
      " |          return [self.tag(sent) for sent in sentences]\n",
      " |  \n",
      " |  ----------------------------------------------------------------------\n",
      " |  Data descriptors inherited from nltk.tag.api.TaggerI:\n",
      " |  \n",
      " |  __dict__\n",
      " |      dictionary for instance variables (if defined)\n",
      " |  \n",
      " |  __weakref__\n",
      " |      list of weak references to the object (if defined)\n",
      "\n"
     ]
    }
   ],
   "source": [
    "help(nltk.AffixTagger)"
   ]
  },
  {
   "cell_type": "markdown",
   "metadata": {},
   "source": [
    "*Creating and calling a number of taggers will soon create an illegible mess, so I'm adapting some code from earlier this chapter to make a graph of affix taggers, using affix lengths from -5 to 5:*"
   ]
  },
  {
   "cell_type": "code",
   "execution_count": 1,
   "metadata": {},
   "outputs": [],
   "source": [
    "%matplotlib inline"
   ]
  },
  {
   "cell_type": "code",
   "execution_count": 74,
   "metadata": {},
   "outputs": [],
   "source": [
    "import matplotlib.pyplot as plt\n",
    "import numpy as np\n",
    "\n",
    "brown_tagged_sents = brown.tagged_sents(categories = 'news')\n",
    "brown_sents = brown.sents(categories = 'news')\n",
    "\n",
    "def performance(affix_size):\n",
    "    affix_tagger = nltk.AffixTagger(brown_tagged_sents, affix_length = affix_size)\n",
    "    return affix_tagger.evaluate(brown_tagged_sents)\n",
    "\n",
    "def display():\n",
    "    sizes = np.arange(-5, 6)\n",
    "    perfs = [performance(size) for size in sizes]\n",
    "    plt.plot(sizes, perfs, '-bo')\n",
    "    plt.title('Affix Tagger Performance with Varying Affix Length')\n",
    "    plt.xlabel('Affix Length')\n",
    "    plt.ylabel('Performance')\n",
    "    plt.show()"
   ]
  },
  {
   "cell_type": "code",
   "execution_count": 75,
   "metadata": {},
   "outputs": [
    {
     "data": {
      "image/png": "[encoded data removed]",
      "text/plain": [
       "<Figure size 432x288 with 1 Axes>"
      ]
     },
     "metadata": {
      "needs_background": "light"
     },
     "output_type": "display_data"
    }
   ],
   "source": [
    "display()"
   ]
  },
  {
   "cell_type": "markdown",
   "metadata": {},
   "source": [
    "*As you can see, the most accurate length by far is 0, suggesting that the affix tagger is not very effective (at least in English).  If we were to use it, an affix length of -2 appears to be slightly more effective than other lengths.*"
   ]
  },
  {
   "cell_type": "markdown",
   "metadata": {},
   "source": [
    "##### 12. \n",
    "\n",
    "☼ Train a bigram tagger with no backoff tagger, and run it on some of the training data. Next, run it on some new data. What happens to the performance of the tagger? Why?"
   ]
  },
  {
   "cell_type": "code",
   "execution_count": 80,
   "metadata": {},
   "outputs": [
    {
     "data": {
      "text/plain": [
       "0.7884137382485832"
      ]
     },
     "execution_count": 80,
     "metadata": {},
     "output_type": "execute_result"
    }
   ],
   "source": [
    "size = int(len(brown_tagged_sents) * 0.9)\n",
    "\n",
    "train_sents = brown_tagged_sents[:size]\n",
    "test_sents = brown_tagged_sents[size:]\n",
    "bigram_tagger = nltk.BigramTagger(train_sents)\n",
    "bigram_tagger.evaluate(train_sents)"
   ]
  },
  {
   "cell_type": "code",
   "execution_count": 81,
   "metadata": {},
   "outputs": [
    {
     "data": {
      "text/plain": [
       "0.10206319146815508"
      ]
     },
     "execution_count": 81,
     "metadata": {},
     "output_type": "execute_result"
    }
   ],
   "source": [
    "bigram_tagger.evaluate(test_sents)"
   ]
  },
  {
   "cell_type": "markdown",
   "metadata": {},
   "source": [
    "*It drops precipitously when it sees new data.  As was covered in the chapter, bigrams depend entirely on the tag of the first word in the bigram.  If the tag for the first word is `None`, then the tags for all subsequent words will also be `None`.*"
   ]
  },
  {
   "cell_type": "markdown",
   "metadata": {},
   "source": [
    "##### 13.\n",
    "\n",
    "☼ We can use a dictionary to specify the values to be substituted into a formatting string. Read Python's library documentation for formatting strings  and use this method to display today's date in two different formats.\n",
    "\n",
    "*The link in the book is dead.*"
   ]
  },
  {
   "cell_type": "code",
   "execution_count": 94,
   "metadata": {},
   "outputs": [
    {
     "name": "stdout",
     "output_type": "stream",
     "text": [
      "European style: Wednesday, 06.11.2019\n",
      "American style: Wednesday, 11/06/2019\n",
      "Asian style: Wednesday, 2019.11.06\n"
     ]
    }
   ],
   "source": [
    "date = {'month': '11', 'date': '06', 'day': 'Wednesday', 'year': '2019'}\n",
    "\n",
    "print(\"European style: {}, {}.{}.{}\".format(date['day'], date['date'], \n",
    "                                            date['month'], date['year']))\n",
    "print(\"American style: {}, {}/{}/{}\".format(date['day'], date['month'],\n",
    "                                            date['date'], date['year']))\n",
    "print(\"Asian style: {}, {}.{}.{}\".format(date['day'], date['year'],\n",
    "                                         date['month'], date['date']))"
   ]
  },
  {
   "cell_type": "markdown",
   "metadata": {},
   "source": [
    "##### 14.\n",
    "\n",
    "◑ Use `sorted()` and `set()` to get a sorted list of tags used in the Brown corpus, removing duplicates."
   ]
  },
  {
   "cell_type": "code",
   "execution_count": 101,
   "metadata": {},
   "outputs": [
    {
     "name": "stdout",
     "output_type": "stream",
     "text": [
      "[\"'\", \"''\", '(', '(-HL', ')', ')-HL', '*', '*-HL', '*-NC', '*-TL', ',', ',-HL', ',-NC', ',-TL', '--', '---HL', '.', '.-HL', '.-NC', '.-TL', ':', ':-HL', ':-TL', 'ABL', 'ABN', 'ABN-HL', 'ABN-NC', 'ABN-TL', 'ABX', 'AP', 'AP$', 'AP+AP-NC', 'AP-HL', 'AP-NC', 'AP-TL', 'AT', 'AT-HL', 'AT-NC', 'AT-TL', 'AT-TL-HL', 'BE', 'BE-HL', 'BE-TL', 'BED', 'BED*', 'BED-NC', 'BEDZ', 'BEDZ*', 'BEDZ-HL', 'BEDZ-NC', 'BEG', 'BEM', 'BEM*', 'BEM-NC', 'BEN', 'BEN-TL', 'BER', 'BER*', 'BER*-NC', 'BER-HL', 'BER-NC', 'BER-TL', 'BEZ', 'BEZ*', 'BEZ-HL', 'BEZ-NC', 'BEZ-TL', 'CC', 'CC-HL', 'CC-NC', 'CC-TL', 'CC-TL-HL', 'CD', 'CD$', 'CD-HL', 'CD-NC', 'CD-TL', 'CD-TL-HL', 'CS', 'CS-HL', 'CS-NC', 'CS-TL', 'DO', 'DO*', 'DO*-HL', 'DO+PPSS', 'DO-HL', 'DO-NC', 'DO-TL', 'DOD', 'DOD*', 'DOD*-TL', 'DOD-NC', 'DOZ', 'DOZ*', 'DOZ*-TL', 'DOZ-HL', 'DOZ-TL', 'DT', 'DT$', 'DT+BEZ', 'DT+BEZ-NC', 'DT+MD', 'DT-HL', 'DT-NC', 'DT-TL', 'DTI', 'DTI-HL', 'DTI-TL', 'DTS', 'DTS+BEZ', 'DTS-HL', 'DTX', 'EX', 'EX+BEZ', 'EX+HVD', 'EX+HVZ', 'EX+MD', 'EX-HL', 'EX-NC', 'FW-*', 'FW-*-TL', 'FW-AT', 'FW-AT+NN-TL', 'FW-AT+NP-TL', 'FW-AT-HL', 'FW-AT-TL', 'FW-BE', 'FW-BER', 'FW-BEZ', 'FW-CC', 'FW-CC-TL', 'FW-CD', 'FW-CD-TL', 'FW-CS', 'FW-DT', 'FW-DT+BEZ', 'FW-DTS', 'FW-HV', 'FW-IN', 'FW-IN+AT', 'FW-IN+AT-T', 'FW-IN+AT-TL', 'FW-IN+NN', 'FW-IN+NN-TL', 'FW-IN+NP-TL', 'FW-IN-TL', 'FW-JJ', 'FW-JJ-NC', 'FW-JJ-TL', 'FW-JJR', 'FW-JJT', 'FW-NN', 'FW-NN$', 'FW-NN$-TL', 'FW-NN-NC', 'FW-NN-TL', 'FW-NN-TL-NC', 'FW-NNS', 'FW-NNS-NC', 'FW-NNS-TL', 'FW-NP', 'FW-NP-TL', 'FW-NPS', 'FW-NPS-TL', 'FW-NR', 'FW-NR-TL', 'FW-OD-NC', 'FW-OD-TL', 'FW-PN', 'FW-PP$', 'FW-PP$-NC', 'FW-PP$-TL', 'FW-PPL', 'FW-PPL+VBZ', 'FW-PPO', 'FW-PPO+IN', 'FW-PPS', 'FW-PPSS', 'FW-PPSS+HV', 'FW-QL', 'FW-RB', 'FW-RB+CC', 'FW-RB-TL', 'FW-TO+VB', 'FW-UH', 'FW-UH-NC', 'FW-UH-TL', 'FW-VB', 'FW-VB-NC', 'FW-VB-TL', 'FW-VBD', 'FW-VBD-TL', 'FW-VBG', 'FW-VBG-TL', 'FW-VBN', 'FW-VBZ', 'FW-WDT', 'FW-WPO', 'FW-WPS', 'HV', 'HV*', 'HV+TO', 'HV-HL', 'HV-NC', 'HV-TL', 'HVD', 'HVD*', 'HVD-HL', 'HVG', 'HVG-HL', 'HVN', 'HVZ', 'HVZ*', 'HVZ-NC', 'HVZ-TL', 'IN', 'IN+IN', 'IN+PPO', 'IN-HL', 'IN-NC', 'IN-TL', 'IN-TL-HL', 'JJ', 'JJ$-TL', 'JJ+JJ-NC', 'JJ-HL', 'JJ-NC', 'JJ-TL', 'JJ-TL-HL', 'JJ-TL-NC', 'JJR', 'JJR+CS', 'JJR-HL', 'JJR-NC', 'JJR-TL', 'JJS', 'JJS-HL', 'JJS-TL', 'JJT', 'JJT-HL', 'JJT-NC', 'JJT-TL', 'MD', 'MD*', 'MD*-HL', 'MD+HV', 'MD+PPSS', 'MD+TO', 'MD-HL', 'MD-NC', 'MD-TL', 'NIL', 'NN', 'NN$', 'NN$-HL', 'NN$-TL', 'NN+BEZ', 'NN+BEZ-TL', 'NN+HVD-TL', 'NN+HVZ', 'NN+HVZ-TL', 'NN+IN', 'NN+MD', 'NN+NN-NC', 'NN-HL', 'NN-NC', 'NN-TL', 'NN-TL-HL', 'NN-TL-NC', 'NNS', 'NNS$', 'NNS$-HL', 'NNS$-NC', 'NNS$-TL', 'NNS$-TL-HL', 'NNS+MD', 'NNS-HL', 'NNS-NC', 'NNS-TL', 'NNS-TL-HL', 'NNS-TL-NC', 'NP', 'NP$', 'NP$-HL', 'NP$-TL', 'NP+BEZ', 'NP+BEZ-NC', 'NP+HVZ', 'NP+HVZ-NC', 'NP+MD', 'NP-HL', 'NP-NC', 'NP-TL', 'NP-TL-HL', 'NPS', 'NPS$', 'NPS$-HL', 'NPS$-TL', 'NPS-HL', 'NPS-NC', 'NPS-TL', 'NR', 'NR$', 'NR$-TL', 'NR+MD', 'NR-HL', 'NR-NC', 'NR-TL', 'NR-TL-HL', 'NRS', 'NRS-TL', 'OD', 'OD-HL', 'OD-NC', 'OD-TL', 'PN', 'PN$', 'PN+BEZ', 'PN+HVD', 'PN+HVZ', 'PN+MD', 'PN-HL', 'PN-NC', 'PN-TL', 'PP$', 'PP$$', 'PP$-HL', 'PP$-NC', 'PP$-TL', 'PPL', 'PPL-HL', 'PPL-NC', 'PPL-TL', 'PPLS', 'PPO', 'PPO-HL', 'PPO-NC', 'PPO-TL', 'PPS', 'PPS+BEZ', 'PPS+BEZ-HL', 'PPS+BEZ-NC', 'PPS+HVD', 'PPS+HVZ', 'PPS+MD', 'PPS-HL', 'PPS-NC', 'PPS-TL', 'PPSS', 'PPSS+BEM', 'PPSS+BER', 'PPSS+BER-N', 'PPSS+BER-NC', 'PPSS+BER-TL', 'PPSS+BEZ', 'PPSS+BEZ*', 'PPSS+HV', 'PPSS+HV-TL', 'PPSS+HVD', 'PPSS+MD', 'PPSS+MD-NC', 'PPSS+VB', 'PPSS-HL', 'PPSS-NC', 'PPSS-TL', 'QL', 'QL-HL', 'QL-NC', 'QL-TL', 'QLP', 'RB', 'RB$', 'RB+BEZ', 'RB+BEZ-HL', 'RB+BEZ-NC', 'RB+CS', 'RB-HL', 'RB-NC', 'RB-TL', 'RBR', 'RBR+CS', 'RBR-NC', 'RBT', 'RN', 'RP', 'RP+IN', 'RP-HL', 'RP-NC', 'RP-TL', 'TO', 'TO+VB', 'TO-HL', 'TO-NC', 'TO-TL', 'UH', 'UH-HL', 'UH-NC', 'UH-TL', 'VB', 'VB+AT', 'VB+IN', 'VB+JJ-NC', 'VB+PPO', 'VB+RP', 'VB+TO', 'VB+VB-NC', 'VB-HL', 'VB-NC', 'VB-TL', 'VBD', 'VBD-HL', 'VBD-NC', 'VBD-TL', 'VBG', 'VBG+TO', 'VBG-HL', 'VBG-NC', 'VBG-TL', 'VBN', 'VBN+TO', 'VBN-HL', 'VBN-NC', 'VBN-TL', 'VBN-TL-HL', 'VBN-TL-NC', 'VBZ', 'VBZ-HL', 'VBZ-NC', 'VBZ-TL', 'WDT', 'WDT+BER', 'WDT+BER+PP', 'WDT+BEZ', 'WDT+BEZ-HL', 'WDT+BEZ-NC', 'WDT+BEZ-TL', 'WDT+DO+PPS', 'WDT+DOD', 'WDT+HVZ', 'WDT-HL', 'WDT-NC', 'WP$', 'WPO', 'WPO-NC', 'WPO-TL', 'WPS', 'WPS+BEZ', 'WPS+BEZ-NC', 'WPS+BEZ-TL', 'WPS+HVD', 'WPS+HVZ', 'WPS+MD', 'WPS-HL', 'WPS-NC', 'WPS-TL', 'WQL', 'WQL-TL', 'WRB', 'WRB+BER', 'WRB+BEZ', 'WRB+BEZ-TL', 'WRB+DO', 'WRB+DOD', 'WRB+DOD*', 'WRB+DOZ', 'WRB+IN', 'WRB+MD', 'WRB-HL', 'WRB-NC', 'WRB-TL', '``']"
     ]
    }
   ],
   "source": [
    "print(sorted(set([t for (_, t) in brown.tagged_words()])), end = '')"
   ]
  },
  {
   "cell_type": "markdown",
   "metadata": {},
   "source": [
    "##### 15.\n",
    "\n",
    "Write programs to process the Brown Corpus and find answers to the following questions:\n",
    "\n",
    "* 1. Which nouns are more common in their plural form, rather than their singular form? (Only consider regular plurals, formed with the -s suffix.)\n",
    "\n",
    "* 2. Which word has the greatest number of distinct tags. What are they, and what do they represent?\n",
    "\n",
    "* 3. List tags in order of decreasing frequency. What do the 20 most frequent tags represent?\n",
    "\n",
    "* 4. Which tags are nouns most commonly found after? What do these tags represent?"
   ]
  },
  {
   "cell_type": "markdown",
   "metadata": {},
   "source": [
    "*Part 1:*"
   ]
  },
  {
   "cell_type": "code",
   "execution_count": 136,
   "metadata": {},
   "outputs": [],
   "source": [
    "# create set of all singular nouns in the Brown Corpus\n",
    "\n",
    "sing_nouns = set(word.lower() for (word, tag) in \\\n",
    "                              nltk.corpus.brown.tagged_words() \\\n",
    "                              if tag == 'NN')"
   ]
  },
  {
   "cell_type": "code",
   "execution_count": 137,
   "metadata": {},
   "outputs": [],
   "source": [
    "# create set of all plural nouns in the Brown Corpus\n",
    "\n",
    "plur_nouns = set([word.lower() for (word, tag) in nltk.corpus.brown.tagged_words() if tag == 'NNS'])\n"
   ]
  },
  {
   "cell_type": "code",
   "execution_count": 138,
   "metadata": {},
   "outputs": [],
   "source": [
    "# make a list of words that have regular plurals represented in plur_nouns\n",
    "\n",
    "cands = [n for n in sing_nouns if n + \"s\" in plur_nouns]"
   ]
  },
  {
   "cell_type": "code",
   "execution_count": 146,
   "metadata": {},
   "outputs": [],
   "source": [
    "# get FreqDist for singular nouns\n",
    "snfd = nltk.FreqDist(word.lower() for (word, _) in nltk.corpus.brown.tagged_words() \\\n",
    "                   if word in sing_nouns)"
   ]
  },
  {
   "cell_type": "code",
   "execution_count": 147,
   "metadata": {},
   "outputs": [],
   "source": [
    "# get FreqDist for plural nouns\n",
    "pnfd = nltk.FreqDist(word.lower() for (word, _) in nltk.corpus.brown.tagged_words() \\\n",
    "                   if word in plur_nouns)"
   ]
  },
  {
   "cell_type": "code",
   "execution_count": 150,
   "metadata": {},
   "outputs": [],
   "source": [
    "# find out which words are more common in the plural form\n",
    "more_common_plur = [(pnfd[c + 's'], c + 's', snfd[c], c) for c in cands \\\n",
    "                    if pnfd[c + 's'] > snfd[c]]"
   ]
  },
  {
   "cell_type": "code",
   "execution_count": 149,
   "metadata": {},
   "outputs": [
    {
     "data": {
      "text/plain": [
       "[(943, 'years', 649, 'year'),\n",
       " (391, 'eyes', 119, 'eye'),\n",
       " (361, 'things', 331, 'thing'),\n",
       " (312, 'members', 133, 'member'),\n",
       " (291, 'means', 199, 'mean'),\n",
       " (269, 'words', 261, 'word'),\n",
       " (204, 'students', 109, 'student'),\n",
       " (193, 'minutes', 54, 'minute'),\n",
       " (188, 'months', 130, 'month'),\n",
       " (179, 'conditions', 89, 'condition'),\n",
       " (173, 'hours', 145, 'hour'),\n",
       " (169, 'miles', 42, 'mile'),\n",
       " (160, 'terms', 79, 'term'),\n",
       " (150, 'friends', 125, 'friend'),\n",
       " (138, 'methods', 137, 'method'),\n",
       " (125, 'sales', 44, 'sale'),\n",
       " (115, 'arms', 91, 'arm'),\n",
       " (106, 'leaders', 69, 'leader'),\n",
       " (103, 'elements', 52, 'element'),\n",
       " (102, 'factors', 71, 'factor')]"
      ]
     },
     "execution_count": 149,
     "metadata": {},
     "output_type": "execute_result"
    }
   ],
   "source": [
    "sorted(more_common_plur, reverse = True)[:20]"
   ]
  },
  {
   "cell_type": "markdown",
   "metadata": {},
   "source": [
    "*Part 2:*"
   ]
  },
  {
   "cell_type": "code",
   "execution_count": 198,
   "metadata": {},
   "outputs": [],
   "source": [
    "from collections import defaultdict\n",
    "\n",
    "# create a ConditionalFreqDist with all the words in the corpus,\n",
    "# with counts of each of their tags\n",
    "dt = nltk.ConditionalFreqDist(brown.tagged_words())\n",
    "\n",
    "# create a dictionary where the keys will be the number of distinct tags\n",
    "tags = defaultdict(list)\n",
    "for w in set(brown.words()):\n",
    "    tags[len(dt[w])].append(w)"
   ]
  },
  {
   "cell_type": "code",
   "execution_count": 199,
   "metadata": {},
   "outputs": [
    {
     "data": {
      "text/plain": [
       "12"
      ]
     },
     "execution_count": 199,
     "metadata": {},
     "output_type": "execute_result"
    }
   ],
   "source": [
    "# word with the most tags\n",
    "max(tags)"
   ]
  },
  {
   "cell_type": "code",
   "execution_count": 200,
   "metadata": {},
   "outputs": [
    {
     "data": {
      "text/plain": [
       "['that']"
      ]
     },
     "execution_count": 200,
     "metadata": {},
     "output_type": "execute_result"
    }
   ],
   "source": [
    "tags[12]"
   ]
  },
  {
   "cell_type": "markdown",
   "metadata": {},
   "source": [
    "*For the lower numbers, the values should be a list of distinct words.  Let's make sure that's the case:*"
   ]
  },
  {
   "cell_type": "code",
   "execution_count": 202,
   "metadata": {},
   "outputs": [
    {
     "name": "stdout",
     "output_type": "stream",
     "text": [
      "['well', 'Chinese', 'Little', 'I', 'for', 'fit', 'That', 'home', 'Long', 'out', 'as', 'it']"
     ]
    }
   ],
   "source": [
    "print(tags[7], end = '')"
   ]
  },
  {
   "cell_type": "markdown",
   "metadata": {},
   "source": [
    "*Looking at the tags for 'that':*"
   ]
  },
  {
   "cell_type": "code",
   "execution_count": 208,
   "metadata": {},
   "outputs": [
    {
     "data": {
      "text/plain": [
       "FreqDist({'CS': 6419, 'DT': 1975, 'WPS': 1638, 'WPO': 135, 'QL': 54, 'DT-NC': 6, 'WPS-NC': 3, 'CS-NC': 2, 'WPS-HL': 2, 'CS-HL': 1, ...})"
      ]
     },
     "execution_count": 208,
     "metadata": {},
     "output_type": "execute_result"
    }
   ],
   "source": [
    "dt['that']"
   ]
  },
  {
   "cell_type": "markdown",
   "metadata": {},
   "source": [
    "*Finding out what each of those tags means:*"
   ]
  },
  {
   "cell_type": "code",
   "execution_count": 207,
   "metadata": {},
   "outputs": [
    {
     "name": "stdout",
     "output_type": "stream",
     "text": [
      "CS: conjunction, subordinating\n",
      "    that as after whether before while like because if since for than altho\n",
      "    until so unless though providing once lest s'posin' till whereas\n",
      "    whereupon supposing tho' albeit then so's 'fore\n",
      "WPS: WH-pronoun, nominative\n",
      "    that who whoever whosoever what whatsoever\n",
      "DT: determiner/pronoun, singular\n",
      "    this each another that 'nother\n",
      "QL: qualifier, pre\n",
      "    well less very most so real as highly fundamentally even how much\n",
      "    remarkably somewhat more completely too thus ill deeply little overly\n",
      "    halfway almost impossibly far severly such ...\n",
      "WPO: WH-pronoun, accusative\n",
      "    whom that who\n",
      "No matching tags found.\n",
      "No matching tags found.\n",
      "No matching tags found.\n",
      "No matching tags found.\n",
      "No matching tags found.\n",
      "No matching tags found.\n",
      "No matching tags found.\n"
     ]
    }
   ],
   "source": [
    "for tag in dt['that']:\n",
    "    nltk.help.brown_tagset(tag)"
   ]
  },
  {
   "cell_type": "markdown",
   "metadata": {},
   "source": [
    "*Interestingly, over half of the tags have no description in the documentation. After a little research, I found that -NC designates a cited word; -HL designates a headline; and -TL designates a title.  If we eliminate these tags (since a conjunction in an article and a conjunction in a title are essentially the same thing), which get considerably differenct counts:*"
   ]
  },
  {
   "cell_type": "code",
   "execution_count": 97,
   "metadata": {},
   "outputs": [],
   "source": [
    "import re, copy\n",
    "bts_copy = copy.deepcopy(brown.tagged_words())\n",
    "bts_copy = [(word, re.sub(r'-HL$|-NC$|-TL$', '', tag)) for word, tag in bts_copy]"
   ]
  },
  {
   "cell_type": "code",
   "execution_count": 98,
   "metadata": {},
   "outputs": [
    {
     "data": {
      "text/plain": [
       "6"
      ]
     },
     "execution_count": 98,
     "metadata": {},
     "output_type": "execute_result"
    }
   ],
   "source": [
    "# using the same methods as above\n",
    "\n",
    "dt2 = nltk.ConditionalFreqDist(bts_copy)\n",
    "tags2 = defaultdict(list)\n",
    "for w in set(w.lower() for w in brown.words()):\n",
    "    tags2[len(dt2[w])].append(w)\n",
    "    \n",
    "max(tags2)"
   ]
  },
  {
   "cell_type": "code",
   "execution_count": 99,
   "metadata": {},
   "outputs": [
    {
     "data": {
      "text/plain": [
       "['well', ':', 'still', 'beat', 'that']"
      ]
     },
     "execution_count": 99,
     "metadata": {},
     "output_type": "execute_result"
    }
   ],
   "source": [
    "tags2[6]"
   ]
  },
  {
   "cell_type": "code",
   "execution_count": 100,
   "metadata": {},
   "outputs": [
    {
     "data": {
      "text/plain": [
       "FreqDist({'CS': 6422, 'DT': 1981, 'WPS': 1643, 'WPO': 136, 'QL': 54, 'NIL': 1})"
      ]
     },
     "execution_count": 100,
     "metadata": {},
     "output_type": "execute_result"
    }
   ],
   "source": [
    "dt2['that']"
   ]
  },
  {
   "cell_type": "code",
   "execution_count": 101,
   "metadata": {},
   "outputs": [
    {
     "name": "stdout",
     "output_type": "stream",
     "text": [
      "CS: conjunction, subordinating\n",
      "    that as after whether before while like because if since for than altho\n",
      "    until so unless though providing once lest s'posin' till whereas\n",
      "    whereupon supposing tho' albeit then so's 'fore\n",
      "WPS: WH-pronoun, nominative\n",
      "    that who whoever whosoever what whatsoever\n",
      "DT: determiner/pronoun, singular\n",
      "    this each another that 'nother\n",
      "QL: qualifier, pre\n",
      "    well less very most so real as highly fundamentally even how much\n",
      "    remarkably somewhat more completely too thus ill deeply little overly\n",
      "    halfway almost impossibly far severly such ...\n",
      "WPO: WH-pronoun, accusative\n",
      "    whom that who\n",
      "No matching tags found.\n"
     ]
    }
   ],
   "source": [
    "for tag in dt2['that']:\n",
    "    nltk.help.brown_tagset(tag)"
   ]
  },
  {
   "cell_type": "markdown",
   "metadata": {},
   "source": [
    "*Part 3:*"
   ]
  },
  {
   "cell_type": "code",
   "execution_count": 249,
   "metadata": {},
   "outputs": [],
   "source": [
    "tags = [tags for _, tags in brown.tagged_words()]\n",
    "\n",
    "ft = nltk.FreqDist(tags)"
   ]
  },
  {
   "cell_type": "code",
   "execution_count": 252,
   "metadata": {},
   "outputs": [
    {
     "name": "stdout",
     "output_type": "stream",
     "text": [
      "[('NN', 152470), ('IN', 120557), ('AT', 97959), ('JJ', 64028), ('.', 60638), (',', 58156), ('NNS', 55110), ('CC', 37718), ('RB', 36464), ('NP', 34476), ('VB', 33693), ('VBN', 29186), ('VBD', 26167), ('CS', 22143), ('PPS', 18253), ('VBG', 17893), ('PP$', 16872), ('TO', 14918), ('PPSS', 13802), ('CD', 13510)]"
     ]
    }
   ],
   "source": [
    "print(ft.most_common(20), end = '')"
   ]
  },
  {
   "cell_type": "code",
   "execution_count": 253,
   "metadata": {},
   "outputs": [
    {
     "name": "stdout",
     "output_type": "stream",
     "text": [
      "NN: noun, singular, common\n",
      "    failure burden court fire appointment awarding compensation Mayor\n",
      "    interim committee fact effect airport management surveillance jail\n",
      "    doctor intern extern night weekend duty legislation Tax Office ...\n",
      "IN: preposition\n",
      "    of in for by considering to on among at through with under into\n",
      "    regarding than since despite according per before toward against as\n",
      "    after during including between without except upon out over ...\n",
      "AT: article\n",
      "    the an no a every th' ever' ye\n",
      "JJ: adjective\n",
      "    ecent over-all possible hard-fought favorable hard meager fit such\n",
      "    widespread outmoded inadequate ambiguous grand clerical effective\n",
      "    orderly federal foster general proportionate ...\n",
      ".: sentence terminator\n",
      "    . ? ; ! :\n",
      ",: comma\n",
      "    ,\n",
      "NNS: noun, plural, common\n",
      "    irregularities presentments thanks reports voters laws legislators\n",
      "    years areas adjustments chambers $100 bonds courts sales details raises\n",
      "    sessions members congressmen votes polls calls ...\n",
      "CC: conjunction, coordinating\n",
      "    and or but plus & either neither nor yet 'n' and/or minus an'\n",
      "RB: adverb\n",
      "    only often generally also nevertheless upon together back newly no\n",
      "    likely meanwhile near then heavily there apparently yet outright fully\n",
      "    aside consistently specifically formally ever just ...\n",
      "NP: noun, singular, proper\n",
      "    Fulton Atlanta September-October Durwood Pye Ivan Allen Jr. Jan.\n",
      "    Alpharetta Grady William B. Hartsfield Pearl Williams Aug. Berry J. M.\n",
      "    Cheshire Griffin Opelika Ala. E. Pelham Snodgrass ...\n",
      "VB: verb, base: uninflected present, imperative or infinitive\n",
      "    investigate find act follow inure achieve reduce take remedy re-set\n",
      "    distribute realize disable feel receive continue place protect\n",
      "    eliminate elaborate work permit run enter force ...\n",
      "VBN: verb, past participle\n",
      "    conducted charged won received studied revised operated accepted\n",
      "    combined experienced recommended effected granted seen protected\n",
      "    adopted retarded notarized selected composed gotten printed ...\n",
      "VBD: verb, past tense\n",
      "    said produced took recommended commented urged found added praised\n",
      "    charged listed became announced brought attended wanted voted defeated\n",
      "    received got stood shot scheduled feared promised made ...\n",
      "CS: conjunction, subordinating\n",
      "    that as after whether before while like because if since for than altho\n",
      "    until so unless though providing once lest s'posin' till whereas\n",
      "    whereupon supposing tho' albeit then so's 'fore\n",
      "PPS: pronoun, personal, nominative, 3rd person singular\n",
      "    it he she thee\n",
      "VBG: verb, present participle or gerund\n",
      "    modernizing improving purchasing Purchasing lacking enabling pricing\n",
      "    keeping getting picking entering voting warning making strengthening\n",
      "    setting neighboring attending participating moving ...\n",
      "PP$: determiner, possessive\n",
      "    our its his their my your her out thy mine thine\n",
      "TO: infinitival to\n",
      "    to t'\n",
      "PPSS: pronoun, personal, nominative, not 3rd person singular\n",
      "    they we I you ye thou you'uns\n",
      "CD: numeral, cardinal\n",
      "    two one 1 four 2 1913 71 74 637 1937 8 five three million 87-31 29-5\n",
      "    seven 1,119 fifty-three 7.5 billion hundred 125,000 1,700 60 100 six\n",
      "    ...\n"
     ]
    }
   ],
   "source": [
    "for tag, _ in ft.most_common(20):\n",
    "    nltk.help.brown_tagset(tag)"
   ]
  },
  {
   "cell_type": "markdown",
   "metadata": {},
   "source": [
    "*Part 4:*"
   ]
  },
  {
   "cell_type": "code",
   "execution_count": 257,
   "metadata": {},
   "outputs": [
    {
     "name": "stdout",
     "output_type": "stream",
     "text": [
      "['AT', 'JJ', 'IN', 'NN', 'PP$', 'CC', 'CD', 'AP', 'DT', 'VBG', ',', 'VBN', '.', 'NN-TL', 'JJ-TL', 'VB', 'NP', 'NP-TL', 'CS', 'NP$']"
     ]
    }
   ],
   "source": [
    "wtp = nltk.bigrams(brown.tagged_words())\n",
    "np = [a[1] for (a, b) in wtp if b[1].startswith('NN')]\n",
    "fd = nltk.FreqDist(np)\n",
    "prec_tags = [tag for (tag, _) in fd.most_common(20)]\n",
    "print(prec_tags, end = '')"
   ]
  },
  {
   "cell_type": "code",
   "execution_count": 259,
   "metadata": {},
   "outputs": [
    {
     "name": "stdout",
     "output_type": "stream",
     "text": [
      "AT: article\n",
      "    the an no a every th' ever' ye\n",
      "JJ: adjective\n",
      "    ecent over-all possible hard-fought favorable hard meager fit such\n",
      "    widespread outmoded inadequate ambiguous grand clerical effective\n",
      "    orderly federal foster general proportionate ...\n",
      "IN: preposition\n",
      "    of in for by considering to on among at through with under into\n",
      "    regarding than since despite according per before toward against as\n",
      "    after during including between without except upon out over ...\n",
      "NN: noun, singular, common\n",
      "    failure burden court fire appointment awarding compensation Mayor\n",
      "    interim committee fact effect airport management surveillance jail\n",
      "    doctor intern extern night weekend duty legislation Tax Office ...\n",
      "PP$: determiner, possessive\n",
      "    our its his their my your her out thy mine thine\n",
      "CC: conjunction, coordinating\n",
      "    and or but plus & either neither nor yet 'n' and/or minus an'\n",
      "CD: numeral, cardinal\n",
      "    two one 1 four 2 1913 71 74 637 1937 8 five three million 87-31 29-5\n",
      "    seven 1,119 fifty-three 7.5 billion hundred 125,000 1,700 60 100 six\n",
      "    ...\n",
      "AP: determiner/pronoun, post-determiner\n",
      "    many other next more last former little several enough most least only\n",
      "    very few fewer past same Last latter less single plenty 'nough lesser\n",
      "    certain various manye next-to-last particular final previous present\n",
      "    nuf\n",
      "DT: determiner/pronoun, singular\n",
      "    this each another that 'nother\n",
      "VBG: verb, present participle or gerund\n",
      "    modernizing improving purchasing Purchasing lacking enabling pricing\n",
      "    keeping getting picking entering voting warning making strengthening\n",
      "    setting neighboring attending participating moving ...\n",
      ",: comma\n",
      "    ,\n",
      "VBN: verb, past participle\n",
      "    conducted charged won received studied revised operated accepted\n",
      "    combined experienced recommended effected granted seen protected\n",
      "    adopted retarded notarized selected composed gotten printed ...\n",
      ".: sentence terminator\n",
      "    . ? ; ! :\n",
      "No matching tags found.\n",
      "No matching tags found.\n",
      "VB: verb, base: uninflected present, imperative or infinitive\n",
      "    investigate find act follow inure achieve reduce take remedy re-set\n",
      "    distribute realize disable feel receive continue place protect\n",
      "    eliminate elaborate work permit run enter force ...\n",
      "NP: noun, singular, proper\n",
      "    Fulton Atlanta September-October Durwood Pye Ivan Allen Jr. Jan.\n",
      "    Alpharetta Grady William B. Hartsfield Pearl Williams Aug. Berry J. M.\n",
      "    Cheshire Griffin Opelika Ala. E. Pelham Snodgrass ...\n",
      "No matching tags found.\n",
      "CS: conjunction, subordinating\n",
      "    that as after whether before while like because if since for than altho\n",
      "    until so unless though providing once lest s'posin' till whereas\n",
      "    whereupon supposing tho' albeit then so's 'fore\n",
      "NP$: noun, singular, proper, genitive\n",
      "    Green's Landis' Smith's Carreon's Allison's Boston's Spahn's Willie's\n",
      "    Mickey's Milwaukee's Mays' Howsam's Mantle's Shaw's Wagner's Rickey's\n",
      "    Shea's Palmer's Arnold's Broglio's ...\n"
     ]
    }
   ],
   "source": [
    "for tag in prec_tags:\n",
    "    nltk.help.brown_tagset(tag)"
   ]
  },
  {
   "cell_type": "markdown",
   "metadata": {},
   "source": [
    "##### 16. \n",
    "\n",
    "◑ Explore the following issues that arise in connection with the lookup tagger:\n",
    "\n",
    "* a. What happens to the tagger performance for the various model sizes when a backoff tagger is omitted?\n",
    "\n",
    "* b. Consider the curve in [4.2](https://www.nltk.org/book/ch05.html#fig-tag-lookup); suggest a good size for a lookup tagger that balances memory and performance. Can you come up with scenarios where it would be preferable to minimize memory usage, or to maximize performance with no regard for memory usage?"
   ]
  },
  {
   "cell_type": "code",
   "execution_count": 17,
   "metadata": {},
   "outputs": [],
   "source": [
    "import matplotlib.pyplot as plt\n",
    "import numpy as np\n",
    "from nltk.corpus import brown\n",
    "\n",
    "def performance(cfd, wordlist):\n",
    "    lt = dict((word, cfd[word].max()) for word in wordlist)\n",
    "    baseline_tagger = nltk.UnigramTagger(model = lt)\n",
    "    return baseline_tagger.evaluate(brown.tagged_sents(categories = 'news'))\n",
    "\n",
    "def performance_w_bo(cfd, wordlist):\n",
    "    lt = dict((word, cfd[word].max()) for word in wordlist)\n",
    "    baseline_tagger = nltk.UnigramTagger(model = lt, \n",
    "                                         backoff = nltk.DefaultTagger('NN'))\n",
    "    return baseline_tagger.evaluate(brown.tagged_sents(categories = 'news'))\n",
    "\n",
    "def display():\n",
    "    word_freqs = nltk.FreqDist(brown.words(categories = 'news')).most_common()\n",
    "    words_by_freq = [w for (w, _) in word_freqs]\n",
    "    cfd = nltk.ConditionalFreqDist(brown.tagged_words(categories = 'news'))\n",
    "    sizes = 2 ** np.arange(15)\n",
    "    perfs = [performance(cfd, words_by_freq[:size]) for size in sizes]\n",
    "    perfs_bo = [performance_w_bo(cfd, words_by_freq[:size]) for size in sizes]\n",
    "    plt.plot(sizes, perfs, '-bo', label = 'without backoff')\n",
    "    plt.plot(sizes, perfs_bo, '--ro', label = 'with backoff')\n",
    "    plt.title('Lookup Tagger Performance with Varying Model Size')\n",
    "    plt.xlabel('Model Size')\n",
    "    plt.ylabel('Performance')\n",
    "    plt.legend(loc = 'lower right')\n",
    "    plt.show()"
   ]
  },
  {
   "cell_type": "code",
   "execution_count": 18,
   "metadata": {},
   "outputs": [
    {
     "data": {
      "image/png": "[encoded data removed]",
      "text/plain": [
       "<Figure size 432x288 with 1 Axes>"
      ]
     },
     "metadata": {
      "needs_background": "light"
     },
     "output_type": "display_data"
    }
   ],
   "source": [
    "display()"
   ]
  },
  {
   "cell_type": "markdown",
   "metadata": {},
   "source": [
    "* <i>a. The performance with or without backoff is quite similar. Both taggers plateau at a model size of about 4,000 words and top out at the same location at just over 16,000 words, though the curve is shallower without backoff.  Naturally, the tagger tends to perform better with backoff.</i>\n",
    "\n",
    "* <i>b. A good size would be around 4,000 words.  The balance between memory and performance is not as acute today in the era of big data, where machines with multi-GB RAM and processors with multiple cores are the norm.  "
   ]
  },
  {
   "cell_type": "markdown",
   "metadata": {},
   "source": [
    "##### 17.\n",
    "\n",
    "◑ What is the upper limit of performance for a lookup tagger, assuming no limit to the size of its table? (Hint: write a program to work out what percentage of tokens of a word are assigned the most likely tag for that word, on average.)\n",
    "\n",
    "*It appears that the upper limit would be around 95%.  Below is code that will sum the number of words in the Brown Corpus tagged with each word's most likely tag (n.b. that I use the `.startswith()` method, because many tags have a suffix such as `-TL` or `-HL`), divided by the total number of word types in the corpus.  Notice that the limit is dependant on the corpus: the Penn Treebank has a slightly higher limit.*"
   ]
  },
  {
   "cell_type": "code",
   "execution_count": 42,
   "metadata": {},
   "outputs": [
    {
     "data": {
      "text/plain": [
       "0.9360054151251472"
      ]
     },
     "execution_count": 42,
     "metadata": {},
     "output_type": "execute_result"
    }
   ],
   "source": [
    "# Brown Corpus\n",
    "\n",
    "cfd = nltk.ConditionalFreqDist(brown.tagged_words())\n",
    "\n",
    "sum([tag.startswith(cfd[word].max()) for word, tag in \\\n",
    "     brown.tagged_words()]) / len(brown.tagged_words())"
   ]
  },
  {
   "cell_type": "code",
   "execution_count": 50,
   "metadata": {},
   "outputs": [
    {
     "data": {
      "text/plain": [
       "0.9599705987524335"
      ]
     },
     "execution_count": 50,
     "metadata": {},
     "output_type": "execute_result"
    }
   ],
   "source": [
    "# Penn Treebank\n",
    "\n",
    "wsj = nltk.corpus.treebank.tagged_words()\n",
    "cfd = nltk.ConditionalFreqDist(wsj)\n",
    "sum([tag == cfd[word].max() for word, tag in wsj]) / len(wsj)"
   ]
  },
  {
   "cell_type": "markdown",
   "metadata": {},
   "source": [
    "##### 18.\n",
    "\n",
    "◑ Generate some statistics for tagged data to answer the following questions:\n",
    "\n",
    "* a. What proportion of word types are always assigned the same part-of-speech tag?\n",
    "\n",
    "* b. How many words are ambiguous, in the sense that they appear with at least two tags?\n",
    "\n",
    "* c. What percentage of word _tokens_ in the Brown Corpus involve these ambiguous words?"
   ]
  },
  {
   "cell_type": "markdown",
   "metadata": {},
   "source": [
    "*a. Getting rid of tag \"suffixes\".  I.e., `-HL`, `-NC`, and `-TL` suffixes applied to some tags in the Brown Corpus:*"
   ]
  },
  {
   "cell_type": "code",
   "execution_count": 65,
   "metadata": {},
   "outputs": [],
   "source": [
    "import re, copy\n",
    "bts_copy = copy.deepcopy(brown.tagged_words())\n",
    "bts_copy = [(word, re.sub(r'-HL$|-NC$|-TL$', '', tag)) for word, tag in bts_copy]"
   ]
  },
  {
   "cell_type": "code",
   "execution_count": 67,
   "metadata": {},
   "outputs": [],
   "source": [
    "cfd = nltk.ConditionalFreqDist(bts_copy)"
   ]
  },
  {
   "cell_type": "markdown",
   "metadata": {},
   "source": [
    "*Now creating a dictionary where the keys will be the number of distinct tags:*"
   ]
  },
  {
   "cell_type": "code",
   "execution_count": 74,
   "metadata": {},
   "outputs": [],
   "source": [
    "tags = defaultdict(list)\n",
    "for w in set(w.lower() for w, _ in bts_copy):\n",
    "    tags[len(cfd[w])].append(w)"
   ]
  },
  {
   "cell_type": "code",
   "execution_count": 78,
   "metadata": {},
   "outputs": [
    {
     "data": {
      "text/plain": [
       "33948"
      ]
     },
     "execution_count": 78,
     "metadata": {},
     "output_type": "execute_result"
    }
   ],
   "source": [
    "one_tag = len(tags[1]); one_tag"
   ]
  },
  {
   "cell_type": "code",
   "execution_count": 79,
   "metadata": {},
   "outputs": [
    {
     "data": {
      "text/plain": [
       "49815"
      ]
     },
     "execution_count": 79,
     "metadata": {},
     "output_type": "execute_result"
    }
   ],
   "source": [
    "word_types = len(set(w.lower() for w, _ in bts_copy)); word_types"
   ]
  },
  {
   "cell_type": "code",
   "execution_count": 80,
   "metadata": {},
   "outputs": [
    {
     "data": {
      "text/plain": [
       "0.6814814814814815"
      ]
     },
     "execution_count": 80,
     "metadata": {},
     "output_type": "execute_result"
    }
   ],
   "source": [
    "one_tag / word_types"
   ]
  },
  {
   "cell_type": "markdown",
   "metadata": {},
   "source": [
    "*b. The number of ambiguous words is simply the number of word types minus the number of words with one tag:*"
   ]
  },
  {
   "cell_type": "code",
   "execution_count": 81,
   "metadata": {},
   "outputs": [
    {
     "data": {
      "text/plain": [
       "15867"
      ]
     },
     "execution_count": 81,
     "metadata": {},
     "output_type": "execute_result"
    }
   ],
   "source": [
    "word_types - one_tag"
   ]
  },
  {
   "cell_type": "markdown",
   "metadata": {},
   "source": [
    "*c. Since dictionaries have much faster look-up times than lists, we'll create another dictionary with all the words that have more than one tag.  Then we'll simply iterate through all the words, make a tally of those with keys in the new dictionary, and divide this tally by the total number of tokens in the corpus:*"
   ]
  },
  {
   "cell_type": "code",
   "execution_count": 92,
   "metadata": {},
   "outputs": [],
   "source": [
    "ambiguous = {}\n",
    "for w in set(w.lower() for w, _ in bts_copy):\n",
    "    if len(cfd[w]) >= 2:\n",
    "        ambiguous[w] = ''\n",
    "    "
   ]
  },
  {
   "cell_type": "code",
   "execution_count": 96,
   "metadata": {},
   "outputs": [
    {
     "data": {
      "text/plain": [
       "0.5946579032580314"
      ]
     },
     "execution_count": 96,
     "metadata": {},
     "output_type": "execute_result"
    }
   ],
   "source": [
    "sum([w.lower() in ambiguous for w in brown.words()]) / len(brown.words())"
   ]
  },
  {
   "cell_type": "markdown",
   "metadata": {},
   "source": [
    "##### 19. \n",
    "\n",
    "◑ The `evaluate()` method works out how accurately the tagger performs on this text. For example, if the supplied tagged text was `[('the', 'DT'), ('dog', 'NN')]` and the tagger produced the output `[('the', 'NN'), ('dog', 'NN')]`, then the score would be `0.5`. Let's try to figure out how the evaluation method works:\n",
    "\n",
    "* a. A tagger `t` takes a list of words as input, and produces a list of tagged words as output. However, `t.evaluate()` is given correctly tagged text as its only parameter. What must it do with this input before performing the tagging?\n",
    "\n",
    "* b. Once the tagger has created newly tagged text, how might the `evaluate()` method go about comparing it with the original tagged text and computing the accuracy score?\n",
    "\n",
    "* c. Now examine the source code to see how the method is implemented. Inspect `nltk.tag.api.__file__` to discover the location of the source code, and open this file using an editor (be sure to use the `api.py` file and not the compiled `api.pyc` binary file).\n",
    "\n",
    "*The `.evaluate()` method would need to extract the tags from the correctly tagged text and populate a list with them.  It could then create a list of tags produced by the tagger `t`, and calculate what percentage of the two lists are identical.*\n",
    "\n",
    "*I was able to find and open `tag\\api.py` without any problems.  However, examining the file wasn't very beneficial, as most of the work is done \"under the hood\" via a number of methods that haven't been covered: i.e., `chain`, a function from the `itertools` library that flattens and concatenates lists; and `accuracy`, a function from `nltk.metrics` that calculates what percentage of two lists are the same.*\n",
    "\n",
    "*I'm all for examining code in more detail; but if the authors are explicitly asking us to do so, it would be more beneficial to look at functions where the bulk of the work is being done within the function, and not via outside helper functions.*"
   ]
  },
  {
   "cell_type": "markdown",
   "metadata": {},
   "source": [
    "##### 20.\n",
    "\n",
    "◑ Write code to search the Brown Corpus for particular words and phrases according to tags, to answer the following questions:\n",
    "\n",
    "* a. Produce an alphabetically sorted list of the distinct words tagged as `MD`.\n",
    "\n",
    "* b. Identify words that can be plural nouns or third person singular verbs (e.g. <i>deals</i>, <i>flies</i>).\n",
    "\n",
    "* c. Identify three-word prepositional phrases of the form IN + DET + NN (eg. <i>in the lab</i>).\n",
    "\n",
    "* d. What is the ratio of masculine to feminine pronouns?\n",
    "\n",
    "\n",
    "*a.*"
   ]
  },
  {
   "cell_type": "code",
   "execution_count": 105,
   "metadata": {},
   "outputs": [
    {
     "name": "stdout",
     "output_type": "stream",
     "text": [
      "[\"c'n\", 'can', 'colde', 'could', 'dare', 'kin', 'maht', 'mai', 'may', 'maye', 'mayst', 'might', 'must', 'need', 'ought', 'shall', 'should', 'shuld', 'shulde', 'wil', 'will', 'wilt', 'wod', 'wold', 'wolde', 'would']"
     ]
    }
   ],
   "source": [
    "print(sorted(set([w.lower() for w, t in brown.tagged_words() if t == 'MD'])), \n",
    "      end = '')"
   ]
  },
  {
   "cell_type": "markdown",
   "metadata": {},
   "source": [
    "*b.*"
   ]
  },
  {
   "cell_type": "code",
   "execution_count": 113,
   "metadata": {},
   "outputs": [],
   "source": [
    "cfd = nltk.ConditionalFreqDist(brown.tagged_words())"
   ]
  },
  {
   "cell_type": "code",
   "execution_count": 128,
   "metadata": {},
   "outputs": [],
   "source": [
    "NNS_VBZ = set([w for w in set(w.lower() for w, t in brown.tagged_words()) \\\n",
    "               if 'NNS' in cfd[w] and 'VBZ' in cfd[w]])"
   ]
  },
  {
   "cell_type": "code",
   "execution_count": 129,
   "metadata": {},
   "outputs": [
    {
     "name": "stdout",
     "output_type": "stream",
     "text": [
      "{'hides', 'colors', 'practices', 'covers', 'dogs', 'laps', 'approaches', 'boards', 'reports', 'markets', 'stems', 'causes', 'calls', 'pulls', 'drifts', 'gains', 'designs', 'senses', 'bridges', 'permits', 'heads', 'favors', 'surveys', 'coordinates', 'records', 'mentions', 'shows', 'gestures', 'aids', 'lapses', 'forces', 'transports', 'spans', 'phones', 'scales', 'traces', 'issues', 'demands', 'fits', 'photographs', 'hopes', 'lists', 'offers', 'says', 'banks', 'leads', 'rains', 'struggles', 'signals', 'searches', 'bores', 'crosses', 'knocks', 'lies', 'laughs', 'bargains', 'rebels', 'wants', 'casts', 'flags', 'starts', 'accounts', 'arches', 'rolls', 'blueprints', 'drinks', 'mirrors', 'flies', 'feeds', 'releases', 'tries', 'dislikes', 'piles', 'powers', 'bars', 'interests', 'tires', 'uses', 'hinges', 'contacts', 'tortures', 'treats', 'walks', 'loves', 'looms', 'files', 'guarantees', 'lags', 'projects', 'answers', 'turns', 'dreams', 'contracts', 'figures', 'censors', 'votes', 'bullies', 'regrets', 'lights', 'checks', 'leases', 'houses', 'protests', 'questions', 'handles', 'results', 'runs', 'excuses', 'rises', 'plots', 'shares', 'visits', 'needs', 'cuts', 'sticks', 'suits', 'orders', 'hits', 'touches', 'bulletins', 'urges', 'bubbles', 'factors', 'influences', 'tastes', 'sets', 'aims', 'graduates', 'remarks', 'scans', 'pushes', 'likes', 'hunts', 'glories', 'bangs', 'marks', 'weights', 'reaches', 'matches', 'parallels', 'stops', 'ends', 'captures', 'doubles', 'bugs', 'forms', 'counts', 'quarrels', 'views', 'charges', 'watches', 'sports', 'swoops', 'deserts', 'tests', 'splits', 'compresses', 'plays', 'means', 'commands', 'equals', 'respects', 'registers', 'catches', 'dances', 'cycles', 'fears', 'cares', 'concentrates', 'embraces', 'remains', 'centers', 'lines', 'pauses', 'finishes', 'claps', 'marches', 'snatches', 'dies', 'states', 'kicks', 'yields', 'shouts', 'stands', 'conflicts', 'exhibits', 'travels', 'stakes', 'fights', 'compounds', 'preserves', 'drives', 'ranks', 'meets', 'splashes', 'sanctions', 'supports', 'kills', 'clutches', 'smells', 'solos', 'blots', 'traps', 'contrasts', 'spies', 'shakes', 'merits', 'decrees', 'jumps', 'ranches', 'purges', 'holds', 'replies', 'appeals', 'delights', 'drops', 'clicks', 'regards', 'dictates', 'acts', 'reasons', 'rests', 'bites', 'benefits', 'credits', 'wins', 'totals', 'moderates', 'makes', 'blankets', 'rides', 'sparks', 'dashes', 'cries', 'levels', 'comments', 'vows', 'wonders', 'changes', 'exercises', 'deeds', 'breaks', 'pictures', 'winds', 'haunts', 'imports', 'thrusts', 'lifts', 'returns', 'raises', 'borders', 'names', 'places', 'hints', 'harbors', 'tops', 'lands', 'plans', 'snows', 'encounters', 'subjects', 'shifts', 'proceeds', 'leaps', 'purchases', 'outlines', 'notes', 'bristles', 'mounts', 'slips', 'escapes', 'dates', 'features', 'rallies', 'sketches', 'blows', 'matters', 'transfers', 'worries', 'attributes', 'toys', 'shocks', 'sponsors', 'passes', 'stretches', 'rings', 'lives', 'jokes', 'bellows', 'fields', 'fashions', 'caps', 'strikes', 'flourishes', 'clucks', 'increases', 'clouds', 'supplies', 'times', 'fishes', 'shapes', 'initiates', 'sums', 'honors', 'dwarfs', 'parades', 'reserves', 'extracts', 'rates', 'seals', 'challenges', 'upsets', 'guides', 'ranges', 'presses', 'estimates', 'displays', 'peers', 'speeds', 'labels', 'fans', 'bottles', 'works', 'picks', 'skins', 'misses', 'crops', 'declines', 'kisses', 'smiles', 'advances', 'fractures', 'desires', 'backs', 'presents', 'moves', 'bats', 'points', 'switches', 'towers', 'wrenches', 'plunges', 'mistakes', 'bodies', 'services', 'hauls', 'bows', 'talks', 'paints', 'values', 'terms', 'damages', 'falls', 'ties', 'attacks', 'lays', 'costs', 'springs', 'controls', 'deals', 'limits', 'burns', 'flows', 'experiences', 'trains', 'faces', 'dishes', 'helps', 'trusts', 'numbers', 'flares', 'signs', 'stresses', 'leaves', 'hates', 'skirts', 'requests', 'reviews', 'trades', 'belts', 'conducts', 'sounds', 'studies', 'rocks', 'concerns', 'decreases', 'courts', 'bends', 'stays', 'sneers', 'howls', 'associates', 'delays', 'drains', 'measures', 'knuckles', 'cracks', 'affects', 'promises', 'claims', 'attempts', 'champions', 'addresses', 'labors', 'amounts', 'spreads', 'looks', 'steps', 'keeps', 'sheds', 'assaults', 'butts', 'objects', 'snowballs', 'functions', 'rules', 'beats', 'stains', 'bases', 'kids', 'petitions', 'wishes', 'rushes'}"
     ]
    }
   ],
   "source": [
    "print(NNS_VBZ, end = '')"
   ]
  },
  {
   "cell_type": "markdown",
   "metadata": {},
   "source": [
    "*c. The instructions for this are somewhat misleading: in the Brown Corpus, determiners and articles have different tags.  Articles (such as 'the' in the example \"in the lab\") would be tagged `AT`, whereas determiners (such as this, some, these, etc...) would be tagged `DT|DTI|DTS`. In any case, there is no `DET` tag in the Brown Corpus. Either the authors are trying to be tricky, or were just careless when they composed this question.*"
   ]
  },
  {
   "cell_type": "code",
   "execution_count": 151,
   "metadata": {},
   "outputs": [],
   "source": [
    "three_word_pp = [(w1, w2, w3) for sent in brown.tagged_sents()\\\n",
    "                 for (w1, t1), (w2, t2), (w3, t3) in nltk.trigrams(sent)\\\n",
    "                 if t1.startswith('IN') and \\\n",
    "                 (t2.startswith('DT') or t2 == 'AT') and t3.startswith('NN')]"
   ]
  },
  {
   "cell_type": "code",
   "execution_count": 152,
   "metadata": {},
   "outputs": [
    {
     "name": "stdout",
     "output_type": "stream",
     "text": [
      "[('of', 'the', 'election'), ('of', 'the', 'City'), ('for', 'the', 'manner'), ('in', 'the', 'election'), ('of', 'this', 'city'), ('to', 'the', 'end'), ('on', 'a', 'number'), ('of', 'the', 'law'), ('at', 'the', 'State'), ('through', 'the', 'welfare'), ('in', 'the', 'state'), ('with', 'the', 'exception'), ('of', 'this', 'money'), ('of', 'these', 'funds'), ('in', 'the', 'future'), ('in', 'the', 'appointment'), ('in', 'a', 'manner'), ('of', 'the', 'concessionaires'), ('for', 'the', 'purpose'), ('at', 'the', 'jail'), ('for', 'the', 'mayor'), ('than', 'a', 'year'), ('on', 'the', 'petition'), ('from', 'the', 'audience'), ('for', 'a', 'state'), ('of', 'the', 'voters'), ('in', 'each', 'county'), ('under', 'the', 'county'), ('for', 'some', 'time'), ('of', 'the', 'highway'), ('of', 'the', 'number'), ('in', 'the', 'session'), ('to', 'the', 'state'), ('of', 'the', 'act'), ('with', 'a', 'battle'), ('in', 'the', 'Legislature'), ('against', 'the', 'issuance'), ('about', 'the', 'plans'), ('in', 'the', 'House'), ('on', 'the', 'increase'), ('of', 'the', 'action'), ('in', 'the', 'Senate'), ('by', 'a', 'vote'), ('of', 'a', 'resolution'), ('in', 'the', 'past'), ('in', 'a', 'privilege'), ('into', 'the', 'House'), ('in', 'the', 'event'), ('in', 'this', 'county'), ('with', 'a', 'pistol')]"
     ]
    }
   ],
   "source": [
    "print(three_word_pp[:50], end = '')"
   ]
  },
  {
   "cell_type": "markdown",
   "metadata": {},
   "source": [
    "*You could argue that authors meant we should use the `universal` tagset; but that doesn't have an `IN` tag or an `NN` tag.  We'd have to use respectively `ADP` and `NOUN`.  And this gives quite different results:*"
   ]
  },
  {
   "cell_type": "code",
   "execution_count": 196,
   "metadata": {},
   "outputs": [],
   "source": [
    "three_word_pp = [(w1, w2, w3) for sent in brown.tagged_sents(tagset = 'universal')\\\n",
    "                 for (w1, t1), (w2, t2), (w3, t3) in nltk.trigrams(sent)\\\n",
    "                 if t1 == 'ADP' and t2 == 'DET' and t3 == 'NOUN']"
   ]
  },
  {
   "cell_type": "code",
   "execution_count": 198,
   "metadata": {},
   "outputs": [
    {
     "name": "stdout",
     "output_type": "stream",
     "text": [
      "[('that', 'any', 'irregularities'), ('that', 'the', 'City'), ('of', 'the', 'election'), ('of', 'the', 'City'), ('for', 'the', 'manner'), ('in', 'the', 'election'), ('of', 'this', 'city'), ('to', 'the', 'end'), ('on', 'a', 'number'), ('of', 'both', 'governments')]"
     ]
    }
   ],
   "source": [
    "print(three_word_pp[:10], end = '')"
   ]
  },
  {
   "cell_type": "markdown",
   "metadata": {},
   "source": [
    "*d. First, we'll get a list of all the pronouns in the corpus.  There are quite a few (more than expected).  Then we'll manually pick out the masculine and feminine pronouns:*"
   ]
  },
  {
   "cell_type": "code",
   "execution_count": 167,
   "metadata": {},
   "outputs": [
    {
     "data": {
      "text/plain": [
       "[{\"'em\",\n",
       "  \"'emselves\",\n",
       "  \"'im\",\n",
       "  \"'tain't\",\n",
       "  \"'tis\",\n",
       "  'ah',\n",
       "  'ahm',\n",
       "  'dey',\n",
       "  'em',\n",
       "  \"h'all\",\n",
       "  'he',\n",
       "  \"he'd\",\n",
       "  \"he'll\",\n",
       "  \"he's\",\n",
       "  'her',\n",
       "  'hers',\n",
       "  'herself',\n",
       "  'him',\n",
       "  'himself',\n",
       "  'himselfe',\n",
       "  'hir',\n",
       "  'his',\n",
       "  'hisself',\n",
       "  'hym',\n",
       "  'hymselfe',\n",
       "  'hys',\n",
       "  'hytt',\n",
       "  'i',\n",
       "  \"i'd\",\n",
       "  \"i'll\",\n",
       "  \"i'm\",\n",
       "  \"i've\",\n",
       "  'it',\n",
       "  \"it'd\",\n",
       "  \"it'll\",\n",
       "  \"it's\",\n",
       "  'its',\n",
       "  'itself',\n",
       "  'mah',\n",
       "  'me',\n",
       "  'mee',\n",
       "  'mine',\n",
       "  'my',\n",
       "  'myn',\n",
       "  'myne',\n",
       "  'myself',\n",
       "  'oneself',\n",
       "  'our',\n",
       "  'ours',\n",
       "  'ourselves',\n",
       "  'out',\n",
       "  'ownself',\n",
       "  'she',\n",
       "  \"she'd\",\n",
       "  \"she'll\",\n",
       "  \"she's\",\n",
       "  'thay',\n",
       "  'thee',\n",
       "  'thei',\n",
       "  'their',\n",
       "  \"their's\",\n",
       "  'theirs',\n",
       "  'them',\n",
       "  'themselves',\n",
       "  'ther',\n",
       "  'they',\n",
       "  \"they'd\",\n",
       "  \"they'll\",\n",
       "  \"they're\",\n",
       "  \"they've\",\n",
       "  'thine',\n",
       "  'thou',\n",
       "  'thum',\n",
       "  'thy',\n",
       "  'u',\n",
       "  'um',\n",
       "  'us',\n",
       "  'we',\n",
       "  \"we'd\",\n",
       "  \"we'll\",\n",
       "  \"we're\",\n",
       "  \"we'uns\",\n",
       "  \"we've\",\n",
       "  'wee',\n",
       "  \"y'all\",\n",
       "  \"y'know\",\n",
       "  \"y'r\",\n",
       "  \"y're\",\n",
       "  'ya',\n",
       "  'ye',\n",
       "  \"ye're\",\n",
       "  'yore',\n",
       "  'you',\n",
       "  \"you'd\",\n",
       "  \"you'll\",\n",
       "  \"you're\",\n",
       "  \"you's\",\n",
       "  \"you'uns\",\n",
       "  \"you've\",\n",
       "  'your',\n",
       "  'yours',\n",
       "  'yourself',\n",
       "  'yourselves',\n",
       "  'yow',\n",
       "  'yuh'}]"
      ]
     },
     "execution_count": 167,
     "metadata": {},
     "output_type": "execute_result"
    }
   ],
   "source": [
    "[set(w.lower() for w,t in brown.tagged_words() if t.startswith('PP'))]"
   ]
  },
  {
   "cell_type": "code",
   "execution_count": 179,
   "metadata": {},
   "outputs": [],
   "source": [
    "m = [\"he'd\",  \"he'll\",  \"he's\",  \"'im\",  'he',  'him',  'himself',  'himselfe',  'his',  'hisself',  'hym',  'hymselfe',  'hys']\n",
    "f = [\"she'd\",  \"she'll\",  \"she's\",  'her',  'hers',  'herself',  'hir',  'she']"
   ]
  },
  {
   "cell_type": "markdown",
   "metadata": {},
   "source": [
    "*Using the ConditionalFreqDist from above, we can use the syntax below to calculate the number of occurrences for each pronoun:*"
   ]
  },
  {
   "cell_type": "code",
   "execution_count": 185,
   "metadata": {},
   "outputs": [
    {
     "data": {
      "text/plain": [
       "FreqDist({'PPS+MD': 28, 'PPS+HVD': 27})"
      ]
     },
     "execution_count": 185,
     "metadata": {},
     "output_type": "execute_result"
    }
   ],
   "source": [
    "cfd[\"she'd\"]"
   ]
  },
  {
   "cell_type": "code",
   "execution_count": 186,
   "metadata": {},
   "outputs": [
    {
     "data": {
      "text/plain": [
       "55"
      ]
     },
     "execution_count": 186,
     "metadata": {},
     "output_type": "execute_result"
    }
   ],
   "source": [
    "sum(cfd[\"she'd\"].values())"
   ]
  },
  {
   "cell_type": "code",
   "execution_count": 183,
   "metadata": {},
   "outputs": [],
   "source": [
    "m_values = sum([sum(cfd[mp].values()) for mp in m])\n",
    "f_values = sum([sum(cfd[fp].values()) for fp in f])"
   ]
  },
  {
   "cell_type": "markdown",
   "metadata": {},
   "source": [
    "*From this we can calculate that male pronouns are over three times as prevalent than female pronouns in the corpus:*"
   ]
  },
  {
   "cell_type": "code",
   "execution_count": 184,
   "metadata": {},
   "outputs": [
    {
     "data": {
      "text/plain": [
       "3.2378880759343485"
      ]
     },
     "execution_count": 184,
     "metadata": {},
     "output_type": "execute_result"
    }
   ],
   "source": [
    "m_values/f_values"
   ]
  },
  {
   "cell_type": "markdown",
   "metadata": {},
   "source": [
    "##### 21. \n",
    "\n",
    "◑ In [3.1](https://www.nltk.org/book/ch03.html#tab-absolutely) we saw a table involving frequency counts for the verbs *adore*, *love*, *like*, *prefer* and preceding qualifiers *absolutely* and *definitely*. Investigate the full range of adverbs that appear before these four verbs."
   ]
  },
  {
   "cell_type": "code",
   "execution_count": 202,
   "metadata": {},
   "outputs": [],
   "source": [
    "wtp = nltk.bigrams(brown.tagged_words())\n",
    "vp = sorted(set([a[0] for (a, b) in wtp if a[1].startswith('RB') and b[0] in\\\n",
    "     ('adore', 'love', 'like', 'prefer')]))"
   ]
  },
  {
   "cell_type": "code",
   "execution_count": 203,
   "metadata": {},
   "outputs": [
    {
     "name": "stdout",
     "output_type": "stream",
     "text": [
      "['Jist', 'Just', 'Kinda', 'More', 'abreast', 'almost', 'alone', 'always', 'around', 'by', 'close', 'dearly', 'deceptively', 'even', 'exactly', 'generally', 'gloriously', 'here', 'increasingly', 'jist', 'just', 'less', 'more', 'much', 'often', 'particularly', 'quick', 'rather', 'remarkably', 'roughly', 'simply', 'so', 'somewhat', 'spontaneously', 'sure', 'there', 'together', 'wildly', 'yet']"
     ]
    }
   ],
   "source": [
    "print(vp, end = '')"
   ]
  },
  {
   "cell_type": "markdown",
   "metadata": {},
   "source": [
    "##### 22.\n",
    "\n",
    "◑ We defined the `regexp_tagger` that can be used as a fall-back tagger for unknown words. This tagger only checks for cardinal numbers. By testing for particular prefix or suffix strings, it should be possible to guess other tags. For example, we could tag any word that ends with *-s* as a plural noun. Define a regular expression tagger (using `RegexpTagger()`) that tests for at least five other patterns in the spelling of words. (Use inline documentation to explain the rules.)\n",
    "\n",
    "*In section 4.2, we made a `regexp_tagger` that can do a lot more than just check for cardinal numbers.  I have to ask again if the person who authored this question bothered to read the chapter...*\n",
    "\n",
    "*As I mentioned in the notes for this chapter, using regular expressions as the main tagging method is not recommended, as there are so many exceptions.  But for the sake of practice:*\n"
   ]
  },
  {
   "cell_type": "code",
   "execution_count": 235,
   "metadata": {},
   "outputs": [],
   "source": [
    "# adapted from my notes for 4.2\n",
    "\n",
    "patterns = [\n",
    "    (r'.*ing$', 'VBG'),                      # gerunds \n",
    "    (r'.*ed$', 'VBD'),                       # simple past\n",
    "    (r'.*es$', 'VBZ'),                       # 3rd singular present\n",
    "    (r'.*ould$', 'MD'),                      # modals\n",
    "    (r'.\\'s$', 'NN$'),                       # possessive nouns\n",
    "    (r'.*s$', 'NNS'),                        # plural nouns\n",
    "    (r'^-?[0-9]+(\\.[0-9]+)?$', 'CD'),        # cardinal numbers\n",
    "    (r'.*ly$|.*wise', 'ADV'),                # adverbs\n",
    "    \n",
    "    # adjectives\n",
    "    (r'.*y$|.*ish$|.*ive$|.*[ai]ble$|.*ful$|.*ous$|.*less', 'JJ'),\n",
    "    \n",
    "    (r'^th.{1,3}|^an?$', 'DET'),             # determiners/articles \n",
    "    (r'[\\.,!\\?;:\\'\\\"\\(\\)\\[\\]``]', '.'),      # punctuation \n",
    "    (r'.*ate$|.*en$|.*fy$|.*i[sz]e$', 'VB'), # verbs, base form\n",
    "    (r'.*', 'NN')                            # nouns (default)\n",
    "]"
   ]
  },
  {
   "cell_type": "code",
   "execution_count": 236,
   "metadata": {},
   "outputs": [
    {
     "name": "stdout",
     "output_type": "stream",
     "text": [
      "[('``', '.'), ('Only', 'ADV'), ('a', 'DET'), ('relative', 'JJ'), ('handful', 'JJ'), ('of', 'NN'), ('such', 'NN'), ('reports', 'NNS'), ('was', 'NNS'), ('received', 'VBD'), (\"''\", '.'), (',', '.'), ('the', 'DET'), ('jury', 'JJ'), ('said', 'NN'), (',', '.'), ('``', '.'), ('considering', 'VBG'), ('the', 'DET'), ('widespread', 'NN'), ('interest', 'NN'), ('in', 'NN'), ('the', 'DET'), ('election', 'NN'), (',', '.'), ('the', 'DET'), ('number', 'NN'), ('of', 'NN'), ('voters', 'NNS'), ('and', 'NN'), ('the', 'DET'), ('size', 'VB'), ('of', 'NN'), ('this', 'NNS'), ('city', 'JJ'), (\"''\", '.'), ('.', '.')]"
     ]
    }
   ],
   "source": [
    "regexp_tagger = nltk.RegexpTagger(patterns)\n",
    "print(regexp_tagger.tag(brown.sents(categories = 'news')[3]), end = '')"
   ]
  },
  {
   "cell_type": "code",
   "execution_count": 237,
   "metadata": {},
   "outputs": [
    {
     "data": {
      "text/plain": [
       "0.23470970821648068"
      ]
     },
     "execution_count": 237,
     "metadata": {},
     "output_type": "execute_result"
    }
   ],
   "source": [
    "regexp_tagger.evaluate(brown.tagged_sents(categories = 'news'))"
   ]
  },
  {
   "cell_type": "markdown",
   "metadata": {},
   "source": [
    "*As I thought, the tagger didn't perform especially well.  For what it's worth, the one class of words with the most distinguishable suffixes is nouns; but since that's the default class, there's no point in crafting regular expressions to isolate them.*\n",
    "\n",
    "##### 23.\n",
    "\n",
    "◑ Consider the regular expression tagger developed in the exercises in the previous section. Evaluate the tagger using its `accuracy()` method, and try to come up with ways to improve its performance. Discuss your findings. How does objective evaluation help in the development process?\n",
    "\n",
    "*This question is very confusingly written.  By the previous section, do they mean the previous question?  Also, there is no `accuracy()` method for taggers: there is an `evaluate()` method, which uses the `accuracy()` method from nltk.metrics.  Furthermore, I think using regular expressions for tagging is extremely ineffective, as I have noted several times.  The only thing I want to add to this answer is that `evaluate()` does provide an objective metric that we can use to verify that one tagger is more effective than another, so we don't have to rely on hunches.*\n",
    "\n",
    "##### 24. \n",
    "\n",
    "◑ How serious is the sparse data problem? Investigate the performance of n-gram taggers as *n* increases from 1 to 6. Tabulate the accuracy score. Estimate the training data required for these taggers, assuming a vocabulary size of $10^5$ and a tagset size of $10^2$.\n",
    "\n",
    "*The maximum number of possible $n$-grams and possible tag combinations would increase exponentially with the increase in the size of $n$.  In most languages, rules of syntax prohibit a good number of possible combinations (e.g., in English an adjective can't precede an article, etc...); but in any case, the number of possible combinations is so large that we would almost surely never see the vast majority of possible $n$-grams.*\n",
    "\n",
    "\n",
    "| $n$ =  | Maximum Number of Possible n-grams | Maximum Number of Possible tag combinations |\n",
    "|:------:|:----------------------------------:|:-------------------------------------------:|\n",
    "|    1   |               $10^5$               |                    $10^2$                   |\n",
    "|    2   |               $10^{10}$              |                    $10^4$                   |\n",
    "|    3   |               $10^{15}$              |                    $10^6$                   |\n",
    "|    4   |               $10^{20}$              |                    $10^8$                   |\n",
    "|    5   |               $10^{25}$              |                   $10^{10}$                   |\n",
    "|    6   |               $10^{30}$              |                   $10^{12}$                   |\n",
    "\n",
    "*The authors haven't offered much guidance in the amount of training data needed for a tagger.  Usually, anywhere between 90% of the data is used for training and 10% for testing (70/20/10 if a cross-validation model is used to tune parameters), so one could argue that we would need a training set 90% of the size of the maximum number of possible $n$-grams.  However, [this paper](https://link.springer.com/content/pdf/10.1023/A:1007673816718.pdf \"A Machine Learning Approach to POS Tagging\") shows that tagger performance plateaus after seeing about 30-40% of the training data, so we could also argue that results would likely be comparable with significantly smaller corpora.*"
   ]
  },
  {
   "cell_type": "code",
   "execution_count": 258,
   "metadata": {},
   "outputs": [],
   "source": [
    "train_size = np.arange(0.1, 1, 0.1)\n",
    "perfs_uni = []\n",
    "\n",
    "for ts in train_size:\n",
    "    size = int(len(brown.tagged_sents()) * ts)\n",
    "    train_sents = brown.tagged_sents()[:size]\n",
    "    test_sents = brown.tagged_sents()[size:]\n",
    "    unigram_tagger = nltk.UnigramTagger(train_sents)\n",
    "    perfs_uni.append(unigram_tagger.evaluate(test_sents))"
   ]
  },
  {
   "cell_type": "code",
   "execution_count": 259,
   "metadata": {},
   "outputs": [],
   "source": [
    "perfs_bi = []\n",
    "\n",
    "for ts in train_size:\n",
    "    size = int(len(brown.tagged_sents()) * ts)\n",
    "    train_sents = brown.tagged_sents()[:size]\n",
    "    test_sents = brown.tagged_sents()[size:]\n",
    "    bigram_tagger = nltk.BigramTagger(train_sents)\n",
    "    perfs_bi.append(bigram_tagger.evaluate(test_sents))"
   ]
  },
  {
   "cell_type": "code",
   "execution_count": 261,
   "metadata": {},
   "outputs": [],
   "source": [
    "perfs_tri = []\n",
    "\n",
    "for ts in train_size:\n",
    "    size = int(len(brown.tagged_sents()) * ts)\n",
    "    train_sents = brown.tagged_sents()[:size]\n",
    "    test_sents = brown.tagged_sents()[size:]\n",
    "    trigram_tagger = nltk.TrigramTagger(train_sents)\n",
    "    perfs_tri.append(trigram_tagger.evaluate(test_sents))"
   ]
  },
  {
   "cell_type": "code",
   "execution_count": 265,
   "metadata": {},
   "outputs": [
    {
     "data": {
      "image/png": "[encoded data removed]",
      "text/plain": [
       "<Figure size 432x288 with 1 Axes>"
      ]
     },
     "metadata": {
      "needs_background": "light"
     },
     "output_type": "display_data"
    }
   ],
   "source": [
    "plt.plot(train_size, perfs_uni, '-bo', label = 'Unigram Tagger')\n",
    "plt.plot(train_size, perfs_bi, '--ro', label = 'Bigram Tagger')\n",
    "plt.plot(train_size, perfs_tri, ':go', label = 'Trigram Tagger')\n",
    "plt.title('$n$-gram Tagger Performance with Varying Training Set Size')\n",
    "plt.xlabel('Training Size as Proportion of Corpus')\n",
    "plt.ylabel('Performance')\n",
    "plt.legend(loc = 'best')\n",
    "plt.show()"
   ]
  },
  {
   "cell_type": "code",
   "execution_count": 252,
   "metadata": {},
   "outputs": [
    {
     "data": {
      "text/plain": [
       "0.8849353534083527"
      ]
     },
     "execution_count": 252,
     "metadata": {},
     "output_type": "execute_result"
    }
   ],
   "source": [
    "size = int(len(brown.tagged_sents()) * 0.9)\n",
    "train_sents = brown.tagged_sents()[:size]\n",
    "test_sents = brown.tagged_sents()[size:]\n",
    "\n",
    "unigram_tagger = nltk.UnigramTagger(train_sents)\n",
    "unigram_tagger.evaluate(test_sents)"
   ]
  },
  {
   "cell_type": "code",
   "execution_count": 243,
   "metadata": {},
   "outputs": [
    {
     "data": {
      "text/plain": [
       "0.3515747783994468"
      ]
     },
     "execution_count": 243,
     "metadata": {},
     "output_type": "execute_result"
    }
   ],
   "source": [
    "\n",
    "bigram_tagger = nltk.BigramTagger(train_sents)\n",
    "bigram_tagger.evaluate(test_sents)"
   ]
  },
  {
   "cell_type": "code",
   "execution_count": 246,
   "metadata": {},
   "outputs": [
    {
     "data": {
      "text/plain": [
       "0.07465857769049837"
      ]
     },
     "execution_count": 246,
     "metadata": {},
     "output_type": "execute_result"
    }
   ],
   "source": [
    "trigram_tagger = nltk.TrigramTagger(train_sents)\n",
    "trigram_tagger.evaluate(test_sents)"
   ]
  },
  {
   "cell_type": "code",
   "execution_count": 249,
   "metadata": {},
   "outputs": [
    {
     "data": {
      "text/plain": [
       "0.06585911806905244"
      ]
     },
     "execution_count": 249,
     "metadata": {},
     "output_type": "execute_result"
    }
   ],
   "source": [
    "four_gram_tagger = nltk.tag.sequential.NgramTagger(4, train_sents)\n",
    "four_gram_tagger.evaluate(test_sents)"
   ]
  },
  {
   "cell_type": "code",
   "execution_count": 250,
   "metadata": {},
   "outputs": [
    {
     "data": {
      "text/plain": [
       "0.0647269055137306"
      ]
     },
     "execution_count": 250,
     "metadata": {},
     "output_type": "execute_result"
    }
   ],
   "source": [
    "five_gram_tagger = nltk.tag.sequential.NgramTagger(5, train_sents)\n",
    "five_gram_tagger.evaluate(test_sents)"
   ]
  },
  {
   "cell_type": "code",
   "execution_count": 251,
   "metadata": {},
   "outputs": [
    {
     "data": {
      "text/plain": [
       "0.06463921926476526"
      ]
     },
     "execution_count": 251,
     "metadata": {},
     "output_type": "execute_result"
    }
   ],
   "source": [
    "six_gram_tagger = nltk.tag.sequential.NgramTagger(6, train_sents)\n",
    "six_gram_tagger.evaluate(test_sents)"
   ]
  },
  {
   "cell_type": "code",
   "execution_count": null,
   "metadata": {},
   "outputs": [],
   "source": []
  },
  {
   "cell_type": "code",
   "execution_count": null,
   "metadata": {},
   "outputs": [],
   "source": []
  },
  {
   "cell_type": "code",
   "execution_count": null,
   "metadata": {},
   "outputs": [],
   "source": []
  }
 ],
 "metadata": {
  "kernelspec": {
   "display_name": "Python 3",
   "language": "python",
   "name": "python3"
  },
  "language_info": {
   "codemirror_mode": {
    "name": "ipython",
    "version": 3
   },
   "file_extension": ".py",
   "mimetype": "text/x-python",
   "name": "python",
   "nbconvert_exporter": "python",
   "pygments_lexer": "ipython3",
   "version": "3.7.3"
  }
 },
 "nbformat": 4,
 "nbformat_minor": 2
}
