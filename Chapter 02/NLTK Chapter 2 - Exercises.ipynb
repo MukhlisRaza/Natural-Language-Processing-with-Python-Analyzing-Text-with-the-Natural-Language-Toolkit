{
 "cells": [
  {
   "cell_type": "markdown",
   "metadata": {},
   "source": [
    "# NLTK Chapter 1\n",
    "\n",
    "## Accessing Text Corpora and Lexical Resources\n",
    "\n",
    "*The html version of this chapter in the NLTK book is available [here](https://www.nltk.org/book/ch02.html#exercises \"Ch02 Exercises\").*\n",
    "\n",
    "### 8   Exercises\n",
    "\n",
    "###### 1. \n",
    "\n",
    "☼ Create a variable `phrase` containing a list of words. Review the operations described in the previous chapter, including addition, multiplication, indexing, slicing, and sorting.."
   ]
  },
  {
   "cell_type": "code",
   "execution_count": 3,
   "metadata": {},
   "outputs": [],
   "source": [
    "phrase1 = ['This', 'is', 'a', 'lovely', 'list', 'of', 'words.']\n",
    "phrase2 = ['As', 'is', 'this.']\n",
    "\n",
    "phrase1 + phrase2"
   ]
  },
  {
   "cell_type": "code",
   "execution_count": 6,
   "metadata": {},
   "outputs": [
    {
     "name": "stdout",
     "output_type": "stream",
     "text": [
      "['This', 'is', 'a', 'lovely', 'list', 'of', 'words.', 'This', 'is', 'a', 'lovely', 'list', 'of', 'words.', 'This', 'is', 'a', 'lovely', 'list', 'of', 'words.']"
     ]
    }
   ],
   "source": [
    "print(phrase1 * 3, end = '')"
   ]
  },
  {
   "cell_type": "code",
   "execution_count": 8,
   "metadata": {},
   "outputs": [
    {
     "data": {
      "text/plain": [
       "'words.'"
      ]
     },
     "execution_count": 8,
     "metadata": {},
     "output_type": "execute_result"
    }
   ],
   "source": [
    "phrase1[-1]"
   ]
  },
  {
   "cell_type": "code",
   "execution_count": 7,
   "metadata": {},
   "outputs": [
    {
     "data": {
      "text/plain": [
       "['a', 'lovely', 'list', 'of', 'words.']"
      ]
     },
     "execution_count": 7,
     "metadata": {},
     "output_type": "execute_result"
    }
   ],
   "source": [
    "phrase1[2:]"
   ]
  },
  {
   "cell_type": "code",
   "execution_count": 11,
   "metadata": {},
   "outputs": [
    {
     "data": {
      "text/plain": [
       "['As', 'This', 'a', 'is', 'is', 'list', 'lovely', 'of', 'this.', 'words.']"
      ]
     },
     "execution_count": 11,
     "metadata": {},
     "output_type": "execute_result"
    }
   ],
   "source": [
    "sorted(phrase1 + phrase2)"
   ]
  },
  {
   "cell_type": "markdown",
   "metadata": {},
   "source": [
    "###### 2.\n",
    "\n",
    "☼ Use the corpus module to explore `austen-persuasion.txt`. How many word tokens does this book have? How many word types?\n",
    "\n",
    "*As I discussed at length in my notes, I recommend removing non-alphabetic characters and enclitics:*"
   ]
  },
  {
   "cell_type": "code",
   "execution_count": 16,
   "metadata": {},
   "outputs": [
    {
     "data": {
      "text/plain": [
       "83617"
      ]
     },
     "execution_count": 16,
     "metadata": {},
     "output_type": "execute_result"
    }
   ],
   "source": [
    "from nltk.corpus import gutenberg\n",
    "\n",
    "austen = 'austen-persuasion.txt'\n",
    "enclitics = (\"d\", \"ll\", \"m\", \"re\", \"s\", \"t\", \"ve\")\n",
    "words = gutenberg.words(austen)\n",
    "\n",
    "# number of tokens\n",
    "num_tokens = len([w for w in words if w.isalpha() and w not in enclitics])\n",
    "\n",
    "num_tokens"
   ]
  },
  {
   "cell_type": "code",
   "execution_count": 17,
   "metadata": {},
   "outputs": [
    {
     "data": {
      "text/plain": [
       "6031"
      ]
     },
     "execution_count": 17,
     "metadata": {},
     "output_type": "execute_result"
    }
   ],
   "source": [
    "# number of word types\n",
    "num_wt = len(set([w for w in words if w.isalpha() and w not in enclitics]))\n",
    "num_wt"
   ]
  },
  {
   "cell_type": "markdown",
   "metadata": {},
   "source": [
    "*If we didn't bother with removing non-alphabetic characters and enclitics:*"
   ]
  },
  {
   "cell_type": "code",
   "execution_count": 18,
   "metadata": {},
   "outputs": [
    {
     "data": {
      "text/plain": [
       "98171"
      ]
     },
     "execution_count": 18,
     "metadata": {},
     "output_type": "execute_result"
    }
   ],
   "source": [
    "# number of tokens\n",
    "num_tokens = len([w for w in words])\n",
    "\n",
    "num_tokens"
   ]
  },
  {
   "cell_type": "code",
   "execution_count": 19,
   "metadata": {},
   "outputs": [
    {
     "data": {
      "text/plain": [
       "6132"
      ]
     },
     "execution_count": 19,
     "metadata": {},
     "output_type": "execute_result"
    }
   ],
   "source": [
    "# number of word types\n",
    "num_wt = len(set([w for w in words]))\n",
    "num_wt"
   ]
  },
  {
   "cell_type": "markdown",
   "metadata": {},
   "source": [
    "###### 3. \n",
    "\n",
    "☼ Use the Brown corpus reader `nltk.corpus.brown.words()` or the Web text corpus reader `nltk.corpus.webtext.words()` to access some sample text in two different genres.\n",
    "\n",
    "*The code below will randomly choose a category, and then randomly print five sentences from that category.*"
   ]
  },
  {
   "cell_type": "code",
   "execution_count": 105,
   "metadata": {},
   "outputs": [
    {
     "name": "stdout",
     "output_type": "stream",
     "text": [
      "[['The', 'radio', 'radiation', 'of', 'the', 'sun', 'which', 'is', 'reflected', 'from', 'the', 'moon', 'and', 'planets', 'should', 'be', 'negligible', 'compared', 'with', 'their', 'thermal', 'emission', 'at', 'centimeter', 'wave', 'lengths', ',', 'except', 'possibly', 'at', 'times', 'of', 'exceptional', 'outbursts', 'of', 'solar', 'radio', 'noise', '.'], ['The', 'quiescent', 'level', 'of', 'centimeter', 'wave-length', 'solar', 'radiation', 'would', 'increase', 'the', 'average', 'disk', 'brightness', 'temperature', 'by', 'less', 'than', '1-degree', '.'], ['At', 'meter', 'wave', 'lengths', 'an', 'increase', 'of', 'the', 'order', 'of', '10-degrees', 'in', 'the', 'average', 'disk', 'temperatures', 'of', 'the', 'nearer', 'planets', 'would', 'be', 'expected', '.'], ['Therefore', ',', 'neglecting', 'the', 'extreme', 'outbursts', ',', 'reflected', 'solar', 'radiation', 'is', 'not', 'expected', 'to', 'cause', 'sizable', 'errors', 'in', 'the', 'measurements', 'of', 'planetary', 'radiation', 'in', 'the', 'centimeter-', 'and', 'decimeter-wave-length', 'range', '.'], ['2', '.']]"
     ]
    }
   ],
   "source": [
    "from nltk.corpus import brown\n",
    "import random\n",
    "\n",
    "random_category = random.choice(brown.categories())\n",
    "random_place = random.randint(0, len(brown.sents(categories = random_category)) - 5)\n",
    "\n",
    "\n",
    "print(brown.sents(categories = random_category)[random_place:random_place + 5], end = '')"
   ]
  },
  {
   "cell_type": "markdown",
   "metadata": {},
   "source": [
    "*As you can see, the output doesn't look very nice.  We could try a list comprehension:*"
   ]
  },
  {
   "cell_type": "code",
   "execution_count": 106,
   "metadata": {},
   "outputs": [
    {
     "name": "stdout",
     "output_type": "stream",
     "text": [
      "[['The', 'radio', 'radiation', 'of', 'the', 'sun', 'which', 'is', 'reflected', 'from', 'the', 'moon', 'and', 'planets', 'should', 'be', 'negligible', 'compared', 'with', 'their', 'thermal', 'emission', 'at', 'centimeter', 'wave', 'lengths', ',', 'except', 'possibly', 'at', 'times', 'of', 'exceptional', 'outbursts', 'of', 'solar', 'radio', 'noise', '.'], ['The', 'quiescent', 'level', 'of', 'centimeter', 'wave-length', 'solar', 'radiation', 'would', 'increase', 'the', 'average', 'disk', 'brightness', 'temperature', 'by', 'less', 'than', '1-degree', '.'], ['At', 'meter', 'wave', 'lengths', 'an', 'increase', 'of', 'the', 'order', 'of', '10-degrees', 'in', 'the', 'average', 'disk', 'temperatures', 'of', 'the', 'nearer', 'planets', 'would', 'be', 'expected', '.'], ['Therefore', ',', 'neglecting', 'the', 'extreme', 'outbursts', ',', 'reflected', 'solar', 'radiation', 'is', 'not', 'expected', 'to', 'cause', 'sizable', 'errors', 'in', 'the', 'measurements', 'of', 'planetary', 'radiation', 'in', 'the', 'centimeter-', 'and', 'decimeter-wave-length', 'range', '.'], ['2', '.']]"
     ]
    }
   ],
   "source": [
    "print([w for w in brown.sents(categories = random_category)[random_place:random_place + 5]], end = '')"
   ]
  },
  {
   "cell_type": "markdown",
   "metadata": {},
   "source": [
    "*That doesn't help much.  I seem to recall having this problem in Chapter 1, so I believe I'll place the code I used into a function.  Before we do that, we'll use list comprehension to get a list of punctuation saved as word types in the Brown Corpus.*"
   ]
  },
  {
   "cell_type": "code",
   "execution_count": 151,
   "metadata": {},
   "outputs": [
    {
     "data": {
      "text/plain": [
       "['!', '&', \"'\", '(', ')', '+', ',', '-', '.', '/', ':', ';', '?', '[', ']']"
      ]
     },
     "execution_count": 151,
     "metadata": {},
     "output_type": "execute_result"
    }
   ],
   "source": [
    "non_alpha = sorted(set([y for y in [c for w in brown.sents() for c in w if len(c) == 1] if not y.isalnum()]))\n",
    "\n",
    "non_alpha"
   ]
  },
  {
   "cell_type": "code",
   "execution_count": 179,
   "metadata": {},
   "outputs": [],
   "source": [
    "def convert_list_to_text(l, exclude = []):\n",
    "    full_sent = \"\"\n",
    "    alpha_text = []\n",
    "    \n",
    "    for i in range(len(l)):\n",
    "\n",
    "        if l[i] not in exclude:\n",
    "            alpha_text.append(l[i])\n",
    "        \n",
    "        # Don't need spaces after brackets\n",
    "        elif l[i] == \"(\" or l[i] == \"[\" or l[i] == \"&\" or l[i] == \"`\":\n",
    "            full_sent += (' '.join(alpha_text) + ' ' + l[i])\n",
    "            alpha_text = []\n",
    "\n",
    "        # May need spaces after brackets\n",
    "        elif l[i] == \")\" or l[i] == \"]\":\n",
    "            # Need spaces if the next item is a word\n",
    "            if i + 1 < len(l):\n",
    "                if l[i + 1] not in exclude:\n",
    "                    full_sent += (' '.join(alpha_text) + l[i] + ' ')\n",
    "            # Don't need spaces before punctuation\n",
    "            else:\n",
    "                full_sent += (' '.join(alpha_text) + l[i])\n",
    "                alpha_text = []\n",
    "        else:\n",
    "            full_sent += (' '.join(alpha_text) + l[i] + ' ')\n",
    "            alpha_text = []\n",
    "\n",
    "    return full_sent"
   ]
  },
  {
   "cell_type": "code",
   "execution_count": 162,
   "metadata": {},
   "outputs": [
    {
     "name": "stdout",
     "output_type": "stream",
     "text": [
      "`` It doesn't drown out the dialogue '', I explained. `` Let's talk about books '', Moreland said. `` I am told that in America you have non-books by non-writers, brought out by non-publishers for non-readers. Is it all non-fiction ''? ? `` There is non-fiction and non non-fiction '', I said. \n"
     ]
    }
   ],
   "source": [
    "text = [w for w in brown.sents(categories = random_category)[random_place:random_place + 5]]\n",
    "\n",
    "full_text = []\n",
    "for t in text:\n",
    "    full_text.append(convert_list_to_text(t, non_alpha))\n",
    "print(''.join(full_text))"
   ]
  },
  {
   "cell_type": "markdown",
   "metadata": {},
   "source": [
    "*It's not perfect, but it looks much better than it did.  Let's try it again with another random text:*"
   ]
  },
  {
   "cell_type": "code",
   "execution_count": 186,
   "metadata": {},
   "outputs": [
    {
     "name": "stdout",
     "output_type": "stream",
     "text": [
      "The daughter replied, `` Oh, I had dinner with -- well, you don't know him but he's awfully nice -- and we went to a couple of places -- I don't suppose you've heard of them -- and we finished up at a cute little night club -- I forget the name of it. Why, it's all right, isn't it, Mother ''? ? Her woolly-minded parent agreed. `` Of course, dear '', she said. `` It's only that I like to know where you go ''. \n"
     ]
    }
   ],
   "source": [
    "random_category = random.choice(brown.categories())\n",
    "random_place = random.randint(0, len(brown.sents(categories = random_category)) - 5)\n",
    "\n",
    "text = [w for w in brown.sents(categories = random_category)[random_place:random_place + 5]]\n",
    "\n",
    "full_text = []\n",
    "for t in text:\n",
    "    full_text.append(convert_list_to_text(t, non_alpha))\n",
    "print(''.join(full_text))"
   ]
  },
  {
   "cell_type": "markdown",
   "metadata": {},
   "source": [
    "*There are still some issues with spaces being inserted before and after quotation marks.  I'll have to come back to this later, as I've already spent too much time on this question...*"
   ]
  },
  {
   "cell_type": "markdown",
   "metadata": {},
   "source": [
    "###### 4.\n",
    "☼ Read in the texts of the State of the Union addresses, using the `state_union` corpus reader. Count occurrences of `men`, `women`, and `people` in each document. What has happened to the usage of these words over time?"
   ]
  },
  {
   "cell_type": "code",
   "execution_count": 103,
   "metadata": {},
   "outputs": [],
   "source": [
    "import nltk\n",
    "%matplotlib inline\n",
    "from nltk.corpus import state_union"
   ]
  },
  {
   "cell_type": "code",
   "execution_count": 192,
   "metadata": {},
   "outputs": [],
   "source": [
    "cfd = nltk.ConditionalFreqDist(\n",
    "        (target, fileid[:4])\n",
    "        for fileid in state_union.fileids()\n",
    "        for w in state_union.words(fileid)\n",
    "        for target in ['men', 'women', 'people']\n",
    "        if w.lower().startswith(target))"
   ]
  },
  {
   "cell_type": "markdown",
   "metadata": {},
   "source": [
    "*There are too many documents here for us to put them in a table that will fit across the screen:*"
   ]
  },
  {
   "cell_type": "code",
   "execution_count": 215,
   "metadata": {},
   "outputs": [
    {
     "data": {
      "text/plain": [
       "65"
      ]
     },
     "execution_count": 215,
     "metadata": {},
     "output_type": "execute_result"
    }
   ],
   "source": [
    "\n",
    "len(state_union.fileids())"
   ]
  },
  {
   "cell_type": "markdown",
   "metadata": {},
   "source": [
    "*One option to deal with this is to use a sampling of one State of the Union from every four years.  This way, there will be approximately one address for each presidential term:*"
   ]
  },
  {
   "cell_type": "code",
   "execution_count": 214,
   "metadata": {},
   "outputs": [
    {
     "name": "stdout",
     "output_type": "stream",
     "text": [
      "       1945 1949 1953 1957 1961 1965 1969 1973 1977 1981 1985 1989 1993 1997 2001 2005 \n",
      "   men    2    2    5    7    6   22    5    1    2    3    1    4    1    1    6    8 \n",
      " women    2    1    0    2    0    3    2    0    1    1    1    3    2    2    6   11 \n",
      "people   10   18   20   17   13   30    6   10   20   11   12   13   45   31   27   18 \n"
     ]
    }
   ],
   "source": [
    "years = range(1945, 2007, 4)\n",
    "cfd.tabulate(samples = [str(y) for y in years], conditions = ['men', 'women', 'people'])"
   ]
  },
  {
   "cell_type": "markdown",
   "metadata": {},
   "source": [
    "*Another option is to use a plot instead of a table:*"
   ]
  },
  {
   "cell_type": "code",
   "execution_count": 198,
   "metadata": {},
   "outputs": [
    {
     "data": {
      "image/png": "[encoded data removed]",
      "text/plain": [
       "<Figure size 1080x720 with 1 Axes>"
      ]
     },
     "metadata": {
      "needs_background": "light"
     },
     "output_type": "display_data"
    }
   ],
   "source": [
    "# to adjust the size of the plot\n",
    "import matplotlib.pyplot as plt\n",
    "\n",
    "plt.figure(figsize=(15, 10))\n",
    "cfd.plot();"
   ]
  },
  {
   "cell_type": "markdown",
   "metadata": {},
   "source": [
    "###### 5.\n",
    "\n",
    "☼ Investigate the holonym-meronym relations for some nouns. Remember that there are three kinds of holonym-meronym relation, so you need to use: `member_meronyms()`, `part_meronyms()`, `substance_meronyms()`, `member_holonyms()`, `part_holonyms()`, and `substance_holonyms()`.\n",
    "\n",
    "*As I mentioned in my notes for Chapter 2, I've found WordNet to be quite difficult to navigate.  The work that I've done on this unit has done nothing to convince me otherwise.  In addition to being difficult to use, I'm finding WordNet rather incomplete.  Let me take 'school' as an example.  Since I'm not sure which synset corresponds to the traditional meaning of 'school', I'll look up the definitions.*"
   ]
  },
  {
   "cell_type": "code",
   "execution_count": 197,
   "metadata": {},
   "outputs": [],
   "source": [
    "from nltk.corpus import wordnet as wn"
   ]
  },
  {
   "cell_type": "code",
   "execution_count": 234,
   "metadata": {},
   "outputs": [
    {
     "data": {
      "text/plain": [
       "['an educational institution',\n",
       " 'a building where young people receive education',\n",
       " 'the process of being formally educated at a school',\n",
       " 'a body of creative artists or writers or thinkers linked by a similar style or by similar teachers',\n",
       " 'the period of instruction in a school; the time period when school is in session',\n",
       " \"an educational institution's faculty and students\",\n",
       " 'a large group of fish',\n",
       " 'educate in or as if in a school',\n",
       " 'teach or refine to be discriminative in taste or judgment',\n",
       " 'swim in or form a large group of fish']"
      ]
     },
     "execution_count": 234,
     "metadata": {},
     "output_type": "execute_result"
    }
   ],
   "source": [
    "[s.definition() for s in wn.synsets('school')]"
   ]
  },
  {
   "cell_type": "code",
   "execution_count": 244,
   "metadata": {},
   "outputs": [
    {
     "data": {
      "text/plain": [
       "[Synset('schoolteacher.n.01'), Synset('staff.n.03')]"
      ]
     },
     "execution_count": 244,
     "metadata": {},
     "output_type": "execute_result"
    }
   ],
   "source": [
    "wn.synset('school.n.01').member_meronyms()"
   ]
  },
  {
   "cell_type": "markdown",
   "metadata": {},
   "source": [
    "*Of course, a school needs teachers, as well as staff.  But doesn't it seem odd that it's lacking students?  Let's try another example: 'team'.*"
   ]
  },
  {
   "cell_type": "code",
   "execution_count": 242,
   "metadata": {},
   "outputs": [
    {
     "data": {
      "text/plain": [
       "['a cooperative unit (especially in sports)',\n",
       " 'two or more draft animals that work together to pull something',\n",
       " 'form a team']"
      ]
     },
     "execution_count": 242,
     "metadata": {},
     "output_type": "execute_result"
    }
   ],
   "source": [
    "[s.definition() for s in wn.synsets('team')]"
   ]
  },
  {
   "cell_type": "code",
   "execution_count": 241,
   "metadata": {},
   "outputs": [
    {
     "data": {
      "text/plain": [
       "[Synset('stringer.n.01')]"
      ]
     },
     "execution_count": 241,
     "metadata": {},
     "output_type": "execute_result"
    }
   ],
   "source": [
    "wn.synset('team.n.01').member_meronyms()"
   ]
  },
  {
   "cell_type": "markdown",
   "metadata": {},
   "source": [
    "*So, \"stringer\"s are more essential to teams than players?  Interesting...*"
   ]
  },
  {
   "cell_type": "code",
   "execution_count": 243,
   "metadata": {},
   "outputs": [
    {
     "data": {
      "text/plain": [
       "[Synset('bench.n.06')]"
      ]
     },
     "execution_count": 243,
     "metadata": {},
     "output_type": "execute_result"
    }
   ],
   "source": [
    "wn.synset('team.n.01').part_meronyms()"
   ]
  },
  {
   "cell_type": "code",
   "execution_count": 237,
   "metadata": {},
   "outputs": [
    {
     "data": {
      "text/plain": [
       "[Synset('classroom.n.01')]"
      ]
     },
     "execution_count": 237,
     "metadata": {},
     "output_type": "execute_result"
    }
   ],
   "source": [
    "wn.synset('school.n.02').part_meronyms()"
   ]
  },
  {
   "cell_type": "markdown",
   "metadata": {},
   "source": [
    "*I'm not too surprised that 'school's and 'team's don't have substances, but it was rather difficult to come up with non-chemical examples.*"
   ]
  },
  {
   "cell_type": "code",
   "execution_count": 240,
   "metadata": {},
   "outputs": [
    {
     "data": {
      "text/plain": [
       "[Synset('hydrogen.n.01'), Synset('oxygen.n.01')]"
      ]
     },
     "execution_count": 240,
     "metadata": {},
     "output_type": "execute_result"
    }
   ],
   "source": [
    "wn.synset('water.n.01').substance_meronyms()"
   ]
  },
  {
   "cell_type": "markdown",
   "metadata": {},
   "source": [
    "*Blood is made from serum?  Fascinating...*"
   ]
  },
  {
   "cell_type": "code",
   "execution_count": 250,
   "metadata": {},
   "outputs": [
    {
     "data": {
      "text/plain": [
       "[Synset('serum.n.01')]"
      ]
     },
     "execution_count": 250,
     "metadata": {},
     "output_type": "execute_result"
    }
   ],
   "source": [
    "wn.synset('blood.n.01').substance_meronyms()"
   ]
  },
  {
   "cell_type": "markdown",
   "metadata": {},
   "source": [
    "*Let's go the other way and see if we have more luck:*"
   ]
  },
  {
   "cell_type": "code",
   "execution_count": 251,
   "metadata": {},
   "outputs": [
    {
     "data": {
      "text/plain": [
       "['a person who participates in or is skilled at some game',\n",
       " 'someone who plays a musical instrument (as a profession)',\n",
       " 'a theatrical performer',\n",
       " 'a person who pursues a number of different social and sexual partners simultaneously',\n",
       " 'an important participant (as in a business deal)']"
      ]
     },
     "execution_count": 251,
     "metadata": {},
     "output_type": "execute_result"
    }
   ],
   "source": [
    "[s.definition() for s in wn.synsets('player')]"
   ]
  },
  {
   "cell_type": "code",
   "execution_count": 253,
   "metadata": {},
   "outputs": [
    {
     "data": {
      "text/plain": [
       "[]"
      ]
     },
     "execution_count": 253,
     "metadata": {},
     "output_type": "execute_result"
    }
   ],
   "source": [
    "wn.synset('player.n.01').member_holonyms()"
   ]
  },
  {
   "cell_type": "code",
   "execution_count": 257,
   "metadata": {},
   "outputs": [
    {
     "data": {
      "text/plain": [
       "[]"
      ]
     },
     "execution_count": 257,
     "metadata": {},
     "output_type": "execute_result"
    }
   ],
   "source": [
    "wn.synset('player.n.01').part_holonyms()"
   ]
  },
  {
   "cell_type": "markdown",
   "metadata": {},
   "source": [
    "*Interesting - let's see if `member` is a member of any holonyms:*"
   ]
  },
  {
   "cell_type": "code",
   "execution_count": 254,
   "metadata": {},
   "outputs": [
    {
     "data": {
      "text/plain": [
       "['one of the persons who compose a social group (especially individuals who have joined and participate in a group organization)',\n",
       " 'anything that belongs to a set or class',\n",
       " 'an external body part that projects from the body',\n",
       " 'an organization that is a member of another organization (especially a state that belongs to a group of nations)',\n",
       " \"the male organ of copulation (`member' is a euphemism)\"]"
      ]
     },
     "execution_count": 254,
     "metadata": {},
     "output_type": "execute_result"
    }
   ],
   "source": [
    "[s.definition() for s in wn.synsets('member')]"
   ]
  },
  {
   "cell_type": "code",
   "execution_count": 255,
   "metadata": {},
   "outputs": [
    {
     "data": {
      "text/plain": [
       "[]"
      ]
     },
     "execution_count": 255,
     "metadata": {},
     "output_type": "execute_result"
    }
   ],
   "source": [
    "wn.synset('member.n.01').member_holonyms()"
   ]
  },
  {
   "cell_type": "code",
   "execution_count": 256,
   "metadata": {},
   "outputs": [
    {
     "data": {
      "text/plain": [
       "[]"
      ]
     },
     "execution_count": 256,
     "metadata": {},
     "output_type": "execute_result"
    }
   ],
   "source": [
    "wn.synset('member.n.01').part_holonyms()"
   ]
  },
  {
   "cell_type": "markdown",
   "metadata": {},
   "source": [
    "*Amazing.  The maintainers of WordNet found it necessary to remark that 'member' can be slang for a penis, but not that 'member' can be, well, a member of anything.*\n",
    "\n",
    "*Let's keep on trying.  After about five tries, I finally found a word that had a `part_holonym`:*"
   ]
  },
  {
   "cell_type": "code",
   "execution_count": 266,
   "metadata": {},
   "outputs": [
    {
     "data": {
      "text/plain": [
       "[Synset('angel.n.01'),\n",
       " Synset('bat.n.01'),\n",
       " Synset('bird.n.01'),\n",
       " Synset('insect.n.01')]"
      ]
     },
     "execution_count": 266,
     "metadata": {},
     "output_type": "execute_result"
    }
   ],
   "source": [
    "wn.synset('wing.n.01').part_holonyms()"
   ]
  },
  {
   "cell_type": "markdown",
   "metadata": {},
   "source": [
    "*Likewise, I needed about five tries to find a word that had a `member_holonym`:*"
   ]
  },
  {
   "cell_type": "code",
   "execution_count": 278,
   "metadata": {},
   "outputs": [
    {
     "data": {
      "text/plain": [
       "[Synset('animalia.n.01')]"
      ]
     },
     "execution_count": 278,
     "metadata": {},
     "output_type": "execute_result"
    }
   ],
   "source": [
    "wn.synset('animal.n.01').member_holonyms()"
   ]
  },
  {
   "cell_type": "code",
   "execution_count": 280,
   "metadata": {},
   "outputs": [
    {
     "data": {
      "text/plain": [
       "[Synset('aves.n.01'), Synset('flock.n.02')]"
      ]
     },
     "execution_count": 280,
     "metadata": {},
     "output_type": "execute_result"
    }
   ],
   "source": [
    "wn.synset('bird.n.01').member_holonyms()"
   ]
  },
  {
   "cell_type": "markdown",
   "metadata": {},
   "source": [
    "*But it was easier to find a __substance holonym__ than __substance meronym__.*"
   ]
  },
  {
   "cell_type": "code",
   "execution_count": 281,
   "metadata": {},
   "outputs": [
    {
     "data": {
      "text/plain": [
       "[Synset('body_of_water.n.01'),\n",
       " Synset('ice.n.01'),\n",
       " Synset('ice_crystal.n.01'),\n",
       " Synset('perspiration.n.01'),\n",
       " Synset('snowflake.n.01'),\n",
       " Synset('tear.n.01')]"
      ]
     },
     "execution_count": 281,
     "metadata": {},
     "output_type": "execute_result"
    }
   ],
   "source": [
    "wn.synset('water.n.01').substance_holonyms()"
   ]
  },
  {
   "cell_type": "markdown",
   "metadata": {},
   "source": [
    "*My feelings from earlier are if anything stronger than before: WordNet is too incomplete and too inconsistent to be of any practical use.*"
   ]
  },
  {
   "cell_type": "markdown",
   "metadata": {},
   "source": [
    "###### 6.\n",
    "\n",
    "☼ In the discussion of comparative wordlists, we created an object called `translate` which you could look up using words in both German and Spanish in order to get corresponding words in English. What problem might arise with this approach? Can you suggest a way to avoid this problem?\n",
    "\n",
    "*One issue might be homographs with different meanings.  I.e., a word that is spelled the same in both languages, but has different meanings.  A possible fix would be to add a second parameter to `translate` which would specify from which dictionary the translation should be drawn.*"
   ]
  },
  {
   "cell_type": "markdown",
   "metadata": {},
   "source": [
    "###### 7. \n",
    "\n",
    "☼ According to Strunk and White's Elements of Style, the word however, used at the start of a sentence, means \"in whatever way\" or \"to whatever extent\", and not \"nevertheless\". They give this example of correct usage: <i>[However you advise him, he will probably do as he thinks best.]( http://www.bartleby.com/141/strunk3.html \"'However' example\")</i> Use the concordance tool to study actual usage of this word in the various texts we have been considering. See also [the LanguageLog posting \"Fossilized prejudices about 'however'\"](http://itre.cis.upenn.edu/~myl/languagelog/archives/001913.html \"Fossilized prejudices about 'however'\").\n",
    "\n",
    "*One issue with NLTK's concordance tool is that it doesn't allow us to specify where in the sentence the word should be found.  In the first 25 occurences of 'however' in \"Emma\", only three occur at the start of a sentence:*"
   ]
  },
  {
   "cell_type": "code",
   "execution_count": 101,
   "metadata": {},
   "outputs": [
    {
     "name": "stdout",
     "output_type": "stream",
     "text": [
      "Displaying 25 of 131 matches:\n",
      " her many enjoyments . The danger , however , was at present so unperceived , t\n",
      "ion would offend . Miss Churchill , however , being of age , and with the full \n",
      "n . From the expense of the child , however , he was soon relieved . The boy ha\n",
      " -- and been very well brought up . However , I do not mean to set up my opinio\n",
      "f and predict . It was not likely , however , that any body should have equalle\n",
      "to be borne . We will not despair , however . Weston may grow cross from the wa\n",
      "is so very handsome and agreeable . However , I do really think Mr . Martin a v\n",
      " accepted after all . This letter , however , was written , and sealed , and se\n",
      "e him .\" \" And if I did , ( which , however , I am far from allowing ) I should\n",
      " slightingly . Waiving that point , however , and supposing her to be , as you \n",
      "e was not so materially cast down , however , but that a little time and the re\n",
      "ld inspire him .\" The very next day however produced some proof of inspiration \n",
      "and staid to look through herself ; however , she called me back presently , an\n",
      "t turn up . His ostensible reason , however , was to ask whether Mr . Woodhouse\n",
      "l and cross . This does not apply , however , to Miss Bates ; she is only too g\n",
      "and sufferings of the poor family , however , were the first subject on meeting\n",
      "ting for her . She gained on them , however , involuntarily : the child ' s pac\n",
      "ould close it . It was not closed , however , it still remained ajar ; but by e\n",
      " believes himself secure .\" Still , however , though every thing had not been a\n",
      "ght advance rapidly if they would , however ; they must advance somehow or othe\n",
      " offence came not . The beginning , however , of every visit displayed none but\n",
      "eed !-- and my memory is very bad . However , it was an exceeding good , pretty\n",
      "first day . Emma ' s sense of right however had decided it ; and besides the co\n",
      "le fatigued . I could have wished , however , as you know , that you had seen M\n",
      "\" Our little friend Harriet Smith , however , is just such another pretty kind \n"
     ]
    }
   ],
   "source": [
    "emma = nltk.Text(nltk.corpus.gutenberg.words('austen-emma.txt'))\n",
    "emma.concordance(\"However\")"
   ]
  },
  {
   "cell_type": "markdown",
   "metadata": {},
   "source": [
    "*To remedy this, I wrote this code, which prints out concordances only if a given word occurs at a specific point in a sentence:*"
   ]
  },
  {
   "cell_type": "code",
   "execution_count": 91,
   "metadata": {},
   "outputs": [],
   "source": [
    "def find_concordance_by_position(text, word, pos = 0):\n",
    "    \"\"\"\n",
    "    Returns a concordance for a text only if the word is\n",
    "    found at the given position.  Works on lists where each\n",
    "    item is a separate sentence.\n",
    "    \n",
    "    Arguments:\n",
    "    \n",
    "    text: The text to be searched.  Must be a list where\n",
    "          each item is a separate sentence.\n",
    "    word: The word to be searched for.  Case insensitive.\n",
    "    pos:  The position where the word should be found.  \n",
    "          Default is 0.\n",
    "    \"\"\"\n",
    "    hits = 0\n",
    "    \n",
    "    for i in range(len(text)):\n",
    "        if text[i][pos].lower() == word:\n",
    "            prefix = text[i - 1]\n",
    "            prefix = ' '.join(prefix)\n",
    "            if len(prefix) < 35:\n",
    "                prefix = (35 - len(prefix)) * \" \" + prefix\n",
    "            suffix = text[i]\n",
    "            suffix = ' '.join(suffix)\n",
    "            print(prefix[-35:] + \" \" + suffix[:40])\n",
    "            hits += 1\n",
    "            \n",
    "    if hits == 0:\n",
    "        print(\"No matches.\")"
   ]
  },
  {
   "cell_type": "code",
   "execution_count": 85,
   "metadata": {},
   "outputs": [
    {
     "name": "stdout",
     "output_type": "stream",
     "text": [
      " -- and been very well brought up . However , I do not mean to set up my opi\n",
      "is so very handsome and agreeable . However , I do really think Mr . Martin \n",
      "eed !-- and my memory is very bad . However , it was an exceeding good , pre\n",
      "          Jane speaks so distinct ! However , she will not find her grandmam\n",
      "inctly , and was sadly alarmed at . However , when I read on , I found it wa\n",
      "hough she speaks rather too quick . However , she is very agreeable , and Mr\n",
      "at I would not expose any body to . However , as they are so very desirous t\n",
      "ar , I did say as much as I could . However , the very same evening William \n",
      "m often astonished at what I hear . However , this does make a difference ; \n",
      "aks like you and poor Miss Taylor . However , she seems a very obliging , pr\n",
      "emed very much to have enjoyed it . However , _I_ shall always think it a ve\n",
      "t least , but I might be mistaken . However , I think it answered so far as \n"
     ]
    }
   ],
   "source": [
    "find_concordance_by_position(nltk.corpus.gutenberg.sents('austen-emma.txt'), \"however\", 0)"
   ]
  },
  {
   "cell_type": "markdown",
   "metadata": {},
   "source": [
    "*Older texts seem to use the word very infrequently, if at all:*"
   ]
  },
  {
   "cell_type": "code",
   "execution_count": 87,
   "metadata": {},
   "outputs": [
    {
     "name": "stdout",
     "output_type": "stream",
     "text": [
      "f scorn , not to be given the Foe . However I with thee have fixed my lot , \n",
      "pride , and joy , for Man seduced . However , some tradition they dispersed \n"
     ]
    }
   ],
   "source": [
    "find_concordance_by_position(nltk.corpus.gutenberg.sents('milton-paradise.txt'), 'however', 0)"
   ]
  },
  {
   "cell_type": "code",
   "execution_count": 92,
   "metadata": {},
   "outputs": [
    {
     "name": "stdout",
     "output_type": "stream",
     "text": [
      "No matches.\n"
     ]
    }
   ],
   "source": [
    "find_concordance_by_position(nltk.corpus.gutenberg.sents('bible-kjv.txt'), 'however', 0)\n"
   ]
  },
  {
   "cell_type": "code",
   "execution_count": 93,
   "metadata": {},
   "outputs": [
    {
     "name": "stdout",
     "output_type": "stream",
     "text": [
      "No matches.\n"
     ]
    }
   ],
   "source": [
    "find_concordance_by_position(nltk.corpus.gutenberg.sents('shakespeare-hamlet.txt'), 'however', 0)\n"
   ]
  },
  {
   "cell_type": "markdown",
   "metadata": {},
   "source": [
    "*Now I'm going to look at the Brown Corpus, category by category;*"
   ]
  },
  {
   "cell_type": "code",
   "execution_count": 99,
   "metadata": {},
   "outputs": [
    {
     "name": "stdout",
     "output_type": "stream",
     "text": [
      "Now analyzing adventure: \n",
      "\n",
      "ything but swarms of bees in them . However , when there's a job to be done \n",
      "\n",
      "\n",
      "Now analyzing belles_lettres: \n",
      "\n",
      "til well into the present century . However , in recent decades , for what d\n",
      "absolutely certain of the answers . However , the system is designed , ingen\n",
      "called `` historical monuments '' . However , just as all the buildings have\n",
      "st and had even performed as such . However , when he assumed the duties of \n",
      " dictates as faithfully as he can . However , there is always the possibilit\n",
      "easurable properties of a command . However , for convenience we will stick \n",
      " physiognomy of the Little People . However , it is important to trace the p\n",
      "iritual forces into the situation . However , the crisis occurs precisely as\n",
      "n that sense I can never be again . However , I confess my hope that I will \n",
      "may , like paradise , be regained . However , it was not of innocence in gen\n",
      "mind and usage of Gentile and Jew . However , in the context of legal and ci\n",
      "ling down on the embattled Gorton . However , the General Court at Boston or\n",
      "r insights they needed to possess . However , as a practicing historian , he\n",
      "nts for a proper study of history . However , despite the insight of many of\n",
      "e nothing more to do with them '' . However , at eighty-five , he had still \n",
      "rm and presentation of his poetry . However , his subject matter and basic t\n",
      "\n",
      "\n",
      "Now analyzing editorial: \n",
      "\n",
      " of all translations of the Bible . However , Biblical scholars frequently a\n",
      "ges as has the King James Version . However , an initial perusal and compari\n",
      "ention needed during an emergency . However , the East Providence Rescue Squ\n",
      "brought about new ways of dialing . However , there are still several types \n",
      "uylkill Expressway are valuable ; ; however , several pertinent consideratio\n",
      "ion to the problem has some merit . However , he states unequivocally `` the\n",
      "this no loyal citizen can quarrel . However , it seems axiomatic that the go\n",
      "libly summarized by a commentator . However , last night the tapes were not \n",
      "hought ) during the evening hours . However , by comparing the TV snatches ,\n",
      "\n",
      "\n",
      "Now analyzing fiction: \n",
      "\n",
      "duty to God and his own salvation . However , a boy's lively eyes might rove\n",
      " so harassed him twelve hours ago . However , the litter remained , augmente\n",
      "\n",
      "\n",
      "Now analyzing government: \n",
      "\n",
      "in ease of audit time and payment . However , they lend themselves to abuse \n",
      "ue on some boats for tax purposes . However , few are taxed , and the owners\n",
      "special districts in Rhode Island . However , a word should be mentioned in \n",
      "tate , city and local governments . However , only Illinois , Oregon , Louis\n",
      "as painful as is commonly thought . However , it must be stressed that much \n",
      "cal tax collection year calendars . However , neither of these two cities is\n",
      "atures for the bulk liquid helium . However , the surface temperature gradie\n",
      "s to the lines that wish to merge . However , there is a more profound consi\n",
      "o allow use of the whole basement . However , as much time as possible shoul\n",
      "               353 U. S. , at 606 . However , it determined that neither thi\n",
      "racies to monopolize , such trade . However , this Court put to one side wit\n",
      "rategic weapon system is doubtful . However , I am recommending that develop\n",
      " of little practical significance . However , in this case as elsewhere it w\n",
      "x returns are due April 16 , 1962 . However , if their United States income \n",
      " 1961 will be lower than for 1960 . However , the healthy inventory position\n",
      "ely the same as our present plant . However , its modern one-story layout is\n",
      "ion against 5.7 million in 1959 ; ; however , production came to only 5.6 mi\n",
      "\n",
      "\n",
      "Now analyzing hobbies: \n",
      "\n",
      "to destruction by nuclear weapons . However , because this vulnerability is \n",
      "killer problem is manned aircraft . However , the aircraft which we have tod\n",
      "               must and should do . However , there is a minimum of legislat\n",
      "r of fitting is not too important . However , we started with the first row \n",
      "lved with mathematical problems ; ; however , he will have a clearer underst\n",
      "grammar school arithmetic classes . However , it is essential that the vario\n",
      "ormula is as important as another . However , some formulas are used more th\n",
      "onvert the result to cubic inches . However , the displacement of the cylind\n",
      "he public areas and when on tours . However , the use of tripods is not allo\n",
      "lanner to carry through the study . However , there is also much to be gaine\n",
      "ul radius equal in all directions . However , a narrow strip may be very pra\n",
      "a way of life for fellow citizens . However , in all of Prokofieff's music ,\n",
      "e a color mixture as I can manage . However , first I thoughtfully study my \n",
      "re a philosopher than a physicist . However , he continued experimenting and\n",
      "ply against weather contingencies . However , that is not all he has to do .\n",
      "hen everything is strange and new . However , after you've seen all the hist\n",
      "ey do for the drive-yourself cars . However , whether you arrange to have a \n",
      "\n",
      "\n",
      "Now analyzing humor: \n",
      "\n",
      "more or less harmless `` nut '' ! ! However while in his cell awaiting trial\n",
      "iola and her chaperon at her home . However , such a hotbed of gossip had gr\n",
      "nemesis haunting his footsteps '' . However one looks at it , therefore , I'\n",
      "\n",
      "\n",
      "Now analyzing learned: \n",
      "\n",
      "or will modify these conditions ; ; however , the anode is still the part re\n",
      "als should be usable in principle . However , technical difficulties arise b\n",
      "an be considered exploratory only . However , they do demonstrate the presen\n",
      "ops to confirm the above formulas . However , there are photographs of suspe\n",
      "volume per oxygen is about normal . However , the possible absence of a cent\n",
      "rs and Af those on the other side . However , any oxygen nonequivalence woul\n",
      " Cr as compared with 61.2% theory . However , Af adsorbs water from the atmo\n",
      "ace irregularities to some extent . However , a major factor in binding dirt\n",
      "apolated to meteoritic velocities . However , one must expect that vaporizat\n",
      "0-M-diameter sphere of density Af . However , the conversion from mass to si\n",
      "s were used to test each sample ; ; however , in the interest of clarity and\n",
      "eported in 1944 by Emmett R. Dunn . However , as a field measurement , it is\n",
      "t and can be accepted as probable . However , many herpetologists remain ske\n",
      "` normal '' newly born individual . However , as so many of the records are \n",
      "logic differences been determined . However , the dynamics of airflow , from\n",
      "s found in the horse is not clear . However , this artery is known to be a n\n",
      " not as yet completely understood . However , the formation of organically b\n",
      "ht green nonspecific fluorescence . However , the nonspecific staining by th\n",
      "ed conditioned reactions reappear . However , if these procedures are applie\n",
      "fact that it is a linear operator . However , one does not need to know very\n",
      " the pencil which meets its image . However , since the pencil contains a se\n",
      "f the general lines of the pencil . However , if there is no additional comp\n",
      "expected adherence to group norms . However , because of Church laws , latel\n",
      "er system or within the subgroups . However , it cannot be presumed , inform\n",
      "as in the case of this population . However , the factor of physical isolati\n",
      "cation of demographic information . However , the statistical offices of bot\n",
      "s used for the new investigations . However , the differences in procedure a\n",
      "lly functional for these students . However , all admitted that the `` hinds\n",
      "in which she relinquished control . However , she was able to relax and yiel\n",
      "and was regarded as a `` comer '' . However , he turned out to be a complete\n",
      "ls threatened and defends himself . However , in this case the district mana\n",
      "e small differences between tones . However , any such suggestion accounts f\n",
      "esumably for the peace conference . However , there was no real question of \n",
      "ions was generally above reproach . However , the regionally differentiated \n",
      "ts , and are not guaranteed a job . However , there always is some limit to \n",
      "benefit employers in other states . However , if Federal funds are used , it\n",
      " publicly offered corporate bonds . However , as witnessed by the large corp\n",
      "e position for the banking system . However , the monetary authorities will \n",
      "o long-term Government securities . However , to the extent that the monetar\n",
      "economic prospects of the Sixties . However , the impact of a rising rate of\n",
      "te an argument for raising prices . However , it is not known to either the \n",
      "ation of the `` sovereign will '' . However , the sovereign was not Hobbes' \n",
      "ortization over a 60-month period . However , a similar privilege was not sp\n",
      "operating control over the system . However , when labor disputes arise , it\n",
      "f course , obeyed the court order . However , the Attorney General of Califo\n",
      "s Regulation was being challenged . However , the Federal Court held that si\n",
      "rst few years of the child's life . However , the teacher who understands th\n",
      " fourth year it begins to decline . However , as we have seen , in later chi\n",
      "ower-class interests in education . However , there are relatively few such \n",
      "ot descend to pure sensationalism . However , when philosophy attempts to st\n",
      "seem a modest role for philosophy . However , modesty and triviality are dif\n",
      "lt from scratch at today's prices . However , the building of freeways and g\n",
      "not a primary aim of this project . However , the proposed correlation of th\n",
      " beef from 5 days to 5 or 6 weeks . However , the problem of consumer accept\n",
      "inctly improved keeping qualities . However , a major problem here is one of\n",
      "gh the origin and having slope Af . However , in the actual assessment of th\n",
      "btainable resolution is concerned . However , the unavoidable low-duty cycle\n",
      " showing high gain and resolution . However , electrostatic focus , importan\n",
      "hing of flight equipment circuits . However , the leveling operation can be \n",
      " angle ) can be seen after a time . However , skill is required on the part \n",
      "st be known for each launch point . However , this difficulty is not too ser\n",
      "\n",
      "\n",
      "Now analyzing lore: \n",
      "\n",
      "uivalents in our wakeful thoughts . However , readers who accept Freud's fin\n",
      "                  your livelihood . However , the last few years of your lif\n",
      "ning in hereditary predisposition . However , this does not mean that a chil\n",
      " , on this side of the `` veil '' . However that may be , people are known t\n",
      "ious '' moods and to clarify them . However , in the next visit that the res\n",
      " county governments in 1928-29 '' . However , this inaugural feast did its s\n",
      "ned joining a synagogue or temple . However , they were hostile to Jewish Or\n",
      "win positions on the school teams . However , in their junior and senior yea\n",
      "-old machinist observed irritably . However , among the girls , there are so\n",
      " the faculty have been unavailing . However , a growing intellectual sophist\n",
      "n occasion , be anything but that . However , by cultivating a wine dealer a\n",
      "the only college in the Ivy group . However , three distinguished associated\n",
      "span the other Ivies have enjoyed . However much football has been over-emph\n",
      " this regard in the Negro schools . However , the teacher can only go so far\n",
      "e student's time in those years ; ; however , for slow learners and prospect\n",
      "ing jump , it could get into gear . However nothing on four legs was suppose\n",
      "communicated to all congregations . However needed this may be , the fundame\n",
      "cular and of the world in general . However , as Erickson has noted , the in\n",
      "couraged to develop some autonomy . However , if the child has been constant\n",
      "urious about the African reaction . However , the chaos on my desk prevented\n",
      "m this -- in the order of justice . However , it is also a Christian insight\n",
      "\n",
      "\n",
      "Now analyzing mystery: \n",
      "\n",
      "g automobiles for a possible lead . However , it was virtually impossible to\n",
      "  They discussed this possibility . However likely it was , Pauling said , h\n",
      " take on overtones of a nightmare . However , Haney knew it was not a dream \n",
      "\n",
      "\n",
      "Now analyzing news: \n",
      "\n",
      "                    Merger proposed However , the jury said it believes `` t\n",
      "minor editing and clarification ; ; however , the first belief stood for ent\n",
      "ainst teams in the other division . However , this would require a lengtheni\n",
      "ro Beach , Fla. , for the wedding . However , Mr. Parichy and his bride will\n",
      " admitted killing Mrs. Hengesbach . However , the confession , which was the\n",
      "hat it was not in the Friday mail . However , three of the managers did say \n",
      "14 per cent over February's 2,963 . However , compared with March 1960 new c\n",
      "fore the American Marketing Assn. . However , Peterson , president of Bell &\n",
      "solution , naturally , is the bus . However , it's a half-mile walk down a s\n",
      "acturers is hardly such a vehicle . However , one can argue that no such con\n",
      "d to wait until the Congo grew up . However , the positions of all parties a\n",
      "the admission of Outer Mongolia ; ; however the President , who would like t\n",
      "nds have slipped a bit since then . However , in the same three-month period\n",
      "\n",
      "\n",
      "Now analyzing religion: \n",
      "\n",
      "he pundits seem to have suspected . However , even if the latent demand for \n",
      "dition is an enduring achievement . However much we may have to criticize li\n",
      "rvative has ever to worry about ? ? However , there is a crucial difference \n",
      "lly in connection with divination . However , the wei books were also destro\n",
      "ack door because of lost interest . However , it is not enough to bring pers\n",
      "\n",
      "\n",
      "Now analyzing reviews: \n",
      "\n",
      "mood of the late teens and 1920's . However well chosen and cleverly arrange\n",
      "ing Mr. Remarque hoped to tell us . However , my principal objection in this\n",
      " compulsively strives to be liked . However , she really does not know how t\n",
      " it had not been for Hitler's war . However , Montgomery makes little contri\n",
      "tarist's suspicion of politicians . However , at the same time Montgomery se\n",
      "\n",
      "\n",
      "Now analyzing romance: \n",
      "\n",
      "No matches.\n",
      "\n",
      "\n",
      "Now analyzing science_fiction: \n",
      "\n",
      "nd time involved are astronomical . However , we sent a third vessel out , a\n",
      " an ordinary , `` normal '' being . However , no diagram of her brain patter\n",
      "\n",
      "\n"
     ]
    }
   ],
   "source": [
    "from nltk.corpus import brown\n",
    "\n",
    "for c in brown.categories():\n",
    "    print(\"Now analyzing {}: \\n\".format(c))\n",
    "\n",
    "    find_concordance_by_position(brown.sents(categories = c), 'however', 0)\n",
    "    \n",
    "    print(\"\\n\")\n"
   ]
  },
  {
   "cell_type": "markdown",
   "metadata": {},
   "source": [
    "*I found only six instances where 'however' did not mean 'nevertheless' in the Brown Corpus, putting this usage in the absolute minority of usages. Methinks Strunk and White should have spent more time describing the language they heard and less prescribing how it should have been spoken.*"
   ]
  },
  {
   "cell_type": "markdown",
   "metadata": {},
   "source": [
    "*This is an earlier version that looked at the words instead of the sentences.*"
   ]
  },
  {
   "cell_type": "code",
   "execution_count": 66,
   "metadata": {},
   "outputs": [
    {
     "name": "stdout",
     "output_type": "stream",
     "text": [
      " -- and been very well brought up . However , I do not mean to set up my opi\n",
      "is so very handsome and agreeable . However , I do really think Mr . Martin \n",
      "eed !-- and my memory is very bad . However , it was an exceeding good , pre\n",
      "does me . Jane speaks so distinct ! However , she will not find her grandmam\n",
      "inctly , and was sadly alarmed at . However , when I read on , I found it wa\n",
      "hough she speaks rather too quick . However , she is very agreeable , and Mr\n",
      "at I would not expose any body to . However , as they are so very desirous t\n",
      "ar , I did say as much as I could . However , the very same evening William \n",
      "m often astonished at what I hear . However , this does make a difference ; \n",
      "aks like you and poor Miss Taylor . However , she seems a very obliging , pr\n",
      "her , Mr . Suckling , in income .-- However , my resolution is taken as to n\n",
      "forget her look the other night !-- However , I assure you , Miss Woodhouse \n",
      "y well ( blushing as she spoke ).-- However , now I will destroy it all -- a\n",
      "emed very much to have enjoyed it . However , _I_ shall always think it a ve\n",
      "t least , but I might be mistaken . However , I think it answered so far as \n",
      "not played a bar this fortnight .-- However , he is coming , I assure you : \n",
      "tions we deal only in the great .-- However , I must say , that Robert Marti\n"
     ]
    }
   ],
   "source": [
    "e = nltk.corpus.gutenberg.words('austen-emma.txt')\n",
    "for i in range(len(e)):\n",
    "    if e[i] == \"However\":\n",
    "        prefix = []\n",
    "        for word in e[i - 15 : i]:\n",
    "            prefix.append(word)\n",
    "        prefix = ' '.join(prefix)\n",
    "        suffix = []\n",
    "        for word in e[i : i + 15]:\n",
    "            suffix.append(word)\n",
    "        suffix = ' '.join(suffix)\n",
    "        print(prefix[-35:] + \" \" + suffix[:40])"
   ]
  },
  {
   "cell_type": "markdown",
   "metadata": {},
   "source": [
    "###### 8. \n",
    "\n",
    "◑ Define a conditional frequency distribution over the Names corpus that allows you to see which *initial* letters are more frequent for males vs. females (cf. 4.4)."
   ]
  },
  {
   "cell_type": "code",
   "execution_count": 105,
   "metadata": {},
   "outputs": [
    {
     "data": {
      "image/png": "[encoded data removed]",
      "text/plain": [
       "<Figure size 432x288 with 1 Axes>"
      ]
     },
     "metadata": {
      "needs_background": "light"
     },
     "output_type": "display_data"
    }
   ],
   "source": [
    "names = nltk.corpus.names\n",
    "male_names = names.words('male.txt')\n",
    "female_names = names.words('female.txt')\n",
    "\n",
    "cfd = nltk.ConditionalFreqDist(\n",
    "    (fileid, name[0])\n",
    "    for fileid in names.fileids()\n",
    "    for name in names.words(fileid))\n",
    "\n",
    "cfd.plot();"
   ]
  },
  {
   "cell_type": "markdown",
   "metadata": {},
   "source": [
    "###### 9.\n",
    "\n",
    "◑ Pick a pair of texts and study the differences between them, in terms of vocabulary, vocabulary richness, genre, etc. Can you find pairs of words which have quite different meanings across the two texts, such as *monstrous* in *Moby Dick* and in *Sense and Sensibility*?"
   ]
  },
  {
   "cell_type": "code",
   "execution_count": 158,
   "metadata": {},
   "outputs": [
    {
     "name": "stdout",
     "output_type": "stream",
     "text": [
      "King James' Bible:\n",
      "Average number of characters per word: 4\n",
      "Average number of words per sent: 26\n",
      "Lexical diversity: 0.01591\n",
      "Total tokens: 790,052\n",
      "Total word types: 12,567\n"
     ]
    }
   ],
   "source": [
    "enclitics = (\"d\", \"ll\", \"m\", \"re\", \"s\", \"t\", \"ve\")\n",
    "\n",
    "print(\"King James' Bible:\")\n",
    "num_chars = len([w for w in gutenberg.raw('bible-kjv.txt') if w.isalpha()])\n",
    "num_words = len([w for w in gutenberg.words('bible-kjv.txt') if w.isalpha() and w not in enclitics])\n",
    "num_sents = len(gutenberg.sents('bible-kjv.txt'))\n",
    "num_vocab = len(set(w.lower() for w in gutenberg.words('bible-kjv.txt') if w.isalpha() and w not in enclitics))\n",
    "print(\"Average number of characters per word:\", round(num_chars/num_words))\n",
    "print(\"Average number of words per sent:\",  round(num_words/num_sents))\n",
    "print(\"Lexical diversity: {:.5f}\".format(num_vocab/num_words))\n",
    "print(\"Total tokens: {:,}\".format(num_words))\n",
    "print(\"Total word types: {:,}\".format(num_vocab))"
   ]
  },
  {
   "cell_type": "code",
   "execution_count": 157,
   "metadata": {},
   "outputs": [
    {
     "name": "stdout",
     "output_type": "stream",
     "text": [
      "Displaying 2 of 2 matches:\n",
      "ORD God walking in the garden in the cool of the day : and Adam and his wife h\n",
      "the tip of his finger in water , and cool my tongue ; for I am tormented in th\n"
     ]
    }
   ],
   "source": [
    "nltk.Text(gutenberg.words('bible-kjv.txt')).concordance(\"cool\")"
   ]
  },
  {
   "cell_type": "code",
   "execution_count": 139,
   "metadata": {},
   "outputs": [
    {
     "name": "stdout",
     "output_type": "stream",
     "text": [
      "'The Man Who Was Thursday' by G.K. Chesterton:\n",
      "Average number of characters per word: 4\n",
      "Average number of words per sent: 16\n",
      "Lexical diversity: 0.10796\n",
      "Total tokens: 58,297\n",
      "Total word types: 6,294\n"
     ]
    }
   ],
   "source": [
    "enclitics = (\"d\", \"ll\", \"m\", \"re\", \"s\", \"t\", \"ve\")\n",
    "\n",
    "print(\"'The Man Who Was Thursday' by G.K. Chesterton:\")\n",
    "num_chars = len([w for w in gutenberg.raw('chesterton-thursday.txt') if w.isalpha()])\n",
    "num_words = len([w for w in gutenberg.words('chesterton-thursday.txt') if w.isalpha() and w not in enclitics])\n",
    "num_sents = len(gutenberg.sents('chesterton-thursday.txt'))\n",
    "num_vocab = len(set(w.lower() for w in gutenberg.words('chesterton-thursday.txt') if w.isalpha() and w not in enclitics))\n",
    "print(\"Average number of characters per word:\", round(num_chars/num_words))\n",
    "print(\"Average number of words per sent:\",  round(num_words/num_sents))\n",
    "print(\"Lexical diversity: {:.5f}\".format(num_vocab/num_words))\n",
    "print(\"Total tokens: {:,}\".format(num_words))\n",
    "print(\"Total word types: {:,}\".format(num_vocab))"
   ]
  },
  {
   "cell_type": "code",
   "execution_count": 155,
   "metadata": {},
   "outputs": [
    {
     "name": "stdout",
     "output_type": "stream",
     "text": [
      "Displaying 4 of 4 matches:\n",
      "oke and pleasure out of pain . Yea , cool and clear and sudden as a bird sings\n",
      " \" that you seem to have kept pretty cool under it . Now listen to me . I like\n",
      "ok round . Syme , who was commonly a cool character , was literally gaping as \n",
      "in plunging into the wood they had a cool shock of shadow , as of divers who p\n"
     ]
    }
   ],
   "source": [
    "nltk.Text(gutenberg.words('chesterton-thursday.txt')).concordance(\"cool\")"
   ]
  },
  {
   "cell_type": "markdown",
   "metadata": {},
   "source": [
    "*I compared the King James' Bible and 'The Man Who Was Thursday' by G.K. Chesterton.  The bible is obviously a religious text, whereas Chesteron has been referred to as a mystery novel.  The bible is nearly 13 times as long and uses approximately twice as many words, but its lexical diversity is much lower, since the difference in length is not also reflected in the difference in vocabulary.  (It would be rare for a book to use much more than 10,000 word types, so in general, as texts get longer their lexical diversity will decrease.)*\n",
    "\n",
    "*Since there aren't any newer texts in Project Gutenberg, it's difficult to compare texts to see changes in word usage over time.  However, we can find evidence that 'cool' changed in usage from merely describing temperature to also describing one's character.*"
   ]
  },
  {
   "cell_type": "markdown",
   "metadata": {},
   "source": [
    "###### 10. \n",
    "\n",
    "◑ Read the [BBC News article: UK's Vicky Pollards 'left behind']( http://news.bbc.co.uk/2/hi/uk_news/education/6173441.stm. \"Updated link\") The article gives the following statistic about teen language: \"the top 20 words used, including yeah, no, but and like, account for around a third of all words.\" How many word types account for a third of all word tokens, for a variety of text sources? What do you conclude about this statistic? Read more about this on [LanguageLog](http://itre.cis.upenn.edu/~myl/languagelog/archives/003993.html \"LanguageLog\")."
   ]
  },
  {
   "cell_type": "markdown",
   "metadata": {},
   "source": [
    "*The answer to the main question is stated right there in the wording of the question: 20 words account for a third of all word tokens.  Furthermore, the BBC article doesn't mention a variety of text sources - only an analysis from Tony McEnery.*\n",
    "\n",
    "*I've seen 'Little Britain' a handful of times and I am familiar with Vicky Pollard. I think a lot of the humor derives from the fact that people - especially teenagers - can say things that appear logically incongruent \"yeah but, no but\" that nevertheless carry meaning (\"yes, I understand what you're saying, but no, I don't agree with you...\").*\n",
    "\n",
    "*The LanguageLog blog - without mentioning it - seems to be appealing to Zipf's Law, which we'll see later: i.e., a tiny minority of our vocabulary makes up the majority of our speech.*"
   ]
  },
  {
   "cell_type": "markdown",
   "metadata": {},
   "source": [
    "###### 11. \n",
    "\n",
    "◑ Investigate the table of modal distributions and look for other patterns. Try to explain them in terms of your own impressionistic understanding of the different genres. Can you find other closed classes of words that exhibit significant differences across different genres?"
   ]
  },
  {
   "cell_type": "code",
   "execution_count": 159,
   "metadata": {},
   "outputs": [
    {
     "name": "stdout",
     "output_type": "stream",
     "text": [
      "                   I  you   he  she   it   we they   me  him  her   us them \n",
      "           news  179   55  451   42  363   77  205   29   93  103   12   96 \n",
      "       religion  155  100  137   10  264  176  115   31   60    8   59   74 \n",
      "        hobbies  154  383  155   21  476  100  177   16   49   16   23  127 \n",
      "science_fiction   98   81  139   36  129   30   53   20   58   71    6   47 \n",
      "        romance  951  456  702  496  573   78  168  193  339  651   42  142 \n",
      "          humor  239  131  146   58  162   32   70   56   48   62   23   49 \n"
     ]
    }
   ],
   "source": [
    "cfd = nltk.ConditionalFreqDist(\n",
    "    (genre, word) for genre in brown.categories() \n",
    "    for word in brown.words(categories = genre))\n",
    "genres = ['news', 'religion', 'hobbies', 'science_fiction', 'romance', 'humor']\n",
    "pronouns = ['I', 'you', 'he', 'she', 'it', 'we', 'they', 'me', 'him', 'her', \n",
    "            'us', 'them']\n",
    "cfd.tabulate(conditions = genres, samples = pronouns)"
   ]
  },
  {
   "cell_type": "markdown",
   "metadata": {},
   "source": [
    "*I chose the closed set of English personal pronouns and made these observations: 'he' is much more common than 'she' - between three and ten times.  The sole exception is 'romance', where 'he' is a mere 40% more common than 'she'. 'Hobbies' is the only genre where 'you' is more common than 'I'. 'Romance' also shows a marked difference in the frequency of singular and plural pronouns.  First-person pronouns are much less common than third-person pronouns in 'news'.*"
   ]
  },
  {
   "cell_type": "markdown",
   "metadata": {},
   "source": [
    "###### 12. \n",
    "\n",
    "◑ The CMU Pronouncing Dictionary contains multiple pronunciations for certain words. How many distinct words does it contain? What fraction of words in this dictionary have more than one possible pronunciation?\n",
    "\n",
    "*Number of entries:*"
   ]
  },
  {
   "cell_type": "code",
   "execution_count": 194,
   "metadata": {},
   "outputs": [
    {
     "data": {
      "text/plain": [
       "133737"
      ]
     },
     "execution_count": 194,
     "metadata": {},
     "output_type": "execute_result"
    }
   ],
   "source": [
    "cmu = nltk.corpus.cmudict.entries()\n",
    "len(cmu)"
   ]
  },
  {
   "cell_type": "markdown",
   "metadata": {},
   "source": [
    "*Number of distinct words:*"
   ]
  },
  {
   "cell_type": "code",
   "execution_count": 193,
   "metadata": {},
   "outputs": [
    {
     "data": {
      "text/plain": [
       "123455"
      ]
     },
     "execution_count": 193,
     "metadata": {},
     "output_type": "execute_result"
    }
   ],
   "source": [
    "distinct_words = sorted(set([w for w, p in cmu]))\n",
    "len(distinct_words)\n"
   ]
  },
  {
   "cell_type": "markdown",
   "metadata": {},
   "source": [
    "*Percentage of words with more than one possible pronunciation:*"
   ]
  },
  {
   "cell_type": "code",
   "execution_count": 195,
   "metadata": {},
   "outputs": [
    {
     "data": {
      "text/plain": [
       "0.07688223902136282"
      ]
     },
     "execution_count": 195,
     "metadata": {},
     "output_type": "execute_result"
    }
   ],
   "source": [
    "(len(cmu) - len(distinct_words)) / len(cmu)"
   ]
  },
  {
   "cell_type": "markdown",
   "metadata": {},
   "source": [
    "*For those pedantic types out there, the __fraction__ is $\\frac{768,822,390,213}{10,000,000,000,000}$.*\n",
    "\n",
    "*Well, that's what the instructions asked for...*"
   ]
  },
  {
   "cell_type": "markdown",
   "metadata": {},
   "source": [
    "###### 13.\n",
    "\n",
    "◑ What percentage of noun synsets have no hyponyms? You can get all noun synsets using `wn.all_synsets('n')`.\n",
    "\n",
    "*Nearly 80% of noun synsets have no hyponyms:*"
   ]
  },
  {
   "cell_type": "code",
   "execution_count": 210,
   "metadata": {},
   "outputs": [
    {
     "data": {
      "text/plain": [
       "0.7967119283931072"
      ]
     },
     "execution_count": 210,
     "metadata": {},
     "output_type": "execute_result"
    }
   ],
   "source": [
    "no_hyponyms = 0\n",
    "\n",
    "for n in list(wn.all_synsets('n')):\n",
    "    if n.hyponyms() == []:\n",
    "        no_hyponyms += 1\n",
    "        \n",
    "no_hyponyms/len(list(wn.all_synsets('n')))"
   ]
  },
  {
   "cell_type": "markdown",
   "metadata": {},
   "source": [
    "###### 14. \n",
    "\n",
    "◑ Define a function `supergloss(s)` that takes a synset `s` as its argument and returns a string consisting of the concatenation of the definition of `s`, and the definitions of all the hypernyms and hyponyms of `s`."
   ]
  },
  {
   "cell_type": "code",
   "execution_count": 264,
   "metadata": {},
   "outputs": [],
   "source": [
    "def supergloss(synset):\n",
    "    full_stop = synset.index('.')\n",
    "    term = synset[:full_stop]\n",
    "    \n",
    "    syn = wn.synset(synset)\n",
    "    print(term + \":\", syn.definition())\n",
    "    \n",
    "    \n",
    "    print(\"\\nHYPERNYMS:\")\n",
    "    for s in syn.hypernyms():\n",
    "        names = []\n",
    "        for name in s.lemma_names():\n",
    "            names.append(name)\n",
    "        print(\", \".join(names) + \":\", s.definition())\n",
    "\n",
    "    print(\"\\nHYPONYMS:\")\n",
    "    for s in syn.hyponyms():\n",
    "        names = []\n",
    "        for name in s.lemma_names():\n",
    "            names.append(name)\n",
    "        print(\", \".join(names) + \":\", s.definition())"
   ]
  },
  {
   "cell_type": "code",
   "execution_count": 265,
   "metadata": {},
   "outputs": [
    {
     "name": "stdout",
     "output_type": "stream",
     "text": [
      "drum: a musical percussion instrument; usually consists of a hollow cylinder with a membrane stretched across each end\n",
      "\n",
      "HYPERNYMS:\n",
      "percussion_instrument, percussive_instrument: a musical instrument in which the sound is produced by one object striking another\n",
      "\n",
      "HYPONYMS:\n",
      "bass_drum, gran_casa: a large drum with two heads; makes a sound of indefinite but very low pitch\n",
      "bongo, bongo_drum: a small drum; played with the hands\n",
      "snare_drum, snare, side_drum: a small drum with two heads and a snare stretched across the lower head\n",
      "tabor, tabour: a small drum with one head of soft calfskin\n",
      "tambour: a drum\n",
      "tambourine: a shallow drum with a single drumhead and with metallic disks in the sides\n",
      "tenor_drum, tom-tom: any of various drums with small heads\n",
      "timbrel: small hand drum similar to a tambourine; formerly carried by itinerant jugglers\n"
     ]
    }
   ],
   "source": [
    "supergloss('drum.n.01')"
   ]
  },
  {
   "cell_type": "markdown",
   "metadata": {},
   "source": [
    "###### 15.\n",
    "\n",
    "◑ Write a program to find all words that occur at least three times in the Brown Corpus."
   ]
  },
  {
   "cell_type": "code",
   "execution_count": 305,
   "metadata": {},
   "outputs": [],
   "source": [
    "def find_words_occurring_thrice_or_more():\n",
    "    cfd = nltk.FreqDist(w.lower() for w in brown.words())\n",
    "    wordtypes = set(w.lower() for w in brown.words())\n",
    "    return [w for w in wordtypes if cfd[w] >= 3]"
   ]
  },
  {
   "cell_type": "code",
   "execution_count": 311,
   "metadata": {},
   "outputs": [],
   "source": [
    "three_or_more = find_words_occurring_thrice_or_more()\n"
   ]
  },
  {
   "cell_type": "code",
   "execution_count": 312,
   "metadata": {},
   "outputs": [
    {
     "data": {
      "text/plain": [
       "20615"
      ]
     },
     "execution_count": 312,
     "metadata": {},
     "output_type": "execute_result"
    }
   ],
   "source": [
    "len(three_or_more)"
   ]
  },
  {
   "cell_type": "code",
   "execution_count": 313,
   "metadata": {},
   "outputs": [
    {
     "data": {
      "text/plain": [
       "['polyether',\n",
       " 'collectively',\n",
       " 'irving',\n",
       " 'edition',\n",
       " 'therapist',\n",
       " 'affirm',\n",
       " 'instrumentally',\n",
       " 'lewd',\n",
       " 'elementary-school',\n",
       " 'defeating',\n",
       " '2:36',\n",
       " 'lock',\n",
       " 'emma',\n",
       " 'bunk',\n",
       " 'fondness']"
      ]
     },
     "execution_count": 313,
     "metadata": {},
     "output_type": "execute_result"
    }
   ],
   "source": [
    "three_or_more[:15]"
   ]
  },
  {
   "cell_type": "code",
   "execution_count": 310,
   "metadata": {},
   "outputs": [
    {
     "name": "stdout",
     "output_type": "stream",
     "text": [
      "polyether: 7\n",
      "collectively: 4\n",
      "irving: 4\n",
      "edition: 37\n",
      "therapist: 19\n",
      "affirm: 12\n",
      "instrumentally: 3\n",
      "lewd: 3\n",
      "elementary-school: 6\n",
      "defeating: 3\n",
      "2:36: 12\n",
      "lock: 24\n",
      "emma: 10\n",
      "bunk: 18\n",
      "fondness: 4\n"
     ]
    }
   ],
   "source": [
    "cfd = nltk.FreqDist(w.lower() for w in brown.words())\n",
    "\n",
    "for t in three_or_more[:15]:\n",
    "    print(t + \":\", cfd[t])"
   ]
  },
  {
   "cell_type": "markdown",
   "metadata": {},
   "source": [
    "*Although they haven't been introduced in the book yet, using a dictionary would be a faster and simpler way of getting a comparable result:*"
   ]
  },
  {
   "cell_type": "code",
   "execution_count": 317,
   "metadata": {},
   "outputs": [
    {
     "data": {
      "text/plain": [
       "20615"
      ]
     },
     "execution_count": 317,
     "metadata": {},
     "output_type": "execute_result"
    }
   ],
   "source": [
    "d = dict()\n",
    "for w in brown.words():\n",
    "    d[w.lower()] = 1 + d.get(w.lower(), 0)\n",
    "more_than_3 = [w for w in wordtypes if d[w] >= 3]\n",
    "len(more_than_3)"
   ]
  },
  {
   "cell_type": "markdown",
   "metadata": {},
   "source": [
    "###### 16. \n",
    "\n",
    "◑ Write a program to generate a table of lexical diversity scores (i.e. token/type ratios), as we saw in 1.1. Include the full set of Brown Corpus genres (`nltk.corpus.brown.categories()`). Which genre has the lowest diversity (greatest number of tokens per type)? Is this what you would have expected?\n",
    "\n",
    "*Re-using the function I made in my notes for chapter 1:*"
   ]
  },
  {
   "cell_type": "code",
   "execution_count": 318,
   "metadata": {},
   "outputs": [],
   "source": [
    "def lexical_diversity(text):\n",
    "    return len(set(text)) / len(text)"
   ]
  },
  {
   "cell_type": "code",
   "execution_count": 324,
   "metadata": {},
   "outputs": [
    {
     "name": "stdout",
     "output_type": "stream",
     "text": [
      "Lexical diversity scores: \n",
      "adventure:        0.1279743878169075\n",
      "belles_lettres:   0.10642071451679992\n",
      "editorial:        0.16054152327770924\n",
      "fiction:          0.1358194136199042\n",
      "government:       0.11667641228232811\n",
      "hobbies:          0.14493897625842492\n",
      "humor:            0.23125144042406084\n",
      "learned:          0.09268890745953554\n",
      "lore:             0.13148804612915801\n",
      "mystery:          0.12212912592488936\n",
      "news:             0.14314696580941583\n",
      "religion:         0.1617553745018909\n",
      "reviews:          0.21192020440251572\n",
      "romance:          0.12070492131044529\n",
      "science_fiction:  0.22342778161713892\n"
     ]
    }
   ],
   "source": [
    "print(\"Lexical diversity scores: \")\n",
    "for c in brown.categories():\n",
    "    ld = lexical_diversity(brown.words(categories = c))\n",
    "    print(\"{}: {} {}\".format(c, \" \" * (15 - len(c)), ld))"
   ]
  },
  {
   "cell_type": "markdown",
   "metadata": {},
   "source": [
    "*Surprisingly, humor has the highest score, and learned the lowest.  Either humor is more sophisticated than one may assume (and scholarly literature less so), or lexical diversity is not a good measure of a text's complexity.*\n",
    "\n",
    "*I hypothesized earlier than larger texts would have a lower lexical diversity than smaller ones, as the number of previously unseen words will go down exponentially with the size of the text.  Let's take a look at the sizes of the genres in the Brown Corpus to see if that supports my theory:*"
   ]
  },
  {
   "cell_type": "code",
   "execution_count": 331,
   "metadata": {},
   "outputs": [
    {
     "name": "stdout",
     "output_type": "stream",
     "text": [
      "Number of tokens per category: \t Lexical diversity:\n",
      "adventure:             69342 \t 0.12797\n",
      "belles_lettres:        173096 \t 0.10642\n",
      "editorial:             61604 \t 0.16054\n",
      "fiction:               68488 \t 0.13582\n",
      "government:            70117 \t 0.11668\n",
      "hobbies:               82345 \t 0.14494\n",
      "humor:                 21695 \t 0.23125\n",
      "learned:               181888 \t 0.09269\n",
      "lore:                  110299 \t 0.13149\n",
      "mystery:               57169 \t 0.12213\n",
      "news:                  100554 \t 0.14315\n",
      "religion:              39399 \t 0.16176\n",
      "reviews:               40704 \t 0.21192\n",
      "romance:               70022 \t 0.12070\n",
      "science_fiction:       14470 \t 0.22343\n"
     ]
    }
   ],
   "source": [
    "print(\"Number of tokens per category: \\t Lexical diversity:\")\n",
    "for c in brown.categories():\n",
    "    t = len(brown.words(categories = c))\n",
    "    ld = lexical_diversity(brown.words(categories = c))\n",
    "    print(\"{}: {} {} \\t {:.5f}\".format(c, \" \" * (20 - len(c)), t, ld))"
   ]
  },
  {
   "cell_type": "markdown",
   "metadata": {},
   "source": [
    "*As I thought, the genres with the largest number of tokens have the least lexical diversity. This isn't quite so easy to see as a table, so I'll graph it, instead.  Since the values have radically different scales, I'll normalize the values so that the maximum of each set of values is equal to 1.*"
   ]
  },
  {
   "cell_type": "code",
   "execution_count": 351,
   "metadata": {},
   "outputs": [
    {
     "data": {
      "image/png": "[encoded data removed]",
      "text/plain": [
       "<Figure size 1080x720 with 1 Axes>"
      ]
     },
     "metadata": {
      "needs_background": "light"
     },
     "output_type": "display_data"
    }
   ],
   "source": [
    "import matplotlib.pyplot as plt\n",
    "\n",
    "tokens = []\n",
    "lex_div = []\n",
    "\n",
    "for c in brown.categories():\n",
    "    tokens.append(len(brown.words(categories = c)))\n",
    "    lex_div.append(lexical_diversity(brown.words(categories = c)))\n",
    "\n",
    "# normalizing the arrays\n",
    "tokens = [t/max(tokens) for t in tokens]\n",
    "lex_div = [l/max(lex_div) for l in lex_div]\n",
    "\n",
    "plt.figure(figsize = (15, 10))\n",
    "plt.plot(tokens, label = \"No. tokens\")\n",
    "plt.plot(lex_div, label = \"lex. div.\")\n",
    "plt.legend()\n",
    "plt.xticks(range(15), brown.categories(), rotation = 45)\n",
    "\n",
    "plt.show()"
   ]
  },
  {
   "cell_type": "markdown",
   "metadata": {},
   "source": [
    "*As you can see, the plots are almost exact inverses of each other: when one zigs, the other one zags.*"
   ]
  },
  {
   "cell_type": "markdown",
   "metadata": {},
   "source": [
    "###### 17. \n",
    "\n",
    "◑ Write a function that finds the 50 most frequently occurring words of a text that are not stopwords."
   ]
  },
  {
   "cell_type": "code",
   "execution_count": 6,
   "metadata": {},
   "outputs": [],
   "source": [
    "from nltk.corpus import stopwords\n",
    "\n",
    "def find_50_most_frequent_non_stopwords(text, lang = 'english'):\n",
    "    stopwords = nltk.corpus.stopwords.words('english')\n",
    "    fd = nltk.FreqDist(w.lower() for w in text if w.lower().isalpha() and w.lower() not in stopwords)\n",
    "    return fd.most_common(50)"
   ]
  },
  {
   "cell_type": "code",
   "execution_count": 14,
   "metadata": {},
   "outputs": [
    {
     "name": "stdout",
     "output_type": "stream",
     "text": [
      "[('one', 3292), ('would', 2714), ('said', 1961), ('new', 1635), ('could', 1601), ('time', 1598), ('two', 1412), ('may', 1402), ('first', 1361), ('like', 1292), ('man', 1207), ('even', 1170), ('made', 1125), ('also', 1069), ('many', 1030), ('must', 1013), ('af', 996), ('back', 966), ('years', 950), ('much', 937), ('way', 908), ('well', 897), ('people', 847), ('little', 831), ('state', 807), ('good', 806), ('make', 794), ('world', 787), ('still', 782), ('see', 772), ('men', 763), ('work', 762), ('long', 752), ('get', 749), ('life', 715), ('never', 697), ('day', 687), ('another', 684), ('know', 683), ('last', 676), ('us', 675), ('might', 672), ('great', 665), ('old', 661), ('year', 658), ('come', 630), ('since', 628), ('go', 626), ('came', 622), ('right', 613)]"
     ]
    }
   ],
   "source": [
    "print(find_50_most_frequent_non_stopwords(brown.words()), end = '')"
   ]
  },
  {
   "cell_type": "markdown",
   "metadata": {},
   "source": [
    "*All of the words look quite common, with the exception of 'af'.  To make sure this isn't an error, let's print up some sentences with 'af':*"
   ]
  },
  {
   "cell_type": "code",
   "execution_count": 15,
   "metadata": {},
   "outputs": [
    {
     "name": "stdout",
     "output_type": "stream",
     "text": [
      "water is Af and the H stands for hydrogen ; ;\n",
      "Salt water is still Af , the same hydrogen is there .\n",
      "Start with the right-hand piece `` B '' , Af , soldering it to the lower piece `` A '' of the same material but 12'' '' long .\n",
      "Now lay 12 pieces of Af cut 5-3/4'' '' long side by side but separated by 12 pieces of the same material 1/2'' '' sq. .\n",
      "Cap this assembly ( with spacing bars in place ) with a Af bar .\n",
      "Now cut five Af locking bar spacers ( which run horizontally ) .\n",
      "Position these using six intermediate temporary Af spacers and locate the upper 12'' '' bar `` A '' .\n",
      "Cap with a Af bar and tack-solder in place .\n",
      "Cap the locking bar spacers with two Af directly under the first two `` B '' pieces .\n",
      "Now reassemble the frame , using Af roundhead steel screws and nuts .\n"
     ]
    }
   ],
   "source": [
    "i = 0\n",
    "for s in brown.sents():\n",
    "    if \"Af\" in s:\n",
    "        if i < 10:\n",
    "            print(' '.join(s))\n",
    "        i += 1\n"
   ]
  },
  {
   "cell_type": "markdown",
   "metadata": {},
   "source": [
    "*It looks like 'af' may be used in some scientific/math texts, as well as some texts in the hobby genre.*"
   ]
  },
  {
   "cell_type": "markdown",
   "metadata": {},
   "source": [
    "###### 18. \n",
    "\n",
    "◑ Write a program to print the 50 most frequent bigrams (pairs of adjacent words) of a text, omitting bigrams that contain stopwords."
   ]
  },
  {
   "cell_type": "code",
   "execution_count": 24,
   "metadata": {},
   "outputs": [],
   "source": [
    "def most_freq_bigrams_wo_stopwords(text, n = 50, lang = 'english'):\n",
    "    stopwords = nltk.corpus.stopwords.words(lang)\n",
    "    bigrams = nltk.bigrams(w.lower() for w in text if w.lower().isalpha() and w.lower() not in stopwords)\n",
    "    fd = nltk.FreqDist(bigrams)\n",
    "    return fd.most_common(n)"
   ]
  },
  {
   "cell_type": "code",
   "execution_count": 26,
   "metadata": {},
   "outputs": [
    {
     "data": {
      "text/plain": [
       "[(('united', 'states'), 392),\n",
       " (('new', 'york'), 296),\n",
       " (('per', 'cent'), 146),\n",
       " (('years', 'ago'), 138),\n",
       " (('af', 'af'), 129),\n",
       " (('could', 'see'), 93),\n",
       " (('rhode', 'island'), 91),\n",
       " (('last', 'year'), 78),\n",
       " (('even', 'though'), 77),\n",
       " (('high', 'school'), 74),\n",
       " (('white', 'house'), 68),\n",
       " (('first', 'time'), 68),\n",
       " (('old', 'man'), 68),\n",
       " (('world', 'war'), 66),\n",
       " (('two', 'years'), 62),\n",
       " (('let', 'us'), 62),\n",
       " (('one', 'thing'), 60),\n",
       " (('fiscal', 'year'), 58),\n",
       " (('last', 'night'), 57),\n",
       " (('peace', 'corps'), 55),\n",
       " (('one', 'day'), 53),\n",
       " (('one', 'another'), 52),\n",
       " (('would', 'like'), 51),\n",
       " (('last', 'week'), 51),\n",
       " (('united', 'nations'), 49),\n",
       " (('new', 'england'), 49),\n",
       " (('young', 'man'), 47),\n",
       " (('los', 'angeles'), 47),\n",
       " (('two', 'men'), 46),\n",
       " (('one', 'two'), 43),\n",
       " (('great', 'deal'), 43),\n",
       " (('civil', 'war'), 42),\n",
       " (('president', 'kennedy'), 41),\n",
       " (('would', 'make'), 41),\n",
       " (('time', 'time'), 41),\n",
       " (('general', 'motors'), 41),\n",
       " (('small', 'business'), 41),\n",
       " (('long', 'time'), 40),\n",
       " (('new', 'orleans'), 40),\n",
       " (('many', 'years'), 40),\n",
       " (('one', 'time'), 39),\n",
       " (('san', 'francisco'), 39),\n",
       " (('two', 'three'), 39),\n",
       " (('men', 'women'), 39),\n",
       " (('said', 'would'), 38),\n",
       " (('would', 'seem'), 38),\n",
       " (('ten', 'years'), 37),\n",
       " (('would', 'never'), 37),\n",
       " (('one', 'side'), 36),\n",
       " (('first', 'two'), 36)]"
      ]
     },
     "execution_count": 26,
     "metadata": {},
     "output_type": "execute_result"
    }
   ],
   "source": [
    "most_freq_bigrams_wo_stopwords(brown.words())"
   ]
  },
  {
   "cell_type": "markdown",
   "metadata": {},
   "source": [
    "######  19.\n",
    "◑ Write a program to create a table of word frequencies by genre, like the one given in 1 for modals. Choose your own words and try to find words whose presence (or absence) is typical of a genre. Discuss your findings.\n",
    "\n",
    "*It's not difficult to adapt the code used in the book to show the distribution of modals; but more difficult would be to generalize a function that could work with almost any collections of texts, since each collection may have a different way of organizing distinct genres.*"
   ]
  },
  {
   "cell_type": "code",
   "execution_count": 28,
   "metadata": {},
   "outputs": [
    {
     "name": "stdout",
     "output_type": "stream",
     "text": [
      "                  the     a    an  this  that these those \n",
      "      adventure  3370  1354   159   203   494    28    27 \n",
      " belles_lettres  9726  3308   583   627  1896   224   113 \n",
      "      editorial  3508  1095   184   259   578    63    57 \n",
      "        fiction  3423  1281   156   147   530    40    30 \n",
      "     government  4143   867   208   344   489   107    61 \n",
      "        hobbies  4300  1737   226   305   514   101    63 \n",
      "          humor   930   505    75    59   241    16    10 \n",
      "        learned 11079  3215   695   714  1695   314   137 \n",
      "           lore  6328  2304   364   354   984   122    75 \n",
      "        mystery  2573  1136   125   146   494    17    25 \n",
      "           news  5580  1993   300   250   802    59    58 \n",
      "       religion  2295   655   119   217   475    66    42 \n",
      "        reviews  2048   874   163   143   336    29    24 \n",
      "        romance  2758  1335   152   149   583    30    53 \n",
      "science_fiction   652   222    33    49   126    12     7 \n"
     ]
    }
   ],
   "source": [
    "cfd = nltk.ConditionalFreqDist(\n",
    "            (genre, word)\n",
    "            for genre in brown.categories()\n",
    "            for word in brown.words(categories = genre))\n",
    "\n",
    "arts = ['the', 'a', 'an', 'this', 'that', 'these', 'those']\n",
    "cfd.tabulate(conditions = brown.categories(), samples = arts)"
   ]
  },
  {
   "cell_type": "code",
   "execution_count": null,
   "metadata": {},
   "outputs": [],
   "source": []
  },
  {
   "cell_type": "code",
   "execution_count": null,
   "metadata": {},
   "outputs": [],
   "source": []
  },
  {
   "cell_type": "code",
   "execution_count": null,
   "metadata": {},
   "outputs": [],
   "source": []
  },
  {
   "cell_type": "code",
   "execution_count": null,
   "metadata": {},
   "outputs": [],
   "source": []
  },
  {
   "cell_type": "code",
   "execution_count": null,
   "metadata": {},
   "outputs": [],
   "source": []
  }
 ],
 "metadata": {
  "kernelspec": {
   "display_name": "Python 3",
   "language": "python",
   "name": "python3"
  },
  "language_info": {
   "codemirror_mode": {
    "name": "ipython",
    "version": 3
   },
   "file_extension": ".py",
   "mimetype": "text/x-python",
   "name": "python",
   "nbconvert_exporter": "python",
   "pygments_lexer": "ipython3",
   "version": "3.7.3"
  }
 },
 "nbformat": 4,
 "nbformat_minor": 2
}
