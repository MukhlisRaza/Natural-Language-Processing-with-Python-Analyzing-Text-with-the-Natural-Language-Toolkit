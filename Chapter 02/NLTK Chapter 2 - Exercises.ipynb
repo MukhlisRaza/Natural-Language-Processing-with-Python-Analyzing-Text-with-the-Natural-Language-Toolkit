{
 "cells": [
  {
   "cell_type": "markdown",
   "metadata": {},
   "source": [
    "# NLTK Chapter 1\n",
    "\n",
    "## Accessing Text Corpora and Lexical Resources\n",
    "\n",
    "*The html version of this chapter in the NLTK book is available [here](https://www.nltk.org/book/ch02.html#exercises \"Ch02 Exercises\").*\n",
    "\n",
    "### 8   Exercises\n",
    "\n",
    "###### 1. \n",
    "\n",
    "☼ Create a variable `phrase` containing a list of words. Review the operations described in the previous chapter, including addition, multiplication, indexing, slicing, and sorting.."
   ]
  },
  {
   "cell_type": "code",
   "execution_count": 3,
   "metadata": {},
   "outputs": [],
   "source": [
    "phrase1 = ['This', 'is', 'a', 'lovely', 'list', 'of', 'words.']\n",
    "phrase2 = ['As', 'is', 'this.']\n",
    "\n",
    "phrase1 + phrase2"
   ]
  },
  {
   "cell_type": "code",
   "execution_count": 6,
   "metadata": {},
   "outputs": [
    {
     "name": "stdout",
     "output_type": "stream",
     "text": [
      "['This', 'is', 'a', 'lovely', 'list', 'of', 'words.', 'This', 'is', 'a', 'lovely', 'list', 'of', 'words.', 'This', 'is', 'a', 'lovely', 'list', 'of', 'words.']"
     ]
    }
   ],
   "source": [
    "print(phrase1 * 3, end = '')"
   ]
  },
  {
   "cell_type": "code",
   "execution_count": 8,
   "metadata": {},
   "outputs": [
    {
     "data": {
      "text/plain": [
       "'words.'"
      ]
     },
     "execution_count": 8,
     "metadata": {},
     "output_type": "execute_result"
    }
   ],
   "source": [
    "phrase1[-1]"
   ]
  },
  {
   "cell_type": "code",
   "execution_count": 7,
   "metadata": {},
   "outputs": [
    {
     "data": {
      "text/plain": [
       "['a', 'lovely', 'list', 'of', 'words.']"
      ]
     },
     "execution_count": 7,
     "metadata": {},
     "output_type": "execute_result"
    }
   ],
   "source": [
    "phrase1[2:]"
   ]
  },
  {
   "cell_type": "code",
   "execution_count": 11,
   "metadata": {},
   "outputs": [
    {
     "data": {
      "text/plain": [
       "['As', 'This', 'a', 'is', 'is', 'list', 'lovely', 'of', 'this.', 'words.']"
      ]
     },
     "execution_count": 11,
     "metadata": {},
     "output_type": "execute_result"
    }
   ],
   "source": [
    "sorted(phrase1 + phrase2)"
   ]
  },
  {
   "cell_type": "markdown",
   "metadata": {},
   "source": [
    "###### 2.\n",
    "\n",
    "☼ Use the corpus module to explore `austen-persuasion.txt`. How many word tokens does this book have? How many word types?\n",
    "\n",
    "*As I discussed at length in my notes, I recommend removing non-alphabetic characters and enclitics:*"
   ]
  },
  {
   "cell_type": "code",
   "execution_count": 16,
   "metadata": {},
   "outputs": [
    {
     "data": {
      "text/plain": [
       "83617"
      ]
     },
     "execution_count": 16,
     "metadata": {},
     "output_type": "execute_result"
    }
   ],
   "source": [
    "from nltk.corpus import gutenberg\n",
    "\n",
    "austen = 'austen-persuasion.txt'\n",
    "enclitics = (\"d\", \"ll\", \"m\", \"re\", \"s\", \"t\", \"ve\")\n",
    "words = gutenberg.words(austen)\n",
    "\n",
    "# number of tokens\n",
    "num_tokens = len([w for w in words if w.isalpha() and w not in enclitics])\n",
    "\n",
    "num_tokens"
   ]
  },
  {
   "cell_type": "code",
   "execution_count": 17,
   "metadata": {},
   "outputs": [
    {
     "data": {
      "text/plain": [
       "6031"
      ]
     },
     "execution_count": 17,
     "metadata": {},
     "output_type": "execute_result"
    }
   ],
   "source": [
    "# number of word types\n",
    "num_wt = len(set([w for w in words if w.isalpha() and w not in enclitics]))\n",
    "num_wt"
   ]
  },
  {
   "cell_type": "markdown",
   "metadata": {},
   "source": [
    "*If we didn't bother with removing non-alphabetic characters and enclitics:*"
   ]
  },
  {
   "cell_type": "code",
   "execution_count": 18,
   "metadata": {},
   "outputs": [
    {
     "data": {
      "text/plain": [
       "98171"
      ]
     },
     "execution_count": 18,
     "metadata": {},
     "output_type": "execute_result"
    }
   ],
   "source": [
    "# number of tokens\n",
    "num_tokens = len([w for w in words])\n",
    "\n",
    "num_tokens"
   ]
  },
  {
   "cell_type": "code",
   "execution_count": 19,
   "metadata": {},
   "outputs": [
    {
     "data": {
      "text/plain": [
       "6132"
      ]
     },
     "execution_count": 19,
     "metadata": {},
     "output_type": "execute_result"
    }
   ],
   "source": [
    "# number of word types\n",
    "num_wt = len(set([w for w in words]))\n",
    "num_wt"
   ]
  },
  {
   "cell_type": "markdown",
   "metadata": {},
   "source": [
    "###### 3. \n",
    "\n",
    "☼ Use the Brown corpus reader `nltk.corpus.brown.words()` or the Web text corpus reader `nltk.corpus.webtext.words()` to access some sample text in two different genres.\n",
    "\n",
    "*The code below will randomly choose a category, and then randomly print five sentences from that category.*"
   ]
  },
  {
   "cell_type": "code",
   "execution_count": 105,
   "metadata": {},
   "outputs": [
    {
     "name": "stdout",
     "output_type": "stream",
     "text": [
      "[['The', 'radio', 'radiation', 'of', 'the', 'sun', 'which', 'is', 'reflected', 'from', 'the', 'moon', 'and', 'planets', 'should', 'be', 'negligible', 'compared', 'with', 'their', 'thermal', 'emission', 'at', 'centimeter', 'wave', 'lengths', ',', 'except', 'possibly', 'at', 'times', 'of', 'exceptional', 'outbursts', 'of', 'solar', 'radio', 'noise', '.'], ['The', 'quiescent', 'level', 'of', 'centimeter', 'wave-length', 'solar', 'radiation', 'would', 'increase', 'the', 'average', 'disk', 'brightness', 'temperature', 'by', 'less', 'than', '1-degree', '.'], ['At', 'meter', 'wave', 'lengths', 'an', 'increase', 'of', 'the', 'order', 'of', '10-degrees', 'in', 'the', 'average', 'disk', 'temperatures', 'of', 'the', 'nearer', 'planets', 'would', 'be', 'expected', '.'], ['Therefore', ',', 'neglecting', 'the', 'extreme', 'outbursts', ',', 'reflected', 'solar', 'radiation', 'is', 'not', 'expected', 'to', 'cause', 'sizable', 'errors', 'in', 'the', 'measurements', 'of', 'planetary', 'radiation', 'in', 'the', 'centimeter-', 'and', 'decimeter-wave-length', 'range', '.'], ['2', '.']]"
     ]
    }
   ],
   "source": [
    "from nltk.corpus import brown\n",
    "import random\n",
    "\n",
    "random_category = random.choice(brown.categories())\n",
    "random_place = random.randint(0, len(brown.sents(categories = random_category)) - 5)\n",
    "\n",
    "\n",
    "print(brown.sents(categories = random_category)[random_place:random_place + 5], end = '')"
   ]
  },
  {
   "cell_type": "markdown",
   "metadata": {},
   "source": [
    "*As you can see, the output doesn't look very nice.  We could try a list comprehension:*"
   ]
  },
  {
   "cell_type": "code",
   "execution_count": 106,
   "metadata": {},
   "outputs": [
    {
     "name": "stdout",
     "output_type": "stream",
     "text": [
      "[['The', 'radio', 'radiation', 'of', 'the', 'sun', 'which', 'is', 'reflected', 'from', 'the', 'moon', 'and', 'planets', 'should', 'be', 'negligible', 'compared', 'with', 'their', 'thermal', 'emission', 'at', 'centimeter', 'wave', 'lengths', ',', 'except', 'possibly', 'at', 'times', 'of', 'exceptional', 'outbursts', 'of', 'solar', 'radio', 'noise', '.'], ['The', 'quiescent', 'level', 'of', 'centimeter', 'wave-length', 'solar', 'radiation', 'would', 'increase', 'the', 'average', 'disk', 'brightness', 'temperature', 'by', 'less', 'than', '1-degree', '.'], ['At', 'meter', 'wave', 'lengths', 'an', 'increase', 'of', 'the', 'order', 'of', '10-degrees', 'in', 'the', 'average', 'disk', 'temperatures', 'of', 'the', 'nearer', 'planets', 'would', 'be', 'expected', '.'], ['Therefore', ',', 'neglecting', 'the', 'extreme', 'outbursts', ',', 'reflected', 'solar', 'radiation', 'is', 'not', 'expected', 'to', 'cause', 'sizable', 'errors', 'in', 'the', 'measurements', 'of', 'planetary', 'radiation', 'in', 'the', 'centimeter-', 'and', 'decimeter-wave-length', 'range', '.'], ['2', '.']]"
     ]
    }
   ],
   "source": [
    "print([w for w in brown.sents(categories = random_category)[random_place:random_place + 5]], end = '')"
   ]
  },
  {
   "cell_type": "markdown",
   "metadata": {},
   "source": [
    "*That doesn't help much.  I seem to recall having this problem in Chapter 1, so I believe I'll place the code I used into a function.  Before we do that, we'll use list comprehension to get a list of punctuation saved as word types in the Brown Corpus.*"
   ]
  },
  {
   "cell_type": "code",
   "execution_count": 151,
   "metadata": {},
   "outputs": [
    {
     "data": {
      "text/plain": [
       "['!', '&', \"'\", '(', ')', '+', ',', '-', '.', '/', ':', ';', '?', '[', ']']"
      ]
     },
     "execution_count": 151,
     "metadata": {},
     "output_type": "execute_result"
    }
   ],
   "source": [
    "non_alpha = sorted(set([y for y in [c for w in brown.sents() for c in w if len(c) == 1] if not y.isalnum()]))\n",
    "\n",
    "non_alpha"
   ]
  },
  {
   "cell_type": "code",
   "execution_count": 179,
   "metadata": {},
   "outputs": [],
   "source": [
    "def convert_list_to_text(l, exclude = []):\n",
    "    full_sent = \"\"\n",
    "    alpha_text = []\n",
    "    \n",
    "    for i in range(len(l)):\n",
    "\n",
    "        if l[i] not in exclude:\n",
    "            alpha_text.append(l[i])\n",
    "        \n",
    "        # Don't need spaces after brackets\n",
    "        elif l[i] == \"(\" or l[i] == \"[\" or l[i] == \"&\" or l[i] == \"`\":\n",
    "            full_sent += (' '.join(alpha_text) + ' ' + l[i])\n",
    "            alpha_text = []\n",
    "\n",
    "        # May need spaces after brackets\n",
    "        elif l[i] == \")\" or l[i] == \"]\":\n",
    "            # Need spaces if the next item is a word\n",
    "            if i + 1 < len(l):\n",
    "                if l[i + 1] not in exclude:\n",
    "                    full_sent += (' '.join(alpha_text) + l[i] + ' ')\n",
    "            # Don't need spaces before punctuation\n",
    "            else:\n",
    "                full_sent += (' '.join(alpha_text) + l[i])\n",
    "                alpha_text = []\n",
    "        else:\n",
    "            full_sent += (' '.join(alpha_text) + l[i] + ' ')\n",
    "            alpha_text = []\n",
    "\n",
    "    return full_sent"
   ]
  },
  {
   "cell_type": "code",
   "execution_count": 162,
   "metadata": {},
   "outputs": [
    {
     "name": "stdout",
     "output_type": "stream",
     "text": [
      "`` It doesn't drown out the dialogue '', I explained. `` Let's talk about books '', Moreland said. `` I am told that in America you have non-books by non-writers, brought out by non-publishers for non-readers. Is it all non-fiction ''? ? `` There is non-fiction and non non-fiction '', I said. \n"
     ]
    }
   ],
   "source": [
    "text = [w for w in brown.sents(categories = random_category)[random_place:random_place + 5]]\n",
    "\n",
    "full_text = []\n",
    "for t in text:\n",
    "    full_text.append(convert_list_to_text(t, non_alpha))\n",
    "print(''.join(full_text))"
   ]
  },
  {
   "cell_type": "markdown",
   "metadata": {},
   "source": [
    "*It's not perfect, but it looks much better than it did.  Let's try it again with another random text:*"
   ]
  },
  {
   "cell_type": "code",
   "execution_count": 186,
   "metadata": {},
   "outputs": [
    {
     "name": "stdout",
     "output_type": "stream",
     "text": [
      "The daughter replied, `` Oh, I had dinner with -- well, you don't know him but he's awfully nice -- and we went to a couple of places -- I don't suppose you've heard of them -- and we finished up at a cute little night club -- I forget the name of it. Why, it's all right, isn't it, Mother ''? ? Her woolly-minded parent agreed. `` Of course, dear '', she said. `` It's only that I like to know where you go ''. \n"
     ]
    }
   ],
   "source": [
    "random_category = random.choice(brown.categories())\n",
    "random_place = random.randint(0, len(brown.sents(categories = random_category)) - 5)\n",
    "\n",
    "text = [w for w in brown.sents(categories = random_category)[random_place:random_place + 5]]\n",
    "\n",
    "full_text = []\n",
    "for t in text:\n",
    "    full_text.append(convert_list_to_text(t, non_alpha))\n",
    "print(''.join(full_text))"
   ]
  },
  {
   "cell_type": "markdown",
   "metadata": {},
   "source": [
    "*There are still some issues with spaces being inserted before and after quotation marks.  I'll have to come back to this later, as I've already spent too much time on this question...*"
   ]
  },
  {
   "cell_type": "markdown",
   "metadata": {},
   "source": [
    "###### 4.\n",
    "☼ Read in the texts of the State of the Union addresses, using the `state_union` corpus reader. Count occurrences of `men`, `women`, and `people` in each document. What has happened to the usage of these words over time?"
   ]
  },
  {
   "cell_type": "code",
   "execution_count": 103,
   "metadata": {},
   "outputs": [],
   "source": [
    "import nltk\n",
    "%matplotlib inline\n",
    "from nltk.corpus import state_union"
   ]
  },
  {
   "cell_type": "code",
   "execution_count": 192,
   "metadata": {},
   "outputs": [],
   "source": [
    "cfd = nltk.ConditionalFreqDist(\n",
    "        (target, fileid[:4])\n",
    "        for fileid in state_union.fileids()\n",
    "        for w in state_union.words(fileid)\n",
    "        for target in ['men', 'women', 'people']\n",
    "        if w.lower().startswith(target))"
   ]
  },
  {
   "cell_type": "markdown",
   "metadata": {},
   "source": [
    "*There are too many documents here for us to put them in a table that will fit across the screen:*"
   ]
  },
  {
   "cell_type": "code",
   "execution_count": 215,
   "metadata": {},
   "outputs": [
    {
     "data": {
      "text/plain": [
       "65"
      ]
     },
     "execution_count": 215,
     "metadata": {},
     "output_type": "execute_result"
    }
   ],
   "source": [
    "\n",
    "len(state_union.fileids())"
   ]
  },
  {
   "cell_type": "markdown",
   "metadata": {},
   "source": [
    "*One option to deal with this is to use a sampling of one State of the Union from every four years.  This way, there will be approximately one address for each presidential term:*"
   ]
  },
  {
   "cell_type": "code",
   "execution_count": 214,
   "metadata": {},
   "outputs": [
    {
     "name": "stdout",
     "output_type": "stream",
     "text": [
      "       1945 1949 1953 1957 1961 1965 1969 1973 1977 1981 1985 1989 1993 1997 2001 2005 \n",
      "   men    2    2    5    7    6   22    5    1    2    3    1    4    1    1    6    8 \n",
      " women    2    1    0    2    0    3    2    0    1    1    1    3    2    2    6   11 \n",
      "people   10   18   20   17   13   30    6   10   20   11   12   13   45   31   27   18 \n"
     ]
    }
   ],
   "source": [
    "years = range(1945, 2007, 4)\n",
    "cfd.tabulate(samples = [str(y) for y in years], conditions = ['men', 'women', 'people'])"
   ]
  },
  {
   "cell_type": "markdown",
   "metadata": {},
   "source": [
    "*Another option is to use a plot instead of a table:*"
   ]
  },
  {
   "cell_type": "code",
   "execution_count": 198,
   "metadata": {},
   "outputs": [
    {
     "data": {
      "image/png": "[encoded data removed]",
      "text/plain": [
       "<Figure size 1080x720 with 1 Axes>"
      ]
     },
     "metadata": {
      "needs_background": "light"
     },
     "output_type": "display_data"
    }
   ],
   "source": [
    "# to adjust the size of the plot\n",
    "import matplotlib.pyplot as plt\n",
    "\n",
    "plt.figure(figsize=(15, 10))\n",
    "cfd.plot();"
   ]
  },
  {
   "cell_type": "markdown",
   "metadata": {},
   "source": [
    "###### 5.\n",
    "\n",
    "☼ Investigate the holonym-meronym relations for some nouns. Remember that there are three kinds of holonym-meronym relation, so you need to use: `member_meronyms()`, `part_meronyms()`, `substance_meronyms()`, `member_holonyms()`, `part_holonyms()`, and `substance_holonyms()`.\n",
    "\n",
    "*As I mentioned in my notes for Chapter 2, I've found WordNet to be quite difficult to navigate.  The work that I've done on this unit has done nothing to convince me otherwise.  In addition to being difficult to use, I'm finding WordNet rather incomplete.  Let me take 'school' as an example.  Since I'm not sure which synset corresponds to the traditional meaning of 'school', I'll look up the definitions.*"
   ]
  },
  {
   "cell_type": "code",
   "execution_count": 197,
   "metadata": {},
   "outputs": [],
   "source": [
    "from nltk.corpus import wordnet as wn"
   ]
  },
  {
   "cell_type": "code",
   "execution_count": 234,
   "metadata": {},
   "outputs": [
    {
     "data": {
      "text/plain": [
       "['an educational institution',\n",
       " 'a building where young people receive education',\n",
       " 'the process of being formally educated at a school',\n",
       " 'a body of creative artists or writers or thinkers linked by a similar style or by similar teachers',\n",
       " 'the period of instruction in a school; the time period when school is in session',\n",
       " \"an educational institution's faculty and students\",\n",
       " 'a large group of fish',\n",
       " 'educate in or as if in a school',\n",
       " 'teach or refine to be discriminative in taste or judgment',\n",
       " 'swim in or form a large group of fish']"
      ]
     },
     "execution_count": 234,
     "metadata": {},
     "output_type": "execute_result"
    }
   ],
   "source": [
    "[s.definition() for s in wn.synsets('school')]"
   ]
  },
  {
   "cell_type": "code",
   "execution_count": 244,
   "metadata": {},
   "outputs": [
    {
     "data": {
      "text/plain": [
       "[Synset('schoolteacher.n.01'), Synset('staff.n.03')]"
      ]
     },
     "execution_count": 244,
     "metadata": {},
     "output_type": "execute_result"
    }
   ],
   "source": [
    "wn.synset('school.n.01').member_meronyms()"
   ]
  },
  {
   "cell_type": "markdown",
   "metadata": {},
   "source": [
    "*Of course, a school needs teachers, as well as staff.  But doesn't it seem odd that it's lacking students?  Let's try another example: 'team'.*"
   ]
  },
  {
   "cell_type": "code",
   "execution_count": 242,
   "metadata": {},
   "outputs": [
    {
     "data": {
      "text/plain": [
       "['a cooperative unit (especially in sports)',\n",
       " 'two or more draft animals that work together to pull something',\n",
       " 'form a team']"
      ]
     },
     "execution_count": 242,
     "metadata": {},
     "output_type": "execute_result"
    }
   ],
   "source": [
    "[s.definition() for s in wn.synsets('team')]"
   ]
  },
  {
   "cell_type": "code",
   "execution_count": 241,
   "metadata": {},
   "outputs": [
    {
     "data": {
      "text/plain": [
       "[Synset('stringer.n.01')]"
      ]
     },
     "execution_count": 241,
     "metadata": {},
     "output_type": "execute_result"
    }
   ],
   "source": [
    "wn.synset('team.n.01').member_meronyms()"
   ]
  },
  {
   "cell_type": "markdown",
   "metadata": {},
   "source": [
    "*So, \"stringer\"s are more essential to teams than players?  Interesting...*"
   ]
  },
  {
   "cell_type": "code",
   "execution_count": 243,
   "metadata": {},
   "outputs": [
    {
     "data": {
      "text/plain": [
       "[Synset('bench.n.06')]"
      ]
     },
     "execution_count": 243,
     "metadata": {},
     "output_type": "execute_result"
    }
   ],
   "source": [
    "wn.synset('team.n.01').part_meronyms()"
   ]
  },
  {
   "cell_type": "code",
   "execution_count": 237,
   "metadata": {},
   "outputs": [
    {
     "data": {
      "text/plain": [
       "[Synset('classroom.n.01')]"
      ]
     },
     "execution_count": 237,
     "metadata": {},
     "output_type": "execute_result"
    }
   ],
   "source": [
    "wn.synset('school.n.02').part_meronyms()"
   ]
  },
  {
   "cell_type": "markdown",
   "metadata": {},
   "source": [
    "*I'm not too surprised that 'school's and 'team's don't have substances, but it was rather difficult to come up with non-chemical examples.*"
   ]
  },
  {
   "cell_type": "code",
   "execution_count": 240,
   "metadata": {},
   "outputs": [
    {
     "data": {
      "text/plain": [
       "[Synset('hydrogen.n.01'), Synset('oxygen.n.01')]"
      ]
     },
     "execution_count": 240,
     "metadata": {},
     "output_type": "execute_result"
    }
   ],
   "source": [
    "wn.synset('water.n.01').substance_meronyms()"
   ]
  },
  {
   "cell_type": "markdown",
   "metadata": {},
   "source": [
    "*Blood is made from serum?  Fascinating...*"
   ]
  },
  {
   "cell_type": "code",
   "execution_count": 250,
   "metadata": {},
   "outputs": [
    {
     "data": {
      "text/plain": [
       "[Synset('serum.n.01')]"
      ]
     },
     "execution_count": 250,
     "metadata": {},
     "output_type": "execute_result"
    }
   ],
   "source": [
    "wn.synset('blood.n.01').substance_meronyms()"
   ]
  },
  {
   "cell_type": "markdown",
   "metadata": {},
   "source": [
    "*Let's go the other way and see if we have more luck:*"
   ]
  },
  {
   "cell_type": "code",
   "execution_count": 251,
   "metadata": {},
   "outputs": [
    {
     "data": {
      "text/plain": [
       "['a person who participates in or is skilled at some game',\n",
       " 'someone who plays a musical instrument (as a profession)',\n",
       " 'a theatrical performer',\n",
       " 'a person who pursues a number of different social and sexual partners simultaneously',\n",
       " 'an important participant (as in a business deal)']"
      ]
     },
     "execution_count": 251,
     "metadata": {},
     "output_type": "execute_result"
    }
   ],
   "source": [
    "[s.definition() for s in wn.synsets('player')]"
   ]
  },
  {
   "cell_type": "code",
   "execution_count": 253,
   "metadata": {},
   "outputs": [
    {
     "data": {
      "text/plain": [
       "[]"
      ]
     },
     "execution_count": 253,
     "metadata": {},
     "output_type": "execute_result"
    }
   ],
   "source": [
    "wn.synset('player.n.01').member_holonyms()"
   ]
  },
  {
   "cell_type": "code",
   "execution_count": 257,
   "metadata": {},
   "outputs": [
    {
     "data": {
      "text/plain": [
       "[]"
      ]
     },
     "execution_count": 257,
     "metadata": {},
     "output_type": "execute_result"
    }
   ],
   "source": [
    "wn.synset('player.n.01').part_holonyms()"
   ]
  },
  {
   "cell_type": "markdown",
   "metadata": {},
   "source": [
    "*Interesting - let's see if `member` is a member of any holonyms:*"
   ]
  },
  {
   "cell_type": "code",
   "execution_count": 254,
   "metadata": {},
   "outputs": [
    {
     "data": {
      "text/plain": [
       "['one of the persons who compose a social group (especially individuals who have joined and participate in a group organization)',\n",
       " 'anything that belongs to a set or class',\n",
       " 'an external body part that projects from the body',\n",
       " 'an organization that is a member of another organization (especially a state that belongs to a group of nations)',\n",
       " \"the male organ of copulation (`member' is a euphemism)\"]"
      ]
     },
     "execution_count": 254,
     "metadata": {},
     "output_type": "execute_result"
    }
   ],
   "source": [
    "[s.definition() for s in wn.synsets('member')]"
   ]
  },
  {
   "cell_type": "code",
   "execution_count": 255,
   "metadata": {},
   "outputs": [
    {
     "data": {
      "text/plain": [
       "[]"
      ]
     },
     "execution_count": 255,
     "metadata": {},
     "output_type": "execute_result"
    }
   ],
   "source": [
    "wn.synset('member.n.01').member_holonyms()"
   ]
  },
  {
   "cell_type": "code",
   "execution_count": 256,
   "metadata": {},
   "outputs": [
    {
     "data": {
      "text/plain": [
       "[]"
      ]
     },
     "execution_count": 256,
     "metadata": {},
     "output_type": "execute_result"
    }
   ],
   "source": [
    "wn.synset('member.n.01').part_holonyms()"
   ]
  },
  {
   "cell_type": "markdown",
   "metadata": {},
   "source": [
    "*Amazing.  The maintainers of WordNet found it necessary to remark that 'member' can be slang for a penis, but not that 'member' can be, well, a member of anything.*\n",
    "\n",
    "*Let's keep on trying.  After about five tries, I finally found a word that had a `part_holonym`:*"
   ]
  },
  {
   "cell_type": "code",
   "execution_count": 266,
   "metadata": {},
   "outputs": [
    {
     "data": {
      "text/plain": [
       "[Synset('angel.n.01'),\n",
       " Synset('bat.n.01'),\n",
       " Synset('bird.n.01'),\n",
       " Synset('insect.n.01')]"
      ]
     },
     "execution_count": 266,
     "metadata": {},
     "output_type": "execute_result"
    }
   ],
   "source": [
    "wn.synset('wing.n.01').part_holonyms()"
   ]
  },
  {
   "cell_type": "markdown",
   "metadata": {},
   "source": [
    "*Likewise, I needed about five tries to find a word that had a `member_holonym`:*"
   ]
  },
  {
   "cell_type": "code",
   "execution_count": 278,
   "metadata": {},
   "outputs": [
    {
     "data": {
      "text/plain": [
       "[Synset('animalia.n.01')]"
      ]
     },
     "execution_count": 278,
     "metadata": {},
     "output_type": "execute_result"
    }
   ],
   "source": [
    "wn.synset('animal.n.01').member_holonyms()"
   ]
  },
  {
   "cell_type": "code",
   "execution_count": 280,
   "metadata": {},
   "outputs": [
    {
     "data": {
      "text/plain": [
       "[Synset('aves.n.01'), Synset('flock.n.02')]"
      ]
     },
     "execution_count": 280,
     "metadata": {},
     "output_type": "execute_result"
    }
   ],
   "source": [
    "wn.synset('bird.n.01').member_holonyms()"
   ]
  },
  {
   "cell_type": "markdown",
   "metadata": {},
   "source": [
    "*But it was easier to find a __substance holonym__ than __substance meronym__.*"
   ]
  },
  {
   "cell_type": "code",
   "execution_count": 281,
   "metadata": {},
   "outputs": [
    {
     "data": {
      "text/plain": [
       "[Synset('body_of_water.n.01'),\n",
       " Synset('ice.n.01'),\n",
       " Synset('ice_crystal.n.01'),\n",
       " Synset('perspiration.n.01'),\n",
       " Synset('snowflake.n.01'),\n",
       " Synset('tear.n.01')]"
      ]
     },
     "execution_count": 281,
     "metadata": {},
     "output_type": "execute_result"
    }
   ],
   "source": [
    "wn.synset('water.n.01').substance_holonyms()"
   ]
  },
  {
   "cell_type": "markdown",
   "metadata": {},
   "source": [
    "*My feelings from earlier are if anything stronger than before: WordNet is too incomplete and too inconsistent to be of any practical use.*"
   ]
  },
  {
   "cell_type": "markdown",
   "metadata": {},
   "source": [
    "###### 6.\n",
    "\n",
    "☼ In the discussion of comparative wordlists, we created an object called `translate` which you could look up using words in both German and Spanish in order to get corresponding words in English. What problem might arise with this approach? Can you suggest a way to avoid this problem?\n",
    "\n",
    "*One issue might be homographs with different meanings.  I.e., a word that is spelled the same in both languages, but has different meanings.  A possible fix would be to add a second parameter to `translate` which would specify from which dictionary the translation should be drawn.*"
   ]
  },
  {
   "cell_type": "markdown",
   "metadata": {},
   "source": [
    "###### 7. \n",
    "\n",
    "☼ According to Strunk and White's Elements of Style, the word however, used at the start of a sentence, means \"in whatever way\" or \"to whatever extent\", and not \"nevertheless\". They give this example of correct usage: <i>[However you advise him, he will probably do as he thinks best.]( http://www.bartleby.com/141/strunk3.html \"'However' example\")</i> Use the concordance tool to study actual usage of this word in the various texts we have been considering. See also [the LanguageLog posting \"Fossilized prejudices about 'however'\"](http://itre.cis.upenn.edu/~myl/languagelog/archives/001913.html \"Fossilized prejudices about 'however'\").\n",
    "\n",
    "*One issue with NLTK's concordance tool is that it doesn't allow us to specify where in the sentence the word should be found.  In the first 25 occurences of 'however' in \"Emma\", only three occur at the start of a sentence:*"
   ]
  },
  {
   "cell_type": "code",
   "execution_count": 101,
   "metadata": {},
   "outputs": [
    {
     "name": "stdout",
     "output_type": "stream",
     "text": [
      "Displaying 25 of 131 matches:\n",
      " her many enjoyments . The danger , however , was at present so unperceived , t\n",
      "ion would offend . Miss Churchill , however , being of age , and with the full \n",
      "n . From the expense of the child , however , he was soon relieved . The boy ha\n",
      " -- and been very well brought up . However , I do not mean to set up my opinio\n",
      "f and predict . It was not likely , however , that any body should have equalle\n",
      "to be borne . We will not despair , however . Weston may grow cross from the wa\n",
      "is so very handsome and agreeable . However , I do really think Mr . Martin a v\n",
      " accepted after all . This letter , however , was written , and sealed , and se\n",
      "e him .\" \" And if I did , ( which , however , I am far from allowing ) I should\n",
      " slightingly . Waiving that point , however , and supposing her to be , as you \n",
      "e was not so materially cast down , however , but that a little time and the re\n",
      "ld inspire him .\" The very next day however produced some proof of inspiration \n",
      "and staid to look through herself ; however , she called me back presently , an\n",
      "t turn up . His ostensible reason , however , was to ask whether Mr . Woodhouse\n",
      "l and cross . This does not apply , however , to Miss Bates ; she is only too g\n",
      "and sufferings of the poor family , however , were the first subject on meeting\n",
      "ting for her . She gained on them , however , involuntarily : the child ' s pac\n",
      "ould close it . It was not closed , however , it still remained ajar ; but by e\n",
      " believes himself secure .\" Still , however , though every thing had not been a\n",
      "ght advance rapidly if they would , however ; they must advance somehow or othe\n",
      " offence came not . The beginning , however , of every visit displayed none but\n",
      "eed !-- and my memory is very bad . However , it was an exceeding good , pretty\n",
      "first day . Emma ' s sense of right however had decided it ; and besides the co\n",
      "le fatigued . I could have wished , however , as you know , that you had seen M\n",
      "\" Our little friend Harriet Smith , however , is just such another pretty kind \n"
     ]
    }
   ],
   "source": [
    "emma = nltk.Text(nltk.corpus.gutenberg.words('austen-emma.txt'))\n",
    "emma.concordance(\"However\")"
   ]
  },
  {
   "cell_type": "markdown",
   "metadata": {},
   "source": [
    "*To remedy this, I wrote this code, which prints out concordances only if a given word occurs at a specific point in a sentence:*"
   ]
  },
  {
   "cell_type": "code",
   "execution_count": 91,
   "metadata": {},
   "outputs": [],
   "source": [
    "def find_concordance_by_position(text, word, pos = 0):\n",
    "    \"\"\"\n",
    "    Returns a concordance for a text only if the word is\n",
    "    found at the given position.  Works on lists where each\n",
    "    item is a separate sentence.\n",
    "    \n",
    "    Arguments:\n",
    "    \n",
    "    text: The text to be searched.  Must be a list where\n",
    "          each item is a separate sentence.\n",
    "    word: The word to be searched for.  Case insensitive.\n",
    "    pos:  The position where the word should be found.  \n",
    "          Default is 0.\n",
    "    \"\"\"\n",
    "    hits = 0\n",
    "    \n",
    "    for i in range(len(text)):\n",
    "        if text[i][pos].lower() == word:\n",
    "            prefix = text[i - 1]\n",
    "            prefix = ' '.join(prefix)\n",
    "            if len(prefix) < 35:\n",
    "                prefix = (35 - len(prefix)) * \" \" + prefix\n",
    "            suffix = text[i]\n",
    "            suffix = ' '.join(suffix)\n",
    "            print(prefix[-35:] + \" \" + suffix[:40])\n",
    "            hits += 1\n",
    "            \n",
    "    if hits == 0:\n",
    "        print(\"No matches.\")"
   ]
  },
  {
   "cell_type": "code",
   "execution_count": 85,
   "metadata": {},
   "outputs": [
    {
     "name": "stdout",
     "output_type": "stream",
     "text": [
      " -- and been very well brought up . However , I do not mean to set up my opi\n",
      "is so very handsome and agreeable . However , I do really think Mr . Martin \n",
      "eed !-- and my memory is very bad . However , it was an exceeding good , pre\n",
      "          Jane speaks so distinct ! However , she will not find her grandmam\n",
      "inctly , and was sadly alarmed at . However , when I read on , I found it wa\n",
      "hough she speaks rather too quick . However , she is very agreeable , and Mr\n",
      "at I would not expose any body to . However , as they are so very desirous t\n",
      "ar , I did say as much as I could . However , the very same evening William \n",
      "m often astonished at what I hear . However , this does make a difference ; \n",
      "aks like you and poor Miss Taylor . However , she seems a very obliging , pr\n",
      "emed very much to have enjoyed it . However , _I_ shall always think it a ve\n",
      "t least , but I might be mistaken . However , I think it answered so far as \n"
     ]
    }
   ],
   "source": [
    "find_concordance_by_position(nltk.corpus.gutenberg.sents('austen-emma.txt'), \"however\", 0)"
   ]
  },
  {
   "cell_type": "markdown",
   "metadata": {},
   "source": [
    "*Older texts seem to use the word very infrequently, if at all:*"
   ]
  },
  {
   "cell_type": "code",
   "execution_count": 87,
   "metadata": {},
   "outputs": [
    {
     "name": "stdout",
     "output_type": "stream",
     "text": [
      "f scorn , not to be given the Foe . However I with thee have fixed my lot , \n",
      "pride , and joy , for Man seduced . However , some tradition they dispersed \n"
     ]
    }
   ],
   "source": [
    "find_concordance_by_position(nltk.corpus.gutenberg.sents('milton-paradise.txt'), 'however', 0)"
   ]
  },
  {
   "cell_type": "code",
   "execution_count": 92,
   "metadata": {},
   "outputs": [
    {
     "name": "stdout",
     "output_type": "stream",
     "text": [
      "No matches.\n"
     ]
    }
   ],
   "source": [
    "find_concordance_by_position(nltk.corpus.gutenberg.sents('bible-kjv.txt'), 'however', 0)\n"
   ]
  },
  {
   "cell_type": "code",
   "execution_count": 93,
   "metadata": {},
   "outputs": [
    {
     "name": "stdout",
     "output_type": "stream",
     "text": [
      "No matches.\n"
     ]
    }
   ],
   "source": [
    "find_concordance_by_position(nltk.corpus.gutenberg.sents('shakespeare-hamlet.txt'), 'however', 0)\n"
   ]
  },
  {
   "cell_type": "markdown",
   "metadata": {},
   "source": [
    "*Now I'm going to look at the Brown Corpus, category by category;*"
   ]
  },
  {
   "cell_type": "code",
   "execution_count": 99,
   "metadata": {},
   "outputs": [
    {
     "name": "stdout",
     "output_type": "stream",
     "text": [
      "Now analyzing adventure: \n",
      "\n",
      "ything but swarms of bees in them . However , when there's a job to be done \n",
      "\n",
      "\n",
      "Now analyzing belles_lettres: \n",
      "\n",
      "til well into the present century . However , in recent decades , for what d\n",
      "absolutely certain of the answers . However , the system is designed , ingen\n",
      "called `` historical monuments '' . However , just as all the buildings have\n",
      "st and had even performed as such . However , when he assumed the duties of \n",
      " dictates as faithfully as he can . However , there is always the possibilit\n",
      "easurable properties of a command . However , for convenience we will stick \n",
      " physiognomy of the Little People . However , it is important to trace the p\n",
      "iritual forces into the situation . However , the crisis occurs precisely as\n",
      "n that sense I can never be again . However , I confess my hope that I will \n",
      "may , like paradise , be regained . However , it was not of innocence in gen\n",
      "mind and usage of Gentile and Jew . However , in the context of legal and ci\n",
      "ling down on the embattled Gorton . However , the General Court at Boston or\n",
      "r insights they needed to possess . However , as a practicing historian , he\n",
      "nts for a proper study of history . However , despite the insight of many of\n",
      "e nothing more to do with them '' . However , at eighty-five , he had still \n",
      "rm and presentation of his poetry . However , his subject matter and basic t\n",
      "\n",
      "\n",
      "Now analyzing editorial: \n",
      "\n",
      " of all translations of the Bible . However , Biblical scholars frequently a\n",
      "ges as has the King James Version . However , an initial perusal and compari\n",
      "ention needed during an emergency . However , the East Providence Rescue Squ\n",
      "brought about new ways of dialing . However , there are still several types \n",
      "uylkill Expressway are valuable ; ; however , several pertinent consideratio\n",
      "ion to the problem has some merit . However , he states unequivocally `` the\n",
      "this no loyal citizen can quarrel . However , it seems axiomatic that the go\n",
      "libly summarized by a commentator . However , last night the tapes were not \n",
      "hought ) during the evening hours . However , by comparing the TV snatches ,\n",
      "\n",
      "\n",
      "Now analyzing fiction: \n",
      "\n",
      "duty to God and his own salvation . However , a boy's lively eyes might rove\n",
      " so harassed him twelve hours ago . However , the litter remained , augmente\n",
      "\n",
      "\n",
      "Now analyzing government: \n",
      "\n",
      "in ease of audit time and payment . However , they lend themselves to abuse \n",
      "ue on some boats for tax purposes . However , few are taxed , and the owners\n",
      "special districts in Rhode Island . However , a word should be mentioned in \n",
      "tate , city and local governments . However , only Illinois , Oregon , Louis\n",
      "as painful as is commonly thought . However , it must be stressed that much \n",
      "cal tax collection year calendars . However , neither of these two cities is\n",
      "atures for the bulk liquid helium . However , the surface temperature gradie\n",
      "s to the lines that wish to merge . However , there is a more profound consi\n",
      "o allow use of the whole basement . However , as much time as possible shoul\n",
      "               353 U. S. , at 606 . However , it determined that neither thi\n",
      "racies to monopolize , such trade . However , this Court put to one side wit\n",
      "rategic weapon system is doubtful . However , I am recommending that develop\n",
      " of little practical significance . However , in this case as elsewhere it w\n",
      "x returns are due April 16 , 1962 . However , if their United States income \n",
      " 1961 will be lower than for 1960 . However , the healthy inventory position\n",
      "ely the same as our present plant . However , its modern one-story layout is\n",
      "ion against 5.7 million in 1959 ; ; however , production came to only 5.6 mi\n",
      "\n",
      "\n",
      "Now analyzing hobbies: \n",
      "\n",
      "to destruction by nuclear weapons . However , because this vulnerability is \n",
      "killer problem is manned aircraft . However , the aircraft which we have tod\n",
      "               must and should do . However , there is a minimum of legislat\n",
      "r of fitting is not too important . However , we started with the first row \n",
      "lved with mathematical problems ; ; however , he will have a clearer underst\n",
      "grammar school arithmetic classes . However , it is essential that the vario\n",
      "ormula is as important as another . However , some formulas are used more th\n",
      "onvert the result to cubic inches . However , the displacement of the cylind\n",
      "he public areas and when on tours . However , the use of tripods is not allo\n",
      "lanner to carry through the study . However , there is also much to be gaine\n",
      "ul radius equal in all directions . However , a narrow strip may be very pra\n",
      "a way of life for fellow citizens . However , in all of Prokofieff's music ,\n",
      "e a color mixture as I can manage . However , first I thoughtfully study my \n",
      "re a philosopher than a physicist . However , he continued experimenting and\n",
      "ply against weather contingencies . However , that is not all he has to do .\n",
      "hen everything is strange and new . However , after you've seen all the hist\n",
      "ey do for the drive-yourself cars . However , whether you arrange to have a \n",
      "\n",
      "\n",
      "Now analyzing humor: \n",
      "\n",
      "more or less harmless `` nut '' ! ! However while in his cell awaiting trial\n",
      "iola and her chaperon at her home . However , such a hotbed of gossip had gr\n",
      "nemesis haunting his footsteps '' . However one looks at it , therefore , I'\n",
      "\n",
      "\n",
      "Now analyzing learned: \n",
      "\n",
      "or will modify these conditions ; ; however , the anode is still the part re\n",
      "als should be usable in principle . However , technical difficulties arise b\n",
      "an be considered exploratory only . However , they do demonstrate the presen\n",
      "ops to confirm the above formulas . However , there are photographs of suspe\n",
      "volume per oxygen is about normal . However , the possible absence of a cent\n",
      "rs and Af those on the other side . However , any oxygen nonequivalence woul\n",
      " Cr as compared with 61.2% theory . However , Af adsorbs water from the atmo\n",
      "ace irregularities to some extent . However , a major factor in binding dirt\n",
      "apolated to meteoritic velocities . However , one must expect that vaporizat\n",
      "0-M-diameter sphere of density Af . However , the conversion from mass to si\n",
      "s were used to test each sample ; ; however , in the interest of clarity and\n",
      "eported in 1944 by Emmett R. Dunn . However , as a field measurement , it is\n",
      "t and can be accepted as probable . However , many herpetologists remain ske\n",
      "` normal '' newly born individual . However , as so many of the records are \n",
      "logic differences been determined . However , the dynamics of airflow , from\n",
      "s found in the horse is not clear . However , this artery is known to be a n\n",
      " not as yet completely understood . However , the formation of organically b\n",
      "ht green nonspecific fluorescence . However , the nonspecific staining by th\n",
      "ed conditioned reactions reappear . However , if these procedures are applie\n",
      "fact that it is a linear operator . However , one does not need to know very\n",
      " the pencil which meets its image . However , since the pencil contains a se\n",
      "f the general lines of the pencil . However , if there is no additional comp\n",
      "expected adherence to group norms . However , because of Church laws , latel\n",
      "er system or within the subgroups . However , it cannot be presumed , inform\n",
      "as in the case of this population . However , the factor of physical isolati\n",
      "cation of demographic information . However , the statistical offices of bot\n",
      "s used for the new investigations . However , the differences in procedure a\n",
      "lly functional for these students . However , all admitted that the `` hinds\n",
      "in which she relinquished control . However , she was able to relax and yiel\n",
      "and was regarded as a `` comer '' . However , he turned out to be a complete\n",
      "ls threatened and defends himself . However , in this case the district mana\n",
      "e small differences between tones . However , any such suggestion accounts f\n",
      "esumably for the peace conference . However , there was no real question of \n",
      "ions was generally above reproach . However , the regionally differentiated \n",
      "ts , and are not guaranteed a job . However , there always is some limit to \n",
      "benefit employers in other states . However , if Federal funds are used , it\n",
      " publicly offered corporate bonds . However , as witnessed by the large corp\n",
      "e position for the banking system . However , the monetary authorities will \n",
      "o long-term Government securities . However , to the extent that the monetar\n",
      "economic prospects of the Sixties . However , the impact of a rising rate of\n",
      "te an argument for raising prices . However , it is not known to either the \n",
      "ation of the `` sovereign will '' . However , the sovereign was not Hobbes' \n",
      "ortization over a 60-month period . However , a similar privilege was not sp\n",
      "operating control over the system . However , when labor disputes arise , it\n",
      "f course , obeyed the court order . However , the Attorney General of Califo\n",
      "s Regulation was being challenged . However , the Federal Court held that si\n",
      "rst few years of the child's life . However , the teacher who understands th\n",
      " fourth year it begins to decline . However , as we have seen , in later chi\n",
      "ower-class interests in education . However , there are relatively few such \n",
      "ot descend to pure sensationalism . However , when philosophy attempts to st\n",
      "seem a modest role for philosophy . However , modesty and triviality are dif\n",
      "lt from scratch at today's prices . However , the building of freeways and g\n",
      "not a primary aim of this project . However , the proposed correlation of th\n",
      " beef from 5 days to 5 or 6 weeks . However , the problem of consumer accept\n",
      "inctly improved keeping qualities . However , a major problem here is one of\n",
      "gh the origin and having slope Af . However , in the actual assessment of th\n",
      "btainable resolution is concerned . However , the unavoidable low-duty cycle\n",
      " showing high gain and resolution . However , electrostatic focus , importan\n",
      "hing of flight equipment circuits . However , the leveling operation can be \n",
      " angle ) can be seen after a time . However , skill is required on the part \n",
      "st be known for each launch point . However , this difficulty is not too ser\n",
      "\n",
      "\n",
      "Now analyzing lore: \n",
      "\n",
      "uivalents in our wakeful thoughts . However , readers who accept Freud's fin\n",
      "                  your livelihood . However , the last few years of your lif\n",
      "ning in hereditary predisposition . However , this does not mean that a chil\n",
      " , on this side of the `` veil '' . However that may be , people are known t\n",
      "ious '' moods and to clarify them . However , in the next visit that the res\n",
      " county governments in 1928-29 '' . However , this inaugural feast did its s\n",
      "ned joining a synagogue or temple . However , they were hostile to Jewish Or\n",
      "win positions on the school teams . However , in their junior and senior yea\n",
      "-old machinist observed irritably . However , among the girls , there are so\n",
      " the faculty have been unavailing . However , a growing intellectual sophist\n",
      "n occasion , be anything but that . However , by cultivating a wine dealer a\n",
      "the only college in the Ivy group . However , three distinguished associated\n",
      "span the other Ivies have enjoyed . However much football has been over-emph\n",
      " this regard in the Negro schools . However , the teacher can only go so far\n",
      "e student's time in those years ; ; however , for slow learners and prospect\n",
      "ing jump , it could get into gear . However nothing on four legs was suppose\n",
      "communicated to all congregations . However needed this may be , the fundame\n",
      "cular and of the world in general . However , as Erickson has noted , the in\n",
      "couraged to develop some autonomy . However , if the child has been constant\n",
      "urious about the African reaction . However , the chaos on my desk prevented\n",
      "m this -- in the order of justice . However , it is also a Christian insight\n",
      "\n",
      "\n",
      "Now analyzing mystery: \n",
      "\n",
      "g automobiles for a possible lead . However , it was virtually impossible to\n",
      "  They discussed this possibility . However likely it was , Pauling said , h\n",
      " take on overtones of a nightmare . However , Haney knew it was not a dream \n",
      "\n",
      "\n",
      "Now analyzing news: \n",
      "\n",
      "                    Merger proposed However , the jury said it believes `` t\n",
      "minor editing and clarification ; ; however , the first belief stood for ent\n",
      "ainst teams in the other division . However , this would require a lengtheni\n",
      "ro Beach , Fla. , for the wedding . However , Mr. Parichy and his bride will\n",
      " admitted killing Mrs. Hengesbach . However , the confession , which was the\n",
      "hat it was not in the Friday mail . However , three of the managers did say \n",
      "14 per cent over February's 2,963 . However , compared with March 1960 new c\n",
      "fore the American Marketing Assn. . However , Peterson , president of Bell &\n",
      "solution , naturally , is the bus . However , it's a half-mile walk down a s\n",
      "acturers is hardly such a vehicle . However , one can argue that no such con\n",
      "d to wait until the Congo grew up . However , the positions of all parties a\n",
      "the admission of Outer Mongolia ; ; however the President , who would like t\n",
      "nds have slipped a bit since then . However , in the same three-month period\n",
      "\n",
      "\n",
      "Now analyzing religion: \n",
      "\n",
      "he pundits seem to have suspected . However , even if the latent demand for \n",
      "dition is an enduring achievement . However much we may have to criticize li\n",
      "rvative has ever to worry about ? ? However , there is a crucial difference \n",
      "lly in connection with divination . However , the wei books were also destro\n",
      "ack door because of lost interest . However , it is not enough to bring pers\n",
      "\n",
      "\n",
      "Now analyzing reviews: \n",
      "\n",
      "mood of the late teens and 1920's . However well chosen and cleverly arrange\n",
      "ing Mr. Remarque hoped to tell us . However , my principal objection in this\n",
      " compulsively strives to be liked . However , she really does not know how t\n",
      " it had not been for Hitler's war . However , Montgomery makes little contri\n",
      "tarist's suspicion of politicians . However , at the same time Montgomery se\n",
      "\n",
      "\n",
      "Now analyzing romance: \n",
      "\n",
      "No matches.\n",
      "\n",
      "\n",
      "Now analyzing science_fiction: \n",
      "\n",
      "nd time involved are astronomical . However , we sent a third vessel out , a\n",
      " an ordinary , `` normal '' being . However , no diagram of her brain patter\n",
      "\n",
      "\n"
     ]
    }
   ],
   "source": [
    "from nltk.corpus import brown\n",
    "\n",
    "for c in brown.categories():\n",
    "    print(\"Now analyzing {}: \\n\".format(c))\n",
    "\n",
    "    find_concordance_by_position(brown.sents(categories = c), 'however', 0)\n",
    "    \n",
    "    print(\"\\n\")\n"
   ]
  },
  {
   "cell_type": "markdown",
   "metadata": {},
   "source": [
    "*I found only six instances where 'however' did not mean 'nevertheless' in the Brown Corpus, putting this usage in the absolute minority of usages. Methinks Strunk and White should have spent more time describing the language they heard and less prescribing how it should have been spoken.*"
   ]
  },
  {
   "cell_type": "markdown",
   "metadata": {},
   "source": [
    "*This is an earlier version that looked at the words instead of the sentences.*"
   ]
  },
  {
   "cell_type": "code",
   "execution_count": 66,
   "metadata": {},
   "outputs": [
    {
     "name": "stdout",
     "output_type": "stream",
     "text": [
      " -- and been very well brought up . However , I do not mean to set up my opi\n",
      "is so very handsome and agreeable . However , I do really think Mr . Martin \n",
      "eed !-- and my memory is very bad . However , it was an exceeding good , pre\n",
      "does me . Jane speaks so distinct ! However , she will not find her grandmam\n",
      "inctly , and was sadly alarmed at . However , when I read on , I found it wa\n",
      "hough she speaks rather too quick . However , she is very agreeable , and Mr\n",
      "at I would not expose any body to . However , as they are so very desirous t\n",
      "ar , I did say as much as I could . However , the very same evening William \n",
      "m often astonished at what I hear . However , this does make a difference ; \n",
      "aks like you and poor Miss Taylor . However , she seems a very obliging , pr\n",
      "her , Mr . Suckling , in income .-- However , my resolution is taken as to n\n",
      "forget her look the other night !-- However , I assure you , Miss Woodhouse \n",
      "y well ( blushing as she spoke ).-- However , now I will destroy it all -- a\n",
      "emed very much to have enjoyed it . However , _I_ shall always think it a ve\n",
      "t least , but I might be mistaken . However , I think it answered so far as \n",
      "not played a bar this fortnight .-- However , he is coming , I assure you : \n",
      "tions we deal only in the great .-- However , I must say , that Robert Marti\n"
     ]
    }
   ],
   "source": [
    "e = nltk.corpus.gutenberg.words('austen-emma.txt')\n",
    "for i in range(len(e)):\n",
    "    if e[i] == \"However\":\n",
    "        prefix = []\n",
    "        for word in e[i - 15 : i]:\n",
    "            prefix.append(word)\n",
    "        prefix = ' '.join(prefix)\n",
    "        suffix = []\n",
    "        for word in e[i : i + 15]:\n",
    "            suffix.append(word)\n",
    "        suffix = ' '.join(suffix)\n",
    "        print(prefix[-35:] + \" \" + suffix[:40])"
   ]
  },
  {
   "cell_type": "markdown",
   "metadata": {},
   "source": [
    "###### 8. \n",
    "\n",
    "◑ Define a conditional frequency distribution over the Names corpus that allows you to see which *initial* letters are more frequent for males vs. females (cf. 4.4)."
   ]
  },
  {
   "cell_type": "code",
   "execution_count": 105,
   "metadata": {},
   "outputs": [
    {
     "data": {
      "image/png": "[encoded data removed]",
      "text/plain": [
       "<Figure size 432x288 with 1 Axes>"
      ]
     },
     "metadata": {
      "needs_background": "light"
     },
     "output_type": "display_data"
    }
   ],
   "source": [
    "names = nltk.corpus.names\n",
    "male_names = names.words('male.txt')\n",
    "female_names = names.words('female.txt')\n",
    "\n",
    "cfd = nltk.ConditionalFreqDist(\n",
    "    (fileid, name[0])\n",
    "    for fileid in names.fileids()\n",
    "    for name in names.words(fileid))\n",
    "\n",
    "cfd.plot();"
   ]
  },
  {
   "cell_type": "markdown",
   "metadata": {},
   "source": [
    "###### 9.\n",
    "\n",
    "◑ Pick a pair of texts and study the differences between them, in terms of vocabulary, vocabulary richness, genre, etc. Can you find pairs of words which have quite different meanings across the two texts, such as *monstrous* in *Moby Dick* and in *Sense and Sensibility*?"
   ]
  },
  {
   "cell_type": "code",
   "execution_count": 158,
   "metadata": {},
   "outputs": [
    {
     "name": "stdout",
     "output_type": "stream",
     "text": [
      "King James' Bible:\n",
      "Average number of characters per word: 4\n",
      "Average number of words per sent: 26\n",
      "Lexical diversity: 0.01591\n",
      "Total tokens: 790,052\n",
      "Total word types: 12,567\n"
     ]
    }
   ],
   "source": [
    "enclitics = (\"d\", \"ll\", \"m\", \"re\", \"s\", \"t\", \"ve\")\n",
    "\n",
    "print(\"King James' Bible:\")\n",
    "num_chars = len([w for w in gutenberg.raw('bible-kjv.txt') if w.isalpha()])\n",
    "num_words = len([w for w in gutenberg.words('bible-kjv.txt') if w.isalpha() and w not in enclitics])\n",
    "num_sents = len(gutenberg.sents('bible-kjv.txt'))\n",
    "num_vocab = len(set(w.lower() for w in gutenberg.words('bible-kjv.txt') if w.isalpha() and w not in enclitics))\n",
    "print(\"Average number of characters per word:\", round(num_chars/num_words))\n",
    "print(\"Average number of words per sent:\",  round(num_words/num_sents))\n",
    "print(\"Lexical diversity: {:.5f}\".format(num_vocab/num_words))\n",
    "print(\"Total tokens: {:,}\".format(num_words))\n",
    "print(\"Total word types: {:,}\".format(num_vocab))"
   ]
  },
  {
   "cell_type": "code",
   "execution_count": 157,
   "metadata": {},
   "outputs": [
    {
     "name": "stdout",
     "output_type": "stream",
     "text": [
      "Displaying 2 of 2 matches:\n",
      "ORD God walking in the garden in the cool of the day : and Adam and his wife h\n",
      "the tip of his finger in water , and cool my tongue ; for I am tormented in th\n"
     ]
    }
   ],
   "source": [
    "nltk.Text(gutenberg.words('bible-kjv.txt')).concordance(\"cool\")"
   ]
  },
  {
   "cell_type": "code",
   "execution_count": 139,
   "metadata": {},
   "outputs": [
    {
     "name": "stdout",
     "output_type": "stream",
     "text": [
      "'The Man Who Was Thursday' by G.K. Chesterton:\n",
      "Average number of characters per word: 4\n",
      "Average number of words per sent: 16\n",
      "Lexical diversity: 0.10796\n",
      "Total tokens: 58,297\n",
      "Total word types: 6,294\n"
     ]
    }
   ],
   "source": [
    "enclitics = (\"d\", \"ll\", \"m\", \"re\", \"s\", \"t\", \"ve\")\n",
    "\n",
    "print(\"'The Man Who Was Thursday' by G.K. Chesterton:\")\n",
    "num_chars = len([w for w in gutenberg.raw('chesterton-thursday.txt') if w.isalpha()])\n",
    "num_words = len([w for w in gutenberg.words('chesterton-thursday.txt') if w.isalpha() and w not in enclitics])\n",
    "num_sents = len(gutenberg.sents('chesterton-thursday.txt'))\n",
    "num_vocab = len(set(w.lower() for w in gutenberg.words('chesterton-thursday.txt') if w.isalpha() and w not in enclitics))\n",
    "print(\"Average number of characters per word:\", round(num_chars/num_words))\n",
    "print(\"Average number of words per sent:\",  round(num_words/num_sents))\n",
    "print(\"Lexical diversity: {:.5f}\".format(num_vocab/num_words))\n",
    "print(\"Total tokens: {:,}\".format(num_words))\n",
    "print(\"Total word types: {:,}\".format(num_vocab))"
   ]
  },
  {
   "cell_type": "code",
   "execution_count": 155,
   "metadata": {},
   "outputs": [
    {
     "name": "stdout",
     "output_type": "stream",
     "text": [
      "Displaying 4 of 4 matches:\n",
      "oke and pleasure out of pain . Yea , cool and clear and sudden as a bird sings\n",
      " \" that you seem to have kept pretty cool under it . Now listen to me . I like\n",
      "ok round . Syme , who was commonly a cool character , was literally gaping as \n",
      "in plunging into the wood they had a cool shock of shadow , as of divers who p\n"
     ]
    }
   ],
   "source": [
    "nltk.Text(gutenberg.words('chesterton-thursday.txt')).concordance(\"cool\")"
   ]
  },
  {
   "cell_type": "markdown",
   "metadata": {},
   "source": [
    "*I compared the King James' Bible and 'The Man Who Was Thursday' by G.K. Chesterton.  The bible is obviously a religious text, whereas Chesteron has been referred to as a mystery novel.  The bible is nearly 13 times as long and uses approximately twice as many words, but its lexical diversity is much lower, since the difference in length is not also reflected in the difference in vocabulary.  (It would be rare for a book to use much more than 10,000 word types, so in general, as texts get longer their lexical diversity will decrease.)*\n",
    "\n",
    "*Since there aren't any newer texts in Project Gutenberg, it's difficult to compare texts to see changes in word usage over time.  However, we can find evidence that 'cool' changed in usage from merely describing temperature to also describing one's character.*"
   ]
  },
  {
   "cell_type": "markdown",
   "metadata": {},
   "source": [
    "###### 10. \n",
    "\n",
    "◑ Read the [BBC News article: UK's Vicky Pollards 'left behind']( http://news.bbc.co.uk/2/hi/uk_news/education/6173441.stm. \"Updated link\") The article gives the following statistic about teen language: \"the top 20 words used, including yeah, no, but and like, account for around a third of all words.\" How many word types account for a third of all word tokens, for a variety of text sources? What do you conclude about this statistic? Read more about this on [LanguageLog](http://itre.cis.upenn.edu/~myl/languagelog/archives/003993.html \"LanguageLog\")."
   ]
  },
  {
   "cell_type": "markdown",
   "metadata": {},
   "source": [
    "*The answer to the main question is stated right there in the wording of the question: 20 words account for a third of all word tokens.  Furthermore, the BBC article doesn't mention a variety of text sources - only an analysis from Tony McEnery.*\n",
    "\n",
    "*I've seen 'Little Britain' a handful of times and I am familiar with Vicky Pollard. I think a lot of the humor derives from the fact that people - especially teenagers - can say things that appear logically incongruent \"yeah but, no but\" that nevertheless carry meaning (\"yes, I understand what you're saying, but no, I don't agree with you...\").*\n",
    "\n",
    "*The LanguageLog blog - without mentioning it - seems to be appealing to Zipf's Law, which we'll see later: i.e., a tiny minority of our vocabulary makes up the majority of our speech.*"
   ]
  },
  {
   "cell_type": "markdown",
   "metadata": {},
   "source": [
    "###### 11. \n",
    "\n",
    "◑ Investigate the table of modal distributions and look for other patterns. Try to explain them in terms of your own impressionistic understanding of the different genres. Can you find other closed classes of words that exhibit significant differences across different genres?"
   ]
  },
  {
   "cell_type": "code",
   "execution_count": 159,
   "metadata": {},
   "outputs": [
    {
     "name": "stdout",
     "output_type": "stream",
     "text": [
      "                   I  you   he  she   it   we they   me  him  her   us them \n",
      "           news  179   55  451   42  363   77  205   29   93  103   12   96 \n",
      "       religion  155  100  137   10  264  176  115   31   60    8   59   74 \n",
      "        hobbies  154  383  155   21  476  100  177   16   49   16   23  127 \n",
      "science_fiction   98   81  139   36  129   30   53   20   58   71    6   47 \n",
      "        romance  951  456  702  496  573   78  168  193  339  651   42  142 \n",
      "          humor  239  131  146   58  162   32   70   56   48   62   23   49 \n"
     ]
    }
   ],
   "source": [
    "cfd = nltk.ConditionalFreqDist(\n",
    "    (genre, word) for genre in brown.categories() \n",
    "    for word in brown.words(categories = genre))\n",
    "genres = ['news', 'religion', 'hobbies', 'science_fiction', 'romance', 'humor']\n",
    "pronouns = ['I', 'you', 'he', 'she', 'it', 'we', 'they', 'me', 'him', 'her', \n",
    "            'us', 'them']\n",
    "cfd.tabulate(conditions = genres, samples = pronouns)"
   ]
  },
  {
   "cell_type": "markdown",
   "metadata": {},
   "source": [
    "*I chose the closed set of English personal pronouns and made these observations: 'he' is much more common than 'she' - between three and ten times.  The sole exception is 'romance', where 'he' is a mere 40% more common than 'she'. 'Hobbies' is the only genre where 'you' is more common than 'I'. 'Romance' also shows a marked difference in the frequency of singular and plural pronouns.  First-person pronouns are much less common than third-person pronouns in 'news'.*"
   ]
  },
  {
   "cell_type": "markdown",
   "metadata": {},
   "source": [
    "###### 12. \n",
    "\n",
    "◑ The CMU Pronouncing Dictionary contains multiple pronunciations for certain words. How many distinct words does it contain? What fraction of words in this dictionary have more than one possible pronunciation?\n",
    "\n",
    "*Number of entries:*"
   ]
  },
  {
   "cell_type": "code",
   "execution_count": 194,
   "metadata": {},
   "outputs": [
    {
     "data": {
      "text/plain": [
       "133737"
      ]
     },
     "execution_count": 194,
     "metadata": {},
     "output_type": "execute_result"
    }
   ],
   "source": [
    "cmu = nltk.corpus.cmudict.entries()\n",
    "len(cmu)"
   ]
  },
  {
   "cell_type": "markdown",
   "metadata": {},
   "source": [
    "*Number of distinct words:*"
   ]
  },
  {
   "cell_type": "code",
   "execution_count": 193,
   "metadata": {},
   "outputs": [
    {
     "data": {
      "text/plain": [
       "123455"
      ]
     },
     "execution_count": 193,
     "metadata": {},
     "output_type": "execute_result"
    }
   ],
   "source": [
    "distinct_words = sorted(set([w for w, p in cmu]))\n",
    "len(distinct_words)\n"
   ]
  },
  {
   "cell_type": "markdown",
   "metadata": {},
   "source": [
    "*Percentage of words with more than one possible pronunciation:*"
   ]
  },
  {
   "cell_type": "code",
   "execution_count": 195,
   "metadata": {},
   "outputs": [
    {
     "data": {
      "text/plain": [
       "0.07688223902136282"
      ]
     },
     "execution_count": 195,
     "metadata": {},
     "output_type": "execute_result"
    }
   ],
   "source": [
    "(len(cmu) - len(distinct_words)) / len(cmu)"
   ]
  },
  {
   "cell_type": "markdown",
   "metadata": {},
   "source": [
    "*For those pedantic types out there, the __fraction__ is $\\frac{768,822,390,213}{10,000,000,000,000}$.*\n",
    "\n",
    "*Well, that's what the instructions asked for...*"
   ]
  },
  {
   "cell_type": "markdown",
   "metadata": {},
   "source": [
    "###### 13.\n",
    "\n",
    "◑ What percentage of noun synsets have no hyponyms? You can get all noun synsets using `wn.all_synsets('n')`.\n",
    "\n",
    "*Nearly 80% of noun synsets have no hyponyms:*"
   ]
  },
  {
   "cell_type": "code",
   "execution_count": 210,
   "metadata": {},
   "outputs": [
    {
     "data": {
      "text/plain": [
       "0.7967119283931072"
      ]
     },
     "execution_count": 210,
     "metadata": {},
     "output_type": "execute_result"
    }
   ],
   "source": [
    "no_hyponyms = 0\n",
    "\n",
    "for n in list(wn.all_synsets('n')):\n",
    "    if n.hyponyms() == []:\n",
    "        no_hyponyms += 1\n",
    "        \n",
    "no_hyponyms/len(list(wn.all_synsets('n')))"
   ]
  },
  {
   "cell_type": "markdown",
   "metadata": {},
   "source": [
    "###### 14. \n",
    "\n",
    "◑ Define a function `supergloss(s)` that takes a synset `s` as its argument and returns a string consisting of the concatenation of the definition of `s`, and the definitions of all the hypernyms and hyponyms of `s`."
   ]
  },
  {
   "cell_type": "code",
   "execution_count": 264,
   "metadata": {},
   "outputs": [],
   "source": [
    "def supergloss(synset):\n",
    "    full_stop = synset.index('.')\n",
    "    term = synset[:full_stop]\n",
    "    \n",
    "    syn = wn.synset(synset)\n",
    "    print(term + \":\", syn.definition())\n",
    "    \n",
    "    \n",
    "    print(\"\\nHYPERNYMS:\")\n",
    "    for s in syn.hypernyms():\n",
    "        names = []\n",
    "        for name in s.lemma_names():\n",
    "            names.append(name)\n",
    "        print(\", \".join(names) + \":\", s.definition())\n",
    "\n",
    "    print(\"\\nHYPONYMS:\")\n",
    "    for s in syn.hyponyms():\n",
    "        names = []\n",
    "        for name in s.lemma_names():\n",
    "            names.append(name)\n",
    "        print(\", \".join(names) + \":\", s.definition())"
   ]
  },
  {
   "cell_type": "code",
   "execution_count": 265,
   "metadata": {},
   "outputs": [
    {
     "name": "stdout",
     "output_type": "stream",
     "text": [
      "drum: a musical percussion instrument; usually consists of a hollow cylinder with a membrane stretched across each end\n",
      "\n",
      "HYPERNYMS:\n",
      "percussion_instrument, percussive_instrument: a musical instrument in which the sound is produced by one object striking another\n",
      "\n",
      "HYPONYMS:\n",
      "bass_drum, gran_casa: a large drum with two heads; makes a sound of indefinite but very low pitch\n",
      "bongo, bongo_drum: a small drum; played with the hands\n",
      "snare_drum, snare, side_drum: a small drum with two heads and a snare stretched across the lower head\n",
      "tabor, tabour: a small drum with one head of soft calfskin\n",
      "tambour: a drum\n",
      "tambourine: a shallow drum with a single drumhead and with metallic disks in the sides\n",
      "tenor_drum, tom-tom: any of various drums with small heads\n",
      "timbrel: small hand drum similar to a tambourine; formerly carried by itinerant jugglers\n"
     ]
    }
   ],
   "source": [
    "supergloss('drum.n.01')"
   ]
  },
  {
   "cell_type": "markdown",
   "metadata": {},
   "source": [
    "###### 15.\n",
    "\n",
    "◑ Write a program to find all words that occur at least three times in the Brown Corpus."
   ]
  },
  {
   "cell_type": "code",
   "execution_count": 305,
   "metadata": {},
   "outputs": [],
   "source": [
    "def find_words_occurring_thrice_or_more():\n",
    "    cfd = nltk.FreqDist(w.lower() for w in brown.words())\n",
    "    wordtypes = set(w.lower() for w in brown.words())\n",
    "    return [w for w in wordtypes if cfd[w] >= 3]"
   ]
  },
  {
   "cell_type": "code",
   "execution_count": 311,
   "metadata": {},
   "outputs": [],
   "source": [
    "three_or_more = find_words_occurring_thrice_or_more()\n"
   ]
  },
  {
   "cell_type": "code",
   "execution_count": 312,
   "metadata": {},
   "outputs": [
    {
     "data": {
      "text/plain": [
       "20615"
      ]
     },
     "execution_count": 312,
     "metadata": {},
     "output_type": "execute_result"
    }
   ],
   "source": [
    "len(three_or_more)"
   ]
  },
  {
   "cell_type": "code",
   "execution_count": 313,
   "metadata": {},
   "outputs": [
    {
     "data": {
      "text/plain": [
       "['polyether',\n",
       " 'collectively',\n",
       " 'irving',\n",
       " 'edition',\n",
       " 'therapist',\n",
       " 'affirm',\n",
       " 'instrumentally',\n",
       " 'lewd',\n",
       " 'elementary-school',\n",
       " 'defeating',\n",
       " '2:36',\n",
       " 'lock',\n",
       " 'emma',\n",
       " 'bunk',\n",
       " 'fondness']"
      ]
     },
     "execution_count": 313,
     "metadata": {},
     "output_type": "execute_result"
    }
   ],
   "source": [
    "three_or_more[:15]"
   ]
  },
  {
   "cell_type": "code",
   "execution_count": 310,
   "metadata": {},
   "outputs": [
    {
     "name": "stdout",
     "output_type": "stream",
     "text": [
      "polyether: 7\n",
      "collectively: 4\n",
      "irving: 4\n",
      "edition: 37\n",
      "therapist: 19\n",
      "affirm: 12\n",
      "instrumentally: 3\n",
      "lewd: 3\n",
      "elementary-school: 6\n",
      "defeating: 3\n",
      "2:36: 12\n",
      "lock: 24\n",
      "emma: 10\n",
      "bunk: 18\n",
      "fondness: 4\n"
     ]
    }
   ],
   "source": [
    "cfd = nltk.FreqDist(w.lower() for w in brown.words())\n",
    "\n",
    "for t in three_or_more[:15]:\n",
    "    print(t + \":\", cfd[t])"
   ]
  },
  {
   "cell_type": "markdown",
   "metadata": {},
   "source": [
    "*Although they haven't been introduced in the book yet, using a dictionary would be a faster and simpler way of getting a comparable result:*"
   ]
  },
  {
   "cell_type": "code",
   "execution_count": 317,
   "metadata": {},
   "outputs": [
    {
     "data": {
      "text/plain": [
       "20615"
      ]
     },
     "execution_count": 317,
     "metadata": {},
     "output_type": "execute_result"
    }
   ],
   "source": [
    "d = dict()\n",
    "for w in brown.words():\n",
    "    d[w.lower()] = 1 + d.get(w.lower(), 0)\n",
    "more_than_3 = [w for w in wordtypes if d[w] >= 3]\n",
    "len(more_than_3)"
   ]
  },
  {
   "cell_type": "markdown",
   "metadata": {},
   "source": [
    "###### 16. \n",
    "\n",
    "◑ Write a program to generate a table of lexical diversity scores (i.e. token/type ratios), as we saw in 1.1. Include the full set of Brown Corpus genres (`nltk.corpus.brown.categories()`). Which genre has the lowest diversity (greatest number of tokens per type)? Is this what you would have expected?\n",
    "\n",
    "*Re-using the function I made in my notes for chapter 1:*"
   ]
  },
  {
   "cell_type": "code",
   "execution_count": 318,
   "metadata": {},
   "outputs": [],
   "source": [
    "def lexical_diversity(text):\n",
    "    return len(set(text)) / len(text)"
   ]
  },
  {
   "cell_type": "code",
   "execution_count": 324,
   "metadata": {},
   "outputs": [
    {
     "name": "stdout",
     "output_type": "stream",
     "text": [
      "Lexical diversity scores: \n",
      "adventure:        0.1279743878169075\n",
      "belles_lettres:   0.10642071451679992\n",
      "editorial:        0.16054152327770924\n",
      "fiction:          0.1358194136199042\n",
      "government:       0.11667641228232811\n",
      "hobbies:          0.14493897625842492\n",
      "humor:            0.23125144042406084\n",
      "learned:          0.09268890745953554\n",
      "lore:             0.13148804612915801\n",
      "mystery:          0.12212912592488936\n",
      "news:             0.14314696580941583\n",
      "religion:         0.1617553745018909\n",
      "reviews:          0.21192020440251572\n",
      "romance:          0.12070492131044529\n",
      "science_fiction:  0.22342778161713892\n"
     ]
    }
   ],
   "source": [
    "print(\"Lexical diversity scores: \")\n",
    "for c in brown.categories():\n",
    "    ld = lexical_diversity(brown.words(categories = c))\n",
    "    print(\"{}: {} {}\".format(c, \" \" * (15 - len(c)), ld))"
   ]
  },
  {
   "cell_type": "markdown",
   "metadata": {},
   "source": [
    "*Surprisingly, humor has the highest score, and learned the lowest.  Either humor is more sophisticated than one may assume (and scholarly literature less so), or lexical diversity is not a good measure of a text's complexity.*\n",
    "\n",
    "*I hypothesized earlier than larger texts would have a lower lexical diversity than smaller ones, as the number of previously unseen words will go down exponentially with the size of the text.  Let's take a look at the sizes of the genres in the Brown Corpus to see if that supports my theory:*"
   ]
  },
  {
   "cell_type": "code",
   "execution_count": 331,
   "metadata": {},
   "outputs": [
    {
     "name": "stdout",
     "output_type": "stream",
     "text": [
      "Number of tokens per category: \t Lexical diversity:\n",
      "adventure:             69342 \t 0.12797\n",
      "belles_lettres:        173096 \t 0.10642\n",
      "editorial:             61604 \t 0.16054\n",
      "fiction:               68488 \t 0.13582\n",
      "government:            70117 \t 0.11668\n",
      "hobbies:               82345 \t 0.14494\n",
      "humor:                 21695 \t 0.23125\n",
      "learned:               181888 \t 0.09269\n",
      "lore:                  110299 \t 0.13149\n",
      "mystery:               57169 \t 0.12213\n",
      "news:                  100554 \t 0.14315\n",
      "religion:              39399 \t 0.16176\n",
      "reviews:               40704 \t 0.21192\n",
      "romance:               70022 \t 0.12070\n",
      "science_fiction:       14470 \t 0.22343\n"
     ]
    }
   ],
   "source": [
    "print(\"Number of tokens per category: \\t Lexical diversity:\")\n",
    "for c in brown.categories():\n",
    "    t = len(brown.words(categories = c))\n",
    "    ld = lexical_diversity(brown.words(categories = c))\n",
    "    print(\"{}: {} {} \\t {:.5f}\".format(c, \" \" * (20 - len(c)), t, ld))"
   ]
  },
  {
   "cell_type": "markdown",
   "metadata": {},
   "source": [
    "*As I thought, the genres with the largest number of tokens have the least lexical diversity. This isn't quite so easy to see as a table, so I'll graph it, instead.  Since the values have radically different scales, I'll normalize the values so that the maximum of each set of values is equal to 1.*"
   ]
  },
  {
   "cell_type": "code",
   "execution_count": 351,
   "metadata": {},
   "outputs": [
    {
     "data": {
      "image/png": "[encoded data removed]",
      "text/plain": [
       "<Figure size 1080x720 with 1 Axes>"
      ]
     },
     "metadata": {
      "needs_background": "light"
     },
     "output_type": "display_data"
    }
   ],
   "source": [
    "import matplotlib.pyplot as plt\n",
    "\n",
    "tokens = []\n",
    "lex_div = []\n",
    "\n",
    "for c in brown.categories():\n",
    "    tokens.append(len(brown.words(categories = c)))\n",
    "    lex_div.append(lexical_diversity(brown.words(categories = c)))\n",
    "\n",
    "# normalizing the arrays\n",
    "tokens = [t/max(tokens) for t in tokens]\n",
    "lex_div = [l/max(lex_div) for l in lex_div]\n",
    "\n",
    "plt.figure(figsize = (15, 10))\n",
    "plt.plot(tokens, label = \"No. tokens\")\n",
    "plt.plot(lex_div, label = \"lex. div.\")\n",
    "plt.legend()\n",
    "plt.xticks(range(15), brown.categories(), rotation = 45)\n",
    "\n",
    "plt.show()"
   ]
  },
  {
   "cell_type": "markdown",
   "metadata": {},
   "source": [
    "*As you can see, the plots are almost exact inverses of each other: when one zigs, the other one zags.*"
   ]
  },
  {
   "cell_type": "markdown",
   "metadata": {},
   "source": [
    "###### 17. \n",
    "\n",
    "◑ Write a function that finds the 50 most frequently occurring words of a text that are not stopwords."
   ]
  },
  {
   "cell_type": "code",
   "execution_count": 6,
   "metadata": {},
   "outputs": [],
   "source": [
    "from nltk.corpus import stopwords\n",
    "\n",
    "def find_50_most_frequent_non_stopwords(text, lang = 'english'):\n",
    "    stopwords = nltk.corpus.stopwords.words('english')\n",
    "    fd = nltk.FreqDist(w.lower() for w in text if w.lower().isalpha() and w.lower() not in stopwords)\n",
    "    return fd.most_common(50)"
   ]
  },
  {
   "cell_type": "code",
   "execution_count": 14,
   "metadata": {},
   "outputs": [
    {
     "name": "stdout",
     "output_type": "stream",
     "text": [
      "[('one', 3292), ('would', 2714), ('said', 1961), ('new', 1635), ('could', 1601), ('time', 1598), ('two', 1412), ('may', 1402), ('first', 1361), ('like', 1292), ('man', 1207), ('even', 1170), ('made', 1125), ('also', 1069), ('many', 1030), ('must', 1013), ('af', 996), ('back', 966), ('years', 950), ('much', 937), ('way', 908), ('well', 897), ('people', 847), ('little', 831), ('state', 807), ('good', 806), ('make', 794), ('world', 787), ('still', 782), ('see', 772), ('men', 763), ('work', 762), ('long', 752), ('get', 749), ('life', 715), ('never', 697), ('day', 687), ('another', 684), ('know', 683), ('last', 676), ('us', 675), ('might', 672), ('great', 665), ('old', 661), ('year', 658), ('come', 630), ('since', 628), ('go', 626), ('came', 622), ('right', 613)]"
     ]
    }
   ],
   "source": [
    "print(find_50_most_frequent_non_stopwords(brown.words()), end = '')"
   ]
  },
  {
   "cell_type": "markdown",
   "metadata": {},
   "source": [
    "*All of the words look quite common, with the exception of 'af'.  To make sure this isn't an error, let's print up some sentences with 'af':*"
   ]
  },
  {
   "cell_type": "code",
   "execution_count": 15,
   "metadata": {},
   "outputs": [
    {
     "name": "stdout",
     "output_type": "stream",
     "text": [
      "water is Af and the H stands for hydrogen ; ;\n",
      "Salt water is still Af , the same hydrogen is there .\n",
      "Start with the right-hand piece `` B '' , Af , soldering it to the lower piece `` A '' of the same material but 12'' '' long .\n",
      "Now lay 12 pieces of Af cut 5-3/4'' '' long side by side but separated by 12 pieces of the same material 1/2'' '' sq. .\n",
      "Cap this assembly ( with spacing bars in place ) with a Af bar .\n",
      "Now cut five Af locking bar spacers ( which run horizontally ) .\n",
      "Position these using six intermediate temporary Af spacers and locate the upper 12'' '' bar `` A '' .\n",
      "Cap with a Af bar and tack-solder in place .\n",
      "Cap the locking bar spacers with two Af directly under the first two `` B '' pieces .\n",
      "Now reassemble the frame , using Af roundhead steel screws and nuts .\n"
     ]
    }
   ],
   "source": [
    "i = 0\n",
    "for s in brown.sents():\n",
    "    if \"Af\" in s:\n",
    "        if i < 10:\n",
    "            print(' '.join(s))\n",
    "        i += 1\n"
   ]
  },
  {
   "cell_type": "markdown",
   "metadata": {},
   "source": [
    "*It looks like 'af' may be used in some scientific/math texts, as well as some texts in the hobby genre.*"
   ]
  },
  {
   "cell_type": "markdown",
   "metadata": {},
   "source": [
    "###### 18. \n",
    "\n",
    "◑ Write a program to print the 50 most frequent bigrams (pairs of adjacent words) of a text, omitting bigrams that contain stopwords."
   ]
  },
  {
   "cell_type": "code",
   "execution_count": 24,
   "metadata": {},
   "outputs": [],
   "source": [
    "def most_freq_bigrams_wo_stopwords(text, n = 50, lang = 'english'):\n",
    "    stopwords = nltk.corpus.stopwords.words(lang)\n",
    "    bigrams = nltk.bigrams(w.lower() for w in text if w.lower().isalpha() and w.lower() not in stopwords)\n",
    "    fd = nltk.FreqDist(bigrams)\n",
    "    return fd.most_common(n)"
   ]
  },
  {
   "cell_type": "code",
   "execution_count": 26,
   "metadata": {},
   "outputs": [
    {
     "data": {
      "text/plain": [
       "[(('united', 'states'), 392),\n",
       " (('new', 'york'), 296),\n",
       " (('per', 'cent'), 146),\n",
       " (('years', 'ago'), 138),\n",
       " (('af', 'af'), 129),\n",
       " (('could', 'see'), 93),\n",
       " (('rhode', 'island'), 91),\n",
       " (('last', 'year'), 78),\n",
       " (('even', 'though'), 77),\n",
       " (('high', 'school'), 74),\n",
       " (('white', 'house'), 68),\n",
       " (('first', 'time'), 68),\n",
       " (('old', 'man'), 68),\n",
       " (('world', 'war'), 66),\n",
       " (('two', 'years'), 62),\n",
       " (('let', 'us'), 62),\n",
       " (('one', 'thing'), 60),\n",
       " (('fiscal', 'year'), 58),\n",
       " (('last', 'night'), 57),\n",
       " (('peace', 'corps'), 55),\n",
       " (('one', 'day'), 53),\n",
       " (('one', 'another'), 52),\n",
       " (('would', 'like'), 51),\n",
       " (('last', 'week'), 51),\n",
       " (('united', 'nations'), 49),\n",
       " (('new', 'england'), 49),\n",
       " (('young', 'man'), 47),\n",
       " (('los', 'angeles'), 47),\n",
       " (('two', 'men'), 46),\n",
       " (('one', 'two'), 43),\n",
       " (('great', 'deal'), 43),\n",
       " (('civil', 'war'), 42),\n",
       " (('president', 'kennedy'), 41),\n",
       " (('would', 'make'), 41),\n",
       " (('time', 'time'), 41),\n",
       " (('general', 'motors'), 41),\n",
       " (('small', 'business'), 41),\n",
       " (('long', 'time'), 40),\n",
       " (('new', 'orleans'), 40),\n",
       " (('many', 'years'), 40),\n",
       " (('one', 'time'), 39),\n",
       " (('san', 'francisco'), 39),\n",
       " (('two', 'three'), 39),\n",
       " (('men', 'women'), 39),\n",
       " (('said', 'would'), 38),\n",
       " (('would', 'seem'), 38),\n",
       " (('ten', 'years'), 37),\n",
       " (('would', 'never'), 37),\n",
       " (('one', 'side'), 36),\n",
       " (('first', 'two'), 36)]"
      ]
     },
     "execution_count": 26,
     "metadata": {},
     "output_type": "execute_result"
    }
   ],
   "source": [
    "most_freq_bigrams_wo_stopwords(brown.words())"
   ]
  },
  {
   "cell_type": "markdown",
   "metadata": {},
   "source": [
    "######  19.\n",
    "◑ Write a program to create a table of word frequencies by genre, like the one given in 1 for modals. Choose your own words and try to find words whose presence (or absence) is typical of a genre. Discuss your findings.\n",
    "\n",
    "*It's not difficult to adapt the code used in the book to show the distribution of modals; but more difficult would be to generalize a function that could work with almost any collections of texts, since each collection may have a different way of organizing distinct genres.*"
   ]
  },
  {
   "cell_type": "code",
   "execution_count": 2,
   "metadata": {},
   "outputs": [
    {
     "name": "stdout",
     "output_type": "stream",
     "text": [
      "                  the     a    an  this  that these those \n",
      "      adventure  3370  1354   159   203   494    28    27 \n",
      " belles_lettres  9726  3308   583   627  1896   224   113 \n",
      "      editorial  3508  1095   184   259   578    63    57 \n",
      "        fiction  3423  1281   156   147   530    40    30 \n",
      "     government  4143   867   208   344   489   107    61 \n",
      "        hobbies  4300  1737   226   305   514   101    63 \n",
      "          humor   930   505    75    59   241    16    10 \n",
      "        learned 11079  3215   695   714  1695   314   137 \n",
      "           lore  6328  2304   364   354   984   122    75 \n",
      "        mystery  2573  1136   125   146   494    17    25 \n",
      "           news  5580  1993   300   250   802    59    58 \n",
      "       religion  2295   655   119   217   475    66    42 \n",
      "        reviews  2048   874   163   143   336    29    24 \n",
      "        romance  2758  1335   152   149   583    30    53 \n",
      "science_fiction   652   222    33    49   126    12     7 \n"
     ]
    }
   ],
   "source": [
    "cfd = nltk.ConditionalFreqDist(\n",
    "            (genre, word)\n",
    "            for genre in brown.categories()\n",
    "            for word in brown.words(categories = genre))\n",
    "\n",
    "arts = ['the', 'a', 'an', 'this', 'that', 'these', 'those']\n",
    "cfd.tabulate(conditions = brown.categories(), samples = arts)"
   ]
  },
  {
   "cell_type": "code",
   "execution_count": 9,
   "metadata": {},
   "outputs": [
    {
     "name": "stdout",
     "output_type": "stream",
     "text": [
      "                    really       very  extremely        bit absolutely completely  literally thoroughly    totally    utterly \n",
      "      adventure         18         41          0         11          1          7          0          1          0          3 \n",
      " belles_lettres         36        123          8          5          7         15          4          3          1          6 \n",
      "      editorial         19         48          3          6          3          5          0          2          4          0 \n",
      "        fiction         25         42          0          5          2          3          0          1          1          1 \n",
      "     government          1         22          4          0          0          4          0          4          1          2 \n",
      "        hobbies         14         63         10         15          1         13          4          9          2          1 \n",
      "          humor          6         24          0          8          0          0          1          1          0          1 \n",
      "        learned         18        151         18          3          4         23          3          5          3          1 \n",
      "           lore         29         65          1          6          1         16          2          4          2          2 \n",
      "        mystery         21         36          0         14          1          7          3          3          0          3 \n",
      "           news         13         33          2          7          1          6          2          1          3          1 \n",
      "       religion          8         33          0          1          1         10          3          0          0          4 \n",
      "        reviews         19         30          3          8          2          0          2          2          2          0 \n",
      "        romance         38         50          0         12          2          1          2          2          3          2 \n",
      "science_fiction          2         11          1          0          1          0          0          0          0          0 \n"
     ]
    }
   ],
   "source": [
    "cfd = nltk.ConditionalFreqDist(\n",
    "            (genre, word)\n",
    "            for genre in brown.categories()\n",
    "            for word in brown.words(categories = genre))\n",
    "\n",
    "advs = ['really', 'very', 'extremely', 'bit', 'absolutely', 'completely', 'literally', 'thoroughly', 'totally', 'utterly']\n",
    "cfd.tabulate(conditions = brown.categories(), samples = advs)"
   ]
  },
  {
   "cell_type": "markdown",
   "metadata": {},
   "source": [
    "*I chose to look at adverbs that can be used with gradable (e.g., 'tired') and ungradable (e.g., 'exhausted) adjectives.  The difference between the two is that gradable adjectives can be modified by words which express their scale - e.g., we can be 'a little tired', 'somewhat tired', 'really tired'; but ungradable adjectives cannot.  As a consequence, ungradable adjectives are often used with adverbs like 'absolutely', 'completely', 'thoroughly' (and also 'literally', though normally this usage would be considered incorrect).*\n",
    "\n",
    "*Unsurprisingly, the adverbs used with gradable adjectives ('really', 'very', 'extremely', 'bit' - representing 'a bit') are much more common than the rest of the adverbs, which are used with ungradable adjectives.  Also surprising is how often adverbs like 'very' are used in 'belle lettres' and 'learned', genres which we'd usually suspect to have a more diverse lexicon.*"
   ]
  },
  {
   "cell_type": "markdown",
   "metadata": {},
   "source": [
    "###### 20.\n",
    "\n",
    "◑ Write a function `word_freq()` that takes a word and the name of a section of the Brown Corpus as arguments, and computes the frequency of the word in that section of the corpus."
   ]
  },
  {
   "cell_type": "code",
   "execution_count": 14,
   "metadata": {},
   "outputs": [],
   "source": [
    "from nltk.corpus import brown\n",
    "\n",
    "def word_freq(word, genre):\n",
    "    i = 0\n",
    "    for w in brown.words(categories = genre):\n",
    "        if w.lower() == word.lower():\n",
    "            i += 1\n",
    "            \n",
    "    return i"
   ]
  },
  {
   "cell_type": "code",
   "execution_count": 15,
   "metadata": {},
   "outputs": [
    {
     "data": {
      "text/plain": [
       "142"
      ]
     },
     "execution_count": 15,
     "metadata": {},
     "output_type": "execute_result"
    }
   ],
   "source": [
    "word_freq(\"President\", \"news\")"
   ]
  },
  {
   "cell_type": "markdown",
   "metadata": {},
   "source": [
    "###### 21.\n",
    "\n",
    "◑ Write a program to guess the number of syllables contained in a text, making use of the CMU Pronouncing Dictionary.\n",
    "\n",
    "*While making this function I needed code that could convert a string or a nested list into a flat list.  As I ended up using this code often, I decided to encase it in a new function:*"
   ]
  },
  {
   "cell_type": "code",
   "execution_count": 377,
   "metadata": {},
   "outputs": [],
   "source": [
    "def coerce_to_list(text):\n",
    "    \"\"\"\n",
    "    Coerces nested list or string to a flat list.\n",
    "    \"\"\"\n",
    "    \n",
    "    # flatten nested lists\n",
    "    if type(text[0]) == list:\n",
    "        text = [i for s in text for i in s]\n",
    "    # convert strings to lists\n",
    "    elif type(text) == str:\n",
    "        text = text.split(\" \")\n",
    "        \n",
    "    return list(text)\n",
    "    "
   ]
  },
  {
   "cell_type": "code",
   "execution_count": 378,
   "metadata": {},
   "outputs": [],
   "source": [
    "def estimate_syllables(text):\n",
    "    \"\"\"\n",
    "    Estimates the number of syllables in a text.  \n",
    "    Text may be a list, a nested list, or a string.\n",
    "    \"\"\"\n",
    "    cmu = nltk.corpus.cmudict.dict()\n",
    "    total_syllables = 0\n",
    "    \n",
    "    text = coerce_to_list(text)\n",
    "    \n",
    "    for w in text:\n",
    "        # only look up words, and ignore words not in cmu\n",
    "        if w.isalpha() and w.lower() in cmu:\n",
    "            # use the digits in the entires to calculate \n",
    "            # number of syllables\n",
    "            for pron in (cmu[w.lower()][0]):\n",
    "                for char in pron:\n",
    "                    if char.isdigit():\n",
    "                        total_syllables += 1\n",
    "    return total_syllables"
   ]
  },
  {
   "cell_type": "code",
   "execution_count": 379,
   "metadata": {},
   "outputs": [
    {
     "name": "stdout",
     "output_type": "stream",
     "text": [
      "166,032\n"
     ]
    }
   ],
   "source": [
    "from nltk.corpus import gutenberg\n",
    "\n",
    "print(\"{:,}\".format(estimate_syllables(gutenberg.words('whitman-leaves.txt'))))"
   ]
  },
  {
   "cell_type": "markdown",
   "metadata": {},
   "source": [
    "*My function will work with a list of words; a list of lists; or strings:*"
   ]
  },
  {
   "cell_type": "code",
   "execution_count": 380,
   "metadata": {},
   "outputs": [
    {
     "name": "stdout",
     "output_type": "stream",
     "text": [
      "25,349\n"
     ]
    }
   ],
   "source": [
    "from nltk.corpus import brown\n",
    "\n",
    "print(\"{:,}\".format(estimate_syllables(brown.words(categories = 'humor'))))"
   ]
  },
  {
   "cell_type": "code",
   "execution_count": 381,
   "metadata": {},
   "outputs": [
    {
     "name": "stdout",
     "output_type": "stream",
     "text": [
      "25,349\n"
     ]
    }
   ],
   "source": [
    "from nltk.corpus import brown\n",
    "\n",
    "print(\"{:,}\".format(estimate_syllables(brown.sents(categories = 'humor'))))"
   ]
  },
  {
   "cell_type": "code",
   "execution_count": 382,
   "metadata": {},
   "outputs": [
    {
     "data": {
      "text/plain": [
       "4"
      ]
     },
     "execution_count": 382,
     "metadata": {},
     "output_type": "execute_result"
    }
   ],
   "source": [
    "estimate_syllables(\"This is a test\")"
   ]
  },
  {
   "cell_type": "markdown",
   "metadata": {},
   "source": [
    "###### 22. \n",
    "\n",
    "◑ Define a function `hedge(text)` which processes a text and produces a new version with the word 'like' between every third word.\n",
    "\n",
    "*I think the authors mean __after__ every third word.  For a group of linguists, the authors aren't especially articulate.*\n",
    "\n",
    "*My code allows us to change the target word, as well as the interval where the new words will be inserted.  Further, it allows us to choose the output format: either a new string or a new list will be returned.*\n",
    "\n",
    "*Finally, the code __literally__ inserts the target word after every $n$th word: it ignores punctuation and other non-alphabetic strings when it tallies where the new word should be inserted.*\n",
    "\n"
   ]
  },
  {
   "cell_type": "code",
   "execution_count": 383,
   "metadata": {},
   "outputs": [],
   "source": [
    "def hedge(text, word, interval = 3, output = \"string\"):\n",
    "    \"\"\"\n",
    "    Returns a modified version of a text with a specified word\n",
    "    inserted at a designated interval.\n",
    "    \n",
    "    Arguments:\n",
    "    \n",
    "    text:     Text to be modified. Can be a list, nested list, or string.\n",
    "    word:     Word to be inserted.  Must be a string.\n",
    "    interval: After how many words should the target word be inserted? \n",
    "              Default value is three.\n",
    "    output:   Output can be a new string or a new list.  Default is string.\n",
    "    \"\"\"\n",
    "    \n",
    "    text = coerce_to_list(text)\n",
    "        \n",
    "    if output == \"string\":\n",
    "        \n",
    "        newstring = \"\"\n",
    "        i = 1\n",
    "        for t in text:\n",
    "            if t.isalpha() and i % interval == 0:\n",
    "                newstring += t + \" \" + word + \" \"\n",
    "                i += 1\n",
    "            elif t.isalpha():    \n",
    "                newstring += t + \" \"\n",
    "                i += 1\n",
    "            else:\n",
    "                newstring += t + \" \"\n",
    "        return newstring\n",
    "    \n",
    "    elif output == \"list\":\n",
    "        \n",
    "        newlist = []\n",
    "        i = 1\n",
    "        for t in text:\n",
    "            if t.isalpha() and i % interval == 0:\n",
    "                newlist.append(t)\n",
    "                newlist.append(word)\n",
    "                i += 1\n",
    "            elif t.isalpha():    \n",
    "                newlist.append(t)\n",
    "                i += 1\n",
    "            else:\n",
    "                newlist.append(t)\n",
    "        return newlist\n",
    "    \n",
    "    else:\n",
    "        print(\"Sorry, the output can only be a string or a list.\")\n",
    "    "
   ]
  },
  {
   "cell_type": "code",
   "execution_count": 384,
   "metadata": {},
   "outputs": [
    {
     "data": {
      "text/plain": [
       "'this is a like test of a like test for a like test '"
      ]
     },
     "execution_count": 384,
     "metadata": {},
     "output_type": "execute_result"
    }
   ],
   "source": [
    "hedge(\"this is a test of a test for a test\", \"like\")"
   ]
  },
  {
   "cell_type": "code",
   "execution_count": 385,
   "metadata": {},
   "outputs": [
    {
     "name": "stdout",
     "output_type": "stream",
     "text": [
      "['It', 'was', 'among', 'like', 'these', 'that', 'Hinkle', 'like', 'identified', 'a', 'photograph', 'like', 'of', 'Barco', '!', '!', 'For', 'like', 'it', 'seems', 'that', 'like', 'Barco', ',', 'fancying', 'himself', 'like', 'a', \"ladies'\", 'man', '(', 'and', 'like', 'why', 'not', ',', 'after', 'like', 'seven', 'marriages', '?', '?', ')', ',', 'had', 'like', 'listed', 'himself', 'for', 'like', 'Mormon', 'Beard', 'roles', 'like', 'at', 'the', 'instigation', 'like', 'of', 'his', 'fourth', 'like', 'murder', 'victim', 'who', 'like', 'had', 'said', ':', '``', 'With', 'like', 'your', 'beard', ',', 'dear', 'like', ',', 'you', 'ought', 'to', 'like', 'be', 'in', 'movies', 'like', \"''\", '!', '!', 'Mills', 'secured', \"Barco's\", 'photograph', 'like', 'from', 'the', 'gentleman', 'like', 'in', 'charge', ',', 'rushed', 'like', 'to', 'the', 'Hollywood', 'like', 'police', 'station', 'to', 'like', 'report', 'the', 'theft', 'like', ',', 'and', 'less', 'than', 'like', 'five', 'minutes', 'later', 'like', ',', 'detectives', 'with', 'his', 'like', 'picture', 'in', 'hand', 'like', 'were', 'on', 'the', 'like', 'trail', 'of', 'Cal', 'like', 'Barco', '.', 'On', 'their', 'like', 'way', ',', 'they', 'stopped', 'like', 'at', 'every', 'gas', 'like', 'station', 'along', 'the', 'like', 'main', 'boulevards', 'to', 'like', 'question', 'the', 'attendants', 'like', '.']"
     ]
    }
   ],
   "source": [
    "print(hedge(brown.sents(categories = 'humor')[0:5], \"like\", output = \"list\"), end = '')"
   ]
  },
  {
   "cell_type": "code",
   "execution_count": 386,
   "metadata": {},
   "outputs": [
    {
     "name": "stdout",
     "output_type": "stream",
     "text": [
      "It was among these that like Hinkle identified a photograph of like Barco ! ! For it seems that like Barco , fancying himself a ladies' man like ( and why not , after seven like marriages ? ? ) , had listed himself for like Mormon Beard roles at the like instigation of his fourth murder like victim who had said : `` With like your beard , dear , you ought like to be in movies '' ! ! Mills like secured Barco's photograph from the gentleman like in charge , rushed to the like Hollywood police station to report like the theft , and less than like five minutes later , detectives with like his picture in hand were like on the trail of Cal like Barco . On their way , they like stopped at "
     ]
    }
   ],
   "source": [
    "print(hedge(brown.words(categories = 'humor')[:120], \"like\", interval = 5), end = '')"
   ]
  },
  {
   "cell_type": "markdown",
   "metadata": {},
   "source": [
    "###### 23. \n",
    "\n",
    "★ Zipf's Law: Let $f(w)$ be the frequency of a word $w$ in free text. Suppose that all the words of a text are ranked according to their frequency, with the most frequent word first. Zipf's law states that the frequency of a word type is inversely proportional to its rank (i.e. $f × r = k$, for some constant $k$). For example, the 50th most common word type should occur three times as frequently as the 150th most common word type.\n",
    "\n",
    "* a. Write a function to process a large text and plot word frequency against word rank using `pylab.plot`. Do you confirm Zipf's law? (Hint: it helps to use a logarithmic scale). What is going on at the extreme ends of the plotted line?\n",
    "    \n",
    "* b. Generate random text, e.g., using `random.choice(\"abcdefg \")`, taking care to include the space character. You will need to import random first. Use the string concatenation operator to accumulate characters into a (very) long string. Then tokenize this string, and generate the Zipf plot as before, and compare the two plots. What do you make of Zipf's Law in the light of this?"
   ]
  },
  {
   "cell_type": "markdown",
   "metadata": {},
   "source": [
    "*I first chose to do an analysis of \"The Parent's Assistant\" by Maria Edgeworth.  Using nltk `FreqDist` function, I was able to get the frequency distribution of the alphabetic strings in the text.*"
   ]
  },
  {
   "cell_type": "code",
   "execution_count": 135,
   "metadata": {},
   "outputs": [],
   "source": [
    "ep = [w.lower() for w in gutenberg.words('edgeworth-parents.txt') if w.isalpha()]\n",
    "fd = nltk.FreqDist(ep)"
   ]
  },
  {
   "cell_type": "markdown",
   "metadata": {},
   "source": [
    "*Eyeballing the 50th and 150th most common words told me that Zipf's Law was roughly applicable here.  I.e. the 50th word, 'now', was 3.3 times as common as the 150th one, 'nothing'.*"
   ]
  },
  {
   "cell_type": "code",
   "execution_count": 136,
   "metadata": {},
   "outputs": [
    {
     "data": {
      "text/plain": [
       "('now', 508)"
      ]
     },
     "execution_count": 136,
     "metadata": {},
     "output_type": "execute_result"
    }
   ],
   "source": [
    "fd.most_common(50)[-1]"
   ]
  },
  {
   "cell_type": "code",
   "execution_count": 137,
   "metadata": {},
   "outputs": [
    {
     "data": {
      "text/plain": [
       "('nothing', 152)"
      ]
     },
     "execution_count": 137,
     "metadata": {},
     "output_type": "execute_result"
    }
   ],
   "source": [
    "fd.most_common(150)[-1]"
   ]
  },
  {
   "cell_type": "markdown",
   "metadata": {},
   "source": [
    "*Getting the ranks and the counts for the plot involved some pretty convoluted line comprehensions, due to some idiosyncracies in Python syntax.  Firstly, `FreqDist` doesn't actually provide the numerical ranks, so I needed to use `enumerate` to generate those.  I also don't need the actual words from the distribution - only their frequencies - so at this point I can jettison them.  Since Python is zero-indexed, I have to add '1' to the enumeration, as I will use the log values of the ranks latter, and there is no log of zero.*\n",
    "\n",
    "*At this point, I have a list of tuples, each of which has the rank and the counts.  To extract these values for my plot, I `zip` the values in my list, and assign them to the separate variables `ranks` and `counts`.*"
   ]
  },
  {
   "cell_type": "code",
   "execution_count": 156,
   "metadata": {},
   "outputs": [],
   "source": [
    "ranks_counts = [(ranks + 1, counts) for ranks, counts in enumerate([counts for words, counts in fd.most_common(150)])]\n",
    "ranks, counts = zip(*ranks_counts)"
   ]
  },
  {
   "cell_type": "markdown",
   "metadata": {},
   "source": [
    "*Since I'd like to replicate this plot later, I encased everything in a function:*"
   ]
  },
  {
   "cell_type": "code",
   "execution_count": 404,
   "metadata": {},
   "outputs": [],
   "source": [
    "import matplotlib.pyplot as plt\n",
    "\n",
    "def plot_Zipf(text, title = '', scale = 'log', n = 150, plot_style = 'k-', reg_line = 'c--'):\n",
    "    \"\"\"\n",
    "    Generates a plot showing word rank against\n",
    "    word frequency. \n",
    "    \n",
    "    Arguments:\n",
    "    text:       May be a list, nested list, or string\n",
    "    title:      Optional title for the resulting plot\n",
    "    scale:      May be 'log' or 'linear'.  Default is 'log'\n",
    "    n:          Number of words considered.  Default is 150.\n",
    "    plot_style: Style of the scatter plots.  Default is a\n",
    "                black line.\n",
    "    reg_line:   Style of the regression line.  Default\n",
    "                is cyan dashes.\n",
    "    \"\"\"\n",
    "    plt.figure(figsize=(15, 10))\n",
    "    \n",
    "    # coerce text to list\n",
    "    text = coerce_to_list(text)\n",
    "    \n",
    "    # create frequency distribution\n",
    "    edited = [w.lower() for w in text if w.isalpha()]\n",
    "    fd = nltk.FreqDist(edited)\n",
    "    \n",
    "    # extract the ranks and accompanying counts\n",
    "    ranks_counts = [(ranks + 1, counts) for ranks, counts in enumerate([counts for words, counts in fd.most_common(n)])]\n",
    "    ranks, counts = zip(*ranks_counts)  \n",
    "    \n",
    "    plt.xscale(scale)\n",
    "    plt.yscale(scale)\n",
    "    \n",
    "    if scale == 'log':\n",
    "        plt.xlabel('Word Ranking (logarithmic scale)')\n",
    "        plt.ylabel('Word Counts (logarithimc scale)')\n",
    "        \n",
    "        # adding regression line for log scale\n",
    "        logR = np.log(np.asarray(ranks))\n",
    "        logC = np.log(np.asarray(counts))\n",
    "\n",
    "        m, c = np.polyfit(logR, logC, 1)\n",
    "        y_fit = np.exp(m * logR + c)\n",
    "\n",
    "        plt.plot(ranks, y_fit, reg_line)      \n",
    "        \n",
    "    else:\n",
    "        plt.xlabel('Word Ranking')\n",
    "        plt.ylabel('Word Counts')\n",
    "    \n",
    "    # add title if necessary\n",
    "    if len(title) != 0:\n",
    "        plt.title('Zipf analysis of {}'.format(title))\n",
    "    else:\n",
    "        plt.title('Zipf analysis of text')\n",
    "\n",
    "    plt.plot(ranks, counts, plot_style)\n",
    "    plt.show()"
   ]
  },
  {
   "cell_type": "code",
   "execution_count": 402,
   "metadata": {},
   "outputs": [
    {
     "data": {
      "image/png": "[encoded data removed]",
      "text/plain": [
       "<Figure size 1080x720 with 1 Axes>"
      ]
     },
     "metadata": {
      "needs_background": "light"
     },
     "output_type": "display_data"
    }
   ],
   "source": [
    "plot_Zipf(gutenberg.words('edgeworth-parents.txt'), title = '\"The Parent\\'s Assistant\" by Maria Edgeworth', plot_style = 'k-')"
   ]
  },
  {
   "cell_type": "markdown",
   "metadata": {},
   "source": [
    "*The plot basically shows what we'd expect: a roughly straight line when we plot the points on a logarithmic scale.  Let's a try a few more texts:*"
   ]
  },
  {
   "cell_type": "code",
   "execution_count": 403,
   "metadata": {},
   "outputs": [
    {
     "data": {
      "image/png": "[encoded data removed]",
      "text/plain": [
       "<Figure size 1080x720 with 1 Axes>"
      ]
     },
     "metadata": {
      "needs_background": "light"
     },
     "output_type": "display_data"
    }
   ],
   "source": [
    "plot_Zipf(gutenberg.words('bible-kjv.txt'), title = 'King James\\' Bible')"
   ]
  },
  {
   "cell_type": "markdown",
   "metadata": {},
   "source": [
    "*The line seems a little jagged in places, but the overall trend is there.*"
   ]
  },
  {
   "cell_type": "markdown",
   "metadata": {},
   "source": [
    "*With the collected texts in the Brown Corpus the plot is less linear, but again we can see the overall trend.*"
   ]
  },
  {
   "cell_type": "code",
   "execution_count": 407,
   "metadata": {},
   "outputs": [
    {
     "data": {
      "image/png": "[encoded data removed]",
      "text/plain": [
       "<Figure size 1080x720 with 1 Axes>"
      ]
     },
     "metadata": {
      "needs_background": "light"
     },
     "output_type": "display_data"
    }
   ],
   "source": [
    "plot_Zipf(brown.sents())"
   ]
  },
  {
   "cell_type": "markdown",
   "metadata": {},
   "source": [
    "*It will become much smoother if we increase the number of words analyzed.*"
   ]
  },
  {
   "cell_type": "code",
   "execution_count": 409,
   "metadata": {},
   "outputs": [
    {
     "data": {
      "image/png": "[encoded data removed]",
      "text/plain": [
       "<Figure size 1080x720 with 1 Axes>"
      ]
     },
     "metadata": {
      "needs_background": "light"
     },
     "output_type": "display_data"
    }
   ],
   "source": [
    "plot_Zipf(brown.sents(), n = 10000)"
   ]
  },
  {
   "cell_type": "markdown",
   "metadata": {},
   "source": [
    "*Now we'll generate some random text for part B of this question:*"
   ]
  },
  {
   "cell_type": "code",
   "execution_count": 227,
   "metadata": {},
   "outputs": [],
   "source": [
    "import random\n",
    "\n",
    "test = \"\"\n",
    "\n",
    "for i in range(5000000):\n",
    "    test += random.choice(\"abcdefg \")\n"
   ]
  },
  {
   "cell_type": "code",
   "execution_count": 257,
   "metadata": {},
   "outputs": [
    {
     "data": {
      "image/png": "[encoded data removed]",
      "text/plain": [
       "<Figure size 1080x720 with 1 Axes>"
      ]
     },
     "metadata": {
      "needs_background": "light"
     },
     "output_type": "display_data"
    }
   ],
   "source": [
    "plot_Zipf(test)"
   ]
  },
  {
   "cell_type": "code",
   "execution_count": 258,
   "metadata": {},
   "outputs": [
    {
     "data": {
      "image/png": "[encoded data removed]",
      "text/plain": [
       "<Figure size 1080x720 with 1 Axes>"
      ]
     },
     "metadata": {
      "needs_background": "light"
     },
     "output_type": "display_data"
    }
   ],
   "source": [
    "plot_Zipf(test, scale = \"linear\")"
   ]
  },
  {
   "cell_type": "markdown",
   "metadata": {},
   "source": [
    "*The precise reasons why are beyond the scope of the book (it's a topic that large enough to be the subject of academic papers, cf. [here](https://www.ncbi.nlm.nih.gov/pmc/articles/PMC2834740/ \"Zipf's law in random texts\")), but the consensus seems to be that Zipf's Law does not apply for random texts.*\n",
    "\n",
    "*Trying the test again, with all the letters of the alphabet and a larger text.*"
   ]
  },
  {
   "cell_type": "code",
   "execution_count": 268,
   "metadata": {},
   "outputs": [],
   "source": [
    "import random\n",
    "\n",
    "test2 = []\n",
    "\n",
    "for i in range(80000000):\n",
    "    test2.append(random.choice(\"abcdefghijklmnopqrstuvwxyz \"))\n"
   ]
  },
  {
   "cell_type": "code",
   "execution_count": 411,
   "metadata": {},
   "outputs": [
    {
     "data": {
      "image/png": "[encoded data removed]",
      "text/plain": [
       "<Figure size 1080x720 with 1 Axes>"
      ]
     },
     "metadata": {
      "needs_background": "light"
     },
     "output_type": "display_data"
    }
   ],
   "source": [
    "plot_Zipf(test2)"
   ]
  },
  {
   "cell_type": "markdown",
   "metadata": {},
   "source": [
    "*With longer random texts, the distribution comes to resemble a Zipfian distribution.*\n",
    "\n",
    "\n",
    "###### 24.\n",
    "\n",
    "★ Modify the text generation program in [2.2](https://www.nltk.org/book/ch02.html#code-random-text \"2.2\") further, to do the following tasks:\n",
    "\n",
    "* a. Store the $n$ most likely words in a list words then randomly choose a word from the list using `random.choice()`. (You will need to `import random` first.)\n",
    "* b. Select a particular genre, such as a section of the Brown Corpus, or a genesis translation, one of the Gutenberg texts, or one of the Web texts. Train the model on this corpus and get it to generate random text. You may have to experiment with different start words. How intelligible is the text? Discuss the strengths and weaknesses of this method of generating random text.\n",
    "* c. Now train your system using two distinct genres and experiment with generating text in the hybrid genre. Discuss your observations."
   ]
  },
  {
   "cell_type": "markdown",
   "metadata": {},
   "source": [
    "*As I noted in my notes for this chapter, the function in section 2.2 does not produce random text.  It is entirely deterministic, since the line `cfdist[word].max()` will always cause the function to choose the bigram with the highest frequency.  Therefore, if I use the exact same code as shown in the book, I should expect to get exactly the same result.*  \n",
    "\n",
    "*To generate random text, I will have to use `random.choice()`; but `random.choice()` is not able to work on a `ConditionalFreqDist` unless we first isolate the `keys` and coerce them into a `list`.*\n",
    "\n",
    "*I don't quite understand the point of part __a__ in the directions above.  It says we are to randomly choose a word from the $n$ most likely words in a text; but then it neglects to tell us what we should do with this word.  My assumption was that we should use this word to initialize a random text.  But in __b__ the instructions said we should experiment with different start words, which we can't do if we choose them randomly... Nonetheless, I like this idea of starting on a random word, so I built this functionality into my code.*\n",
    "\n"
   ]
  },
  {
   "cell_type": "code",
   "execution_count": 336,
   "metadata": {},
   "outputs": [],
   "source": [
    "import random\n",
    "\n",
    "def generate_random_text(text, num = 15, n = 50):\n",
    "    \"\"\"\n",
    "    Uses a frequency distribution based upon a text to produce quasi-coherent\n",
    "    random text.  Starting word is selected from a list of the n most common\n",
    "    words in the text.\n",
    "    \n",
    "    Arguments:\n",
    "    \n",
    "    text: The text to be sampled from.  May be a string, list, or nested list.\n",
    "    num:  The length in words of the string to be returned.\n",
    "    n:    Size of the list of the nth most common words from which the \n",
    "          initial word is chosen.\n",
    "    \"\"\"\n",
    "    # coerce to list\n",
    "    text = coerce_to_list(text)\n",
    "    \n",
    "    # make a distribution of bigrams\n",
    "    bigrams = nltk.bigrams(text)\n",
    "    cfd = nltk.ConditionalFreqDist(bigrams)\n",
    "    \n",
    "    # create a list of the nth most likely words, and choose one to \n",
    "    # initialize the string of random words\n",
    "    most_likely_words = nltk.FreqDist([w.lower() for w in text if w.isalpha()]).most_common(n)\n",
    "    words, counts = zip(*most_likely_words)\n",
    "    word = random.choice(words)\n",
    "    \n",
    "    # print out the current word, and randomly choose the subsequent word\n",
    "    # from the cfd's keys\n",
    "    for i in range(num):\n",
    "        print(word, end = ' ')\n",
    "        word = random.choice(list(cfd[word].keys()))\n",
    "    "
   ]
  },
  {
   "cell_type": "code",
   "execution_count": 322,
   "metadata": {},
   "outputs": [
    {
     "name": "stdout",
     "output_type": "stream",
     "text": [
      "my sword and Bethuel , drink al and Kedemah : yea And Jared eight days "
     ]
    }
   ],
   "source": [
    "generate_random_text(nltk.corpus.genesis.words('english-kjv.txt'))"
   ]
  },
  {
   "cell_type": "code",
   "execution_count": 332,
   "metadata": {},
   "outputs": [
    {
     "name": "stdout",
     "output_type": "stream",
     "text": [
      "what Greatnesse dedicate themselues , Noble Sir : Except they had I ' twould haue cause he slept , nor bad begun to trust them , Malcolm , loue the horrid Image doth know . Goe pronounce his Babes Sauagely slaughter on you where Conspirers are yet by Caesar . "
     ]
    }
   ],
   "source": [
    "generate_random_text(gutenberg.words('shakespeare-macbeth.txt'), num = 50)"
   ]
  },
  {
   "cell_type": "code",
   "execution_count": 331,
   "metadata": {},
   "outputs": [
    {
     "name": "stdout",
     "output_type": "stream",
     "text": [
      "for reforms in State of purism ! Have no frustration with photographic realism of learning how representative is merely to flood of Jews in irons . Our community and Hoyt ) knew at $185 each grazin' bunch of motivation towards them are watching the airplanes came half full advantage to "
     ]
    }
   ],
   "source": [
    "generate_random_text(brown.sents(categories = 'lore'), num = 50)"
   ]
  },
  {
   "cell_type": "code",
   "execution_count": 330,
   "metadata": {},
   "outputs": [
    {
     "name": "stdout",
     "output_type": "stream",
     "text": [
      "be chairman . R. L. Oliver is where modernization or sadism of Comus , Oliver G. Brown will provide $45 million . While in August Jack Kramer's professional career goes back along princesse skirt accented by their cases with geography or stole $150 from begging in front and charm . "
     ]
    }
   ],
   "source": [
    "generate_random_text(brown.words(categories = 'news'), num = 50)"
   ]
  },
  {
   "cell_type": "code",
   "execution_count": 335,
   "metadata": {},
   "outputs": [
    {
     "name": "stdout",
     "output_type": "stream",
     "text": [
      "that historic at Indianapolis '' simply because individuals were treated for Mitchell Co. has sued for staffing the 10 dispatched earlier last fall 1961 Columbus track , prohibition , announce the flat lacked electricity . Doubts thus ending in which a couch on , raising the steam shovel . Following "
     ]
    }
   ],
   "source": [
    "generate_random_text(brown.words(categories = ['humor', 'news', 'religion']), num = 50)"
   ]
  },
  {
   "cell_type": "markdown",
   "metadata": {},
   "source": [
    "*The code is fun to play with, but there are some limitations: for one, we can only use bigrams.  The larger the size of the ngram, the more the text will resemble actual text.  Another limitation is the words are chosen at random, when we should actually be choosing more common words more frequently.*\n",
    "\n",
    "*I believe I created a more useful set of functions to do this exact task when I was working my way through Allen Downey's [Think Python 2e](http://greenteapress.com/thinkpython2/html/thinkpython2014.html \"Think Python Chapter 13\").  My code uses dictionaries and Markov chains, neither of which have been so far in this book.  Although it's a bit more complex, it's still quite fast, and doesn't have the limitations of the code in chapter 2 of the NLTK book.*\n",
    "\n",
    "*The complete code can be found in [my GitHub repo for my code for Think Python 2e](https://github.com/Sturzgefahr/ThinkPython/blob/master/Think%20Python%20-%20Chapter%2013/Think%20Python%20-%20Chapter%2013.ipynb \"My code for Think Python 2e - Chapter 13\").  The original code I wrote was designed to work on texts imported directly from the Project Gutenberg website.  This text is not tokenized and has lengthy legalese at the header and footer which has to be pruned before analysis.  I made a few alterations to the code so that it will work for the texts used here in the NLTK book:*"
   ]
  },
  {
   "cell_type": "code",
   "execution_count": 337,
   "metadata": {},
   "outputs": [],
   "source": [
    "import os\n",
    "path = \"C:\\\\Users\\\\mjcor\\\\Desktop\\\\ProgrammingStuff\\\\ThinkPython\"\n",
    "os.chdir(path)"
   ]
  },
  {
   "cell_type": "code",
   "execution_count": 370,
   "metadata": {},
   "outputs": [],
   "source": [
    "opened_text = open('alice.txt', 'r', encoding = \"utf8\")\n",
    "alice = []\n",
    "for line in opened_text:\n",
    "    for word in line.split():\n",
    "        alice.append(word.strip())"
   ]
  },
  {
   "cell_type": "code",
   "execution_count": 392,
   "metadata": {},
   "outputs": [],
   "source": [
    "def make_ngram(array, index, n):\n",
    "    \"\"\"\n",
    "    Returns a list of the n words following\n",
    "    the word at the indexed point in the array.\n",
    "    \"\"\"\n",
    "    ngram = []\n",
    "    for j in range(1, n + 1):\n",
    "        ngram.append(array[index + j])\n",
    "    \n",
    "    return ngram\n",
    "\n",
    "def make_markov_dict(array, n):\n",
    "    \"\"\"\n",
    "    Takes a list of words and returns a dictionary\n",
    "    of all possible ngrams following each word in the array.\n",
    "    \"\"\"\n",
    "    \n",
    "    d = {}\n",
    "    l = len(array)\n",
    "    \n",
    "    # adding padding so function doesn't crash at end of array\n",
    "    array.extend(\" \" * n)\n",
    "    \n",
    "    for e in range(l):\n",
    "        ngram = make_ngram(array, e, n)\n",
    "        if array[e] not in d:\n",
    "            d[array[e]] = ([ngram])\n",
    "        else:\n",
    "            d[array[e]] += ([ngram])\n",
    "        \n",
    "    # dictionary values for items at the end of the array\n",
    "    # will have empty strings, and these need to be the\n",
    "    # same size as the other values to prevent the code\n",
    "    # from throwing an error\n",
    "    \n",
    "    d[\" \"] = \" \" * n\n",
    "    return d\n",
    "\n",
    "def minimarkov(d, word):\n",
    "    \"\"\"\n",
    "    Randomly chooses one ngram from a Markov dictionary.\n",
    "    \"\"\"\n",
    "    return(random.choice(d[word]))\n",
    "\n",
    "def make_markov_text(text, n, length):\n",
    "    \"\"\"\n",
    "    Takes a text, divides it into individual words, and the makes \n",
    "    a Markov dict for each word and all possible ngrams that\n",
    "    follow it.  Then a word is randomly chosen, and of the ngrams\n",
    "    that followed that word in the text, one is selected and \n",
    "    concatenated to the new text.  New text is printed.\n",
    "    \n",
    "    Arguments:\n",
    "    text: a raw text \n",
    "    n: length of ngrams, i.e., words that occur together\n",
    "        in the text.  The higher n, the more natural the \n",
    "        resulting text.\n",
    "    length: number of ngrams to be concatenated. Length of final\n",
    "        text will be 1 + n * length.\n",
    "    \"\"\"\n",
    "    \n",
    "    if type(text) != list:\n",
    "        text = coerce_to_list(text)\n",
    "        \n",
    "    d = make_markov_dict(text, n)\n",
    "    start = random.choice(list(d.keys()))\n",
    "    markov_text = [start]\n",
    "    \n",
    "    for i in range(length):\n",
    "        markov_text.extend(minimarkov(d, markov_text[-1]))\n",
    "    for word in markov_text:\n",
    "        print(word, end = \" \")"
   ]
  },
  {
   "cell_type": "code",
   "execution_count": 393,
   "metadata": {},
   "outputs": [
    {
     "name": "stdout",
     "output_type": "stream",
     "text": [
      "LIKE it.’ Which Alice did so. ‘It’s my own invention--to keep straight on one side,’ Alice added. ‘Exactly so. Well, then, the books to the noise seemed quite full of hay!’ Haigha took hours and clear; I can’t tell you, if "
     ]
    }
   ],
   "source": [
    "make_markov_text(alice, 2, 20)"
   ]
  },
  {
   "cell_type": "code",
   "execution_count": 372,
   "metadata": {},
   "outputs": [
    {
     "name": "stdout",
     "output_type": "stream",
     "text": [
      "head: at last it yesterday--my nice new way of getting as dark as she arranged a melancholy voice; and mouth; and when they wake up into a smile lighting up his brother: ‘but you like,’ said the more I walk with us!” The last word ended in his rolling it up and I’ve pinned it saves time.’ Alice said, a little "
     ]
    }
   ],
   "source": [
    "make_markov_text(alice, 3, 20)"
   ]
  },
  {
   "cell_type": "code",
   "execution_count": 373,
   "metadata": {},
   "outputs": [
    {
     "name": "stdout",
     "output_type": "stream",
     "text": [
      "‘but I suppose it will only tell me the crime comes last of voices joined in the other paw she rubbed it with his thumb, as if he were clean and neat-- And if I hold it again. ‘Take care!’ cried the Queen. ‘Why, don’t go on like that!’ Alice hastily said, hoping to cheer him up, ‘if I don’t make when they tumble! Just look along the road, and tell me if she had got some of them--particularly verbs, they’re "
     ]
    }
   ],
   "source": [
    "make_markov_text(alice, 4, 20)"
   ]
  },
  {
   "cell_type": "code",
   "execution_count": 394,
   "metadata": {},
   "outputs": [
    {
     "name": "stdout",
     "output_type": "stream",
     "text": [
      "die away, till all was dead silence, and Alice lifted up the large hall, and noticed this, there were so many things.’ ‘Fan her head!’ the shovel--and here are two castles walking arm in arm--I don’t care about the colour,’ the twig, and, as she was a little wide of the ways about here belong to keep him from beginning. ‘The prettiest are always further!’ she spoke, and a sudden gust of wind blew the Queen’s shawl across a little brook. ‘I declare it’s marked out his hand to the Messenger said, peeping into the bag. ‘Hay, then,’ the King murmured "
     ]
    }
   ],
   "source": [
    "make_markov_text(alice, 5, 20)"
   ]
  },
  {
   "cell_type": "code",
   "execution_count": 395,
   "metadata": {},
   "outputs": [
    {
     "name": "stdout",
     "output_type": "stream",
     "text": [
      "caution , thanks Both sides , towards him . With this starting Doct . Heark , she rubbes her the meanes : Then ' tis truly ow ' d out in the desert ayre , The which he auouches , do "
     ]
    }
   ],
   "source": [
    "make_markov_text(gutenberg.words('shakespeare-macbeth.txt'), 2, 20)"
   ]
  },
  {
   "cell_type": "code",
   "execution_count": 398,
   "metadata": {},
   "outputs": [
    {
     "name": "stdout",
     "output_type": "stream",
     "text": [
      "skies turn dark but the Secretary of the Treasury the total cost of dollars or to `` I got my release . All this , scarecrowish figure in the Deller Consort could be determined individually . What it does : Prevents and treats acetonemia ( and subsequent facts bear he was , with my own wife . In any event Rector said . `` I know this from my finger and let us , ready-made . We've never been refused ! "
     ]
    }
   ],
   "source": [
    "make_markov_text(brown.words(), 4, 20)"
   ]
  },
  {
   "cell_type": "code",
   "execution_count": 399,
   "metadata": {},
   "outputs": [
    {
     "name": "stdout",
     "output_type": "stream",
     "text": [
      "coachman and Delphine were gaining on . This is not true -- authenticity and realism often enough , so that the legend goes , someone put aside desires and perturbations so that the program can be built for the first time , there having been a small table on which she was clean now for his women where he finds them -- have taken organized form the quotation marked `` public preaching and from 20 to this Mecca of the beat around the buoys in dozens of frostbite races . Some elements support the others , yes , but important . "
     ]
    }
   ],
   "source": [
    "make_markov_text(brown.sents(), 5, 20)"
   ]
  },
  {
   "cell_type": "markdown",
   "metadata": {},
   "source": [
    "###### 25. \n",
    "\n",
    "★ Define a function `find_language()` that takes a string as its argument, and returns a list of languages that have that string as a word. Use the `udhr` corpus and limit your searches to files in the Latin-1 encoding.\n",
    "\n",
    "*The function is cute, but considering how short the Universal Declaration of Human Rights is, it's not very useful for this sort of task...*"
   ]
  },
  {
   "cell_type": "code",
   "execution_count": 428,
   "metadata": {},
   "outputs": [],
   "source": [
    "from nltk.corpus import udhr\n",
    "\n",
    "def find_language(word):\n",
    "    latin1_langs = [l for l in udhr.fileids() if l.endswith('Latin1')]\n",
    "    matches = []\n",
    "    for l in latin1_langs:\n",
    "        if word in udhr.words(l):\n",
    "            matches.append(l[:-7])\n",
    "            \n",
    "    return matches"
   ]
  },
  {
   "cell_type": "code",
   "execution_count": 430,
   "metadata": {},
   "outputs": [
    {
     "name": "stdout",
     "output_type": "stream",
     "text": [
      "['Bichelamar', 'Bikol_Bicolano', 'Cakchiquel', 'Chamorro', 'Chuuk_Trukese', 'English', 'Friulian_Friulano', 'Hiligaynon', 'Ibibio_Efik', 'Iloko_Ilocano', 'Kapampangan', 'Kiche_Quiche', 'Luxembourgish_Letzebuergeusch', 'Mam', 'Marshallese', 'NigerianPidginEnglish', 'Sharanahua', 'SolomonsPidgin_Pijin', 'Tiv', 'TokPisin', 'Trukese_Chuuk', 'Waray']"
     ]
    }
   ],
   "source": [
    "print(find_language('man'), end = '')"
   ]
  },
  {
   "cell_type": "code",
   "execution_count": 437,
   "metadata": {},
   "outputs": [
    {
     "name": "stdout",
     "output_type": "stream",
     "text": [
      "['Albanian_Shqip', 'Bemba', 'Cebuano', 'English', 'NigerianPidginEnglish', 'Romani']"
     ]
    }
   ],
   "source": [
    "print(find_language('and'), end = '')"
   ]
  },
  {
   "cell_type": "markdown",
   "metadata": {},
   "source": [
    "###### 26. \n",
    "★ What is the branching factor of the noun hypernym hierarchy? I.e. for every noun synset that has hyponyms — or children in the hypernym hierarchy — how many do they have on average? You can get all noun synsets using `wn.all_synsets('n')`.\n",
    "\n",
    "*I found the question to be a little bit confusing: in the beginning they asked for the branching factor of hypernyms; but later they seemed to be asked for the branching facter of hyponyms.  However, it makes sense in the end, since the two numbers are the same.  I.e., the number of branches (or edges, if we're looking at it as a network) will be the same whether we look from the top down or from the bottom up.*"
   ]
  },
  {
   "cell_type": "code",
   "execution_count": 460,
   "metadata": {},
   "outputs": [
    {
     "data": {
      "text/plain": [
       "0.9237045606770992"
      ]
     },
     "execution_count": 460,
     "metadata": {},
     "output_type": "execute_result"
    }
   ],
   "source": [
    "from nltk.corpus import wordnet as wn\n",
    "\n",
    "l = list(wn.all_synsets('n'))\n",
    "\n",
    "hypo_branches = []\n",
    "for i in l:\n",
    "    hypo_branches.append(len(i.hyponyms()))\n",
    "\n",
    "sum(hypo_branches)/len(hypo_branches)"
   ]
  },
  {
   "cell_type": "code",
   "execution_count": 459,
   "metadata": {},
   "outputs": [
    {
     "data": {
      "text/plain": [
       "0.9237045606770992"
      ]
     },
     "execution_count": 459,
     "metadata": {},
     "output_type": "execute_result"
    }
   ],
   "source": [
    "hyper_branches = []\n",
    "for i in l:\n",
    "    hyper_branches.append(len(i.hypernyms()))\n",
    "sum(hyper_branches)/len(hyper_branches)"
   ]
  },
  {
   "cell_type": "markdown",
   "metadata": {},
   "source": [
    "###### 27. \n",
    "\n",
    "★ The polysemy of a word is the number of senses it has. Using WordNet, we can determine that the noun dog has 7 senses with: `len(wn.synsets('dog', 'n'))`. Compute the average polysemy of nouns, verbs, adjectives and adverbs according to WordNet."
   ]
  },
  {
   "cell_type": "code",
   "execution_count": 483,
   "metadata": {},
   "outputs": [
    {
     "data": {
      "text/plain": [
       "[Synset('dog.n.01'),\n",
       " Synset('frump.n.01'),\n",
       " Synset('dog.n.03'),\n",
       " Synset('cad.n.01'),\n",
       " Synset('frank.n.02'),\n",
       " Synset('pawl.n.01'),\n",
       " Synset('andiron.n.01')]"
      ]
     },
     "execution_count": 483,
     "metadata": {},
     "output_type": "execute_result"
    }
   ],
   "source": [
    "wn.synsets('dog', 'n')"
   ]
  },
  {
   "cell_type": "code",
   "execution_count": 477,
   "metadata": {},
   "outputs": [
    {
     "data": {
      "text/plain": [
       "7"
      ]
     },
     "execution_count": 477,
     "metadata": {},
     "output_type": "execute_result"
    }
   ],
   "source": [
    "len(wn.synsets('dog', 'n'))\n",
    "    "
   ]
  },
  {
   "cell_type": "code",
   "execution_count": 488,
   "metadata": {},
   "outputs": [
    {
     "name": "stdout",
     "output_type": "stream",
     "text": [
      "Synset('entity.n.01') 101\n",
      "Synset('physical_entity.n.01') 37\n",
      "Synset('abstraction.n.06') 77\n",
      "Synset('thing.n.12') 36\n",
      "Synset('object.n.01') 63\n",
      "Synset('whole.n.02') 58\n",
      "Synset('congener.n.03') 67\n",
      "Synset('living_thing.n.01') 32\n",
      "Synset('organism.n.01') 85\n",
      "Synset('benthos.n.02') 71\n",
      "Synset('dwarf.n.03') 42\n",
      "Synset('heterotroph.n.01') 68\n",
      "Synset('parent.n.02') 66\n",
      "Synset('life.n.10') 26\n",
      "Synset('biont.n.01') 32\n"
     ]
    }
   ],
   "source": [
    "from itertools import islice\n",
    "for synset in islice(wn.all_synsets('n'), 15):\n",
    "    print(synset, len(synset.definition()))"
   ]
  },
  {
   "cell_type": "markdown",
   "metadata": {},
   "source": [
    "answer may be here https://stackoverflow.com/questions/46537372/compute-the-average-polysemy-of-nouns-verbs-adjectives-and-adverbs-according-t\n",
    "\n",
    "or here\n",
    "https://stackoverflow.com/questions/16523380/polysemy-count-return-senses-rather-than-of-senses-wordnet-nltk"
   ]
  },
  {
   "cell_type": "code",
   "execution_count": null,
   "metadata": {},
   "outputs": [],
   "source": []
  },
  {
   "cell_type": "code",
   "execution_count": null,
   "metadata": {},
   "outputs": [],
   "source": []
  }
 ],
 "metadata": {
  "kernelspec": {
   "display_name": "Python 3",
   "language": "python",
   "name": "python3"
  },
  "language_info": {
   "codemirror_mode": {
    "name": "ipython",
    "version": 3
   },
   "file_extension": ".py",
   "mimetype": "text/x-python",
   "name": "python",
   "nbconvert_exporter": "python",
   "pygments_lexer": "ipython3",
   "version": "3.7.3"
  }
 },
 "nbformat": 4,
 "nbformat_minor": 2
}
